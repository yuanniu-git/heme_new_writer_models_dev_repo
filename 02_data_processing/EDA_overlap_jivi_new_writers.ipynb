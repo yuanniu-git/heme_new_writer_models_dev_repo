{
 "cells": [
  {
   "cell_type": "markdown",
   "metadata": {
    "application/vnd.databricks.v1+cell": {
     "cellMetadata": {
      "byteLimit": 2048000,
      "rowLimit": 10000
     },
     "inputWidgets": {},
     "nuid": "1e6fb200-21f3-4164-87be-dcb64b608d9b",
     "showTitle": false,
     "tableResultSettingsMap": {},
     "title": ""
    }
   },
   "source": [
    "## This notebooks gets the JIVI new writer HCPs flagged from the Notebook 03_feature_engineering/01_hcp_target_monthly_spine_with_incl_crit and explore their corresponding data."
   ]
  },
  {
   "cell_type": "code",
   "execution_count": 0,
   "metadata": {
    "application/vnd.databricks.v1+cell": {
     "cellMetadata": {
      "byteLimit": 2048000,
      "rowLimit": 10000
     },
     "inputWidgets": {},
     "nuid": "ad940258-5536-4ea1-883b-2e2136d1b150",
     "showTitle": false,
     "tableResultSettingsMap": {},
     "title": ""
    }
   },
   "outputs": [],
   "source": [
    "# Importing packages\n",
    "from pyspark.sql import functions as F  # Importing functions from pyspark.sql\n",
    "import pandas as pd"
   ]
  },
  {
   "cell_type": "code",
   "execution_count": 0,
   "metadata": {
    "application/vnd.databricks.v1+cell": {
     "cellMetadata": {
      "byteLimit": 2048000,
      "rowLimit": 10000
     },
     "inputWidgets": {},
     "nuid": "5e8c95ac-f14a-4c0c-9fa9-6ea40891edd5",
     "showTitle": false,
     "tableResultSettingsMap": {},
     "title": ""
    }
   },
   "outputs": [],
   "source": [
    "%run \"../00_config/set-up\""
   ]
  },
  {
   "cell_type": "code",
   "execution_count": 0,
   "metadata": {
    "application/vnd.databricks.v1+cell": {
     "cellMetadata": {
      "byteLimit": 2048000,
      "rowLimit": 10000
     },
     "inputWidgets": {},
     "nuid": "73065956-b044-4b52-ba15-04c16690a581",
     "showTitle": false,
     "tableResultSettingsMap": {},
     "title": ""
    }
   },
   "outputs": [],
   "source": [
    "# Reading the HCP monthly target spine from Hivestore\n",
    "hcp_target_spine_sdf = spark.sql(\"SELECT * FROM jivi_new_writer_model.hcp_target_spine\")\n",
    "print(\n",
    "    \"Row count: \",\n",
    "    hcp_target_spine_sdf.count(),\n",
    "    \"Column Count: \",\n",
    "    len(hcp_target_spine_sdf.columns),\n",
    ")"
   ]
  },
  {
   "cell_type": "code",
   "execution_count": 0,
   "metadata": {
    "application/vnd.databricks.v1+cell": {
     "cellMetadata": {
      "byteLimit": 2048000,
      "rowLimit": 10000
     },
     "inputWidgets": {},
     "nuid": "51fdb1d0-418f-4ca3-91b9-a90d88220784",
     "showTitle": false,
     "tableResultSettingsMap": {},
     "title": ""
    }
   },
   "outputs": [],
   "source": [
    "# Reading the Raw Overlap data from Hivestore\n",
    "overlap_raw_data = spark.sql(\"SELECT * FROM heme_data.overlap_rx\")\n",
    "print('Row count: ', overlap_raw_data.count(), 'Column Count: ', len(overlap_raw_data.columns))"
   ]
  },
  {
   "cell_type": "code",
   "execution_count": 0,
   "metadata": {
    "application/vnd.databricks.v1+cell": {
     "cellMetadata": {
      "byteLimit": 2048000,
      "rowLimit": 10000
     },
     "inputWidgets": {},
     "nuid": "1a4cef59-e46a-4e8d-8416-4f13c192665b",
     "showTitle": false,
     "tableResultSettingsMap": {},
     "title": ""
    }
   },
   "outputs": [],
   "source": [
    "# Filter hcp_target_spine_sdf to get the list of BH_ID where JIVI_NEW_WRITER_FLG is 1\n",
    "jivi_new_writer_hcp_target_spine_sdf = hcp_target_spine_sdf.filter(hcp_target_spine_sdf.JIVI_NEW_WRITER_FLG == 1)\n",
    "bh_id_list = [row.BH_ID for row in jivi_new_writer_hcp_target_spine_sdf.select(\"BH_ID\").distinct().collect()]\n",
    "print(jivi_new_writer_hcp_target_spine_sdf.count())"
   ]
  },
  {
   "cell_type": "code",
   "execution_count": 0,
   "metadata": {
    "application/vnd.databricks.v1+cell": {
     "cellMetadata": {
      "byteLimit": 2048000,
      "rowLimit": 10000
     },
     "inputWidgets": {},
     "nuid": "8881117a-d44f-4d89-b641-5aa338fb595d",
     "showTitle": false,
     "tableResultSettingsMap": {},
     "title": ""
    }
   },
   "outputs": [],
   "source": [
    "# Filter overlap_raw_data where BHI_ID is in the list of BH_ID\n",
    "jivi_new_writer_overlap_raw_data = overlap_raw_data.filter(overlap_raw_data.BH_ID.isin(bh_id_list))\n",
    "\n",
    "# ordering the resultant df\n",
    "jivi_new_writer_overlap_raw_data = jivi_new_writer_overlap_raw_data.orderBy(\"BH_ID\", \"PATIENT_ID\", \"SHP_DT\")\n",
    "\n",
    "# print row count\n",
    "print(jivi_new_writer_overlap_raw_data.count())\n",
    "display(jivi_new_writer_overlap_raw_data)\n"
   ]
  },
  {
   "cell_type": "code",
   "execution_count": 0,
   "metadata": {
    "application/vnd.databricks.v1+cell": {
     "cellMetadata": {
      "byteLimit": 2048000,
      "rowLimit": 10000
     },
     "inputWidgets": {},
     "nuid": "24dbead8-3ec5-4c14-a166-332bb55c29df",
     "showTitle": false,
     "tableResultSettingsMap": {},
     "title": ""
    }
   },
   "outputs": [],
   "source": [
    "# Specify the columns to move to the start\n",
    "columns_to_move = [\"BH_ID\", \"PATIENT_ID\", \"SHP_DT\", \"PRD_NM\", \"IU\", \"SRC_SP\", \"SOURCE_TYPE\", \"DRUG_NM\", \"BV1_1\", \"BV2_1\"]\n",
    "\n",
    "# Get the remaining columns\n",
    "remaining_columns = [col for col in jivi_new_writer_overlap_raw_data.columns if col not in columns_to_move]\n",
    "\n",
    "# Combine the columns to move and the remaining columns\n",
    "new_column_order = columns_to_move + remaining_columns\n",
    "\n",
    "# Reorder the DataFrame\n",
    "jivi_new_writer_overlap_raw_data = jivi_new_writer_overlap_raw_data.select(*new_column_order)"
   ]
  },
  {
   "cell_type": "code",
   "execution_count": 0,
   "metadata": {
    "application/vnd.databricks.v1+cell": {
     "cellMetadata": {
      "byteLimit": 2048000,
      "rowLimit": 10000
     },
     "inputWidgets": {},
     "nuid": "4fe9a9b2-ea22-4504-8cd3-41616aae3123",
     "showTitle": false,
     "tableResultSettingsMap": {},
     "title": ""
    }
   },
   "outputs": [],
   "source": [
    "# Display the reordered DataFrame\n",
    "display(jivi_new_writer_overlap_raw_data)"
   ]
  },
  {
   "cell_type": "code",
   "execution_count": 0,
   "metadata": {
    "application/vnd.databricks.v1+cell": {
     "cellMetadata": {},
     "inputWidgets": {},
     "nuid": "63d22c98-90b3-4c64-acf9-0859b4736165",
     "showTitle": false,
     "tableResultSettingsMap": {},
     "title": ""
    }
   },
   "outputs": [],
   "source": [
    "# Filter PRD_NM == JIVI AND SHP_DT between study period\n",
    "# Get the PATIENT_ID list\n",
    "jivi_new_writer_overlap_raw_data\n"
   ]
  },
  {
   "cell_type": "markdown",
   "metadata": {
    "application/vnd.databricks.v1+cell": {
     "cellMetadata": {},
     "inputWidgets": {},
     "nuid": "03d2f7a4-813e-46b4-9032-76d0cf7f7e46",
     "showTitle": false,
     "tableResultSettingsMap": {},
     "title": ""
    }
   },
   "source": [
    "### Save the resultant data"
   ]
  },
  {
   "cell_type": "code",
   "execution_count": 0,
   "metadata": {
    "application/vnd.databricks.v1+cell": {
     "cellMetadata": {
      "byteLimit": 2048000,
      "rowLimit": 10000
     },
     "inputWidgets": {},
     "nuid": "7edf1260-e8a0-4f78-8617-f31279b46457",
     "showTitle": false,
     "tableResultSettingsMap": {},
     "title": ""
    }
   },
   "outputs": [],
   "source": [
    "save_sdf(jivi_new_writer_overlap_raw_data, 'jivi_new_writer_model', 'jivi_new_writers_overlap_raw_data')"
   ]
  },
  {
   "cell_type": "code",
   "execution_count": 0,
   "metadata": {
    "application/vnd.databricks.v1+cell": {
     "cellMetadata": {
      "byteLimit": 2048000,
      "rowLimit": 10000
     },
     "inputWidgets": {},
     "nuid": "2f6ae127-3674-4df6-9972-ed03d982c832",
     "showTitle": false,
     "tableResultSettingsMap": {},
     "title": ""
    }
   },
   "outputs": [],
   "source": [
    "# # Save the DataFrame to a CSV file\n",
    "# output_path = \"/Workspace/Repos/yuan.niu@bayer.com/heme_new_writer_models_dev_repo/02_data_processing/jivi_new_writer_overlap_raw_data.csv\"  # Replace with your desired output path\n",
    "# jivi_new_writer_overlap_raw_data.write.option(\"header\", \"true\").csv(output_path)"
   ]
  },
  {
   "cell_type": "markdown",
   "metadata": {
    "application/vnd.databricks.v1+cell": {
     "cellMetadata": {},
     "inputWidgets": {},
     "nuid": "78d5074b-7fcd-45fd-8292-fd2c6d8bad45",
     "showTitle": false,
     "tableResultSettingsMap": {},
     "title": ""
    }
   },
   "source": [
    "### Analyze Jivi patients from Jivi new writers"
   ]
  },
  {
   "cell_type": "code",
   "execution_count": 0,
   "metadata": {
    "application/vnd.databricks.v1+cell": {
     "cellMetadata": {
      "byteLimit": 2048000,
      "rowLimit": 10000
     },
     "inputWidgets": {},
     "nuid": "8726a37b-fcd5-48d2-93e2-544fc400af95",
     "showTitle": false,
     "tableResultSettingsMap": {},
     "title": ""
    }
   },
   "outputs": [],
   "source": [
    "df = spark.sql('select BH_ID, PATIENT_ID, BRTH_YR, SHP_DT, PRD_NM, SRC_SP, SOURCE_TYPE, DRUG_NM, SOURCE, RX_TYP, PTNT_WGT, SEVRTY, PRPHY from jivi_new_writer_model.jivi_new_writers_overlap_raw_data')\n",
    "df.display()"
   ]
  },
  {
   "cell_type": "code",
   "execution_count": 0,
   "metadata": {
    "application/vnd.databricks.v1+cell": {
     "cellMetadata": {},
     "inputWidgets": {},
     "nuid": "bfd9f209-b7b7-40e4-9712-59892ff6a491",
     "showTitle": false,
     "tableResultSettingsMap": {},
     "title": ""
    }
   },
   "outputs": [],
   "source": []
  }
 ],
 "metadata": {
  "application/vnd.databricks.v1+notebook": {
   "computePreferences": null,
   "dashboards": [],
   "environmentMetadata": {
    "base_environment": "",
    "environment_version": "2"
   },
   "language": "python",
   "notebookMetadata": {
    "pythonIndentUnit": 2
   },
   "notebookName": "EDA_overlap_jivi_new_writers",
   "widgets": {}
  },
  "language_info": {
   "name": "python"
  }
 },
 "nbformat": 4,
 "nbformat_minor": 0
}
