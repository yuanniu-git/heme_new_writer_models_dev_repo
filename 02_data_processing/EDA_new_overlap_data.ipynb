{
 "cells": [
  {
   "cell_type": "code",
   "execution_count": 0,
   "metadata": {
    "application/vnd.databricks.v1+cell": {
     "cellMetadata": {
      "byteLimit": 2048000,
      "rowLimit": 10000
     },
     "inputWidgets": {},
     "nuid": "ece56ac9-05f5-421e-a89c-a4519d7007c3",
     "showTitle": false,
     "tableResultSettingsMap": {},
     "title": ""
    }
   },
   "outputs": [],
   "source": [
    "from pyspark.sql import functions as F\n",
    "import pandas as pd\n",
    "import random"
   ]
  },
  {
   "cell_type": "code",
   "execution_count": 0,
   "metadata": {
    "application/vnd.databricks.v1+cell": {
     "cellMetadata": {
      "byteLimit": 2048000,
      "rowLimit": 10000
     },
     "inputWidgets": {},
     "nuid": "0e2516f8-2eff-4d37-9ae6-a420595340ea",
     "showTitle": false,
     "tableResultSettingsMap": {},
     "title": ""
    }
   },
   "outputs": [],
   "source": [
    "%run \"/Workspace/Repos/yuan.niu@bayer.com/heme_new_writer_models_dev_repo/02_data_processing/helper_functions\""
   ]
  },
  {
   "cell_type": "markdown",
   "metadata": {
    "application/vnd.databricks.v1+cell": {
     "cellMetadata": {
      "byteLimit": 2048000,
      "rowLimit": 10000
     },
     "inputWidgets": {},
     "nuid": "1bea3329-7b37-4ad9-8e71-712bc2d60a9f",
     "showTitle": false,
     "tableResultSettingsMap": {},
     "title": ""
    }
   },
   "source": [
    "## EDA for new Overlap data in PHCDW.PHCDW_CDM.TMP_HEM_OVLP_DLT_VW\n",
    "\n",
    "### The Overlap dataset is the one covering Patients & HCPs from both Symphony Claims data and Speciality Pharmacy data"
   ]
  },
  {
   "cell_type": "code",
   "execution_count": 0,
   "metadata": {
    "application/vnd.databricks.v1+cell": {
     "cellMetadata": {
      "byteLimit": 2048000,
      "rowLimit": 10000
     },
     "inputWidgets": {},
     "nuid": "cb454d25-b957-4012-b538-b903ca34cb00",
     "showTitle": false,
     "tableResultSettingsMap": {},
     "title": ""
    }
   },
   "outputs": [],
   "source": [
    "\"\"\"\n",
    "\n",
    "# #--------------------------------------------CDP Connections -------------------------------------------------------\n",
    "prodUsername = dbutils.secrets.get(scope=\"US_DSAA_PROD_GROUP_Snowflake_Admin\", key=\"Prod-Username\")\n",
    "prodPassword = dbutils.secrets.get(scope=\"US_DSAA_PROD_GROUP_Snowflake_Admin\", key=\"Prod-Password\")\n",
    " \n",
    "def get_data_snowflake(query, Schema = \"PHCDW_DSAA\", Role=\"PROD_PHCDW_PROD_CYRUS_GREY_PHCDW_CDM_RWC\"):\n",
    "  sfOptions = {\n",
    "      \"sfURL\" : \"bayer_cphcdp_prod.us-east-1.snowflakecomputing.com:443\",\n",
    "      \"sfUser\" : prodUsername,\n",
    "      \"sfPassword\" : prodPassword,\n",
    "      \"sfRole\" : Role,\n",
    "      \"sfSchema\" : Schema,\n",
    "      \"sfDatabase\" : \"PHCDW\",\n",
    "      \"sfWarehouse\" : \"PROD_CYRUS_BI_WH\",\n",
    "      \"purge\" : \"off\",\n",
    "      \"autopushdown\" : \"on\"\n",
    "    }\n",
    "  return spark.read.format(\"net.snowflake.spark.snowflake\").options(**sfOptions).option('query',query).load()\n",
    "\n",
    "  \"\"\""
   ]
  },
  {
   "cell_type": "code",
   "execution_count": 0,
   "metadata": {
    "application/vnd.databricks.v1+cell": {
     "cellMetadata": {
      "byteLimit": 2048000,
      "rowLimit": 10000
     },
     "inputWidgets": {},
     "nuid": "e91fff22-eb81-4dcb-8aeb-7b8f621fadbc",
     "showTitle": false,
     "tableResultSettingsMap": {},
     "title": ""
    }
   },
   "outputs": [],
   "source": [
    "overlap_raw_data = spark.sql(\"SELECT * FROM heme_data.overlap_rx\")\n",
    "print('Row count: ', overlap_raw_data.count(), 'Column Count: ', len(overlap_raw_data.columns))"
   ]
  },
  {
   "cell_type": "code",
   "execution_count": 0,
   "metadata": {
    "application/vnd.databricks.v1+cell": {
     "cellMetadata": {
      "byteLimit": 2048000,
      "rowLimit": 10000
     },
     "inputWidgets": {},
     "nuid": "d742f522-49b0-4899-9c2f-fd45eed27096",
     "showTitle": false,
     "tableResultSettingsMap": {
      "0": {
       "filterBlob": "{\"filterGroups\":[],\"syncTimestamp\":1735565605031}",
       "tableResultIndex": 0
      }
     },
     "title": ""
    }
   },
   "outputs": [],
   "source": [
    "display(overlap_raw_data.limit(15))"
   ]
  },
  {
   "cell_type": "markdown",
   "metadata": {
    "application/vnd.databricks.v1+cell": {
     "cellMetadata": {},
     "inputWidgets": {},
     "nuid": "70634d5c-a815-4386-a840-afe82097151a",
     "showTitle": false,
     "tableResultSettingsMap": {},
     "title": ""
    }
   },
   "source": [
    "**Checking NULL percentages in columns**"
   ]
  },
  {
   "cell_type": "code",
   "execution_count": 0,
   "metadata": {
    "application/vnd.databricks.v1+cell": {
     "cellMetadata": {
      "byteLimit": 2048000,
      "rowLimit": 10000
     },
     "inputWidgets": {},
     "nuid": "572159f0-bf1e-4b38-a6c2-b753c7967520",
     "showTitle": false,
     "tableResultSettingsMap": {},
     "title": ""
    }
   },
   "outputs": [],
   "source": [
    "res_df = spark_data_profiler(overlap_raw_data)\n",
    "display(res_df)"
   ]
  },
  {
   "cell_type": "code",
   "execution_count": 0,
   "metadata": {
    "application/vnd.databricks.v1+cell": {
     "cellMetadata": {
      "byteLimit": 2048000,
      "rowLimit": 10000
     },
     "inputWidgets": {},
     "nuid": "2fd10e7f-ee4e-4f51-bc3c-1159a9e6431c",
     "showTitle": false,
     "tableResultSettingsMap": {},
     "title": ""
    }
   },
   "outputs": [],
   "source": [
    "overlap_raw_data.select('IU').describe().show()"
   ]
  },
  {
   "cell_type": "code",
   "execution_count": 0,
   "metadata": {
    "application/vnd.databricks.v1+cell": {
     "cellMetadata": {
      "byteLimit": 2048000,
      "rowLimit": 10000
     },
     "inputWidgets": {},
     "nuid": "2882a345-b48f-4fff-b343-5a18c4c194e6",
     "showTitle": false,
     "tableResultSettingsMap": {},
     "title": ""
    }
   },
   "outputs": [],
   "source": [
    "# Converting the original overlap data spark dataframe to pandas dataframe\n",
    "\"\"\" Convert DecimalType columns to float to avoid UserWarning: The conversion of DecimalType columns is inefficient and may take a long time. Column names: [IU, PTD_FNL_CLM_AMT] If those columns are not necessary, you may consider dropping them or converting to primitive types before the conversion.\"\"\"\n",
    "overlap_raw_data = overlap_raw_data.withColumn(\"IU\", overlap_raw_data[\"IU\"].cast(\"float\"))\n",
    "overlap_raw_data = overlap_raw_data.withColumn(\"PTD_FNL_CLM_AMT\", overlap_raw_data[\"PTD_FNL_CLM_AMT\"].cast(\"float\"))\n",
    "\n",
    "# Convert to Pandas DataFrame\n",
    "overlap_data_df = overlap_raw_data.toPandas()"
   ]
  },
  {
   "cell_type": "code",
   "execution_count": 0,
   "metadata": {
    "application/vnd.databricks.v1+cell": {
     "cellMetadata": {
      "byteLimit": 2048000,
      "rowLimit": 10000
     },
     "inputWidgets": {},
     "nuid": "98070e40-527e-45ea-a733-ee57dd4e67e4",
     "showTitle": false,
     "tableResultSettingsMap": {},
     "title": ""
    }
   },
   "outputs": [],
   "source": [
    "# Set the display option to avoid scientific notation\n",
    "pd.set_option('display.float_format', lambda x: '%.3f' % x)\n",
    "\n",
    "# Print the description of the 'IU' column\n",
    "print(overlap_data_df['IU'].describe())"
   ]
  },
  {
   "cell_type": "code",
   "execution_count": 0,
   "metadata": {
    "application/vnd.databricks.v1+cell": {
     "cellMetadata": {
      "byteLimit": 2048000,
      "rowLimit": 10000
     },
     "inputWidgets": {},
     "nuid": "9bde8a0f-4674-47b9-81e6-d87ca6258551",
     "showTitle": false,
     "tableResultSettingsMap": {},
     "title": ""
    }
   },
   "outputs": [],
   "source": [
    "overlap_raw_data.select('AFFL_SEG').distinct().show()\n",
    "overlap_raw_data.select('AFFL_TYP').distinct().show()\n",
    "overlap_raw_data.select('WRITE_DATE').distinct().show()\n",
    "overlap_raw_data.select('PAYR_TYP').distinct().show()\n",
    "overlap_raw_data.select('PAYR_NM').distinct().show()"
   ]
  },
  {
   "cell_type": "markdown",
   "metadata": {
    "application/vnd.databricks.v1+cell": {
     "cellMetadata": {
      "byteLimit": 2048000,
      "rowLimit": 10000
     },
     "inputWidgets": {},
     "nuid": "69c3f6f2-0d6c-4732-9bb0-3973489fbca4",
     "showTitle": false,
     "tableResultSettingsMap": {},
     "title": ""
    }
   },
   "source": [
    "**TODO:**\n",
    "- Create features which can be used for ML\n",
    "\t- HCPs switching to Kovaltry\n",
    "\t- HCP domain features\n",
    "\t- Patient domain features\n",
    "\t- Affiliation domain features"
   ]
  },
  {
   "cell_type": "markdown",
   "metadata": {
    "application/vnd.databricks.v1+cell": {
     "cellMetadata": {
      "byteLimit": 2048000,
      "rowLimit": 10000
     },
     "inputWidgets": {},
     "nuid": "f272f5f3-2ae9-481c-80fc-e987134cffb3",
     "showTitle": false,
     "tableResultSettingsMap": {},
     "title": ""
    }
   },
   "source": [
    "### Checking how many unique Patient IDs are associated to each HCP ID"
   ]
  },
  {
   "cell_type": "code",
   "execution_count": 0,
   "metadata": {
    "application/vnd.databricks.v1+cell": {
     "cellMetadata": {
      "byteLimit": 2048000,
      "rowLimit": 10000
     },
     "inputWidgets": {},
     "nuid": "f6428ab2-59aa-4e88-b3fd-b8a1ea7b0225",
     "showTitle": false,
     "tableResultSettingsMap": {},
     "title": ""
    }
   },
   "outputs": [],
   "source": [
    "# Group by 'BH_ID' and count distinct 'PATIENT_ID' and 'PTNT_ID' using Spark DataFrame\n",
    "# This code groups the 'overlap_raw_data' DataFrame by the 'BH_ID' column.\n",
    "# It then counts the number of distinct 'PATIENT_ID' values and the number of distinct 'PTNT_ID' values for each 'BH_ID'.\n",
    "# The result is a new DataFrame 'hcp_result' with three columns:\n",
    "# 'BH_ID', 'PATIENT_ID_count', and 'PTNT_ID_count', where 'PATIENT_ID_count' represents the count of distinct 'PATIENT_ID' \n",
    "# and 'PTNT_ID_count' represents the count of distinct 'PTNT_ID' for each 'BH_ID'.\n",
    "\n",
    "hcp_result = overlap_raw_data.groupBy('BH_ID').agg(\n",
    "    F.count_distinct('PATIENT_ID').alias('PATIENT_ID_count'),\n",
    "    F.count_distinct('PTNT_ID').alias('PTNT_ID_count')\n",
    ").sort(['PATIENT_ID_count', 'PTNT_ID_count'], ascending=False)\n",
    "\n",
    "display(hcp_result.limit(10))"
   ]
  },
  {
   "cell_type": "markdown",
   "metadata": {
    "application/vnd.databricks.v1+cell": {
     "cellMetadata": {
      "byteLimit": 2048000,
      "rowLimit": 10000
     },
     "inputWidgets": {},
     "nuid": "4ee73bc4-73fa-4c1e-9bf0-4f975c28d2f3",
     "showTitle": false,
     "tableResultSettingsMap": {},
     "title": ""
    }
   },
   "source": [
    "### Checking how many unique HCP IDs are associated to each Patient ID"
   ]
  },
  {
   "cell_type": "code",
   "execution_count": 0,
   "metadata": {
    "application/vnd.databricks.v1+cell": {
     "cellMetadata": {
      "byteLimit": 2048000,
      "rowLimit": 10000
     },
     "inputWidgets": {},
     "nuid": "459fce99-95c0-4b4e-920f-24fb470646ab",
     "showTitle": false,
     "tableResultSettingsMap": {},
     "title": ""
    }
   },
   "outputs": [],
   "source": [
    "# Group by 'PATIENT_ID' and count distinct 'BH_ID' using Spark DataFrame\n",
    "# This code groups the 'overlap_raw_data' DataFrame by the 'PATIENT_ID' column.\n",
    "# It then counts the number of distinct 'BH_ID' values for each 'PATIENT_ID'.\n",
    "# The result is a new DataFrame 'patient_result' with two columns:\n",
    "# 'PATIENT_ID' and 'HCP_ID_count', where 'HCP_ID_count' represents the count of distinct 'BH_ID' for each 'PATIENT_ID'.\n",
    "\n",
    "patient_result = overlap_raw_data.groupBy('PATIENT_ID').agg(\n",
    "    F.count_distinct('BH_ID').alias('HCP_ID_count')\n",
    ").sort('HCP_ID_count', ascending=False)\n",
    "\n",
    "display(patient_result.limit(10))\n",
    "print(\"\")        \n",
    "display(patient_result.orderBy('HCP_ID_count').limit(10))"
   ]
  },
  {
   "cell_type": "markdown",
   "metadata": {
    "application/vnd.databricks.v1+cell": {
     "cellMetadata": {
      "byteLimit": 2048000,
      "rowLimit": 10000
     },
     "inputWidgets": {},
     "nuid": "c1278012-df95-4f27-8ffb-0baa45b026cf",
     "showTitle": false,
     "tableResultSettingsMap": {},
     "title": ""
    }
   },
   "source": [
    "### Number of unique HCPs and Unique Patients since Jan-2023 till end of data for *Overlap* data table"
   ]
  },
  {
   "cell_type": "code",
   "execution_count": 0,
   "metadata": {
    "application/vnd.databricks.v1+cell": {
     "cellMetadata": {
      "byteLimit": 2048000,
      "rowLimit": 10000
     },
     "inputWidgets": {},
     "nuid": "3b5e11dc-1790-4007-a8b3-5b300713196d",
     "showTitle": false,
     "tableResultSettingsMap": {},
     "title": ""
    }
   },
   "outputs": [],
   "source": [
    "# Filter the overlap data from Jan 2023 onwards\n",
    "two_yr_overlap_data = overlap_raw_data.filter(overlap_raw_data['SHP_DT'] >= '2023-01-01')\n",
    "print('Row count: '+ str(two_yr_overlap_data.count()))\n",
    "#display(two_yr_overlap_data)"
   ]
  },
  {
   "cell_type": "markdown",
   "metadata": {
    "application/vnd.databricks.v1+cell": {
     "cellMetadata": {
      "byteLimit": 2048000,
      "rowLimit": 10000
     },
     "inputWidgets": {},
     "nuid": "28ff1e49-5830-4b4b-bd4e-a095521c4cf8",
     "showTitle": false,
     "tableResultSettingsMap": {},
     "title": ""
    }
   },
   "source": [
    "Checking the max date of data"
   ]
  },
  {
   "cell_type": "code",
   "execution_count": 0,
   "metadata": {
    "application/vnd.databricks.v1+cell": {
     "cellMetadata": {
      "byteLimit": 2048000,
      "rowLimit": 10000
     },
     "inputWidgets": {},
     "nuid": "734c25ac-9449-4e5f-891f-8e03dd0887d4",
     "showTitle": false,
     "tableResultSettingsMap": {},
     "title": ""
    }
   },
   "outputs": [],
   "source": [
    "# the data ends at which date?\n",
    "two_yr_overlap_data.select(F.min(\"SHP_DT\"), F.max(\"SHP_DT\")).show()"
   ]
  },
  {
   "cell_type": "markdown",
   "metadata": {
    "application/vnd.databricks.v1+cell": {
     "cellMetadata": {
      "byteLimit": 2048000,
      "rowLimit": 10000
     },
     "inputWidgets": {},
     "nuid": "48a287e5-2964-46c5-9a8c-2cb3d9339917",
     "showTitle": false,
     "tableResultSettingsMap": {},
     "title": ""
    }
   },
   "source": [
    "### Number of unique HCPs and Patients in the overlap data since Jan-2023"
   ]
  },
  {
   "cell_type": "code",
   "execution_count": 0,
   "metadata": {
    "application/vnd.databricks.v1+cell": {
     "cellMetadata": {
      "byteLimit": 2048000,
      "rowLimit": 10000
     },
     "inputWidgets": {},
     "nuid": "96c0aaa5-0cf0-4bf9-8d3d-3462cf34d6d5",
     "showTitle": false,
     "tableResultSettingsMap": {},
     "title": ""
    }
   },
   "outputs": [],
   "source": [
    "# Number of unique HCPs and Patients in the overlap data since Jan-2023\n",
    "columns_to_count = [\"BH_ID\", \"PATIENT_ID\"]\n",
    "unique_counts = {col: two_yr_overlap_data.select(col).distinct().count() for col in columns_to_count}\n",
    "display(unique_counts)"
   ]
  },
  {
   "cell_type": "code",
   "execution_count": 0,
   "metadata": {
    "application/vnd.databricks.v1+cell": {
     "cellMetadata": {
      "byteLimit": 2048000,
      "rowLimit": 10000
     },
     "inputWidgets": {},
     "nuid": "39254c32-3c31-4623-9e32-d3c65c5ffd8e",
     "showTitle": false,
     "tableResultSettingsMap": {},
     "title": ""
    }
   },
   "outputs": [],
   "source": [
    "# Checking unique values present in the following columns\n",
    "columns = [\"PRD_NM\", \"MKT_NM\", \"PRD_GRP_NM\"]\n",
    "unique_vals = {col: overlap_raw_data.select(col).distinct().show() for col in columns}\n",
    "display(unique_vals)"
   ]
  },
  {
   "cell_type": "code",
   "execution_count": 0,
   "metadata": {
    "application/vnd.databricks.v1+cell": {
     "cellMetadata": {
      "byteLimit": 2048000,
      "rowLimit": 10000
     },
     "inputWidgets": {},
     "nuid": "ff6dfea0-35ca-4af9-a4cd-5b131d645399",
     "showTitle": false,
     "tableResultSettingsMap": {},
     "title": ""
    }
   },
   "outputs": [],
   "source": [
    "# converting the 2 years overlap spark dataframe to Pandas dataframe\n",
    "two_yr_overlap_df = two_yr_overlap_data.toPandas()"
   ]
  },
  {
   "cell_type": "markdown",
   "metadata": {
    "application/vnd.databricks.v1+cell": {
     "cellMetadata": {
      "byteLimit": 2048000,
      "rowLimit": 10000
     },
     "inputWidgets": {},
     "nuid": "ca61e977-33c4-4849-a1cc-3799611176d5",
     "showTitle": false,
     "tableResultSettingsMap": {},
     "title": ""
    }
   },
   "source": [
    "### Number of HCPs and Patients with respect to Drugs in the data from Jan-2023 onwards"
   ]
  },
  {
   "cell_type": "code",
   "execution_count": 0,
   "metadata": {
    "application/vnd.databricks.v1+cell": {
     "cellMetadata": {
      "byteLimit": 2048000,
      "rowLimit": 10000
     },
     "inputWidgets": {},
     "nuid": "0a42d66c-6a64-4921-b021-50cab4e8689b",
     "showTitle": false,
     "tableResultSettingsMap": {},
     "title": ""
    }
   },
   "outputs": [],
   "source": [
    "# Counting unique HCPs and patients for each drug\n",
    "drugs = ['JIVI', 'KOVALTRY', 'ALTUVIIIO', 'HEMLIBRA']\n",
    "hcp_counts = {drg: two_yr_overlap_df.query(\"PRD_NM == @drg\").BH_ID.nunique() for drg in drugs}\n",
    "pat_counts = {drg: two_yr_overlap_df.query(\"PRD_NM == @drg\").PATIENT_ID.nunique() for drg in drugs}\n",
    "df_hcps = pd.DataFrame(hcp_counts, index=[0])\n",
    "display(df_hcps)\n",
    "df_pats = pd.DataFrame(pat_counts, index=[0])\n",
    "display(df_pats)"
   ]
  },
  {
   "cell_type": "markdown",
   "metadata": {
    "application/vnd.databricks.v1+cell": {
     "cellMetadata": {
      "byteLimit": 2048000,
      "rowLimit": 10000
     },
     "inputWidgets": {},
     "nuid": "be7eb985-9713-47a1-afa6-b1165d4590ac",
     "showTitle": false,
     "tableResultSettingsMap": {},
     "title": ""
    }
   },
   "source": [
    "### Monthly IU totals for Jivi and Kovaltry"
   ]
  },
  {
   "cell_type": "code",
   "execution_count": 0,
   "metadata": {
    "application/vnd.databricks.v1+cell": {
     "cellMetadata": {
      "byteLimit": 2048000,
      "rowLimit": 10000
     },
     "inputWidgets": {},
     "nuid": "bfced663-7a54-4552-b1df-129948997bf7",
     "showTitle": false,
     "tableResultSettingsMap": {},
     "title": ""
    }
   },
   "outputs": [],
   "source": [
    "# Example usage\n",
    "jivi_monthly_iu = calculate_monthly_iu_total(two_yr_overlap_df, 'JIVI')\n",
    "display(jivi_monthly_iu)"
   ]
  },
  {
   "cell_type": "code",
   "execution_count": 0,
   "metadata": {
    "application/vnd.databricks.v1+cell": {
     "cellMetadata": {
      "byteLimit": 2048000,
      "rowLimit": 10000
     },
     "inputWidgets": {},
     "nuid": "c48d70d8-fcc9-47cf-b397-b659d008e0e2",
     "showTitle": false,
     "tableResultSettingsMap": {},
     "title": ""
    }
   },
   "outputs": [],
   "source": [
    "# Example usage\n",
    "kova_monthly_iu = calculate_monthly_iu_total(two_yr_overlap_df, 'KOVALTRY')\n",
    "display(kova_monthly_iu)"
   ]
  },
  {
   "cell_type": "code",
   "execution_count": 0,
   "metadata": {
    "application/vnd.databricks.v1+cell": {
     "cellMetadata": {
      "byteLimit": 2048000,
      "rowLimit": 10000
     },
     "inputWidgets": {},
     "nuid": "3eb454bc-f3a7-47d5-8e00-517172e5a9d7",
     "showTitle": false,
     "tableResultSettingsMap": {},
     "title": ""
    }
   },
   "outputs": [],
   "source": [
    "monthly_iu = calculate_monthly_iu_total(two_yr_overlap_df)\n",
    "display(monthly_iu)"
   ]
  },
  {
   "cell_type": "code",
   "execution_count": 0,
   "metadata": {
    "application/vnd.databricks.v1+cell": {
     "cellMetadata": {
      "byteLimit": 2048000,
      "rowLimit": 10000
     },
     "inputWidgets": {},
     "nuid": "64584c85-3148-4dbf-8885-055a73e460a4",
     "showTitle": false,
     "tableResultSettingsMap": {},
     "title": ""
    }
   },
   "outputs": [],
   "source": [
    "# Shortlisting columns from the dataframe of overlap data\n",
    "subset_overlap_df = overlap_data_df[['PRD_NM', 'SHP_DT', \"BH_ID\", \"PATIENT_ID\"]]"
   ]
  },
  {
   "cell_type": "code",
   "execution_count": 0,
   "metadata": {
    "application/vnd.databricks.v1+cell": {
     "cellMetadata": {
      "byteLimit": 2048000,
      "rowLimit": 10000
     },
     "inputWidgets": {},
     "nuid": "ef96d4fb-2996-4c81-be13-fc070ff817b3",
     "showTitle": false,
     "tableResultSettingsMap": {},
     "title": ""
    }
   },
   "outputs": [],
   "source": [
    "# checking the percentage of records for each drug\n",
    "subset_overlap_df['PRD_NM'].value_counts(normalize=True) * 100"
   ]
  },
  {
   "cell_type": "code",
   "execution_count": 0,
   "metadata": {
    "application/vnd.databricks.v1+cell": {
     "cellMetadata": {
      "byteLimit": 2048000,
      "rowLimit": 10000
     },
     "inputWidgets": {},
     "nuid": "45cdd528-14e1-4eb1-a728-cfe0ebcec2b3",
     "showTitle": false,
     "tableResultSettingsMap": {},
     "title": ""
    }
   },
   "outputs": [],
   "source": [
    "# checking the percentage of records for each drug in the study period\n",
    "two_yr_overlap_df['PRD_NM'].value_counts(normalize=True) * 100"
   ]
  },
  {
   "cell_type": "markdown",
   "metadata": {
    "application/vnd.databricks.v1+cell": {
     "cellMetadata": {
      "byteLimit": 2048000,
      "rowLimit": 10000
     },
     "inputWidgets": {},
     "nuid": "00f416e4-a0b3-4c07-ab90-a7d8bc467e7d",
     "showTitle": false,
     "tableResultSettingsMap": {},
     "title": ""
    }
   },
   "source": [
    "### We consider the study period of our data from Jan-2023 to Oct-2024 (end of data)"
   ]
  },
  {
   "cell_type": "markdown",
   "metadata": {
    "application/vnd.databricks.v1+cell": {
     "cellMetadata": {
      "byteLimit": 2048000,
      "rowLimit": 10000
     },
     "inputWidgets": {},
     "nuid": "65f21242-c8d5-4c64-a298-a41628d512b9",
     "showTitle": false,
     "tableResultSettingsMap": {},
     "title": ""
    }
   },
   "source": [
    "### EDA Q7: a. Monthly and overall count of 'New-to-JIVI' HCPs between Jan'23 and end of data date. \n",
    "\n",
    "**'New to JIVI' HCPs are defined as those who 1. Prescribed JIVI in the study period and 2. Didn't write JIVI in the 24 months prior**"
   ]
  },
  {
   "cell_type": "code",
   "execution_count": 0,
   "metadata": {
    "application/vnd.databricks.v1+cell": {
     "cellMetadata": {
      "byteLimit": 2048000,
      "rowLimit": 10000
     },
     "inputWidgets": {},
     "nuid": "4afe3ea4-00e0-481e-84c5-6759935e24d3",
     "showTitle": false,
     "tableResultSettingsMap": {},
     "title": ""
    }
   },
   "outputs": [],
   "source": [
    "# using the imported helper function\n",
    "monthly_new_to_drg_hcps, new_to_drg_hcp_ids = calculate_new_to_drug(data=subset_overlap_df, drg_nm='JIVI', drg_nm_col='PRD_NM', start_date='2023-01-01', id_col='BH_ID', date_col='SHP_DT', lookback_period=2)\n",
    "display(monthly_new_to_drg_hcps)"
   ]
  },
  {
   "cell_type": "markdown",
   "metadata": {
    "application/vnd.databricks.v1+cell": {
     "cellMetadata": {
      "byteLimit": 2048000,
      "rowLimit": 10000
     },
     "inputWidgets": {},
     "nuid": "3db3c6f5-711b-4de7-8cce-4487ed6bc03f",
     "showTitle": false,
     "tableResultSettingsMap": {},
     "title": ""
    }
   },
   "source": [
    "**Retrieving records for a given HCP (randomly sampled HCP ID)**"
   ]
  },
  {
   "cell_type": "code",
   "execution_count": 0,
   "metadata": {
    "application/vnd.databricks.v1+cell": {
     "cellMetadata": {
      "byteLimit": 2048000,
      "rowLimit": 10000
     },
     "inputWidgets": {},
     "nuid": "b3811b6d-6b5b-4738-8053-9ca3f099e12c",
     "showTitle": false,
     "tableResultSettingsMap": {},
     "title": ""
    }
   },
   "outputs": [],
   "source": [
    "sample_id = random.sample(list(new_to_drg_hcp_ids), 1)[0]\n",
    "display(overlap_data_df.query('BH_ID == @sample_id'))"
   ]
  },
  {
   "cell_type": "markdown",
   "metadata": {
    "application/vnd.databricks.v1+cell": {
     "cellMetadata": {
      "byteLimit": 2048000,
      "rowLimit": 10000
     },
     "inputWidgets": {},
     "nuid": "95e025fb-41bf-4dc5-b354-56e1951cc479",
     "showTitle": false,
     "tableResultSettingsMap": {},
     "title": ""
    }
   },
   "source": [
    "### EDA 6a. Monthly and overall counts of 'Jivi new patients' between Jan'23 and end of data date. \n",
    "\n",
    "**Jivi new patients are those who 1. had a Jivi Rx in the study period (Jan'23-end of data date) and 2. did not have Jivi Rx in the 24 months prior**"
   ]
  },
  {
   "cell_type": "code",
   "execution_count": 0,
   "metadata": {
    "application/vnd.databricks.v1+cell": {
     "cellMetadata": {
      "byteLimit": 2048000,
      "rowLimit": 10000
     },
     "inputWidgets": {},
     "nuid": "13bbd82e-27ba-4d88-addd-243d1cbd6734",
     "showTitle": false,
     "tableResultSettingsMap": {},
     "title": ""
    }
   },
   "outputs": [],
   "source": [
    "# using the imported helper function\n",
    "monthly_new_to_drg_pats, new_to_drg_pat_ids = calculate_new_to_drug(data=subset_overlap_df, drg_nm='JIVI', drg_nm_col='PRD_NM', start_date='2023-01-01', id_col='PATIENT_ID', date_col='SHP_DT', lookback_period=2)\n",
    "display(monthly_new_to_drg_pats)"
   ]
  },
  {
   "cell_type": "markdown",
   "metadata": {
    "application/vnd.databricks.v1+cell": {
     "cellMetadata": {
      "byteLimit": 2048000,
      "rowLimit": 10000
     },
     "inputWidgets": {},
     "nuid": "79c3da09-f2dd-4775-a3e3-f47db68c343e",
     "showTitle": false,
     "tableResultSettingsMap": {},
     "title": ""
    }
   },
   "source": [
    "### Checking \"new to JIVI\" patient records to see if there are any patients who have switched the pharmacies"
   ]
  },
  {
   "cell_type": "code",
   "execution_count": 0,
   "metadata": {
    "application/vnd.databricks.v1+cell": {
     "cellMetadata": {
      "byteLimit": 2048000,
      "rowLimit": 10000
     },
     "inputWidgets": {},
     "nuid": "564229ba-8c44-4213-881f-80c8cc180f29",
     "showTitle": false,
     "tableResultSettingsMap": {},
     "title": ""
    }
   },
   "outputs": [],
   "source": [
    "\n",
    "# Filter overlap data to get 'New-to-Brand' Patients data\n",
    "new_to_drg_pats_data = overlap_data_df[overlap_data_df['PATIENT_ID'].isin(new_to_drg_pat_ids)]\n",
    "new_to_drg_pats_data.sort_values(by=['PATIENT_ID', 'SHP_DT'], inplace= True)\n",
    "\n",
    "# Flagging records where the WINNING PATIENT ID and SP_SOURCE_PTNT_ID are different and SRC_SP is not equal to 'SHS' to identify if the patient has switched the pharmacy\n",
    "new_to_drg_pats_data['SP_switch_flag'] = ((new_to_drg_pats_data['WINNING_PATIENT_ID'] != new_to_drg_pats_data['SP_SOURCE_PTNT_ID']) & (new_to_drg_pats_data['SRC_SP'] != 'SHS')).astype(int)\n",
    "res_df = new_to_drg_pats_data.groupby(['PATIENT_ID'])['SP_switch_flag'].max().reset_index()\n",
    "display(res_df)"
   ]
  },
  {
   "cell_type": "code",
   "execution_count": 0,
   "metadata": {
    "application/vnd.databricks.v1+cell": {
     "cellMetadata": {
      "byteLimit": 2048000,
      "rowLimit": 10000
     },
     "inputWidgets": {},
     "nuid": "3d156d03-46f6-4cf3-aef0-169b674425b2",
     "showTitle": false,
     "tableResultSettingsMap": {},
     "title": ""
    }
   },
   "outputs": [],
   "source": [
    "# Flagging records where the WINNING PATIENT ID and SP_SOURCE_PTNT_ID are different and SRC_SP is not equal to 'SHS' to identify if the patient has switched the pharmacy\n",
    "overlap_data_df['SP_switch_flag'] = ((overlap_data_df['WINNING_PATIENT_ID'] != overlap_data_df['SP_SOURCE_PTNT_ID']) & (overlap_data_df['SRC_SP'] != 'SHS')).astype(int)"
   ]
  },
  {
   "cell_type": "code",
   "execution_count": 0,
   "metadata": {
    "application/vnd.databricks.v1+cell": {
     "cellMetadata": {
      "byteLimit": 2048000,
      "rowLimit": 10000
     },
     "inputWidgets": {},
     "nuid": "6bb795d1-64db-4aba-9c31-be9dc075d479",
     "showTitle": false,
     "tableResultSettingsMap": {},
     "title": ""
    }
   },
   "outputs": [],
   "source": [
    "# Calculate the proportion of each unique value in the 'SRC_SP' column\n",
    "src_sp_counts = overlap_data_df['SRC_SP'].value_counts(normalize=True).reset_index()\n",
    "# Rename the columns for better understanding\n",
    "src_sp_counts.columns = ['SRC_SP', 'Proportion']\n",
    "# Convert the proportion to percentage\n",
    "src_sp_counts['Proportion'] = src_sp_counts['Proportion'] * 100\n",
    "# Display the resulting DataFrame\n",
    "display(src_sp_counts)"
   ]
  },
  {
   "cell_type": "markdown",
   "metadata": {
    "application/vnd.databricks.v1+cell": {
     "cellMetadata": {},
     "inputWidgets": {},
     "nuid": "b0abba4d-ed04-45e2-8eeb-8a5862fd09bb",
     "showTitle": false,
     "tableResultSettingsMap": {},
     "title": ""
    }
   },
   "source": [
    "**Filter the data for a given patient who has switched pharmacies**"
   ]
  },
  {
   "cell_type": "code",
   "execution_count": 0,
   "metadata": {
    "application/vnd.databricks.v1+cell": {
     "cellMetadata": {
      "byteLimit": 2048000,
      "rowLimit": 10000
     },
     "inputWidgets": {},
     "nuid": "5e54898e-8e01-4016-b3e7-280786549f57",
     "showTitle": false,
     "tableResultSettingsMap": {
      "0": {
       "filterBlob": "{\"filterGroups\":[],\"syncTimestamp\":1736347107977}",
       "tableResultIndex": 0
      }
     },
     "title": ""
    }
   },
   "outputs": [],
   "source": [
    "pat_id = '0377CD39-3B12-489D-936E-37CE7C193910'\n",
    "example_pat_data = overlap_data_df.query(\"PATIENT_ID == @pat_id\")\n",
    "# reordering columns for easy viewing\n",
    "example_pat_data = example_pat_data[['PATIENT_ID', 'WINNING_PATIENT_ID', 'SP_SOURCE_PTNT_ID',  'SHP_DT', 'SP_switch_flag', 'BH_ID', 'SRC_SP', 'PRD_NM'] + [col for col in example_pat_data.columns if col not in ['PATIENT_ID', 'WINNING_PATIENT_ID', 'SP_SOURCE_PTNT_ID',  'SHP_DT', 'SP_switch_flag', 'BH_ID', 'SRC_SP', 'PRD_NM']]]\n",
    "example_pat_data.sort_values(by=['SHP_DT'], inplace= True)\n",
    "display(example_pat_data)"
   ]
  },
  {
   "cell_type": "markdown",
   "metadata": {
    "application/vnd.databricks.v1+cell": {
     "cellMetadata": {},
     "inputWidgets": {},
     "nuid": "dcb172c3-3e2e-4f3b-be70-1fe7054a5212",
     "showTitle": false,
     "tableResultSettingsMap": {},
     "title": ""
    }
   },
   "source": [
    "**Filter the data for the patient who has NOT switched pharmacies**"
   ]
  },
  {
   "cell_type": "code",
   "execution_count": 0,
   "metadata": {
    "application/vnd.databricks.v1+cell": {
     "cellMetadata": {
      "byteLimit": 2048000,
      "rowLimit": 10000
     },
     "inputWidgets": {},
     "nuid": "0ca4f533-fd0f-42ca-9f20-6b8ea2d36824",
     "showTitle": false,
     "tableResultSettingsMap": {},
     "title": ""
    }
   },
   "outputs": [],
   "source": [
    "pat_id = '02F40E85-E18E-4BE6-B19A-F565869C1139'\n",
    "example_pat_data = overlap_data_df.query(\"PATIENT_ID == @pat_id\")\n",
    "# reordering columns for easy viewing\n",
    "example_pat_data = example_pat_data[['PATIENT_ID', 'WINNING_PATIENT_ID', 'SP_SOURCE_PTNT_ID',  'SHP_DT', 'SP_switch_flag', 'BH_ID', 'SRC_SP', 'PRD_NM'] + [col for col in example_pat_data.columns if col not in ['PATIENT_ID', 'WINNING_PATIENT_ID', 'SP_SOURCE_PTNT_ID',  'SHP_DT', 'SP_switch_flag', 'BH_ID', 'SRC_SP', 'PRD_NM']]]\n",
    "example_pat_data.sort_values(by=['SHP_DT'], inplace= True)\n",
    "display(example_pat_data)"
   ]
  },
  {
   "cell_type": "markdown",
   "metadata": {
    "application/vnd.databricks.v1+cell": {
     "cellMetadata": {
      "byteLimit": 2048000,
      "rowLimit": 10000
     },
     "inputWidgets": {},
     "nuid": "e491f47c-7120-4947-9a32-8da8cea92077",
     "showTitle": false,
     "tableResultSettingsMap": {},
     "title": ""
    }
   },
   "source": [
    "### EDA Q7: b. Monthly and overall count of 'New-to-Kovaltry' HCPs between Jan'23 and end of data date. \n",
    "\n",
    "**'New to Kovaltry' HCPs are defined as those who 1. Prescribed Kovaltry in the study period and 2. Didn't write Kovaltry in the 24 months prior**"
   ]
  },
  {
   "cell_type": "code",
   "execution_count": 0,
   "metadata": {
    "application/vnd.databricks.v1+cell": {
     "cellMetadata": {
      "byteLimit": 2048000,
      "rowLimit": 10000
     },
     "inputWidgets": {},
     "nuid": "e5a15c06-c44b-4e07-b735-18c996753f27",
     "showTitle": false,
     "tableResultSettingsMap": {},
     "title": ""
    }
   },
   "outputs": [],
   "source": [
    "# using the imported helper function\n",
    "monthly_new_to_drg_hcps, new_to_drg_hcp_ids = calculate_new_to_drug(data=subset_overlap_df, drg_nm='KOVALTRY', drg_nm_col='PRD_NM', start_date='2023-01-01', id_col='BH_ID', date_col='SHP_DT', lookback_period=2)\n",
    "display(monthly_new_to_drg_hcps)"
   ]
  },
  {
   "cell_type": "markdown",
   "metadata": {
    "application/vnd.databricks.v1+cell": {
     "cellMetadata": {
      "byteLimit": 2048000,
      "rowLimit": 10000
     },
     "inputWidgets": {},
     "nuid": "cb4c8227-5136-4f64-91ff-e9045421072e",
     "showTitle": false,
     "tableResultSettingsMap": {},
     "title": ""
    }
   },
   "source": [
    "### EDA 6b. Monthly and overall counts of 'Kovaltry new patients' between Jan'23 and end of data date. \n",
    "\n",
    "**Kovaltry new patients are those who 1. had a Kovaltry Rx in the study period (Jan'23-end of data date) and 2. did not have Kovaltry Rx in the 24 months prior**"
   ]
  },
  {
   "cell_type": "code",
   "execution_count": 0,
   "metadata": {
    "application/vnd.databricks.v1+cell": {
     "cellMetadata": {
      "byteLimit": 2048000,
      "rowLimit": 10000
     },
     "inputWidgets": {},
     "nuid": "354c4031-d0b4-47ff-b686-1a35aca7f950",
     "showTitle": false,
     "tableResultSettingsMap": {},
     "title": ""
    }
   },
   "outputs": [],
   "source": [
    "# using the imported helper function\n",
    "monthly_new_to_drg_pats, new_to_drg_pat_ids = calculate_new_to_drug(data=subset_overlap_df, drg_nm='KOVALTRY', drg_nm_col='PRD_NM', start_date='2023-01-01', id_col='PATIENT_ID', date_col='SHP_DT', lookback_period=2)\n",
    "display(monthly_new_to_drg_pats)"
   ]
  },
  {
   "cell_type": "markdown",
   "metadata": {
    "application/vnd.databricks.v1+cell": {
     "cellMetadata": {
      "byteLimit": 2048000,
      "rowLimit": 10000
     },
     "inputWidgets": {},
     "nuid": "9292c1d9-38da-4fc9-8ddb-69129be6d007",
     "showTitle": false,
     "tableResultSettingsMap": {},
     "title": ""
    }
   },
   "source": [
    "### Monthly and overall counts of 'New to Hemlibra' HCPs in study period"
   ]
  },
  {
   "cell_type": "code",
   "execution_count": 0,
   "metadata": {
    "application/vnd.databricks.v1+cell": {
     "cellMetadata": {
      "byteLimit": 2048000,
      "rowLimit": 10000
     },
     "inputWidgets": {},
     "nuid": "3715f851-a510-4dbc-91ec-a427935110e8",
     "showTitle": false,
     "tableResultSettingsMap": {},
     "title": ""
    }
   },
   "outputs": [],
   "source": [
    "# using the imported helper function\n",
    "monthly_new_to_drg_hcps, new_to_drg_hcp_ids = calculate_new_to_drug(data=subset_overlap_df, drg_nm='HEMLIBRA', drg_nm_col='PRD_NM', start_date='2023-01-01', id_col='BH_ID', date_col='SHP_DT', lookback_period=2)\n",
    "display(monthly_new_to_drg_hcps)"
   ]
  },
  {
   "cell_type": "markdown",
   "metadata": {
    "application/vnd.databricks.v1+cell": {
     "cellMetadata": {
      "byteLimit": 2048000,
      "rowLimit": 10000
     },
     "inputWidgets": {},
     "nuid": "9b43386e-d463-40a0-9975-902d2634cd82",
     "showTitle": false,
     "tableResultSettingsMap": {},
     "title": ""
    }
   },
   "source": [
    "### Monthly and overall counts of 'New to ALTUVIIIO' HCPs in study period"
   ]
  },
  {
   "cell_type": "code",
   "execution_count": 0,
   "metadata": {
    "application/vnd.databricks.v1+cell": {
     "cellMetadata": {
      "byteLimit": 2048000,
      "rowLimit": 10000
     },
     "inputWidgets": {},
     "nuid": "683bdf4a-13e5-4d1f-b35c-19a46d3c4cb3",
     "showTitle": false,
     "tableResultSettingsMap": {},
     "title": ""
    }
   },
   "outputs": [],
   "source": [
    "# using the imported helper function\n",
    "monthly_new_to_drg_hcps, new_to_drg_hcp_ids = calculate_new_to_drug(data=subset_overlap_df, drg_nm='ALTUVIIIO', drg_nm_col='PRD_NM', start_date='2023-01-01', id_col='BH_ID', date_col='SHP_DT', lookback_period=2)\n",
    "display(monthly_new_to_drg_hcps)"
   ]
  },
  {
   "cell_type": "markdown",
   "metadata": {
    "application/vnd.databricks.v1+cell": {
     "cellMetadata": {
      "byteLimit": 2048000,
      "rowLimit": 10000
     },
     "inputWidgets": {},
     "nuid": "0335cee0-4236-45c4-9576-cc37a71e76ea",
     "showTitle": false,
     "tableResultSettingsMap": {},
     "title": ""
    }
   },
   "source": [
    "### Monthly and overall counts of 'New to Hemlibra' Patients in study period"
   ]
  },
  {
   "cell_type": "code",
   "execution_count": 0,
   "metadata": {
    "application/vnd.databricks.v1+cell": {
     "cellMetadata": {
      "byteLimit": 2048000,
      "rowLimit": 10000
     },
     "inputWidgets": {},
     "nuid": "470a4902-8aaa-4a9d-a822-dfa624c9f6db",
     "showTitle": false,
     "tableResultSettingsMap": {},
     "title": ""
    }
   },
   "outputs": [],
   "source": [
    "# using the imported helper function\n",
    "monthly_new_to_drg_pats, new_to_drg_pat_ids = calculate_new_to_drug(data=subset_overlap_df, drg_nm='HEMLIBRA', drg_nm_col='PRD_NM', start_date='2023-01-01', id_col='PATIENT_ID', date_col='SHP_DT', lookback_period=2)\n",
    "display(monthly_new_to_drg_pats)"
   ]
  },
  {
   "cell_type": "markdown",
   "metadata": {
    "application/vnd.databricks.v1+cell": {
     "cellMetadata": {
      "byteLimit": 2048000,
      "rowLimit": 10000
     },
     "inputWidgets": {},
     "nuid": "3e527744-814b-4c51-868d-10551103c034",
     "showTitle": false,
     "tableResultSettingsMap": {},
     "title": ""
    }
   },
   "source": [
    "%md\n",
    "### Monthly and overall counts of 'New to ALTUVIIIO' Patients in study period"
   ]
  },
  {
   "cell_type": "code",
   "execution_count": 0,
   "metadata": {
    "application/vnd.databricks.v1+cell": {
     "cellMetadata": {
      "byteLimit": 2048000,
      "rowLimit": 10000
     },
     "inputWidgets": {},
     "nuid": "e44658dc-ffdd-4149-9f61-522096225aab",
     "showTitle": false,
     "tableResultSettingsMap": {},
     "title": ""
    }
   },
   "outputs": [],
   "source": [
    "# using the imported helper function\n",
    "monthly_new_to_drg_pats, new_to_drg_pat_ids = calculate_new_to_drug(data=subset_overlap_df, drg_nm='ALTUVIIIO', drg_nm_col='PRD_NM', start_date='2023-01-01', id_col='PATIENT_ID', date_col='SHP_DT', lookback_period=2)\n",
    "display(monthly_new_to_drg_pats)"
   ]
  },
  {
   "cell_type": "code",
   "execution_count": 0,
   "metadata": {
    "application/vnd.databricks.v1+cell": {
     "cellMetadata": {},
     "inputWidgets": {},
     "nuid": "57a0de3e-0c43-4bc3-b366-f157c6a0892e",
     "showTitle": false,
     "tableResultSettingsMap": {},
     "title": ""
    }
   },
   "outputs": [],
   "source": []
  }
 ],
 "metadata": {
  "application/vnd.databricks.v1+notebook": {
   "computePreferences": {
    "hardware": {
     "accelerator": null,
     "gpuPoolId": null,
     "memory": null
    }
   },
   "dashboards": [
    {
     "elements": [
      {
       "dashboardResultIndex": 0,
       "elementNUID": "0ca4f533-fd0f-42ca-9f20-6b8ea2d36824",
       "elementType": "command",
       "guid": "e617d9ef-dd7d-4e92-9f99-0ac2e3548740",
       "options": {
        "autoScaleImg": false,
        "scale": 0,
        "showTitle": false,
        "titleAlign": "center"
       },
       "position": {
        "height": 6,
        "width": 24,
        "x": 0,
        "y": 0,
        "z": null
       },
       "resultIndex": null
      }
     ],
     "globalVars": {},
     "guid": "",
     "layoutOption": {
      "grid": true,
      "stack": true
     },
     "nuid": "ecbb0241-ae89-4350-b06d-f5d89a5574cd",
     "origId": 516878636898966,
     "title": "Untitled",
     "version": "DashboardViewV1",
     "width": 1024
    }
   ],
   "environmentMetadata": {
    "base_environment": "",
    "client": "1"
   },
   "language": "python",
   "notebookMetadata": {
    "pythonIndentUnit": 2
   },
   "notebookName": "EDA_new_overlap_data",
   "widgets": {}
  },
  "language_info": {
   "name": "python"
  }
 },
 "nbformat": 4,
 "nbformat_minor": 0
}
