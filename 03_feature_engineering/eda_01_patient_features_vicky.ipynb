{
 "cells": [
  {
   "cell_type": "code",
   "execution_count": 0,
   "metadata": {
    "application/vnd.databricks.v1+cell": {
     "cellMetadata": {
      "byteLimit": 2048000,
      "rowLimit": 10000
     },
     "inputWidgets": {},
     "nuid": "523d8ba2-6fc0-4977-a300-77d08baedd1f",
     "showTitle": false,
     "tableResultSettingsMap": {},
     "title": ""
    }
   },
   "outputs": [],
   "source": [
    "%run \"../00_config/set-up\""
   ]
  },
  {
   "cell_type": "code",
   "execution_count": 0,
   "metadata": {
    "application/vnd.databricks.v1+cell": {
     "cellMetadata": {
      "byteLimit": 2048000,
      "rowLimit": 10000
     },
     "inputWidgets": {},
     "nuid": "16470f5f-6ea0-4d97-b760-a495b42bb67f",
     "showTitle": false,
     "tableResultSettingsMap": {},
     "title": ""
    }
   },
   "outputs": [],
   "source": [
    "df = spark.sql(\"SELECT * FROM heme_data.overlap_rx\")\n",
    "print('Row count: ', df.count(), 'Column Count: ', len(df.columns))\n",
    "df.printSchema()"
   ]
  },
  {
   "cell_type": "markdown",
   "metadata": {
    "application/vnd.databricks.v1+cell": {
     "cellMetadata": {
      "byteLimit": 2048000,
      "rowLimit": 10000
     },
     "inputWidgets": {},
     "nuid": "d427edab-775c-4b86-8489-e0e1ba7ca09b",
     "showTitle": false,
     "tableResultSettingsMap": {},
     "title": ""
    }
   },
   "source": [
    "### Calculate Weekly IUs"
   ]
  },
  {
   "cell_type": "code",
   "execution_count": 0,
   "metadata": {
    "application/vnd.databricks.v1+cell": {
     "cellMetadata": {
      "byteLimit": 2048000,
      "rowLimit": 10000
     },
     "inputWidgets": {},
     "nuid": "6079f8bd-3b67-44fe-b788-cc36a6e141a2",
     "showTitle": false,
     "tableResultSettingsMap": {},
     "title": ""
    }
   },
   "outputs": [],
   "source": [
    "# Summarize IU by patient, product, week\n",
    "from pyspark.sql.functions import date_trunc, to_date\n",
    "\n",
    "# derive week from date\n",
    "columns = ['BH_ID', 'PATIENT_ID', 'PRD_NM', 'SHP_DT', 'PRPHY', 'IU']\n",
    "df_selected = df.select(*columns)\n",
    "df_with_week = df_selected.withColumn(\n",
    "    \"SHP_WK\",\n",
    "    to_date(date_trunc(\"week\", F.col(\"SHP_DT\")))\n",
    ")\n",
    "\n",
    "# calculate weekly IU\n",
    "df_iu = df_with_week.filter(F.col(\"PRD_NM\").isNotNull()).groupBy(\n",
    "    \"PATIENT_ID\",\n",
    "    \"PRD_NM\",\n",
    "    \"PRPHY\",\n",
    "    \"SHP_WK\"\n",
    ").agg(\n",
    "    F.sum(\"IU\").alias(\"IU\")\n",
    ").withColumn('PRPHY', F.coalesce(F.col('PRPHY'), F.lit('1'))) \\\n",
    ".orderBy(F.col('PATIENT_ID').desc(), F.col('PRD_NM').desc(), F.col('SHP_WK').asc())\n",
    "\n",
    "df_iu.printSchema()\n",
    "df_iu.display()"
   ]
  },
  {
   "cell_type": "markdown",
   "metadata": {
    "application/vnd.databricks.v1+cell": {
     "cellMetadata": {
      "byteLimit": 2048000,
      "rowLimit": 10000
     },
     "inputWidgets": {},
     "nuid": "70de0bb6-ef42-43a2-aec3-634c54f95995",
     "showTitle": false,
     "tableResultSettingsMap": {},
     "title": ""
    }
   },
   "source": [
    "#### Market Overview"
   ]
  },
  {
   "cell_type": "code",
   "execution_count": 0,
   "metadata": {
    "application/vnd.databricks.v1+cell": {
     "cellMetadata": {
      "byteLimit": 2048000,
      "rowLimit": 10000
     },
     "inputWidgets": {},
     "nuid": "dd953a6f-5db1-4d67-932b-50cd6d4449b0",
     "showTitle": false,
     "tableResultSettingsMap": {},
     "title": ""
    }
   },
   "outputs": [],
   "source": [
    "from pyspark.sql.functions import date_trunc, to_date, col, countDistinct, sum as F_sum\n",
    "\n",
    "# derive month from SHP_WK\n",
    "df_with_month = df_iu.withColumn(\"SHP_MONTH\", to_date(date_trunc(\"month\", col(\"SHP_WK\"))))\n",
    "\n",
    "# calculate number of unique patients and total IU by PRD_NM by month\n",
    "df_summary = df_with_month.groupBy(\"SHP_MONTH\", \"PRD_NM\").agg(\n",
    "    countDistinct(\"PATIENT_ID\").alias(\"unique_patients\"),\n",
    "    F_sum(\"IU\").alias(\"total_IU\")\n",
    ")\n",
    "\n",
    "# pivot the table to show PRD_NM in columns\n",
    "df_pivot = df_summary.groupBy(\"SHP_MONTH\").pivot(\"PRD_NM\").agg(\n",
    "    F.first(\"unique_patients\").alias(\"unique_patients\"),\n",
    "    F.first(\"total_IU\").alias(\"total_IU\")\n",
    ").orderBy(\"SHP_MONTH\")\n",
    "\n",
    "df_pivot.display()"
   ]
  },
  {
   "cell_type": "markdown",
   "metadata": {
    "application/vnd.databricks.v1+cell": {
     "cellMetadata": {
      "byteLimit": 2048000,
      "rowLimit": 10000
     },
     "inputWidgets": {},
     "nuid": "df63917d-4015-46b4-a2ac-3b0550ceea4f",
     "showTitle": false,
     "tableResultSettingsMap": {},
     "title": ""
    }
   },
   "source": [
    "### Create Wide Rx Table"
   ]
  },
  {
   "cell_type": "code",
   "execution_count": 0,
   "metadata": {
    "application/vnd.databricks.v1+cell": {
     "cellMetadata": {
      "byteLimit": 2048000,
      "rowLimit": 10000
     },
     "inputWidgets": {},
     "nuid": "bc9c1c73-cf94-44d1-8e8e-352517323d4f",
     "showTitle": false,
     "tableResultSettingsMap": {},
     "title": ""
    }
   },
   "outputs": [],
   "source": [
    "\n",
    "# transform weekly iu data to wide format\n",
    "df_iu_wide = (df_iu.withColumn(\"PRD_PRPHY\",\n",
    "    F.concat(\n",
    "        F.lit(\"PRD_\"),\n",
    "        F.col(\"PRD_NM\"),\n",
    "        F.lit(\"_PRPHY_\"),\n",
    "        F.col(\"PRPHY\"), \n",
    "    )).groupBy(\"PATIENT_ID\", \"SHP_WK\").pivot(\"PRD_PRPHY\").agg(F.first(\"IU\"))\n",
    "    .orderBy(F.col('PATIENT_ID').desc(), F.col('SHP_WK').asc())\n",
    "    )\n",
    "df_iu_wide.printSchema()    \n",
    "df_iu_wide.display()"
   ]
  },
  {
   "cell_type": "markdown",
   "metadata": {
    "application/vnd.databricks.v1+cell": {
     "cellMetadata": {},
     "inputWidgets": {},
     "nuid": "27fda144-e5fe-4f57-b456-9d2e2bb5b4d6",
     "showTitle": false,
     "tableResultSettingsMap": {},
     "title": ""
    }
   },
   "source": [
    "##### Check distribution"
   ]
  },
  {
   "cell_type": "code",
   "execution_count": 0,
   "metadata": {
    "application/vnd.databricks.v1+cell": {
     "cellMetadata": {
      "byteLimit": 2048000,
      "rowLimit": 10000
     },
     "inputWidgets": {},
     "nuid": "a6692792-2774-449e-8570-2d7d0081841c",
     "showTitle": false,
     "tableResultSettingsMap": {},
     "title": ""
    }
   },
   "outputs": [],
   "source": [
    "df_iu_wide = df_iu_wide.fillna(0)"
   ]
  },
  {
   "cell_type": "code",
   "execution_count": 0,
   "metadata": {
    "application/vnd.databricks.v1+cell": {
     "cellMetadata": {
      "byteLimit": 2048000,
      "rowLimit": 10000
     },
     "inputWidgets": {},
     "nuid": "c2615a39-cd32-477d-9cd0-abed0da14959",
     "showTitle": false,
     "tableResultSettingsMap": {},
     "title": ""
    }
   },
   "outputs": [],
   "source": [
    "patient_wk_cnt = df_iu_wide.groupby(\"PATIENT_ID\").agg(countDistinct(\"SHP_WK\").alias(\"week_cnt\"))\n",
    "patient_wk_cnt.describe().show()\n",
    "patient_wk_cnt.approxQuantile(\"week_cnt\", [0.25, 0.5, 0.75,0.9], 0.01)"
   ]
  },
  {
   "cell_type": "code",
   "execution_count": 0,
   "metadata": {
    "application/vnd.databricks.v1+cell": {
     "cellMetadata": {
      "byteLimit": 2048000,
      "rowLimit": 10000
     },
     "inputWidgets": {},
     "nuid": "edae9126-ccb2-456a-8e52-8e83d4d543a3",
     "showTitle": false,
     "tableResultSettingsMap": {},
     "title": ""
    }
   },
   "outputs": [],
   "source": [
    "ptnt_wi_38w = patient_wk_cnt.filter(col(\"week_cnt\") >= 38)"
   ]
  },
  {
   "cell_type": "code",
   "execution_count": 0,
   "metadata": {
    "application/vnd.databricks.v1+cell": {
     "cellMetadata": {
      "byteLimit": 2048000,
      "rowLimit": 10000
     },
     "inputWidgets": {},
     "nuid": "b960af73-dfb9-4eca-a7f2-cfd3230e0fb1",
     "showTitle": false,
     "tableResultSettingsMap": {},
     "title": ""
    }
   },
   "outputs": [],
   "source": [
    "print(ptnt_wi_38w.count())\n",
    "ptnt_wi_38w.display()"
   ]
  },
  {
   "cell_type": "code",
   "execution_count": 0,
   "metadata": {
    "application/vnd.databricks.v1+cell": {
     "cellMetadata": {
      "byteLimit": 2048000,
      "rowLimit": 10000
     },
     "inputWidgets": {},
     "nuid": "ae0d666d-324d-4fed-8218-27cd1cae0bf9",
     "showTitle": false,
     "tableResultSettingsMap": {},
     "title": ""
    }
   },
   "outputs": [],
   "source": [
    "df_iu_wide.filter(col(\"PATIENT_ID\")=='C92AA410-0AF7-48E7-8DE9-B4B98E4F0B78').display()"
   ]
  },
  {
   "cell_type": "code",
   "execution_count": 0,
   "metadata": {
    "application/vnd.databricks.v1+cell": {
     "cellMetadata": {
      "byteLimit": 2048000,
      "rowLimit": 10000
     },
     "inputWidgets": {},
     "nuid": "84c7a0b7-7a39-4e28-9679-217b24420506",
     "showTitle": false,
     "tableResultSettingsMap": {},
     "title": ""
    }
   },
   "outputs": [],
   "source": [
    "# Grouping by PatientID and calculating standard deviation for multiple columns\n",
    "agg_exprs = [stddev(col).alias(f\"StdDev_{col}\") for col in df_iu_wide.columns[2:]]\n",
    "ptnt_iu_std = df_iu_wide.groupBy(\"PATIENT_ID\").agg(*agg_exprs)"
   ]
  },
  {
   "cell_type": "code",
   "execution_count": 0,
   "metadata": {
    "application/vnd.databricks.v1+cell": {
     "cellMetadata": {
      "byteLimit": 2048000,
      "rowLimit": 10000
     },
     "inputWidgets": {},
     "nuid": "c250b41b-b44c-4dc2-9493-64f1df673d44",
     "showTitle": false,
     "tableResultSettingsMap": {},
     "title": ""
    }
   },
   "outputs": [],
   "source": [
    "ptnt_iu_std_wi_38w= ptnt_wi_38w.join(ptnt_iu_std, on =['PATIENT_ID'],how='left')"
   ]
  },
  {
   "cell_type": "code",
   "execution_count": 0,
   "metadata": {
    "application/vnd.databricks.v1+cell": {
     "cellMetadata": {
      "byteLimit": 2048000,
      "rowLimit": 10000
     },
     "inputWidgets": {},
     "nuid": "32f228d2-6d74-4e64-aff2-9ba5b11750e5",
     "showTitle": false,
     "tableResultSettingsMap": {},
     "title": ""
    }
   },
   "outputs": [],
   "source": [
    "from pyspark.sql import functions as F\n",
    "from functools import reduce\n",
    "\n",
    "ptnt_iu_std_wi_38w = ptnt_iu_std_wi_38w.withColumn(\n",
    "    \"RowTotal\",\n",
    "    reduce(lambda a, b: a + b, [F.col(c) for c in ptnt_iu_std_wi_38w.columns[2:]])\n",
    ")"
   ]
  },
  {
   "cell_type": "code",
   "execution_count": 0,
   "metadata": {
    "application/vnd.databricks.v1+cell": {
     "cellMetadata": {
      "byteLimit": 2048000,
      "rowLimit": 10000
     },
     "inputWidgets": {},
     "nuid": "d2f71fcc-d4e2-4f02-98f8-af7505875b09",
     "showTitle": false,
     "tableResultSettingsMap": {},
     "title": ""
    }
   },
   "outputs": [],
   "source": [
    "ptnt_iu_std_wi_38w.display()"
   ]
  },
  {
   "cell_type": "code",
   "execution_count": 0,
   "metadata": {
    "application/vnd.databricks.v1+cell": {
     "cellMetadata": {
      "byteLimit": 2048000,
      "rowLimit": 10000
     },
     "inputWidgets": {},
     "nuid": "85b60bbf-954e-4606-8f29-c90c27a6ee4b",
     "showTitle": false,
     "tableResultSettingsMap": {},
     "title": ""
    }
   },
   "outputs": [],
   "source": [
    "27201*166"
   ]
  },
  {
   "cell_type": "code",
   "execution_count": 0,
   "metadata": {
    "application/vnd.databricks.v1+cell": {
     "cellMetadata": {
      "byteLimit": 2048000,
      "rowLimit": 10000
     },
     "inputWidgets": {},
     "nuid": "dd13320c-3416-441e-a90d-cca5b3301ec9",
     "showTitle": false,
     "tableResultSettingsMap": {},
     "title": ""
    }
   },
   "outputs": [],
   "source": [
    "unique_wk = df_iu_wide.select(\"SHP_WK\").filter(col(\"SHP_WK\")>='2022-01-01').distinct()"
   ]
  },
  {
   "cell_type": "code",
   "execution_count": 0,
   "metadata": {
    "application/vnd.databricks.v1+cell": {
     "cellMetadata": {
      "byteLimit": 2048000,
      "rowLimit": 10000
     },
     "inputWidgets": {},
     "nuid": "13832513-58a1-45df-b608-26a10afdb72d",
     "showTitle": false,
     "tableResultSettingsMap": {},
     "title": ""
    }
   },
   "outputs": [],
   "source": [
    "patient_week_pair = (df_iu_wide.select(\"PATIENT_ID\").distinct()\n",
    "                  .crossJoin(unique_wk)\n",
    "                  .orderBy('PATIENT_ID','SHP_WK'))"
   ]
  },
  {
   "cell_type": "code",
   "execution_count": 0,
   "metadata": {
    "application/vnd.databricks.v1+cell": {
     "cellMetadata": {
      "byteLimit": 2048000,
      "rowLimit": 10000
     },
     "inputWidgets": {},
     "nuid": "b0147ee5-e061-4e64-9abc-8e995eb9a50c",
     "showTitle": false,
     "tableResultSettingsMap": {},
     "title": ""
    }
   },
   "outputs": [],
   "source": [
    "df_iu_wide.select(\"SHP_WK\").distinct().count()"
   ]
  },
  {
   "cell_type": "code",
   "execution_count": 0,
   "metadata": {
    "application/vnd.databricks.v1+cell": {
     "cellMetadata": {
      "byteLimit": 2048000,
      "rowLimit": 10000
     },
     "inputWidgets": {},
     "nuid": "3773d9c0-4854-471b-a07d-c3feacb6a044",
     "showTitle": false,
     "tableResultSettingsMap": {},
     "title": ""
    }
   },
   "outputs": [],
   "source": [
    "df_iu_wide_explode = (\n",
    "  patient_week_pair.join(df_iu_wide, on = ['PATIENT_ID','SHP_WK'], how = 'left')\n",
    "  .orderBy('PATIENT_ID','SHP_WK')\n",
    "  .fillna(0)\n",
    "  )"
   ]
  },
  {
   "cell_type": "code",
   "execution_count": 0,
   "metadata": {
    "application/vnd.databricks.v1+cell": {
     "cellMetadata": {
      "byteLimit": 2048000,
      "rowLimit": 10000
     },
     "inputWidgets": {},
     "nuid": "29af9c19-ddf4-41dd-a50c-c93849292b2e",
     "showTitle": false,
     "tableResultSettingsMap": {},
     "title": ""
    }
   },
   "outputs": [],
   "source": [
    "df_iu_wide_explode.count()"
   ]
  },
  {
   "cell_type": "code",
   "execution_count": 0,
   "metadata": {
    "application/vnd.databricks.v1+cell": {
     "cellMetadata": {
      "byteLimit": 2048000,
      "rowLimit": 10000
     },
     "inputWidgets": {},
     "nuid": "6c8252b0-77d8-431e-a8e0-96e49ac08995",
     "showTitle": false,
     "tableResultSettingsMap": {},
     "title": ""
    }
   },
   "outputs": [],
   "source": [
    "window_spec = Window.partitionBy(\"PATIENT_ID\").orderBy(\"SHP_WK\").rowsBetween(-4, -1)\n",
    "std_cols = []\n",
    "\n",
    "# Calculate the rolling standard deviation for each specified column\n",
    "for column in df_iu_wide.columns[2:]:\n",
    "    df_iu_wide_explode = df_iu_wide_explode.withColumn(f\"RollingStdDev_{column}\", stddev(col(column)).over(window_spec))\n",
    "    std_cols.append(f\"RollingStdDev_{column}\")"
   ]
  },
  {
   "cell_type": "code",
   "execution_count": 0,
   "metadata": {
    "application/vnd.databricks.v1+cell": {
     "cellMetadata": {
      "byteLimit": 2048000,
      "rowLimit": 10000
     },
     "inputWidgets": {},
     "nuid": "0909ef83-800c-4847-b985-0c0b7b2f9403",
     "showTitle": false,
     "tableResultSettingsMap": {},
     "title": ""
    }
   },
   "outputs": [],
   "source": [
    "df_iu_wide_explode.approxQuantile('RollingStdDev_PRD_KOATE_PRPHY_0', [0.25, 0.5, 0.75,0.9], 0.01)"
   ]
  },
  {
   "cell_type": "code",
   "execution_count": 0,
   "metadata": {
    "application/vnd.databricks.v1+cell": {
     "cellMetadata": {
      "byteLimit": 2048000,
      "rowLimit": 10000
     },
     "inputWidgets": {},
     "nuid": "666512f7-4e44-423c-ab9d-745bd388ffbc",
     "showTitle": false,
     "tableResultSettingsMap": {},
     "title": ""
    }
   },
   "outputs": [],
   "source": [
    "for col in std_cols:\n",
    "  print(col, df_iu_wide_explode.approxQuantile(col, [0.25, 0.5, 0.75,0.9,1.0], 0.01))"
   ]
  },
  {
   "cell_type": "code",
   "execution_count": 0,
   "metadata": {
    "application/vnd.databricks.v1+cell": {
     "cellMetadata": {
      "byteLimit": 2048000,
      "rowLimit": 10000
     },
     "inputWidgets": {},
     "nuid": "b060698c-8e94-4b4a-8b2e-3ed29150e686",
     "showTitle": false,
     "tableResultSettingsMap": {},
     "title": ""
    }
   },
   "outputs": [],
   "source": [
    "unique_wk.display()"
   ]
  },
  {
   "cell_type": "code",
   "execution_count": 0,
   "metadata": {
    "application/vnd.databricks.v1+cell": {
     "cellMetadata": {
      "byteLimit": 2048000,
      "rowLimit": 10000
     },
     "inputWidgets": {},
     "nuid": "edf7b498-7e5b-4ba7-a469-614abbcdb91b",
     "showTitle": false,
     "tableResultSettingsMap": {},
     "title": ""
    }
   },
   "outputs": [],
   "source": [
    "patient_week_pair.count()"
   ]
  },
  {
   "cell_type": "markdown",
   "metadata": {
    "application/vnd.databricks.v1+cell": {
     "cellMetadata": {
      "byteLimit": 2048000,
      "rowLimit": 10000
     },
     "inputWidgets": {},
     "nuid": "459133ff-29c0-4163-a84d-50c486fa05a9",
     "showTitle": false,
     "tableResultSettingsMap": {},
     "title": ""
    }
   },
   "source": [
    "### Patient Records - Jivi Patients"
   ]
  },
  {
   "cell_type": "code",
   "execution_count": 0,
   "metadata": {
    "application/vnd.databricks.v1+cell": {
     "cellMetadata": {
      "byteLimit": 2048000,
      "rowLimit": 10000
     },
     "inputWidgets": {},
     "nuid": "c64319a6-3a28-4a71-970b-cf3d55fa442c",
     "showTitle": false,
     "tableResultSettingsMap": {},
     "title": ""
    }
   },
   "outputs": [],
   "source": [
    "# get sample Jivi patients: top n with most number of Jivi records\n",
    "\n",
    "n=20\n",
    "top_n_patients_with_rank = df_iu.filter(\n",
    "    (F.col(\"PRD_NM\") == \"JIVI\") & \n",
    "    (F.col(\"PRPHY\").isNotNull())\n",
    ").groupBy(\"PATIENT_ID\"\n",
    ").agg(\n",
    "    F.count(\"*\").alias(\"record_count\")\n",
    ").withColumn(\n",
    "    \"rank\", \n",
    "    F.dense_rank().over(Window.orderBy(F.col(\"record_count\").desc()))\n",
    ").filter(\n",
    "    F.col(\"rank\") <= n\n",
    ")\n",
    "\n",
    "result_df_with_rank = df_iu.join(\n",
    "    top_n_patients_with_rank, \n",
    "    on=\"PATIENT_ID\",\n",
    "    how=\"inner\"\n",
    ").orderBy(\n",
    "    \"rank\", \n",
    "    \"SHP_WK\"\n",
    ")\n",
    "# result_df_with_rank.display()\n",
    "# show top Jivi patients in wide format\n",
    "df_iu_wide_jivi = df_iu_wide.join(\n",
    "    result_df_with_rank.select(\"PATIENT_ID\").distinct(),\n",
    "    on=\"PATIENT_ID\",\n",
    "    how=\"inner\"\n",
    ").orderBy(\n",
    "    \"PATIENT_ID\",\n",
    "    \"SHP_WK\"\n",
    ")\n",
    "\n",
    "# Remove columns with 100% null values\n",
    "non_null_columns = [col for col, dtype in df_iu_wide_jivi.dtypes if df_iu_wide_jivi.filter(F.col(col).isNotNull()).count() > 0]\n",
    "df_iu_wide_jivi_non_null = df_iu_wide_jivi.select(*non_null_columns)\n",
    "\n",
    "df_iu_wide_jivi_non_null.display()\n",
    "\n",
    "# findings: top 5 JIVI users didn't use other products"
   ]
  },
  {
   "cell_type": "code",
   "execution_count": 0,
   "metadata": {
    "application/vnd.databricks.v1+cell": {
     "cellMetadata": {
      "byteLimit": 2048000,
      "rowLimit": 10000
     },
     "inputWidgets": {},
     "nuid": "68be0be1-73b6-482d-867a-be0dee229bdc",
     "showTitle": false,
     "tableResultSettingsMap": {},
     "title": ""
    }
   },
   "outputs": [],
   "source": [
    "df_iu_wide_jivi_non_null.printSchema()"
   ]
  },
  {
   "cell_type": "code",
   "execution_count": 0,
   "metadata": {
    "application/vnd.databricks.v1+cell": {
     "cellMetadata": {
      "byteLimit": 2048000,
      "rowLimit": 10000
     },
     "inputWidgets": {},
     "nuid": "7a70091f-eeb0-4022-8ab7-b8ae31cdd9b6",
     "showTitle": false,
     "tableResultSettingsMap": {},
     "title": ""
    }
   },
   "outputs": [],
   "source": [
    "# get sample Jivi patients: top n with most number of Jivi records who also used other products\n",
    "\n",
    "n = 20\n",
    "# patients using other products\n",
    "other_products_patients = df_iu.filter(\n",
    "    (df_iu.PRD_NM.isin(['ELOCATE', 'HEMLIBRA', 'ALTUVIIIO', 'ADVATE', 'RECOMBINATE', 'NUWIQ']))\n",
    ").select('PATIENT_ID').distinct()\n",
    "\n",
    "# find the PATIENT_IDs with JIVI records and count them\n",
    "jivi_counts = df_iu.filter(\n",
    "    (df_iu.PRD_NM == 'JIVI') &\n",
    "    (df_iu.PRPHY.isNotNull())\n",
    ").join(\n",
    "    other_products_patients,\n",
    "    'PATIENT_ID'\n",
    ").groupBy('PATIENT_ID').count()\n",
    "\n",
    "# Get the top n PATIENT_IDs based on count \n",
    "top_n_patients = jivi_counts.orderBy('count', ascending=False).limit(n).select('PATIENT_ID')\n",
    "\n",
    "# get all records for these top PATIENT_IDs\n",
    "result = df_iu_wide.join(\n",
    "    top_n_patients,\n",
    "    'PATIENT_ID'\n",
    ").orderBy('PATIENT_ID', 'SHP_WK')\n",
    "\n",
    "# Remove columns with 100% null values\n",
    "non_null_columns = [col for col, dtype in result.dtypes if result.filter(F.col(col).isNotNull()).count() > 0]\n",
    "result_non_null = result.select(*non_null_columns)\n",
    "\n",
    "result_non_null.display()\n"
   ]
  },
  {
   "cell_type": "markdown",
   "metadata": {
    "application/vnd.databricks.v1+cell": {
     "cellMetadata": {
      "byteLimit": 2048000,
      "rowLimit": 10000
     },
     "inputWidgets": {},
     "nuid": "d8a7064c-addb-47e7-9656-e6d173bdcbf0",
     "showTitle": false,
     "tableResultSettingsMap": {},
     "title": ""
    }
   },
   "source": [
    "#### Patients using Jivi in 2024 and other product prior"
   ]
  },
  {
   "cell_type": "code",
   "execution_count": 0,
   "metadata": {
    "application/vnd.databricks.v1+cell": {
     "cellMetadata": {
      "byteLimit": 2048000,
      "rowLimit": 10000
     },
     "inputWidgets": {},
     "nuid": "1a6ee218-c84a-43df-96db-e312f2bd13d4",
     "showTitle": false,
     "tableResultSettingsMap": {},
     "title": ""
    }
   },
   "outputs": [],
   "source": [
    "# get sample Jivi patients: patients who started Jivi in yr and were on other products before Jivi adoption\n",
    "\n",
    "jivi_start_yr = 2024\n",
    "# find patients who had other products before JIVI\n",
    "# Create a window spec partitioned by PATIENT_ID ordered by SHP_WK\n",
    "window_spec = Window.partitionBy('PATIENT_ID').orderBy('SHP_WK')\n",
    "\n",
    "# Add a column to mark the first JIVI date for each patient\n",
    "df_with_first_jivi = df_iu.withColumn(\n",
    "    'first_jivi_date',\n",
    "    F.first(\n",
    "        F.when(F.col('PRD_NM') == 'JIVI', F.col('SHP_WK'))\n",
    "    ).over(Window.partitionBy('PATIENT_ID'))\n",
    ")\n",
    "# Find patients who had other products before their first JIVI\n",
    "eligible_patients = df_with_first_jivi.filter(\n",
    "    (F.col('SHP_WK') < F.col('first_jivi_date')) &\n",
    "    (~F.col('PRD_NM').isin(['JIVI', 'KOVALTRY', 'KOGENATE'])) &\n",
    "    (F.col('first_jivi_date').isNotNull())\n",
    ").select('PATIENT_ID').distinct()\n",
    "\n",
    "final_results = df_iu.join(\n",
    "    eligible_patients,\n",
    "    'PATIENT_ID'\n",
    ").filter(\n",
    "    (F.col('PRD_NM') == 'JIVI') &\n",
    "    (F.year('SHP_WK') == jivi_start_yr) \n",
    ").orderBy('PATIENT_ID', 'SHP_WK')\n",
    "\n",
    "# count new jivi patients\n",
    "distinct_patients = final_results.select('PATIENT_ID').distinct().count()\n",
    "print(f\"Number of distinct PATIENT_IDs in {jivi_start_yr}: {distinct_patients}\")\n",
    "\n",
    "# show rx history of new jivi patients\n",
    "patient_ids = final_results.select('PATIENT_ID').distinct()\n",
    "\n",
    "# Join with df_iu_wide to get records for these patients\n",
    "df_iu_wide_jivi_pt = df_iu_wide.join(patient_ids, 'PATIENT_ID')\n",
    "\n",
    "def clean_dataframe(df):\n",
    "    # Remove columns with 100% null values\n",
    "    non_null_columns = [col for col, dtype in df.dtypes if df.filter(F.col(col).isNotNull()).count() > 0]\n",
    "    df_non_null = df.select(*non_null_columns)\n",
    "    \n",
    "    # Fill null values with 0 for all columns except PATIENT_ID and SHP_WK\n",
    "    columns_to_fill = [col for col in df_non_null.columns if col not in ['PATIENT_ID', 'SHP_WK']]\n",
    "    for col in columns_to_fill:\n",
    "        df_non_null = df_non_null.withColumn(col, F.coalesce(F.col(col), F.lit(0)))\n",
    "    \n",
    "    # Convert decimal values to integers\n",
    "    df_non_null = df_non_null.select(\n",
    "    *[F.col(c).cast('int') if t == 'decimal(38,5)' else F.col(c) for c, t in df_non_null.dtypes]\n",
    "    )\n",
    "    \n",
    "    return df_non_null\n",
    "\n",
    "df_iu_wide_jivi_pt_clean = clean_dataframe(df_iu_wide_jivi_pt)\n",
    "df_iu_wide_jivi_pt_clean.display()"
   ]
  },
  {
   "cell_type": "markdown",
   "metadata": {
    "application/vnd.databricks.v1+cell": {
     "cellMetadata": {
      "byteLimit": 2048000,
      "rowLimit": 10000
     },
     "inputWidgets": {},
     "nuid": "0e6368cf-74a6-4595-89a5-1f1ff36cdff3",
     "showTitle": false,
     "tableResultSettingsMap": {},
     "title": ""
    }
   },
   "source": [
    "#### Get top n Jivi patients"
   ]
  },
  {
   "cell_type": "code",
   "execution_count": 0,
   "metadata": {
    "application/vnd.databricks.v1+cell": {
     "cellMetadata": {
      "byteLimit": 2048000,
      "rowLimit": 10000
     },
     "inputWidgets": {},
     "nuid": "cca5139a-c3a8-457f-a5e7-61f442be75d4",
     "showTitle": false,
     "tableResultSettingsMap": {},
     "title": ""
    }
   },
   "outputs": [],
   "source": [
    "# show top n patients who started Jivi in 2024 and had the most number of records \n",
    "n = 20\n",
    "\n",
    "# Count number of records per PATIENT_ID\n",
    "patient_counts = df_iu_wide_jivi_pt_clean.groupBy('PATIENT_ID').count().orderBy('count', ascending=False)\n",
    "\n",
    "# Get top n PATIENT_IDs\n",
    "top_n_patients = patient_counts.limit(n)\n",
    "\n",
    "# Join back with the original data to get all records for top 5 patients\n",
    "df_iu_wide_jivi_pt_top = df_iu_wide_jivi_pt_clean.join(\n",
    "    top_n_patients,\n",
    "    'PATIENT_ID'\n",
    ").orderBy('PATIENT_ID', 'SHP_WK').drop('count')\n",
    "\n",
    "# Show all records for top n patients\n",
    "print(\"\\nDetailed records for top n patients:\")\n",
    "df_iu_wide_jivi_pt_top.display(truncate=False)\n",
    "\n"
   ]
  },
  {
   "cell_type": "markdown",
   "metadata": {
    "application/vnd.databricks.v1+cell": {
     "cellMetadata": {
      "byteLimit": 2048000,
      "rowLimit": 10000
     },
     "inputWidgets": {},
     "nuid": "099c05ff-357b-4fab-8fcc-10ae9a435589",
     "showTitle": false,
     "tableResultSettingsMap": {},
     "title": ""
    }
   },
   "source": [
    "#### Explode patient Rx history to consecutive weeks"
   ]
  },
  {
   "cell_type": "code",
   "execution_count": 0,
   "metadata": {
    "application/vnd.databricks.v1+cell": {
     "cellMetadata": {
      "byteLimit": 2048000,
      "rowLimit": 10000
     },
     "inputWidgets": {},
     "nuid": "1c234516-bbff-47d9-961b-bbe8759ddab5",
     "showTitle": false,
     "tableResultSettingsMap": {},
     "title": ""
    }
   },
   "outputs": [],
   "source": [
    "# Define the date range\n",
    "start_date = \"2022-01-03\"\n",
    "end_date = \"2024-11-25\"\n",
    "\n",
    "# Create a DataFrame with all weeks in the date range\n",
    "date_range_df = spark.sql(f\"\"\"\n",
    "    SELECT explode(sequence(to_date('{start_date}'), to_date('{end_date}'), interval 1 week)) as SHP_WK\n",
    "\"\"\")\n",
    "\n",
    "# Get distinct PATIENT_IDs and cross join to get all combinations of PATIENT_ID and SHP_WK\n",
    "patient_weeks_df = df_iu_wide_jivi_pt_top.select(\"PATIENT_ID\").distinct().crossJoin(date_range_df)\n",
    "\n",
    "# Join with the original DataFrame\n",
    "result_df = patient_weeks_df.join(\n",
    "    df_iu_wide_jivi_pt_top,\n",
    "    on=[\"PATIENT_ID\", \"SHP_WK\"],\n",
    "    how=\"left\"\n",
    ").fillna(0).orderBy('PATIENT_ID', 'SHP_WK')\n",
    "\n",
    "result_df.printSchema()\n",
    "result_df.display()"
   ]
  },
  {
   "cell_type": "markdown",
   "metadata": {
    "application/vnd.databricks.v1+cell": {
     "cellMetadata": {
      "byteLimit": 2048000,
      "rowLimit": 10000
     },
     "inputWidgets": {},
     "nuid": "04ca3c17-c3a6-42cf-b668-906624a75c5a",
     "showTitle": false,
     "tableResultSettingsMap": {},
     "title": ""
    }
   },
   "source": [
    "#### Visualize"
   ]
  },
  {
   "cell_type": "markdown",
   "metadata": {
    "application/vnd.databricks.v1+cell": {
     "cellMetadata": {
      "byteLimit": 2048000,
      "rowLimit": 10000
     },
     "inputWidgets": {},
     "nuid": "3b4511bc-64a2-4f76-a147-e039f9f43363",
     "showTitle": false,
     "tableResultSettingsMap": {},
     "title": ""
    }
   },
   "source": [
    "##### One patient at a time"
   ]
  },
  {
   "cell_type": "code",
   "execution_count": 0,
   "metadata": {
    "application/vnd.databricks.v1+cell": {
     "cellMetadata": {
      "byteLimit": 2048000,
      "rowLimit": 10000
     },
     "inputWidgets": {},
     "nuid": "2010085d-0360-4401-a7f0-ae9de346ba4c",
     "showTitle": false,
     "tableResultSettingsMap": {},
     "title": ""
    }
   },
   "outputs": [],
   "source": [
    "def filter_patient_data(df, patient_id):\n",
    "    return df.filter(col(\"PATIENT_ID\") == patient_id)\n",
    "\n",
    "# Example \n",
    "patient_id_val = 'B6FFEE43-05C4-48C6-983C-D0EADD401AF5'\n",
    "df_pt = filter_patient_data(result_df, patient_id_val)\n",
    "df_pt.display()"
   ]
  },
  {
   "cell_type": "code",
   "execution_count": 0,
   "metadata": {
    "application/vnd.databricks.v1+cell": {
     "cellMetadata": {
      "byteLimit": 2048000,
      "rowLimit": 10000
     },
     "inputWidgets": {},
     "nuid": "d5665af6-f86b-47a6-8635-4010394e5e1c",
     "showTitle": false,
     "tableResultSettingsMap": {},
     "title": ""
    }
   },
   "outputs": [],
   "source": [
    "import seaborn as sns\n",
    "import matplotlib.pyplot as plt\n",
    "\n",
    "# Select only the columns that start with 'PRD_' and 'PATIENT_ID', 'SHP_WK'\n",
    "prd_columns = [col for col in df_pt.columns if col.startswith('PRD_')]\n",
    "df_pt_prd = df_pt.select(['SHP_WK'] + prd_columns)\n",
    "\n",
    "# Convert to Pandas DataFrame for plotting\n",
    "df_pt_prd_pd = df_pt_prd.toPandas()\n",
    "\n",
    "# Set 'PATIENT_ID' and 'SHP_WK' as index\n",
    "df_pt_prd_pd.set_index(['SHP_WK'], inplace=True)\n",
    "\n",
    "# Plot heatmap\n",
    "plt.figure(figsize=(20, 10))\n",
    "# sns.heatmap(df_pt_prd_pd, cmap='viridis_r', annot=False)\n",
    "sns.heatmap(df_pt_prd_pd, cmap='YlOrBr', annot=False)\n",
    "\n",
    "plt.title('Heatmap of PRD_ Columns')\n",
    "plt.show()"
   ]
  },
  {
   "cell_type": "markdown",
   "metadata": {
    "application/vnd.databricks.v1+cell": {
     "cellMetadata": {
      "byteLimit": 2048000,
      "rowLimit": 10000
     },
     "inputWidgets": {},
     "nuid": "947b01fa-7bdf-412c-a34c-b7fbaae93e4d",
     "showTitle": false,
     "tableResultSettingsMap": {},
     "title": ""
    }
   },
   "source": [
    "##### All patients"
   ]
  },
  {
   "cell_type": "code",
   "execution_count": 0,
   "metadata": {
    "application/vnd.databricks.v1+cell": {
     "cellMetadata": {
      "byteLimit": 2048000,
      "rowLimit": 10000
     },
     "inputWidgets": {},
     "nuid": "fdce19dd-d86c-4a31-b9f6-d62ad49f9942",
     "showTitle": false,
     "tableResultSettingsMap": {},
     "title": ""
    }
   },
   "outputs": [],
   "source": [
    "from pyspark.sql.functions import col\n",
    "\n",
    "# Function to generate heatmap for each patient\n",
    "def generate_heatmap(df, patient_id, pdf):\n",
    "    df_pt = df.filter(col(\"PATIENT_ID\") == patient_id)\n",
    "    if df_pt.count() == 0:\n",
    "        return\n",
    "    prd_columns = [col for col in df_pt.columns if col.startswith('PRD_')]\n",
    "    df_pt_prd = df_pt.select(['SHP_WK'] + prd_columns)\n",
    "    df_pt_prd_pd = df_pt_prd.toPandas()\n",
    "    df_pt_prd_pd.set_index(['SHP_WK'], inplace=True)\n",
    "    \n",
    "    plt.figure(figsize=(12, 8))\n",
    "    sns.heatmap(df_pt_prd_pd, cmap='YlOrBr', annot=False)\n",
    "    plt.title(f'Heatmap of PRD_ Columns for Patient {patient_id}')\n",
    "    plt.xticks(fontsize=8, rotation=45, ha='right')\n",
    "    plt.tight_layout()\n",
    "    pdf.savefig()\n",
    "    plt.close()\n",
    "\n",
    "# Create a PDF file to save the heatmaps\n",
    "with PdfPages('output_heatmaps.pdf') as pdf:\n",
    "    # Loop through each PATIENT_ID and generate heatmap\n",
    "    patient_ids = result_df.select(\"PATIENT_ID\").distinct().collect()\n",
    "    for row in patient_ids:\n",
    "        display(row)\n",
    "        generate_heatmap(result_df, row[\"PATIENT_ID\"], pdf)"
   ]
  },
  {
   "cell_type": "code",
   "execution_count": 0,
   "metadata": {
    "application/vnd.databricks.v1+cell": {
     "cellMetadata": {
      "byteLimit": 2048000,
      "rowLimit": 10000
     },
     "inputWidgets": {},
     "nuid": "50de1cbe-80de-40b0-b9c5-b4b27b1058d7",
     "showTitle": false,
     "tableResultSettingsMap": {},
     "title": ""
    }
   },
   "outputs": [],
   "source": [
    "result_df = df_iu_wide_jivi_pt_top\n",
    "patient_ids = result_df.select(\"PATIENT_ID\").distinct().collect()\n",
    "for row in patient_ids:\n",
    "    display(row)"
   ]
  },
  {
   "cell_type": "markdown",
   "metadata": {
    "application/vnd.databricks.v1+cell": {
     "cellMetadata": {
      "byteLimit": 2048000,
      "rowLimit": 10000
     },
     "inputWidgets": {},
     "nuid": "30370ea2-1421-4db0-be83-3c6ea1c8c182",
     "showTitle": false,
     "tableResultSettingsMap": {},
     "title": ""
    }
   },
   "source": [
    "### Patient Records - Altuviio Patients"
   ]
  },
  {
   "cell_type": "code",
   "execution_count": 0,
   "metadata": {
    "application/vnd.databricks.v1+cell": {
     "cellMetadata": {
      "byteLimit": 2048000,
      "rowLimit": 10000
     },
     "inputWidgets": {},
     "nuid": "dd64812a-6887-45ca-9335-54d2ecef7aa8",
     "showTitle": false,
     "tableResultSettingsMap": {},
     "title": ""
    }
   },
   "outputs": [],
   "source": [
    "# get sample ALTUVIIO patients: top n with most number of ALTUVIIO records\n",
    "\n",
    "n=20\n",
    "top_n_patients_with_rank = df_iu.filter(\n",
    "    (F.col(\"PRD_NM\") == \"ALTUVIIIO\") & \n",
    "    (F.col(\"PRPHY\").isNotNull())\n",
    ").groupBy(\"PATIENT_ID\"\n",
    ").agg(\n",
    "    F.count(\"*\").alias(\"record_count\")\n",
    ").withColumn(\n",
    "    \"rank\", \n",
    "    F.dense_rank().over(Window.orderBy(F.col(\"record_count\").desc()))\n",
    ").filter(\n",
    "    F.col(\"rank\") <= n\n",
    ")\n",
    "\n",
    "result_df_with_rank = df_iu.join(\n",
    "    top_n_patients_with_rank, \n",
    "    on=\"PATIENT_ID\",\n",
    "    how=\"inner\"\n",
    ").orderBy(\n",
    "    \"rank\", \n",
    "    \"SHP_WK\"\n",
    ")\n",
    "# result_df_with_rank.display()\n",
    "# show top ALTU patients in wide format\n",
    "df_iu_wide_alt = df_iu_wide.join(\n",
    "    result_df_with_rank.select(\"PATIENT_ID\").distinct(),\n",
    "    on=\"PATIENT_ID\",\n",
    "    how=\"inner\"\n",
    ").orderBy(\n",
    "    \"PATIENT_ID\",\n",
    "    \"SHP_WK\"\n",
    ")\n",
    "\n",
    "# Remove columns with 100% null values\n",
    "non_null_columns = [col for col, dtype in df_iu_wide_alt.dtypes if df_iu_wide_alt.filter(F.col(col).isNotNull()).count() > 0]\n",
    "df_iu_wide_alt_non_null = df_iu_wide_alt.select(*non_null_columns)\n",
    "\n",
    "df_iu_wide_alt_non_null.display()\n",
    "\n"
   ]
  }
 ],
 "metadata": {
  "application/vnd.databricks.v1+notebook": {
   "computePreferences": null,
   "dashboards": [],
   "environmentMetadata": {
    "base_environment": "",
    "environment_version": "2"
   },
   "language": "python",
   "notebookMetadata": {
    "pythonIndentUnit": 2
   },
   "notebookName": "eda_01_patient_features_vicky",
   "widgets": {}
  },
  "language_info": {
   "name": "python"
  }
 },
 "nbformat": 4,
 "nbformat_minor": 0
}
