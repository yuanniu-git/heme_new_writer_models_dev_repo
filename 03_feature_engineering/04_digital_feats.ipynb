{
 "cells": [
  {
   "cell_type": "code",
   "execution_count": 0,
   "metadata": {
    "application/vnd.databricks.v1+cell": {
     "cellMetadata": {
      "byteLimit": 2048000,
      "rowLimit": 10000
     },
     "inputWidgets": {},
     "nuid": "98e3119a-00a6-404a-bbb3-8404b1fe3398",
     "showTitle": false,
     "tableResultSettingsMap": {},
     "title": ""
    }
   },
   "outputs": [],
   "source": [
    "%run \"../00_config/set-up\""
   ]
  },
  {
   "cell_type": "code",
   "execution_count": 0,
   "metadata": {
    "application/vnd.databricks.v1+cell": {
     "cellMetadata": {
      "byteLimit": 2048000,
      "rowLimit": 10000
     },
     "inputWidgets": {},
     "nuid": "f0e9d4fd-29ad-4caf-b811-35d054edaa85",
     "showTitle": false,
     "tableResultSettingsMap": {},
     "title": ""
    }
   },
   "outputs": [],
   "source": [
    "overlap_hcp_hco_reference = spark.sql(\"SELECT * FROM jivi_new_writer_model.overlap_hcp_hco_reference\")"
   ]
  },
  {
   "cell_type": "code",
   "execution_count": 0,
   "metadata": {
    "application/vnd.databricks.v1+cell": {
     "cellMetadata": {
      "byteLimit": 2048000,
      "rowLimit": 10000
     },
     "inputWidgets": {},
     "nuid": "c328092e-bce4-4234-aa87-227a0b8169e4",
     "showTitle": false,
     "tableResultSettingsMap": {},
     "title": ""
    }
   },
   "outputs": [],
   "source": [
    "overlap_raw_data = spark.sql(\"SELECT * FROM heme_data.overlap_preprocessed\")"
   ]
  },
  {
   "cell_type": "code",
   "execution_count": 0,
   "metadata": {
    "application/vnd.databricks.v1+cell": {
     "cellMetadata": {
      "byteLimit": 2048000,
      "rowLimit": 10000
     },
     "inputWidgets": {},
     "nuid": "370d4b0a-f6a3-4907-94ce-7a31ff2304b4",
     "showTitle": false,
     "tableResultSettingsMap": {},
     "title": ""
    }
   },
   "outputs": [],
   "source": [
    "sdf = get_data_snowflake(\n",
    "f\"\"\"\n",
    "  SELECT * FROM CPH_DB_PROD.ANALYTICS_V2.ANLT_BASE_FACT_NONPERSONAL_PROMOTIONS\n",
    "  WHERE PROD_BRAND_NM IN ('JIVI','KOVALTRY','KOGENATE FS')\n",
    "\"\"\"\n",
    ")\n",
    "print(sdf.count(),len(sdf.columns))\n",
    "sdf.printSchema()"
   ]
  },
  {
   "cell_type": "code",
   "execution_count": 0,
   "metadata": {
    "application/vnd.databricks.v1+cell": {
     "cellMetadata": {
      "byteLimit": 2048000,
      "rowLimit": 10000
     },
     "inputWidgets": {},
     "nuid": "d8fdd2ee-0318-4440-83f5-ae42a480fbaa",
     "showTitle": false,
     "tableResultSettingsMap": {},
     "title": ""
    }
   },
   "outputs": [],
   "source": [
    "sdf_digital = sdf.select('BAYER_HCP_ID','DATE_ID','PROD_BRAND_NM','CHNL_ID','XPSRE_CNT','LIGHT_ENGMNT_CNT','DEEP_ENGMNT_CNT','TOTL_ENGMNT_CNT')"
   ]
  },
  {
   "cell_type": "code",
   "execution_count": 0,
   "metadata": {
    "application/vnd.databricks.v1+cell": {
     "cellMetadata": {
      "byteLimit": 2048000,
      "rowLimit": 10000
     },
     "inputWidgets": {},
     "nuid": "d2343760-1ba1-4cf9-8f1f-375fdcc2e7ec",
     "showTitle": false,
     "tableResultSettingsMap": {},
     "title": ""
    }
   },
   "outputs": [],
   "source": [
    "print(sdf_digital.count())\n",
    "sdf_digital.display()"
   ]
  },
  {
   "cell_type": "code",
   "execution_count": 0,
   "metadata": {
    "application/vnd.databricks.v1+cell": {
     "cellMetadata": {
      "byteLimit": 2048000,
      "rowLimit": 10000
     },
     "inputWidgets": {},
     "nuid": "6f6985ea-8d11-4879-8677-e672d3f3b450",
     "showTitle": false,
     "tableResultSettingsMap": {},
     "title": ""
    }
   },
   "outputs": [],
   "source": [
    "from pyspark.sql import functions as F\n",
    "\n",
    "# Print the shape of the DataFrame\n",
    "print((sdf_digital.count(), len(sdf_digital.columns)))\n",
    "# Drop rows with null values in 'BAYER_HCP_ID'\n",
    "sdf_digital = sdf_digital.na.drop(subset=['BAYER_HCP_ID'])\n",
    "# Filter out rows where 'BAYER_HCP_ID' is -1 or '-1'\n",
    "sdf_digital = sdf_digital.filter((sdf_digital['BAYER_HCP_ID'] != -1) | (sdf_digital['BAYER_HCP_ID'] != '-1'))\n",
    "# Print the shape of the DataFrame after filtering\n",
    "print((sdf_digital.count(), len(sdf_digital.columns)))\n",
    "# Show the first few rows of the DataFrame\n",
    "sdf_digital.show()"
   ]
  },
  {
   "cell_type": "code",
   "execution_count": 0,
   "metadata": {
    "application/vnd.databricks.v1+cell": {
     "cellMetadata": {
      "byteLimit": 2048000,
      "rowLimit": 10000
     },
     "inputWidgets": {},
     "nuid": "347e46ed-f06e-44ed-a71e-f97cde7224a0",
     "showTitle": false,
     "tableResultSettingsMap": {},
     "title": ""
    }
   },
   "outputs": [],
   "source": [
    "overlap_hcp_hco_reference_pd = overlap_hcp_hco_reference.toPandas()"
   ]
  },
  {
   "cell_type": "code",
   "execution_count": 0,
   "metadata": {
    "application/vnd.databricks.v1+cell": {
     "cellMetadata": {
      "byteLimit": 2048000,
      "rowLimit": 10000
     },
     "inputWidgets": {},
     "nuid": "204634a2-a010-4f6a-a547-c1ecff0edd1b",
     "showTitle": false,
     "tableResultSettingsMap": {},
     "title": ""
    }
   },
   "outputs": [],
   "source": [
    "# Get unique BH_ID values from overlap_hcp_hco_reference and convert to a list\n",
    "hcp_list = overlap_hcp_hco_reference.select('BH_ID').distinct().rdd.flatMap(lambda x: x).collect()\n",
    "# Filter df_digital where BAYER_HCP_ID is in hcp_list\n",
    "sdf_digital = sdf_digital.filter(sdf_digital['BAYER_HCP_ID'].isin(hcp_list))\n",
    "# Transform DATE_ID to the desired format\n",
    "sdf_digital = sdf_digital.withColumn('DATE_ID', \n",
    "                                      F.concat(F.substring('DATE_ID', 1, 4), \n",
    "                                                F.lit('-'), \n",
    "                                                F.substring('DATE_ID', 5, 2), \n",
    "                                                F.lit('-'), \n",
    "                                                F.substring('DATE_ID', 7, 2)))\n",
    "# Convert DATE_ID to DateType\n",
    "sdf_digital = sdf_digital.withColumn('DATE_ID', F.to_date('DATE_ID', 'yyyy-MM-dd'))\n",
    "# Print the shape of the DataFrame\n",
    "print((sdf_digital.count(), len(sdf_digital.columns)))\n",
    "# Show the first few rows of the DataFrame\n",
    "sdf_digital.display()"
   ]
  },
  {
   "cell_type": "code",
   "execution_count": 0,
   "metadata": {
    "application/vnd.databricks.v1+cell": {
     "cellMetadata": {
      "byteLimit": 2048000,
      "rowLimit": 10000
     },
     "inputWidgets": {},
     "nuid": "90df8f41-bf75-4df0-be7d-91f7e2c2c87d",
     "showTitle": false,
     "tableResultSettingsMap": {},
     "title": ""
    }
   },
   "outputs": [],
   "source": [
    "sdf_digital = sdf_digital.withColumn(\"MONTH_ID\",F.date_format(\"DATE_ID\", \"yyyy-MM\"))"
   ]
  },
  {
   "cell_type": "code",
   "execution_count": 0,
   "metadata": {
    "application/vnd.databricks.v1+cell": {
     "cellMetadata": {
      "byteLimit": 2048000,
      "rowLimit": 10000
     },
     "inputWidgets": {},
     "nuid": "cf31e28b-1795-4281-a69a-c3799efc91ec",
     "showTitle": false,
     "tableResultSettingsMap": {},
     "title": ""
    }
   },
   "outputs": [],
   "source": [
    "from pyspark.sql.functions import col, concat, lit"
   ]
  },
  {
   "cell_type": "code",
   "execution_count": 0,
   "metadata": {
    "application/vnd.databricks.v1+cell": {
     "cellMetadata": {
      "byteLimit": 2048000,
      "rowLimit": 10000
     },
     "inputWidgets": {},
     "nuid": "f84c1f81-7113-4462-89f6-08f3186e9773",
     "showTitle": false,
     "tableResultSettingsMap": {},
     "title": ""
    }
   },
   "outputs": [],
   "source": [
    "\n",
    "sdf_digital = (sdf_digital.filter(col(\"PROD_BRAND_NM\") == 'JIVI')\n",
    "    .groupBy(['BAYER_HCP_ID', 'MONTH_ID', 'CHNL_ID']).agg(\n",
    "    F.sum('XPSRE_CNT').alias('XPSRE_CNT'),\n",
    "    F.sum('LIGHT_ENGMNT_CNT').alias('LIGHT_ENGMNT_CNT'),\n",
    "    F.sum('DEEP_ENGMNT_CNT').alias('DEEP_ENGMNT_CNT'),\n",
    "    F.sum('TOTL_ENGMNT_CNT').alias('TOTL_ENGMNT_CNT')\n",
    "))\n",
    "\n",
    "# Print the shape of the DataFrame\n",
    "print((sdf_digital.count(), len(sdf_digital.columns)))\n",
    "\n",
    "# Show the first few rows of the DataFrame\n",
    "sdf_digital.show()"
   ]
  },
  {
   "cell_type": "code",
   "execution_count": 0,
   "metadata": {
    "application/vnd.databricks.v1+cell": {
     "cellMetadata": {
      "byteLimit": 2048000,
      "rowLimit": 10000
     },
     "inputWidgets": {},
     "nuid": "819c28c0-beb9-4a8d-a73f-43f98deac75a",
     "showTitle": false,
     "tableResultSettingsMap": {},
     "title": ""
    }
   },
   "outputs": [],
   "source": [
    "sdf_digital = sdf_digital.withColumnRenamed(\"BAYER_HCP_ID\",'BH_ID')"
   ]
  },
  {
   "cell_type": "code",
   "execution_count": 0,
   "metadata": {
    "application/vnd.databricks.v1+cell": {
     "cellMetadata": {
      "byteLimit": 2048000,
      "rowLimit": 10000
     },
     "inputWidgets": {},
     "nuid": "63afdf88-3ed9-4ca7-9ba6-d624916a98b9",
     "showTitle": false,
     "tableResultSettingsMap": {},
     "title": ""
    }
   },
   "outputs": [],
   "source": [
    "unique_month = overlap_raw_data.select(col(\"SHP_YR_MO\").alias(\"COHORT_MONTH\")).filter(col(\"COHORT_MONTH\")>='2023-01').distinct()\n",
    "hcp_month_pair = (sdf_digital.select(\"BH_ID\").distinct()\n",
    "                  .crossJoin(unique_month)\n",
    "                  .orderBy('BH_ID','COHORT_MONTH'))"
   ]
  },
  {
   "cell_type": "code",
   "execution_count": 0,
   "metadata": {
    "application/vnd.databricks.v1+cell": {
     "cellMetadata": {
      "byteLimit": 2048000,
      "rowLimit": 10000
     },
     "inputWidgets": {},
     "nuid": "d9e28db4-5126-48e3-ac5f-e99e3501d1ae",
     "showTitle": false,
     "tableResultSettingsMap": {},
     "title": ""
    }
   },
   "outputs": [],
   "source": [
    "sdf_digital_explode = (\n",
    "  hcp_month_pair.join(sdf_digital, on = ['BH_ID'], how = 'left')\n",
    "  .orderBy('BH_ID','COHORT_MONTH')\n",
    "  .fillna(0)\n",
    "  )"
   ]
  },
  {
   "cell_type": "code",
   "execution_count": 0,
   "metadata": {
    "application/vnd.databricks.v1+cell": {
     "cellMetadata": {
      "byteLimit": 2048000,
      "rowLimit": 10000
     },
     "inputWidgets": {},
     "nuid": "50745153-b595-4da6-b43b-8982aafd89a5",
     "showTitle": false,
     "tableResultSettingsMap": {},
     "title": ""
    }
   },
   "outputs": [],
   "source": [
    "sdf_digital_explode.display()"
   ]
  },
  {
   "cell_type": "code",
   "execution_count": 0,
   "metadata": {
    "application/vnd.databricks.v1+cell": {
     "cellMetadata": {
      "byteLimit": 2048000,
      "rowLimit": 10000
     },
     "inputWidgets": {},
     "nuid": "dff4d73e-f283-4b2a-a700-49311d48d5c2",
     "showTitle": false,
     "tableResultSettingsMap": {},
     "title": ""
    }
   },
   "outputs": [],
   "source": [
    "sdf_digital_explode = (sdf_digital_explode.withColumn(\"month_diff\",F.months_between(F.col(\"COHORT_MONTH\"), F.col(\"MONTH_ID\")))\n",
    "                                         .withColumn(\"ROLLING_WIN\", F.when((F.col(\"month_diff\")<=1)&(F.col(\"month_diff\")>0), 'LAST_1M')\n",
    "                                                                    .when((F.col(\"month_diff\")<=3)&(F.col(\"month_diff\")>0), 'LAST_3M')\n",
    "                                                                     .when((col(\"month_diff\")<=6)&(col(\"month_diff\")>0), 'LAST_6M')\n",
    "                                                                     .when((col(\"month_diff\")<=9)&(col(\"month_diff\")>0), 'LAST_9M')\n",
    "                                                                     .when((col(\"month_diff\")<=12)&(col(\"month_diff\")>0), 'LAST_12M').otherwise('NA') ))"
   ]
  },
  {
   "cell_type": "code",
   "execution_count": 0,
   "metadata": {
    "application/vnd.databricks.v1+cell": {
     "cellMetadata": {
      "byteLimit": 2048000,
      "rowLimit": 10000
     },
     "inputWidgets": {},
     "nuid": "c540451b-1d5d-4c0a-a23c-49d5bcfdb423",
     "showTitle": false,
     "tableResultSettingsMap": {},
     "title": ""
    }
   },
   "outputs": [],
   "source": [
    "sdf_digital_explode = (sdf_digital_explode\n",
    "                                          .filter(col(\"ROLLING_WIN\")!='NA')\n",
    "                                          .groupby(\"BH_ID\", \"COHORT_MONTH\", \"CHNL_ID\",'ROLLING_WIN')\n",
    "                                          .agg(sum(\"XPSRE_CNT\").alias('XPSRE_CNT'),\n",
    "                                               sum(\"LIGHT_ENGMNT_CNT\").alias('LIGHT_ENGMNT_CNT'),\n",
    "                                               sum(\"DEEP_ENGMNT_CNT\").alias('DEEP_ENGMNT_CNT'),\n",
    "                                               sum(\"TOTL_ENGMNT_CNT\").alias('TOTL_ENGMNT_CNT'))\n",
    "                  .orderBy('BH_ID','COHORT_MONTH'))"
   ]
  },
  {
   "cell_type": "code",
   "execution_count": 0,
   "metadata": {
    "application/vnd.databricks.v1+cell": {
     "cellMetadata": {
      "byteLimit": 2048000,
      "rowLimit": 10000
     },
     "inputWidgets": {},
     "nuid": "e1e5b555-af3b-4834-9f25-dad44ddacf02",
     "showTitle": false,
     "tableResultSettingsMap": {},
     "title": ""
    }
   },
   "outputs": [],
   "source": [
    "def long_to_wide(df, group_cols, pivot_col, agg_col, agg_func):\n",
    "    \"\"\"\n",
    "    group_cols: groupby columns\n",
    "\n",
    "    \"\"\"\n",
    "    df_pivot = (df.groupBy(group_cols)\n",
    "                  .pivot(pivot_col)\n",
    "                  .agg({agg_col: agg_func})).cache()\n",
    "    # Rename the columns to add the category names to column names\n",
    "\n",
    "    renamed_columns = [col(c).alias(f\"{agg_col}_{c}\") if c not in group_cols else col(c)\n",
    "                       for c in df_pivot.columns]\n",
    "\n",
    "    df_pivot = df_pivot.select(\n",
    "    *renamed_columns).cache()\n",
    "\n",
    "   \n",
    "    return df_pivot"
   ]
  },
  {
   "cell_type": "code",
   "execution_count": 0,
   "metadata": {
    "application/vnd.databricks.v1+cell": {
     "cellMetadata": {
      "byteLimit": 2048000,
      "rowLimit": 10000
     },
     "inputWidgets": {},
     "nuid": "e5e6aa3b-c05e-4f3b-87e7-5adbdba8c300",
     "showTitle": false,
     "tableResultSettingsMap": {},
     "title": ""
    }
   },
   "outputs": [],
   "source": [
    "sdf_digital_explode = sdf_digital_explode.withColumn(\n",
    "    'CHNL_ID',\n",
    "    F.when(sdf_digital_explode['CHNL_ID'] == 'HQ Email', 'HQ_EMAIL')\n",
    "     .when(sdf_digital_explode['CHNL_ID'] == 'iRep Email', 'IREP_EMAIL')\n",
    "     .otherwise(sdf_digital_explode['CHNL_ID'])  # Keep original value if no match\n",
    ")"
   ]
  },
  {
   "cell_type": "code",
   "execution_count": 0,
   "metadata": {
    "application/vnd.databricks.v1+cell": {
     "cellMetadata": {
      "byteLimit": 2048000,
      "rowLimit": 10000
     },
     "inputWidgets": {},
     "nuid": "a2a6905e-8b10-437c-8b0d-7d90cc532830",
     "showTitle": false,
     "tableResultSettingsMap": {},
     "title": ""
    }
   },
   "outputs": [],
   "source": [
    "sdf_digital_explode = sdf_digital_explode.filter(col(\"CHNL_ID\").isin(['HQ_EMAIL','IREP_EMAIL','BANNER']))"
   ]
  },
  {
   "cell_type": "code",
   "execution_count": 0,
   "metadata": {
    "application/vnd.databricks.v1+cell": {
     "cellMetadata": {
      "byteLimit": 2048000,
      "rowLimit": 10000
     },
     "inputWidgets": {},
     "nuid": "4a0c7b07-1265-444d-86c5-a5927181fb5a",
     "showTitle": false,
     "tableResultSettingsMap": {},
     "title": ""
    }
   },
   "outputs": [],
   "source": [
    "sdf_digital_explode = sdf_digital_explode.withColumn(\"CHNL_ID_WIN\",concat(col(\"CHNL_ID\"), lit(\"_\"), col(\"ROLLING_WIN\")))"
   ]
  },
  {
   "cell_type": "code",
   "execution_count": 0,
   "metadata": {
    "application/vnd.databricks.v1+cell": {
     "cellMetadata": {
      "byteLimit": 2048000,
      "rowLimit": 10000
     },
     "inputWidgets": {},
     "nuid": "fb018eba-5db7-46dc-9140-27fcecde7746",
     "showTitle": false,
     "tableResultSettingsMap": {},
     "title": ""
    }
   },
   "outputs": [],
   "source": [
    "sdf_digital_explode.select(col(\"CHNL_ID\")).distinct().show()"
   ]
  },
  {
   "cell_type": "code",
   "execution_count": 0,
   "metadata": {
    "application/vnd.databricks.v1+cell": {
     "cellMetadata": {
      "byteLimit": 2048000,
      "rowLimit": 10000
     },
     "inputWidgets": {},
     "nuid": "79289cd0-7440-4624-95b6-2e4a5186b79e",
     "showTitle": false,
     "tableResultSettingsMap": {},
     "title": ""
    }
   },
   "outputs": [],
   "source": [
    "display(sdf_digital_explode.limit(20))"
   ]
  },
  {
   "cell_type": "code",
   "execution_count": 0,
   "metadata": {
    "application/vnd.databricks.v1+cell": {
     "cellMetadata": {
      "byteLimit": 2048000,
      "rowLimit": 10000
     },
     "inputWidgets": {},
     "nuid": "ccc4f2b1-db4e-4463-b354-a1fddbfb3da2",
     "showTitle": false,
     "tableResultSettingsMap": {},
     "title": ""
    }
   },
   "outputs": [],
   "source": [
    "sdf_digital_explode.columns"
   ]
  },
  {
   "cell_type": "code",
   "execution_count": 0,
   "metadata": {
    "application/vnd.databricks.v1+cell": {
     "cellMetadata": {
      "byteLimit": 2048000,
      "rowLimit": 10000
     },
     "inputWidgets": {},
     "nuid": "9f018270-cfbf-43e7-9447-0672cbab151d",
     "showTitle": false,
     "tableResultSettingsMap": {},
     "title": ""
    }
   },
   "outputs": [],
   "source": [
    "## change to wide format\n",
    "group_cols = [\"BH_ID\", \"COHORT_MONTH\"]\n",
    "pivot_col = \"CHNL_ID_WIN\"\n",
    "sdf_digital_explode_wide = sdf_digital_explode.groupBy(group_cols) \\\n",
    "    .pivot(pivot_col) \\\n",
    "    .agg(\n",
    "        F.first(\"XPSRE_CNT\").alias(\"XPSRE_CNT\"),\n",
    "        F.first(\"LIGHT_ENGMNT_CNT\").alias(\"LIGHT_ENGMNT_CNT\"),\n",
    "        F.first(\"DEEP_ENGMNT_CNT\").alias(\"DEEP_ENGMNT_CNT\"),\n",
    "        F.first(\"TOTL_ENGMNT_CNT\").alias(\"TOTL_ENGMNT_CNT\")\n",
    "    )\n",
    "sdf_digital_explode_wide = sdf_digital_explode_wide.fillna(0)"
   ]
  },
  {
   "cell_type": "code",
   "execution_count": 0,
   "metadata": {
    "application/vnd.databricks.v1+cell": {
     "cellMetadata": {
      "byteLimit": 2048000,
      "rowLimit": 10000
     },
     "inputWidgets": {},
     "nuid": "0effdb7b-f018-4c3a-aacd-fe44d88afe82",
     "showTitle": false,
     "tableResultSettingsMap": {},
     "title": ""
    }
   },
   "outputs": [],
   "source": [
    "display(sdf_digital_explode_wide)"
   ]
  },
  {
   "cell_type": "code",
   "execution_count": 0,
   "metadata": {
    "application/vnd.databricks.v1+cell": {
     "cellMetadata": {
      "byteLimit": 2048000,
      "rowLimit": 10000
     },
     "inputWidgets": {},
     "nuid": "c9a9fe2e-cd21-4ea9-819c-652f8f903a4a",
     "showTitle": false,
     "tableResultSettingsMap": {},
     "title": ""
    }
   },
   "outputs": [],
   "source": [
    "sdf_digital_explode_wide.columns[2:]"
   ]
  },
  {
   "cell_type": "code",
   "execution_count": 0,
   "metadata": {
    "application/vnd.databricks.v1+cell": {
     "cellMetadata": {
      "byteLimit": 2048000,
      "rowLimit": 10000
     },
     "inputWidgets": {},
     "nuid": "260df8cf-c162-438b-b57b-ea7776b9b291",
     "showTitle": false,
     "tableResultSettingsMap": {},
     "title": ""
    }
   },
   "outputs": [],
   "source": [
    "result = sdf_digital_explode_wide.groupBy('COHORT_MONTH').agg(\n",
    "    *[F.count(F.col(c)).alias(f'{c}_count') for c in sdf_digital_explode_wide.columns[2:]] +\n",
    "    [F.mean(F.col(c)).alias(f'{c}_mean') for c in sdf_digital_explode_wide.columns[2:]] +\n",
    "    [F.stddev(F.col(c)).alias(f'{c}_stddev') for c in sdf_digital_explode_wide.columns[2:]] +\n",
    "    [F.min(F.col(c)).alias(f'{c}_min') for c in sdf_digital_explode_wide.columns[2:]] +\n",
    "    [F.max(F.col(c)).alias(f'{c}_max') for c in sdf_digital_explode_wide.columns[2:]] +\n",
    "    [F.sum(F.col(c)).alias(f'{c}_sum') for c in sdf_digital_explode_wide.columns[2:]]\n",
    ")\n",
    "\n",
    "# Show the result\n"
   ]
  },
  {
   "cell_type": "code",
   "execution_count": 0,
   "metadata": {
    "application/vnd.databricks.v1+cell": {
     "cellMetadata": {
      "byteLimit": 2048000,
      "rowLimit": 10000
     },
     "inputWidgets": {},
     "nuid": "03d047df-3ed1-47e1-a81e-2171cbdfdf4f",
     "showTitle": false,
     "tableResultSettingsMap": {},
     "title": ""
    }
   },
   "outputs": [],
   "source": [
    "result.display()"
   ]
  },
  {
   "cell_type": "code",
   "execution_count": 0,
   "metadata": {
    "application/vnd.databricks.v1+cell": {
     "cellMetadata": {
      "byteLimit": 2048000,
      "rowLimit": 10000
     },
     "inputWidgets": {},
     "nuid": "198bd132-1a6e-44fc-be7a-4a0e57e5f949",
     "showTitle": false,
     "tableResultSettingsMap": {},
     "title": ""
    }
   },
   "outputs": [],
   "source": [
    "result_df = result.toPandas()"
   ]
  },
  {
   "cell_type": "code",
   "execution_count": 0,
   "metadata": {
    "application/vnd.databricks.v1+cell": {
     "cellMetadata": {
      "byteLimit": 2048000,
      "rowLimit": 10000
     },
     "inputWidgets": {},
     "nuid": "93a232a0-cb96-4b98-9246-80d92d59a21c",
     "showTitle": false,
     "tableResultSettingsMap": {},
     "title": ""
    }
   },
   "outputs": [],
   "source": [
    "result_df.columns"
   ]
  },
  {
   "cell_type": "code",
   "execution_count": 0,
   "metadata": {
    "application/vnd.databricks.v1+cell": {
     "cellMetadata": {
      "byteLimit": 2048000,
      "rowLimit": 10000
     },
     "inputWidgets": {},
     "nuid": "3a703ff1-037e-4057-95d1-c1f54afc08d1",
     "showTitle": false,
     "tableResultSettingsMap": {},
     "title": ""
    }
   },
   "outputs": [],
   "source": [
    "# Plotting\n",
    "plt.figure(figsize=(10, 6))\n",
    "\n",
    "for col in result_df.columns[1:]:\n",
    "  for index, row in result_df.iterrows():\n",
    "      plt.hist(row[col], bins=30, alpha=0.5, label=str(row['COHORT_MONTH']))\n",
    "\n",
    "plt.title('Histogram by Group')\n",
    "plt.xlabel('Value')\n",
    "plt.ylabel('Frequency')\n",
    "plt.legend(title='COHORT_MONTH')\n",
    "plt.show()"
   ]
  },
  {
   "cell_type": "code",
   "execution_count": 0,
   "metadata": {
    "application/vnd.databricks.v1+cell": {
     "cellMetadata": {},
     "inputWidgets": {},
     "nuid": "f1247043-a988-4905-b5bf-9e9a14561897",
     "showTitle": false,
     "tableResultSettingsMap": {},
     "title": ""
    }
   },
   "outputs": [],
   "source": [
    "distribution by month"
   ]
  },
  {
   "cell_type": "code",
   "execution_count": 0,
   "metadata": {
    "application/vnd.databricks.v1+cell": {
     "cellMetadata": {
      "byteLimit": 2048000,
      "rowLimit": 10000
     },
     "inputWidgets": {},
     "nuid": "01fc663b-0215-488e-9e44-6253abb02632",
     "showTitle": false,
     "tableResultSettingsMap": {},
     "title": ""
    }
   },
   "outputs": [],
   "source": [
    "sdf_digital_explode_wide.columns"
   ]
  },
  {
   "cell_type": "code",
   "execution_count": 0,
   "metadata": {
    "application/vnd.databricks.v1+cell": {
     "cellMetadata": {
      "byteLimit": 2048000,
      "rowLimit": 10000
     },
     "inputWidgets": {},
     "nuid": "d70de0a5-d24e-4d33-838b-137741d80dbf",
     "showTitle": false,
     "tableResultSettingsMap": {},
     "title": ""
    }
   },
   "outputs": [],
   "source": [
    "# saving the hcp monthly features to the Hivestore\n",
    "save_sdf(sdf_digital_explode_wide, 'jivi_new_writer_model', 'hcp_monthly_digital_features')"
   ]
  },
  {
   "cell_type": "code",
   "execution_count": 0,
   "metadata": {
    "application/vnd.databricks.v1+cell": {
     "cellMetadata": {
      "byteLimit": 2048000,
      "rowLimit": 10000
     },
     "inputWidgets": {},
     "nuid": "71b3521b-268c-4652-b42a-7678a6da91f6",
     "showTitle": false,
     "tableResultSettingsMap": {},
     "title": ""
    }
   },
   "outputs": [],
   "source": [
    "df_digital = df_digital.groupby(['BAYER_HCP_ID','DATE_ID','CHNL_ID']).agg('sum')[['XPSRE_CNT','LIGHT_ENGMNT_CNT','DEEP_ENGMNT_CNT','TOTL_ENGMNT_CNT']].reset_index()\n",
    "print(df_digital.shape)\n",
    "df_digital.head()"
   ]
  },
  {
   "cell_type": "code",
   "execution_count": 0,
   "metadata": {
    "application/vnd.databricks.v1+cell": {
     "cellMetadata": {},
     "inputWidgets": {},
     "nuid": "9fc7db5a-d904-4129-8acf-57186e573c84",
     "showTitle": false,
     "tableResultSettingsMap": {},
     "title": ""
    }
   },
   "outputs": [],
   "source": [
    "df_digital_merged = df_digital.merge(df,left_on='BAYER_HCP_ID',right_on='BH_ID',how='right')\n",
    "print(df_digital.shape)\n",
    "print(df.shape)\n",
    "print(df_digital_merged.shape)\n",
    "df_digital_merged.head()"
   ]
  }
 ],
 "metadata": {
  "application/vnd.databricks.v1+notebook": {
   "computePreferences": null,
   "dashboards": [],
   "environmentMetadata": {
    "base_environment": "",
    "environment_version": "2"
   },
   "language": "python",
   "notebookMetadata": {
    "pythonIndentUnit": 2
   },
   "notebookName": "04_digital_feats",
   "widgets": {}
  },
  "language_info": {
   "name": "python"
  }
 },
 "nbformat": 4,
 "nbformat_minor": 0
}
