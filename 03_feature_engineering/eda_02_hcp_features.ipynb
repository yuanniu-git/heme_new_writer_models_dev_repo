{
 "cells": [
  {
   "cell_type": "code",
   "execution_count": 0,
   "metadata": {
    "application/vnd.databricks.v1+cell": {
     "cellMetadata": {
      "byteLimit": 2048000,
      "rowLimit": 10000
     },
     "inputWidgets": {},
     "nuid": "523d8ba2-6fc0-4977-a300-77d08baedd1f",
     "showTitle": false,
     "tableResultSettingsMap": {},
     "title": ""
    }
   },
   "outputs": [],
   "source": [
    "%run \"../00_config/set-up\""
   ]
  },
  {
   "cell_type": "markdown",
   "metadata": {
    "application/vnd.databricks.v1+cell": {
     "cellMetadata": {
      "byteLimit": 2048000,
      "rowLimit": 10000
     },
     "inputWidgets": {},
     "nuid": "c10a8d28-00ca-43a1-b772-01ce7a652515",
     "showTitle": false,
     "tableResultSettingsMap": {},
     "title": ""
    }
   },
   "source": [
    "### Read Data"
   ]
  },
  {
   "cell_type": "code",
   "execution_count": 0,
   "metadata": {
    "application/vnd.databricks.v1+cell": {
     "cellMetadata": {
      "byteLimit": 2048000,
      "rowLimit": 10000
     },
     "inputWidgets": {},
     "nuid": "16470f5f-6ea0-4d97-b760-a495b42bb67f",
     "showTitle": false,
     "tableResultSettingsMap": {},
     "title": ""
    }
   },
   "outputs": [],
   "source": [
    "df = spark.sql(\"SELECT * FROM heme_data.overlap_preprocessed\")\n",
    "print('Row count: ', df.count(), 'Column Count: ', len(df.columns))\n",
    "df.printSchema()"
   ]
  },
  {
   "cell_type": "markdown",
   "metadata": {
    "application/vnd.databricks.v1+cell": {
     "cellMetadata": {
      "byteLimit": 2048000,
      "rowLimit": 10000
     },
     "inputWidgets": {},
     "nuid": "3a2c32cc-5357-4c60-af04-34bcfdbc0599",
     "showTitle": false,
     "tableResultSettingsMap": {},
     "title": ""
    }
   },
   "source": [
    "### Diagnostics "
   ]
  },
  {
   "cell_type": "code",
   "execution_count": 0,
   "metadata": {
    "application/vnd.databricks.v1+cell": {
     "cellMetadata": {
      "byteLimit": 2048000,
      "rowLimit": 10000
     },
     "inputWidgets": {},
     "nuid": "ee3ef335-0ce8-47fb-b74c-8ab3a3079593",
     "showTitle": false,
     "tableResultSettingsMap": {},
     "title": ""
    }
   },
   "outputs": [],
   "source": [
    "from pyspark.sql.functions import year\n",
    "\n",
    "# unique patients, hcps, and unique patients by PTNT_AGE_GRP\n",
    "unique_counts = df.agg(\n",
    "    countDistinct(\"PATIENT_ID\").alias(\"unique_patients\"),\n",
    "    countDistinct(\"BH_ID\").alias(\"unique_hcps\")\n",
    ")\n",
    "\n",
    "unique_patients_by_age_grp = df.groupBy(\"PTNT_AGE_GRP\").agg(\n",
    "    countDistinct(\"PATIENT_ID\").alias(\"unique_patients\")\n",
    ")\n",
    "\n",
    "# count of patients and HCPs in 2023\n",
    "count_2023 = df.filter(year(\"SHP_DT\") == 2023).agg(\n",
    "    countDistinct(\"PATIENT_ID\").alias(\"n_patients_2023\"),\n",
    "    countDistinct(\"BH_ID\").alias(\"n_hcp_2023\")\n",
    ")\n",
    "\n",
    "unique_counts.display()\n",
    "unique_patients_by_age_grp.display()\n",
    "count_2023.display()"
   ]
  },
  {
   "cell_type": "markdown",
   "metadata": {
    "application/vnd.databricks.v1+cell": {
     "cellMetadata": {
      "byteLimit": 2048000,
      "rowLimit": 10000
     },
     "inputWidgets": {},
     "nuid": "d427edab-775c-4b86-8489-e0e1ba7ca09b",
     "showTitle": false,
     "tableResultSettingsMap": {},
     "title": ""
    }
   },
   "source": [
    "### Calculate Weekly IUs"
   ]
  },
  {
   "cell_type": "code",
   "execution_count": 0,
   "metadata": {
    "application/vnd.databricks.v1+cell": {
     "cellMetadata": {
      "byteLimit": 2048000,
      "rowLimit": 10000
     },
     "inputWidgets": {},
     "nuid": "6079f8bd-3b67-44fe-b788-cc36a6e141a2",
     "showTitle": false,
     "tableResultSettingsMap": {},
     "title": ""
    }
   },
   "outputs": [],
   "source": [
    "from pyspark.sql.functions import date_trunc, to_date\n",
    "\n",
    "# df_iu: Summarize IU by patient, product, week\n",
    "\n",
    "# derive week from date\n",
    "columns = ['BH_ID', 'PATIENT_ID', 'PRD_NM', 'SHP_DT', 'PRPHY', 'IU']\n",
    "df_selected = df.select(*columns)\n",
    "df_with_week = df_selected.withColumn(\n",
    "    \"SHP_WK\",\n",
    "    to_date(date_trunc(\"week\", F.col(\"SHP_DT\")))\n",
    ")\n",
    "\n",
    "# calculate weekly IU\n",
    "df_iu = df_with_week.filter(F.col(\"PRD_NM\").isNotNull()).groupBy(\n",
    "    \"BH_ID\",\n",
    "    \"PATIENT_ID\",\n",
    "    \"PRD_NM\",\n",
    "    \"PRPHY\",\n",
    "    \"SHP_WK\"\n",
    ").agg(\n",
    "    F.sum(\"IU\").alias(\"IU\")\n",
    ").withColumn('PRPHY', F.coalesce(F.col('PRPHY'), F.lit('1'))) \\\n",
    ".orderBy(F.col('PATIENT_ID').desc(), F.col('PRD_NM').desc(), F.col('SHP_WK').asc())\n",
    "\n",
    "df_iu.printSchema()\n",
    "df_iu.display()\n",
    "df_iu.count()"
   ]
  },
  {
   "cell_type": "markdown",
   "metadata": {
    "application/vnd.databricks.v1+cell": {
     "cellMetadata": {
      "byteLimit": 2048000,
      "rowLimit": 10000
     },
     "inputWidgets": {},
     "nuid": "e9a9d260-ce3d-433f-af2c-fe5b52c6fc61",
     "showTitle": false,
     "tableResultSettingsMap": {},
     "title": ""
    }
   },
   "source": [
    "### Create Product_Prophy column - v1"
   ]
  },
  {
   "cell_type": "code",
   "execution_count": 0,
   "metadata": {
    "application/vnd.databricks.v1+cell": {
     "cellMetadata": {
      "byteLimit": 2048000,
      "rowLimit": 10000
     },
     "inputWidgets": {},
     "nuid": "54d1b8d5-48e0-4c23-a60f-5e04dce1cbd3",
     "showTitle": false,
     "tableResultSettingsMap": {},
     "title": ""
    }
   },
   "outputs": [],
   "source": [
    "# Create additional columns in df_iu\n",
    "# df_iu_2: concatenate PRD_NM and PRPHY \n",
    "df_iu_2 = df_iu.withColumn(\n",
    "    \"PRPHY\",\n",
    "    when(col(\"PRPHY\").isNull() | (col(\"PRPHY\") == \"UNK\"), \"0\").otherwise(col(\"PRPHY\"))\n",
    ").withColumn(\n",
    "    \"PRD_PRPHY\", concat(col(\"PRD_NM\"), lit(\"-\"), col(\"PRPHY\"))\n",
    ")\n",
    "\n",
    "# df_iu_3: Calculate the previous SHP_WK date and the first SHP_WK date in the window partition\n",
    "df_iu_3 = df_iu_2.withColumn(\"PREV_SHP_WK\", \n",
    "                             expr(\"lag(SHP_WK) over (partition by BH_ID, PATIENT_ID order by SHP_WK)\")) \\\n",
    "                 .withColumn(\"FST_SHP_WK\", \n",
    "                             expr(\"first(SHP_WK) over (partition by BH_ID, PATIENT_ID order by SHP_WK)\"))\n",
    "                 \n",
    "# df_iu_4: Calculate the number of weeks since the last shipment and since the first shipment\n",
    "df_iu_4 = df_iu_3.withColumn(\n",
    "    \"WK_SINCE_LST_SHP\",\n",
    "    (datediff(col(\"SHP_WK\"), col(\"PREV_SHP_WK\")) / 7).cast(\"integer\")\n",
    ").withColumn(\n",
    "    \"WK_SINCE_FST_SHP\",\n",
    "    (datediff(col(\"SHP_WK\"), col(\"FST_SHP_WK\")) / 7).cast(\"integer\")\n",
    ").fillna(0)\n",
    "\n",
    "## \n",
    "# df_iu_4_filtered: Find first Rx in Jan2023 onward for each BH_ID, PATIENT_ID\n",
    "date_threshold = \"2023-01-01\"\n",
    "df_iu_4_filtered = (df_iu_4.filter(df_iu_4.SHP_WK >= date_threshold)\n",
    "                    .groupBy('BH_ID', 'PATIENT_ID')\n",
    "                    .agg(F.min(\"SHP_WK\").alias(\"FIRST_SHP_WK\"))\n",
    ")\n",
    "\n",
    "# df_iu_5: Mark in df_iu_4 the first RX after Jan2023\n",
    "df_iu_5 = df_iu_4.join(df_iu_4_filtered, on=[\"BH_ID\", \"PATIENT_ID\"], how=\"left\")\n",
    "\n",
    "# df_iu_6: Create column to mark 1st Rx after Jan 2023\n",
    "df_iu_6 = df_iu_5.withColumn(\"IS_FST_GT_DEC22\", \n",
    "    F.when(df_iu_5.SHP_WK == df_iu_5.FIRST_SHP_WK, \"||\")\n",
    "    .otherwise(\"\")\n",
    ")\n",
    "# Show the updated DataFrame\n",
    "df_iu_6.display()\n",
    "df_iu_6.count()"
   ]
  },
  {
   "cell_type": "code",
   "execution_count": 0,
   "metadata": {
    "application/vnd.databricks.v1+cell": {
     "cellMetadata": {
      "byteLimit": 2048000,
      "rowLimit": 10000
     },
     "inputWidgets": {},
     "nuid": "8b5f6002-4b59-4916-8bd0-e6a9064c712e",
     "showTitle": false,
     "tableResultSettingsMap": {},
     "title": ""
    }
   },
   "outputs": [],
   "source": [
    "# df_iu_7: Group by BH_ID and PATIENT_ID and create Rx history string PRD_PRPHY\n",
    "# Select the columns\n",
    "selected_columns_df = df_iu_6.select(\"BH_ID\", \"PATIENT_ID\", \"PRD_PRPHY\", \"SHP_WK\", \"WK_SINCE_LST_SHP\", \"WK_SINCE_FST_SHP\", \"IS_FST_GT_DEC22\")\n",
    "\n",
    "# Concatenate PRD_PRPHY and IS_JAN23_NOV24\n",
    "selected_columns_df = selected_columns_df.withColumn(\n",
    "    \"IS_FST_GT_DEC22_PRD_PRPHY\", \n",
    "    F.concat(F.col(\"IS_FST_GT_DEC22\"), F.col(\"PRD_PRPHY\"))\n",
    ")\n",
    "\n",
    "# Calculate aggregate values at BH_ID, PATIENT_ID\n",
    "df_iu_7 = selected_columns_df.withColumn(\n",
    "    \"MAX_WK_SINCE_LST_SHP\", \n",
    "    F.max(\"WK_SINCE_LST_SHP\").over(Window.partitionBy(\"BH_ID\", \"PATIENT_ID\"))\n",
    ").withColumn(\n",
    "    \"TOTAL_DOT\", \n",
    "    F.last(\"WK_SINCE_FST_SHP\").over(Window.partitionBy(\"BH_ID\", \"PATIENT_ID\").orderBy(\"SHP_WK\").rowsBetween(Window.unboundedPreceding, Window.unboundedFollowing))\n",
    ").groupBy(\"BH_ID\", \"PATIENT_ID\") \\\n",
    "    .agg(\n",
    "        F.concat_ws(\", \", F.collect_list(\"IS_FST_GT_DEC22_PRD_PRPHY\")).alias(\"PRD_PRPHY_ALL\"),\n",
    "        F.max(\"MAX_WK_SINCE_LST_SHP\").alias(\"MAX_WK_SINCE_LST_SHP\"),\n",
    "        F.max(\"TOTAL_DOT\").alias(\"TOTAL_DOT\")\n",
    "    )\n",
    "\n",
    "# result DataFrame\n",
    "df_iu_7.display()"
   ]
  },
  {
   "cell_type": "markdown",
   "metadata": {
    "application/vnd.databricks.v1+cell": {
     "cellMetadata": {
      "byteLimit": 2048000,
      "rowLimit": 10000
     },
     "inputWidgets": {},
     "nuid": "9daa91c1-68ac-4522-a2e2-3d11b4d4db3b",
     "showTitle": false,
     "tableResultSettingsMap": {},
     "title": ""
    }
   },
   "source": [
    "### Show Rx history for patients to whom the Jivi new writers prescribed Jivi in study period"
   ]
  },
  {
   "cell_type": "code",
   "execution_count": 0,
   "metadata": {
    "application/vnd.databricks.v1+cell": {
     "cellMetadata": {
      "byteLimit": 2048000,
      "rowLimit": 10000
     },
     "inputWidgets": {},
     "nuid": "bfe53a07-e65c-48f6-8210-d1ce1c1f2056",
     "showTitle": false,
     "tableResultSettingsMap": {},
     "title": ""
    }
   },
   "outputs": [],
   "source": [
    "# Find patients prescribed Jivi by Jivi New Writers\n",
    "df_new_writer = spark.sql('select BH_ID, PATIENT_ID, BRTH_YR, SHP_DT, PRD_NM, SRC_SP, SOURCE_TYPE, DRUG_NM, SOURCE, RX_TYP, PTNT_WGT, SEVRTY, PRPHY from jivi_new_writer_model.jivi_new_writers_overlap_raw_data')\n",
    "\n",
    "df_jivi_pt = df_new_writer.filter(\n",
    "    (col(\"PRD_NM\") == 'JIVI') &\n",
    "    (col(\"SHP_DT\").between('2023-01-01', '2024-11-30'))\n",
    ").orderBy('BH_ID', 'PATIENT_ID', 'SHP_DT')\n",
    "\n",
    "# Jivi patient ID\n",
    "df_jivi_pt_id = df_jivi_pt.select('PATIENT_ID').distinct()\n",
    "\n",
    "# Define a Window specification to rank by SHP_DT within each BH_ID\n",
    "window_spec = Window.partitionBy(\"BH_ID\").orderBy(\"SHP_DT\")\n",
    "\n",
    "# Add a row number based on the defined window\n",
    "ranked_df = df_jivi_pt.withColumn(\"row_num\", row_number().over(window_spec))\n",
    "\n",
    "# Patient ID for the first PATIENT_ID for each BH_ID\n",
    "df_fst_jivi_pt_id = ranked_df.filter(col(\"row_num\") == 1).select(\"PATIENT_ID\").distinct()\n",
    "\n",
    "print(df_jivi_pt_id.count())\n",
    "print(df_fst_jivi_pt_id.count())\n",
    "df_fst_jivi_pt_id.display()\n"
   ]
  },
  {
   "cell_type": "code",
   "execution_count": 0,
   "metadata": {
    "application/vnd.databricks.v1+cell": {
     "cellMetadata": {
      "byteLimit": 2048000,
      "rowLimit": 10000
     },
     "inputWidgets": {},
     "nuid": "a6692792-2774-449e-8570-2d7d0081841c",
     "showTitle": false,
     "tableResultSettingsMap": {},
     "title": ""
    }
   },
   "outputs": [],
   "source": [
    "# Append Rx history to the Jivi patients\n",
    "df_jivi_pt_rx = df_jivi_pt_id.join(df_iu_7, on=\"PATIENT_ID\", how=\"left\").orderBy('PATIENT_ID')\n",
    "df_jivi_pt_rx.display()"
   ]
  },
  {
   "cell_type": "code",
   "execution_count": 0,
   "metadata": {
    "application/vnd.databricks.v1+cell": {
     "cellMetadata": {},
     "inputWidgets": {},
     "nuid": "0381cd84-55d9-4fab-a5d6-b1c161c201f0",
     "showTitle": false,
     "tableResultSettingsMap": {},
     "title": ""
    }
   },
   "outputs": [],
   "source": [
    "# Check df_iu for Jivi patients\n",
    "df_iu.filter(col('PATIENT_ID').isin())"
   ]
  }
 ],
 "metadata": {
  "application/vnd.databricks.v1+notebook": {
   "computePreferences": null,
   "dashboards": [],
   "environmentMetadata": {
    "base_environment": "",
    "environment_version": "2"
   },
   "language": "python",
   "notebookMetadata": {
    "pythonIndentUnit": 2
   },
   "notebookName": "eda_02_hcp_features",
   "widgets": {}
  },
  "language_info": {
   "name": "python"
  }
 },
 "nbformat": 4,
 "nbformat_minor": 0
}
