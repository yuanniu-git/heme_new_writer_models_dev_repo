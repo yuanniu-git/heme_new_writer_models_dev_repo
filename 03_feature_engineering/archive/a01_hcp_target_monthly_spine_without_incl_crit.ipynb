{
 "cells": [
  {
   "cell_type": "code",
   "execution_count": 0,
   "metadata": {
    "application/vnd.databricks.v1+cell": {
     "cellMetadata": {
      "byteLimit": 2048000,
      "rowLimit": 10000
     },
     "inputWidgets": {},
     "nuid": "2f002768-ce53-4a03-b859-95969c869a7c",
     "showTitle": false,
     "tableResultSettingsMap": {},
     "title": ""
    }
   },
   "outputs": [],
   "source": [
    "import pandas as pd\n",
    "from pyspark.sql import functions as F"
   ]
  },
  {
   "cell_type": "code",
   "execution_count": 0,
   "metadata": {
    "application/vnd.databricks.v1+cell": {
     "cellMetadata": {
      "byteLimit": 2048000,
      "rowLimit": 10000
     },
     "inputWidgets": {},
     "nuid": "8c03bcd1-6bf5-4eff-a111-1699b81b9bed",
     "showTitle": false,
     "tableResultSettingsMap": {},
     "title": ""
    }
   },
   "outputs": [],
   "source": [
    "%run \"../00_config/set-up\""
   ]
  },
  {
   "cell_type": "code",
   "execution_count": 0,
   "metadata": {
    "application/vnd.databricks.v1+cell": {
     "cellMetadata": {
      "byteLimit": 2048000,
      "rowLimit": 10000
     },
     "inputWidgets": {},
     "nuid": "d85df0a0-a7f0-4c7e-bb64-223d5b690d91",
     "showTitle": false,
     "tableResultSettingsMap": {},
     "title": ""
    }
   },
   "outputs": [],
   "source": [
    "%run \"/Workspace/Repos/yuan.niu@bayer.com/heme_new_writer_models_dev_repo/02_data_processing/helper_functions\""
   ]
  },
  {
   "cell_type": "code",
   "execution_count": 0,
   "metadata": {
    "application/vnd.databricks.v1+cell": {
     "cellMetadata": {
      "byteLimit": 2048000,
      "rowLimit": 10000
     },
     "inputWidgets": {},
     "nuid": "1b7d75f8-1ebf-4004-8a6d-a9d39ea355f9",
     "showTitle": false,
     "tableResultSettingsMap": {},
     "title": ""
    }
   },
   "outputs": [],
   "source": [
    "first_month = \"2019-12\"\n",
    "last_month = \"2024-11\"\n",
    "\n",
    "study_period_start_date = \"2023-01-01\"\n",
    "study_period_start_month = \"2023-01\"\n",
    "study_period_end_date = \"2024-11-30\"\n",
    "study_period_end_month = \"2024-11\"\n",
    "\n",
    "# lookback period in months to look back from the first prescription event\n",
    "rx_lookback_months = 24"
   ]
  },
  {
   "cell_type": "code",
   "execution_count": 0,
   "metadata": {
    "application/vnd.databricks.v1+cell": {
     "cellMetadata": {
      "byteLimit": 2048000,
      "rowLimit": 10000
     },
     "inputWidgets": {},
     "nuid": "c92af701-810f-4277-a962-b95c8d2eb945",
     "showTitle": false,
     "tableResultSettingsMap": {},
     "title": ""
    }
   },
   "outputs": [],
   "source": [
    "def flag_jivi_writers(df, start_month, end_month):\n",
    "    \"\"\"\n",
    "    Flags healthcare providers (HCPs) who have prescribed 'JIVI' within a specified period.\n",
    "\n",
    "    Parameters:\n",
    "    df (pd.DataFrame): The input DataFrame containing prescription data.\n",
    "    start_month (str): The start month of the specified period in 'YYYY-MM' format.\n",
    "    end_month (str): The end month of the specified period in 'YYYY-MM' format.\n",
    "\n",
    "    Returns:\n",
    "    pd.DataFrame: A DataFrame with 'BH_ID' and a Boolean flag 'jivi_rx_flg' indicating if 'JIVI' was prescribed.\n",
    "    \"\"\"\n",
    "    # Group by 'BH_ID' and aggregate 'PRD_NM' as a list of unique values\n",
    "    grouped_df = (\n",
    "      df\n",
    "      .query('SHP_YR_MO >= @start_month and SHP_YR_MO <= @end_month')\n",
    "      .groupby('BH_ID')['PRD_NM'].agg(lambda x: list(set(x)))\n",
    "      )\n",
    "\n",
    "    # Flag HCPs where 'JIVI' is in the list of products 'PRD_NM' prescribed\n",
    "    filtered_df = grouped_df.apply(lambda r: 'JIVI' in r).reset_index(name='jivi_rx_flg')\n",
    "    \n",
    "    return filtered_df"
   ]
  },
  {
   "cell_type": "code",
   "execution_count": 0,
   "metadata": {
    "application/vnd.databricks.v1+cell": {
     "cellMetadata": {
      "byteLimit": 2048000,
      "rowLimit": 10000
     },
     "inputWidgets": {},
     "nuid": "b0e1be81-dfae-4dd6-af86-83b331c24a84",
     "showTitle": false,
     "tableResultSettingsMap": {},
     "title": ""
    }
   },
   "outputs": [],
   "source": [
    "def get_first_rx_event(data, date_col, id_col, drg_nm_col, drg_nm, study_period_start_date, study_period_end_date, rx_lookback_months):\n",
    "    \"\"\"\n",
    "    This function processes prescription data to find the first prescription event for a specific drug within a study period.\n",
    "    \n",
    "    Parameters:\n",
    "    data (pd.DataFrame): The input data containing prescription records.\n",
    "    date_col (str): The name of the column containing prescription dates.\n",
    "    id_col (str): The name of the column containing unique identifiers for healthcare providers.\n",
    "    drg_nm_col (str): The name of the column containing drug names.\n",
    "    drg_nm (str): The specific drug name to filter the data. If None, no filtering on drug name is applied.\n",
    "    study_period_start_date (str): The start date of the study period in 'YYYY-MM-DD' format.\n",
    "    study_period_end_date (str): The end date of the study period in 'YYYY-MM-DD' format.\n",
    "    rx_lookback_months (int): The number of months to look back from the first prescription date.\n",
    "    \n",
    "    Returns:\n",
    "    pd.DataFrame: A DataFrame containing the first prescription date and related information for each healthcare provider.\n",
    "    \"\"\"\n",
    "    \n",
    "    # Convert the date column to datetime format\n",
    "    data[date_col] = pd.to_datetime(data[date_col])\n",
    "    \n",
    "    # Sort the data by healthcare provider ID and date\n",
    "    data = data.sort_values(by=[id_col, date_col])\n",
    "\n",
    "    # Filter data for the specific drug prescriptions within the study period if drg_nm is provided\n",
    "    if drg_nm:\n",
    "        df_rx = data[(data[drg_nm_col] == drg_nm) &\n",
    "                     (data[date_col] >= study_period_start_date) & \n",
    "                     (data[date_col] <= study_period_end_date)]\n",
    "    else:\n",
    "        df_rx = data[(data[date_col] >= study_period_start_date) & \n",
    "                     (data[date_col] <= study_period_end_date)]\n",
    "\n",
    "    # Group by healthcare provider ID and get the first prescription date for each group\n",
    "    first_rx = df_rx.groupby(id_col).first().reset_index()\n",
    "\n",
    "    # Define column names based on drug name\n",
    "    first_rx_date_col = f'OVP_FST_{drg_nm}_DT' if drg_nm else 'OVP_FST_RX_DT'\n",
    "    first_rx_month_col = f'OVP_FST_{drg_nm}_MONTH' if drg_nm else 'OVP_FST_RX_MONTH'\n",
    "\n",
    "    # Rename the date column to indicate the first prescription date for the specific drug\n",
    "    first_rx.rename(columns={date_col: first_rx_date_col}, inplace=True)\n",
    "    \n",
    "    # Calculate the look-back start date based on the first prescription date\n",
    "    first_rx['rx_look_back_start_dt'] = first_rx[first_rx_date_col] - pd.DateOffset(months=rx_lookback_months + 1)\n",
    "    \n",
    "    # Extract the year-month format for the first prescription date and look-back start date\n",
    "    first_rx[first_rx_month_col] = first_rx[first_rx_date_col].dt.strftime('%Y-%m')\n",
    "    first_rx['rx_look_back_start_month'] = first_rx['rx_look_back_start_dt'].dt.strftime('%Y-%m')\n",
    "    \n",
    "    # Return the relevant columns\n",
    "    return first_rx[[id_col, first_rx_date_col, first_rx_month_col, 'rx_look_back_start_dt', 'rx_look_back_start_month']]"
   ]
  },
  {
   "cell_type": "code",
   "execution_count": 0,
   "metadata": {
    "application/vnd.databricks.v1+cell": {
     "cellMetadata": {
      "byteLimit": 2048000,
      "rowLimit": 10000
     },
     "inputWidgets": {},
     "nuid": "d8b56370-4a06-401a-bc18-dd8cc32eecbd",
     "showTitle": false,
     "tableResultSettingsMap": {},
     "title": ""
    }
   },
   "outputs": [],
   "source": [
    "overlap_subset = spark.sql(\"SELECT * FROM heme_data.overlap_preprocessed\")\n",
    "print(\"Row count: \", overlap_subset.count(), \"Column Count: \", len(overlap_subset.columns))"
   ]
  },
  {
   "cell_type": "code",
   "execution_count": 0,
   "metadata": {
    "application/vnd.databricks.v1+cell": {
     "cellMetadata": {
      "byteLimit": 2048000,
      "rowLimit": 10000
     },
     "inputWidgets": {},
     "nuid": "e1ac342f-5e6b-43c0-a6c6-0352de95c9b4",
     "showTitle": false,
     "tableResultSettingsMap": {},
     "title": ""
    }
   },
   "outputs": [],
   "source": [
    "display(overlap_subset.limit(15))"
   ]
  },
  {
   "cell_type": "code",
   "execution_count": 0,
   "metadata": {
    "application/vnd.databricks.v1+cell": {
     "cellMetadata": {
      "byteLimit": 2048000,
      "rowLimit": 10000
     },
     "inputWidgets": {},
     "nuid": "e7218165-41ce-4a49-b5a1-067f007876f2",
     "showTitle": false,
     "tableResultSettingsMap": {},
     "title": ""
    }
   },
   "outputs": [],
   "source": [
    "overlap_subset_pdf = overlap_subset.toPandas()"
   ]
  },
  {
   "cell_type": "markdown",
   "metadata": {
    "application/vnd.databricks.v1+cell": {
     "cellMetadata": {
      "byteLimit": 2048000,
      "rowLimit": 10000
     },
     "inputWidgets": {},
     "nuid": "f44c014d-8f3f-4fbd-bb4b-0c488f59ff81",
     "showTitle": false,
     "tableResultSettingsMap": {},
     "title": ""
    }
   },
   "source": [
    "**Number of unique patients in the Study period**"
   ]
  },
  {
   "cell_type": "code",
   "execution_count": 0,
   "metadata": {
    "application/vnd.databricks.v1+cell": {
     "cellMetadata": {
      "byteLimit": 2048000,
      "rowLimit": 10000
     },
     "inputWidgets": {},
     "nuid": "ad5b6043-50e2-4eee-81f7-d0ac66df118e",
     "showTitle": false,
     "tableResultSettingsMap": {},
     "title": ""
    }
   },
   "outputs": [],
   "source": [
    "unique_patient_count = (\n",
    "    overlap_subset\n",
    "    .filter((F.col('SHP_YR_MO') >= study_period_start_month) & (F.col('SHP_YR_MO') <= study_period_end_month))\n",
    "    .agg(F.countDistinct('PATIENT_ID').alias('unique_pat_cnt'))\n",
    ")\n",
    "\n",
    "display(unique_patient_count)"
   ]
  },
  {
   "cell_type": "markdown",
   "metadata": {
    "application/vnd.databricks.v1+cell": {
     "cellMetadata": {
      "byteLimit": 2048000,
      "rowLimit": 10000
     },
     "inputWidgets": {},
     "nuid": "31c7401f-596e-46a0-994a-f68ba045cf67",
     "showTitle": false,
     "tableResultSettingsMap": {},
     "title": ""
    }
   },
   "source": [
    "**Number of unique JIVI patients in the Study period**"
   ]
  },
  {
   "cell_type": "code",
   "execution_count": 0,
   "metadata": {
    "application/vnd.databricks.v1+cell": {
     "cellMetadata": {
      "byteLimit": 2048000,
      "rowLimit": 10000
     },
     "inputWidgets": {},
     "nuid": "3ef92e20-07e4-4409-abac-c688fc1038c9",
     "showTitle": false,
     "tableResultSettingsMap": {},
     "title": ""
    }
   },
   "outputs": [],
   "source": [
    "unique_jivi_patient_count = (\n",
    "    overlap_subset\n",
    "    .filter(\n",
    "        (F.col('SHP_YR_MO') >= study_period_start_month) & \n",
    "        (F.col('SHP_YR_MO') <= study_period_end_month) & \n",
    "        (F.col('PRD_NM') == 'JIVI')\n",
    "    )\n",
    "    .agg(F.countDistinct('PATIENT_ID').alias('unique_JIVI_pat_cnt'))\n",
    ")\n",
    "\n",
    "display(unique_jivi_patient_count)"
   ]
  },
  {
   "cell_type": "markdown",
   "metadata": {
    "application/vnd.databricks.v1+cell": {
     "cellMetadata": {
      "byteLimit": 2048000,
      "rowLimit": 10000
     },
     "inputWidgets": {},
     "nuid": "c35da277-e1d2-4669-abec-63cc55de31f2",
     "showTitle": false,
     "tableResultSettingsMap": {},
     "title": ""
    }
   },
   "source": [
    "### Step 1: Identify unique HCPs who have patients (any drugs) between Jan-2023 and Nov-2024."
   ]
  },
  {
   "cell_type": "code",
   "execution_count": 0,
   "metadata": {
    "application/vnd.databricks.v1+cell": {
     "cellMetadata": {
      "byteLimit": 2048000,
      "rowLimit": 10000
     },
     "inputWidgets": {},
     "nuid": "1d0379b7-fa37-4768-8761-f183bf983ff6",
     "showTitle": false,
     "tableResultSettingsMap": {},
     "title": ""
    }
   },
   "outputs": [],
   "source": [
    "# Calculate the count of distinct patients per BH_ID for the study period\n",
    "study_period_hcp_pats_cnt = (\n",
    "  overlap_subset\n",
    "  .filter((F.col('SHP_YR_MO') >= study_period_start_month) & (F.col('SHP_YR_MO') <= study_period_end_month))\n",
    "  .groupBy('BH_ID')\n",
    "  .agg(F.countDistinct('PATIENT_ID').alias('pats_cnt'))\n",
    "  .orderBy('pats_cnt')\n",
    ")\n",
    "print(\"Row count: \", study_period_hcp_pats_cnt.count(), \"Column Count: \", len(study_period_hcp_pats_cnt.columns))"
   ]
  },
  {
   "cell_type": "code",
   "execution_count": 0,
   "metadata": {
    "application/vnd.databricks.v1+cell": {
     "cellMetadata": {
      "byteLimit": 2048000,
      "rowLimit": 10000
     },
     "inputWidgets": {},
     "nuid": "556b0801-badd-4e19-8e9a-1fd8c5a92963",
     "showTitle": false,
     "tableResultSettingsMap": {},
     "title": ""
    }
   },
   "outputs": [],
   "source": [
    "display(study_period_hcp_pats_cnt)"
   ]
  },
  {
   "cell_type": "markdown",
   "metadata": {
    "application/vnd.databricks.v1+cell": {
     "cellMetadata": {
      "byteLimit": 2048000,
      "rowLimit": 10000
     },
     "inputWidgets": {},
     "nuid": "08d480fa-1071-41ac-b978-a3c080e3ce85",
     "showTitle": false,
     "tableResultSettingsMap": {},
     "title": ""
    }
   },
   "source": [
    "### Check: How many HCPs have at least one patient (any drugs) in between Dec'19 and Dec'22"
   ]
  },
  {
   "cell_type": "code",
   "execution_count": 0,
   "metadata": {
    "application/vnd.databricks.v1+cell": {
     "cellMetadata": {
      "byteLimit": 2048000,
      "rowLimit": 10000
     },
     "inputWidgets": {},
     "nuid": "eeab9dcf-1f27-467d-87d6-fdf133d8f935",
     "showTitle": false,
     "tableResultSettingsMap": {},
     "title": ""
    }
   },
   "outputs": [],
   "source": [
    "prior_period_hcp_pats_cnt = (\n",
    "    overlap_subset\n",
    "    .filter((F.col('SHP_YR_MO') >= first_month) & (F.col('SHP_YR_MO') < study_period_start_month))\n",
    "    .groupBy('BH_ID')\n",
    "    .agg(F.countDistinct('PATIENT_ID').alias('pats_cnt'))\n",
    "    .orderBy('pats_cnt')\n",
    ")\n",
    "print(\"Row count: \", prior_period_hcp_pats_cnt.count(), \"Column Count: \", len(prior_period_hcp_pats_cnt.columns))"
   ]
  },
  {
   "cell_type": "code",
   "execution_count": 0,
   "metadata": {
    "application/vnd.databricks.v1+cell": {
     "cellMetadata": {
      "byteLimit": 2048000,
      "rowLimit": 10000
     },
     "inputWidgets": {},
     "nuid": "1e9010d7-de7e-48df-9027-25b7f4736774",
     "showTitle": false,
     "tableResultSettingsMap": {},
     "title": ""
    }
   },
   "outputs": [],
   "source": [
    "display(prior_period_hcp_pats_cnt)"
   ]
  },
  {
   "cell_type": "code",
   "execution_count": 0,
   "metadata": {
    "application/vnd.databricks.v1+cell": {
     "cellMetadata": {
      "byteLimit": 2048000,
      "rowLimit": 10000
     },
     "inputWidgets": {},
     "nuid": "1cb2df1d-ffd5-4ac6-b3cf-5dafab3977de",
     "showTitle": false,
     "tableResultSettingsMap": {},
     "title": ""
    }
   },
   "outputs": [],
   "source": [
    "# Finding common BH_IDs between prior period and study period HCP patients count dataframes\n",
    "\n",
    "prior_period_hcp_pats_cnt_pdf = prior_period_hcp_pats_cnt.toPandas()\n",
    "study_period_hcp_pats_cnt_pdf = study_period_hcp_pats_cnt.toPandas()\n",
    "\n",
    "# Convert the BH_ID columns to sets\n",
    "prior_bh_ids = set(prior_period_hcp_pats_cnt_pdf['BH_ID'])\n",
    "print(\"Number of HCPs with atleast one patient in period prior to study period:\", len(prior_bh_ids))\n",
    "study_bh_ids = set(study_period_hcp_pats_cnt_pdf['BH_ID'])\n",
    "print(\"Number of HCPs with atleast one patient in study period:\", len(study_bh_ids))\n",
    "\n",
    "# Find the common BH_IDs using set intersection\n",
    "common_bh_ids = prior_bh_ids.intersection(study_bh_ids)\n",
    "\n",
    "print(\"Number of HCPs with atleast one patient in prior period and one patient in study period:\", len(common_bh_ids))"
   ]
  },
  {
   "cell_type": "code",
   "execution_count": 0,
   "metadata": {
    "application/vnd.databricks.v1+cell": {
     "cellMetadata": {
      "byteLimit": 2048000,
      "rowLimit": 10000
     },
     "inputWidgets": {},
     "nuid": "df040503-5cc8-4d4c-8ec6-9074998fad09",
     "showTitle": false,
     "tableResultSettingsMap": {},
     "title": ""
    }
   },
   "outputs": [],
   "source": [
    "13161+12481-7318"
   ]
  },
  {
   "cell_type": "markdown",
   "metadata": {
    "application/vnd.databricks.v1+cell": {
     "cellMetadata": {
      "byteLimit": 2048000,
      "rowLimit": 10000
     },
     "inputWidgets": {},
     "nuid": "ee3e3745-8ba5-4dcd-a84e-5a6e8d2497ed",
     "showTitle": false,
     "tableResultSettingsMap": {},
     "title": ""
    }
   },
   "source": [
    "### Step 2: Identify HCPs who prescribed Jivi between Jan'23 and Nov'24"
   ]
  },
  {
   "cell_type": "code",
   "execution_count": 0,
   "metadata": {
    "application/vnd.databricks.v1+cell": {
     "cellMetadata": {
      "byteLimit": 2048000,
      "rowLimit": 10000
     },
     "inputWidgets": {},
     "nuid": "3dcf0fa3-2f55-46bb-a582-5cd217f08cd6",
     "showTitle": false,
     "tableResultSettingsMap": {},
     "title": ""
    }
   },
   "outputs": [],
   "source": [
    "# Flag JIVI writers in the study period\n",
    "study_period_flagged_hcps = flag_jivi_writers(\n",
    "  df = overlap_subset_pdf, \n",
    "  start_month = study_period_start_month,\n",
    "  end_month = study_period_end_month,\n",
    "  )"
   ]
  },
  {
   "cell_type": "code",
   "execution_count": 0,
   "metadata": {
    "application/vnd.databricks.v1+cell": {
     "cellMetadata": {
      "byteLimit": 2048000,
      "rowLimit": 10000
     },
     "inputWidgets": {},
     "nuid": "b8422580-6170-4031-b7be-5013077e3bc4",
     "showTitle": false,
     "tableResultSettingsMap": {},
     "title": ""
    }
   },
   "outputs": [],
   "source": [
    "study_period_jivi_rx_hcps = study_period_flagged_hcps[study_period_flagged_hcps.jivi_rx_flg == True].BH_ID.unique().tolist()\n",
    "study_period_no_jivi_rx_hcps = study_period_flagged_hcps[study_period_flagged_hcps.jivi_rx_flg == False].BH_ID.unique().tolist()"
   ]
  },
  {
   "cell_type": "code",
   "execution_count": 0,
   "metadata": {
    "application/vnd.databricks.v1+cell": {
     "cellMetadata": {
      "byteLimit": 2048000,
      "rowLimit": 10000
     },
     "inputWidgets": {},
     "nuid": "ac40501b-c47d-4b8f-9f63-de1a63ce6d1e",
     "showTitle": false,
     "tableResultSettingsMap": {},
     "title": ""
    }
   },
   "outputs": [],
   "source": [
    "print(\"Number of HCPs with prescriptions in the study period: \", study_period_flagged_hcps.shape[0])"
   ]
  },
  {
   "cell_type": "code",
   "execution_count": 0,
   "metadata": {
    "application/vnd.databricks.v1+cell": {
     "cellMetadata": {
      "byteLimit": 2048000,
      "rowLimit": 10000
     },
     "inputWidgets": {},
     "nuid": "cd93ab33-894b-4075-807b-02bb6123f3a8",
     "showTitle": false,
     "tableResultSettingsMap": {},
     "title": ""
    }
   },
   "outputs": [],
   "source": [
    "print(\"Number of HCPs with Jivi Rx during study period: \", len(study_period_jivi_rx_hcps))"
   ]
  },
  {
   "cell_type": "code",
   "execution_count": 0,
   "metadata": {
    "application/vnd.databricks.v1+cell": {
     "cellMetadata": {
      "byteLimit": 2048000,
      "rowLimit": 10000
     },
     "inputWidgets": {},
     "nuid": "743cc4d7-0b7f-4219-8643-fbbbc239e6bf",
     "showTitle": false,
     "tableResultSettingsMap": {},
     "title": ""
    }
   },
   "outputs": [],
   "source": [
    "print(\"Number of HCPs which DO NOT HAVE Jivi Rx during study period: \", len(study_period_no_jivi_rx_hcps))"
   ]
  },
  {
   "cell_type": "markdown",
   "metadata": {
    "application/vnd.databricks.v1+cell": {
     "cellMetadata": {
      "byteLimit": 2048000,
      "rowLimit": 10000
     },
     "inputWidgets": {},
     "nuid": "e920b40d-ce18-47cb-a7e6-be25101bf7bb",
     "showTitle": false,
     "tableResultSettingsMap": {},
     "title": ""
    }
   },
   "source": [
    "**HCPs with Jivi Prescription during study period but have atleast one patient from Dec-2019 to Nov-2024**"
   ]
  },
  {
   "cell_type": "code",
   "execution_count": 0,
   "metadata": {
    "application/vnd.databricks.v1+cell": {
     "cellMetadata": {
      "byteLimit": 2048000,
      "rowLimit": 10000
     },
     "inputWidgets": {},
     "nuid": "c27448f2-966f-4dc8-80a5-564711283714",
     "showTitle": false,
     "tableResultSettingsMap": {},
     "title": ""
    }
   },
   "outputs": [],
   "source": [
    "# HCPs with Jivi rx during study period but have atleast one patient in prior period and one in study period\n",
    "inclusion_jivi_bh_ids = common_bh_ids.intersection(study_period_jivi_rx_hcps)\n",
    "print(\"Number of HCPs with Jivi Rx during study period but have atleast one patient from Dec-2019 to Dec-2022 and one patient from Jan-2023 to Nov-2024: \", len(inclusion_jivi_bh_ids))"
   ]
  },
  {
   "cell_type": "markdown",
   "metadata": {
    "application/vnd.databricks.v1+cell": {
     "cellMetadata": {
      "byteLimit": 2048000,
      "rowLimit": 10000
     },
     "inputWidgets": {},
     "nuid": "62564ef4-9444-4b9d-b0cf-411be156197e",
     "showTitle": false,
     "tableResultSettingsMap": {},
     "title": ""
    }
   },
   "source": [
    "%md\n",
    "**HCPs with NO Jivi Prescription during study period but have atleast one patient from Dec-2019 to Nov-2024**"
   ]
  },
  {
   "cell_type": "code",
   "execution_count": 0,
   "metadata": {
    "application/vnd.databricks.v1+cell": {
     "cellMetadata": {
      "byteLimit": 2048000,
      "rowLimit": 10000
     },
     "inputWidgets": {},
     "nuid": "3f0dc1a7-4239-43bd-9148-dbd64aea09e2",
     "showTitle": false,
     "tableResultSettingsMap": {},
     "title": ""
    }
   },
   "outputs": [],
   "source": [
    "# HCPs without any JIVI RX during study period but have atleast 1 one patient from Dec-2019 to Nov-2024\n",
    "inclusion_bh_ids = common_bh_ids.intersection(study_period_no_jivi_rx_hcps)\n",
    "print(\"Number of HCPs with NO Jivi Rx during study period but have atleast 1 one patient from Dec-2019 to Nov-2024: \", len(inclusion_bh_ids))"
   ]
  },
  {
   "cell_type": "code",
   "execution_count": 0,
   "metadata": {
    "application/vnd.databricks.v1+cell": {
     "cellMetadata": {
      "byteLimit": 2048000,
      "rowLimit": 10000
     },
     "inputWidgets": {},
     "nuid": "528ee27a-aee6-4f06-87f9-cac9dc69a202",
     "showTitle": false,
     "tableResultSettingsMap": {},
     "title": ""
    }
   },
   "outputs": [],
   "source": [
    "# hcp_patient_cnts = overlap_subset_pdf.query('SHP_YR_MO >= @first_month and SHP_YR_MO <= @last_month').groupby('BH_ID')['PATIENT_ID'].nunique().sort_values(ascending=True).reset_index(name='pats_cnt')\n",
    "# hcps_with_atleast_one_pat = hcp_patient_cnts.query('pats_cnt >= 1')\n"
   ]
  },
  {
   "cell_type": "code",
   "execution_count": 0,
   "metadata": {
    "application/vnd.databricks.v1+cell": {
     "cellMetadata": {
      "byteLimit": 2048000,
      "rowLimit": 10000
     },
     "inputWidgets": {},
     "nuid": "33d1074f-8360-456a-843f-caab8057583d",
     "showTitle": false,
     "tableResultSettingsMap": {},
     "title": ""
    }
   },
   "outputs": [],
   "source": [
    "# hcps_with_atleast_one_pat.BH_ID.nunique()"
   ]
  },
  {
   "cell_type": "code",
   "execution_count": 0,
   "metadata": {
    "application/vnd.databricks.v1+cell": {
     "cellMetadata": {
      "byteLimit": 2048000,
      "rowLimit": 10000
     },
     "inputWidgets": {},
     "nuid": "a424edcb-cf77-431b-8109-5b6958210027",
     "showTitle": false,
     "tableResultSettingsMap": {},
     "title": ""
    }
   },
   "outputs": [],
   "source": [
    "# len(set(study_period_jivi_rx_hcps).intersection(set(hcps_with_atleast_one_pat.BH_ID)))"
   ]
  },
  {
   "cell_type": "markdown",
   "metadata": {
    "application/vnd.databricks.v1+cell": {
     "cellMetadata": {
      "byteLimit": 2048000,
      "rowLimit": 10000
     },
     "inputWidgets": {},
     "nuid": "53c20e31-b96e-4513-9701-626722efec4c",
     "showTitle": false,
     "tableResultSettingsMap": {},
     "title": ""
    }
   },
   "source": [
    "### Step 3: For Jivi NEW prescriber HCPs during study period"
   ]
  },
  {
   "cell_type": "code",
   "execution_count": 0,
   "metadata": {
    "application/vnd.databricks.v1+cell": {
     "cellMetadata": {
      "byteLimit": 2048000,
      "rowLimit": 10000
     },
     "inputWidgets": {},
     "nuid": "7db20f31-2758-453d-bd14-ed26eea7e0e5",
     "showTitle": false,
     "tableResultSettingsMap": {},
     "title": ""
    }
   },
   "outputs": [],
   "source": [
    "study_period_jivi_rx_hcps_data = overlap_subset_pdf[overlap_subset_pdf['BH_ID'].isin(study_period_jivi_rx_hcps)]\n",
    "study_period_jivi_rx_hcps_data.shape"
   ]
  },
  {
   "cell_type": "code",
   "execution_count": 0,
   "metadata": {
    "application/vnd.databricks.v1+cell": {
     "cellMetadata": {
      "byteLimit": 2048000,
      "rowLimit": 10000
     },
     "inputWidgets": {},
     "nuid": "64a9847c-97ee-4324-ba08-f85eed6e2448",
     "showTitle": false,
     "tableResultSettingsMap": {},
     "title": ""
    }
   },
   "outputs": [],
   "source": [
    "# display(study_period_jivi_rx_hcps_data)"
   ]
  },
  {
   "cell_type": "code",
   "execution_count": 0,
   "metadata": {
    "application/vnd.databricks.v1+cell": {
     "cellMetadata": {
      "byteLimit": 2048000,
      "rowLimit": 10000
     },
     "inputWidgets": {},
     "nuid": "6862a618-b208-41cd-b84d-716214911c7c",
     "showTitle": false,
     "tableResultSettingsMap": {},
     "title": ""
    }
   },
   "outputs": [],
   "source": [
    "jivi_first_rx_dates = get_first_rx_event(\n",
    "data = study_period_jivi_rx_hcps_data.copy(),\n",
    "date_col = 'SHP_DT',\n",
    "id_col = 'BH_ID',\n",
    "drg_nm_col = 'PRD_NM',\n",
    "drg_nm = 'JIVI',\n",
    "study_period_start_date = study_period_start_date,\n",
    "study_period_end_date = study_period_end_date,\n",
    "rx_lookback_months = rx_lookback_months\n",
    ")"
   ]
  },
  {
   "cell_type": "code",
   "execution_count": 0,
   "metadata": {
    "application/vnd.databricks.v1+cell": {
     "cellMetadata": {
      "byteLimit": 2048000,
      "rowLimit": 10000
     },
     "inputWidgets": {},
     "nuid": "c94316ca-0dbc-4afc-b2bf-aa3a1620acfe",
     "showTitle": false,
     "tableResultSettingsMap": {},
     "title": ""
    }
   },
   "outputs": [],
   "source": [
    "jivi_first_rx_dates.display()"
   ]
  },
  {
   "cell_type": "code",
   "execution_count": 0,
   "metadata": {
    "application/vnd.databricks.v1+cell": {
     "cellMetadata": {
      "byteLimit": 2048000,
      "rowLimit": 10000
     },
     "inputWidgets": {},
     "nuid": "9b0e0a6a-7c6e-4946-bde9-9330be559f29",
     "showTitle": false,
     "tableResultSettingsMap": {},
     "title": ""
    }
   },
   "outputs": [],
   "source": [
    "study_period_jivi_rx_hcps_with_first_rx = pd.merge(study_period_jivi_rx_hcps_data.copy(), jivi_first_rx_dates, on='BH_ID', how='inner')\n",
    "print(study_period_jivi_rx_hcps_with_first_rx.shape)"
   ]
  },
  {
   "cell_type": "code",
   "execution_count": 0,
   "metadata": {
    "application/vnd.databricks.v1+cell": {
     "cellMetadata": {
      "byteLimit": 2048000,
      "rowLimit": 10000
     },
     "inputWidgets": {},
     "nuid": "732655aa-82e4-47fa-ae56-53870bfe795c",
     "showTitle": false,
     "tableResultSettingsMap": {},
     "title": ""
    }
   },
   "outputs": [],
   "source": [
    "display(study_period_jivi_rx_hcps_with_first_rx)"
   ]
  },
  {
   "cell_type": "code",
   "execution_count": 0,
   "metadata": {
    "application/vnd.databricks.v1+cell": {
     "cellMetadata": {
      "byteLimit": 2048000,
      "rowLimit": 10000
     },
     "inputWidgets": {},
     "nuid": "067875b0-b9e9-4988-a978-6ce9e17f9d9b",
     "showTitle": false,
     "tableResultSettingsMap": {},
     "title": ""
    }
   },
   "outputs": [],
   "source": [
    "study_period_jivi_rx_hcps_with_first_rx['BH_ID'].nunique()"
   ]
  },
  {
   "cell_type": "code",
   "execution_count": 0,
   "metadata": {
    "application/vnd.databricks.v1+cell": {
     "cellMetadata": {
      "byteLimit": 2048000,
      "rowLimit": 10000
     },
     "inputWidgets": {},
     "nuid": "5d13bc80-1740-4141-be3e-c1bb7232efb9",
     "showTitle": false,
     "tableResultSettingsMap": {},
     "title": ""
    }
   },
   "outputs": [],
   "source": [
    "# function to use in apply() on grouped data.\n",
    "def count_jivi_records_in_lookback(grouped_data):\n",
    "  jivi_res_df = grouped_data.query('PRD_NM == \"JIVI\" and SHP_YR_MO < OVP_FST_JIVI_MONTH and SHP_YR_MO >= rx_look_back_start_month')\n",
    "  jivi_rx_cnt = jivi_res_df.shape[0] # Number of Jivi Rx records within the lookback period window\n",
    "  jivi_pat_cnt = jivi_res_df['PATIENT_ID'].nunique()\n",
    "  # checking other prescriptions\n",
    "  other_res_df = grouped_data.query('PRD_NM != \"JIVI\" and SHP_YR_MO < OVP_FST_JIVI_MONTH and SHP_YR_MO >= rx_look_back_start_month')\n",
    "  other_rx_cnt = other_res_df.shape[0]\n",
    "  other_pat_cnt = other_res_df['PATIENT_ID'].nunique()\n",
    "\n",
    "  res_series = pd.Series({\n",
    "        'jivi_rx_cnt_in_lookback': jivi_rx_cnt,\n",
    "        'jivi_pat_cnt_in_lookback': jivi_pat_cnt,\n",
    "        'other_rx_cnt_in_lookback': other_rx_cnt,\n",
    "        'other_pat_cnt_in_lookback': other_pat_cnt,\n",
    "    })\n",
    "  return res_series"
   ]
  },
  {
   "cell_type": "code",
   "execution_count": 0,
   "metadata": {
    "application/vnd.databricks.v1+cell": {
     "cellMetadata": {
      "byteLimit": 2048000,
      "rowLimit": 10000
     },
     "inputWidgets": {},
     "nuid": "8d07079f-e28a-4205-a06e-8875fcb2e654",
     "showTitle": false,
     "tableResultSettingsMap": {},
     "title": ""
    }
   },
   "outputs": [],
   "source": [
    "jivi_hcp_jivi_rx_cnt_in_lookback = study_period_jivi_rx_hcps_with_first_rx.groupby('BH_ID').apply(count_jivi_records_in_lookback).reset_index()"
   ]
  },
  {
   "cell_type": "code",
   "execution_count": 0,
   "metadata": {
    "application/vnd.databricks.v1+cell": {
     "cellMetadata": {
      "byteLimit": 2048000,
      "rowLimit": 10000
     },
     "inputWidgets": {},
     "nuid": "b742fe85-9a16-4c4e-a274-805be53a317f",
     "showTitle": false,
     "tableResultSettingsMap": {},
     "title": ""
    }
   },
   "outputs": [],
   "source": [
    "\"\"\"Data for the HCPs with Jivi Rx during study period and fullfilling the inclusion criteria of 1 patient from Dec-2019 to Nov-2024. The dataframe contains the count of JIVI RX in the lookback period so that we can identify who is a new writer and who is an existing writer. It also contains other prescriptions in the lookback period just to see if the new writers also had other prescriptions in the lookback period. \"\"\"\n",
    "\n",
    "jivi_hcp_jivi_rx_cnt_in_lookback['JIVI_NEW_WRITER_FLG'] = (jivi_hcp_jivi_rx_cnt_in_lookback['jivi_rx_cnt_in_lookback'] == 0).astype(int)\n",
    "jivi_hcp_jivi_rx_cnt_in_lookback['JIVI_EXISTING_WRITER_FLG'] = (jivi_hcp_jivi_rx_cnt_in_lookback['jivi_rx_cnt_in_lookback'] > 0).astype(int)"
   ]
  },
  {
   "cell_type": "markdown",
   "metadata": {
    "application/vnd.databricks.v1+cell": {
     "cellMetadata": {
      "byteLimit": 2048000,
      "rowLimit": 10000
     },
     "inputWidgets": {},
     "nuid": "74cd6165-b1ea-45b0-83b9-0307298c2da0",
     "showTitle": false,
     "tableResultSettingsMap": {},
     "title": ""
    }
   },
   "source": [
    "### This table gives results for Step 3A, 3B"
   ]
  },
  {
   "cell_type": "code",
   "execution_count": 0,
   "metadata": {
    "application/vnd.databricks.v1+cell": {
     "cellMetadata": {
      "byteLimit": 2048000,
      "rowLimit": 10000
     },
     "inputWidgets": {},
     "nuid": "92cb6247-ffc5-4581-83b1-070c19f42287",
     "showTitle": false,
     "tableResultSettingsMap": {
      "0": {
       "filterBlob": "{\"filterGroups\":[],\"syncTimestamp\":1737638558599}",
       "tableResultIndex": 0
      }
     },
     "title": ""
    }
   },
   "outputs": [],
   "source": [
    "display(jivi_hcp_jivi_rx_cnt_in_lookback)"
   ]
  },
  {
   "cell_type": "code",
   "execution_count": 0,
   "metadata": {
    "application/vnd.databricks.v1+cell": {
     "cellMetadata": {
      "byteLimit": 2048000,
      "rowLimit": 10000
     },
     "inputWidgets": {},
     "nuid": "6a375c7f-1ca4-47b7-bc30-e4b08c225fa7",
     "showTitle": false,
     "tableResultSettingsMap": {},
     "title": ""
    }
   },
   "outputs": [],
   "source": [
    "jivi_hcp_jivi_rx_cnt_in_lookback.sum()"
   ]
  },
  {
   "cell_type": "code",
   "execution_count": 0,
   "metadata": {
    "application/vnd.databricks.v1+cell": {
     "cellMetadata": {
      "byteLimit": 2048000,
      "rowLimit": 10000
     },
     "inputWidgets": {},
     "nuid": "c62d0c5e-7597-42bf-8a50-5aca393b65df",
     "showTitle": false,
     "tableResultSettingsMap": {},
     "title": ""
    }
   },
   "outputs": [],
   "source": [
    "jivi_new_writer_hcp_ids = jivi_hcp_jivi_rx_cnt_in_lookback.query('JIVI_NEW_WRITER_FLG == 1 and JIVI_EXISTING_WRITER_FLG == 0')['BH_ID'].tolist()\n",
    "print(len(jivi_new_writer_hcp_ids))"
   ]
  },
  {
   "cell_type": "markdown",
   "metadata": {
    "application/vnd.databricks.v1+cell": {
     "cellMetadata": {
      "byteLimit": 2048000,
      "rowLimit": 10000
     },
     "inputWidgets": {},
     "nuid": "80b7f46e-25b0-4746-82a6-26af0268b7ea",
     "showTitle": false,
     "tableResultSettingsMap": {},
     "title": ""
    }
   },
   "source": [
    "### Check: number of Jivi Rx and Jivi patients per new writer"
   ]
  },
  {
   "cell_type": "code",
   "execution_count": 0,
   "metadata": {
    "application/vnd.databricks.v1+cell": {
     "cellMetadata": {
      "byteLimit": 2048000,
      "rowLimit": 10000
     },
     "inputWidgets": {},
     "nuid": "bd608629-2139-4dbd-a6cc-4354c961146c",
     "showTitle": false,
     "tableResultSettingsMap": {},
     "title": ""
    }
   },
   "outputs": [],
   "source": [
    "filtered_overlap_subset_pdf = overlap_subset_pdf[overlap_subset_pdf['BH_ID'].isin(jivi_new_writer_hcp_ids)]\n",
    "\n",
    "jivi_records_per_bh_id = filtered_overlap_subset_pdf[filtered_overlap_subset_pdf['PRD_NM'] == 'JIVI'].groupby('BH_ID').size().reset_index(name='JIVI_records')\n",
    "jivi_patients_per_bh_id = filtered_overlap_subset_pdf[filtered_overlap_subset_pdf['PRD_NM'] == 'JIVI'].groupby('BH_ID')['PATIENT_ID'].nunique().reset_index(name='JIVI_patients')\n",
    "\n",
    "jivi_new_writers_rx_pat_cnt = pd.merge(jivi_records_per_bh_id, jivi_patients_per_bh_id, on='BH_ID')\n"
   ]
  },
  {
   "cell_type": "code",
   "execution_count": 0,
   "metadata": {
    "application/vnd.databricks.v1+cell": {
     "cellMetadata": {
      "byteLimit": 2048000,
      "rowLimit": 10000
     },
     "inputWidgets": {},
     "nuid": "58690701-78e1-4d30-bc7f-d7cdef95eb4e",
     "showTitle": false,
     "tableResultSettingsMap": {},
     "title": ""
    }
   },
   "outputs": [],
   "source": [
    "display(jivi_new_writers_rx_pat_cnt)"
   ]
  },
  {
   "cell_type": "markdown",
   "metadata": {
    "application/vnd.databricks.v1+cell": {
     "cellMetadata": {
      "byteLimit": 2048000,
      "rowLimit": 10000
     },
     "inputWidgets": {},
     "nuid": "457b1003-e03a-48d7-ba72-85fcc911b234",
     "showTitle": false,
     "tableResultSettingsMap": {},
     "title": ""
    }
   },
   "source": [
    "### Step 4: For forever Non-wrtiers of JIVI\n",
    "1) Get the SHP_DT of the first Rx by HCP in the observation period Jan'23 - Nov'24; You can create a temp variable (e.g. OVP_FST_RX_MTH) to store this info for the ease of next step \n",
    "2) Count the number of Jivi Rx for each HCP in the 24 months window prior to OVP_FST_RX_MTH"
   ]
  },
  {
   "cell_type": "code",
   "execution_count": 0,
   "metadata": {
    "application/vnd.databricks.v1+cell": {
     "cellMetadata": {
      "byteLimit": 2048000,
      "rowLimit": 10000
     },
     "inputWidgets": {},
     "nuid": "60615ab6-c533-4213-900a-dabb83e38163",
     "showTitle": false,
     "tableResultSettingsMap": {},
     "title": ""
    }
   },
   "outputs": [],
   "source": [
    "study_period_other_rx_hcps_data = overlap_subset_pdf[overlap_subset_pdf['BH_ID'].isin(study_period_no_jivi_rx_hcps)]\n",
    "study_period_other_rx_hcps_data.shape"
   ]
  },
  {
   "cell_type": "code",
   "execution_count": 0,
   "metadata": {
    "application/vnd.databricks.v1+cell": {
     "cellMetadata": {
      "byteLimit": 2048000,
      "rowLimit": 10000
     },
     "inputWidgets": {},
     "nuid": "d05e8853-5fb0-444c-b90e-a4ac99024ccb",
     "showTitle": false,
     "tableResultSettingsMap": {},
     "title": ""
    }
   },
   "outputs": [],
   "source": [
    "first_rx_dates = get_first_rx_event(\n",
    "data = study_period_other_rx_hcps_data.copy(),\n",
    "date_col = 'SHP_DT',\n",
    "id_col = 'BH_ID',\n",
    "drg_nm_col = 'PRD_NM',\n",
    "drg_nm=None,\n",
    "study_period_start_date = study_period_start_date,\n",
    "study_period_end_date = study_period_end_date,\n",
    "rx_lookback_months = rx_lookback_months\n",
    ")"
   ]
  },
  {
   "cell_type": "code",
   "execution_count": 0,
   "metadata": {
    "application/vnd.databricks.v1+cell": {
     "cellMetadata": {
      "byteLimit": 2048000,
      "rowLimit": 10000
     },
     "inputWidgets": {},
     "nuid": "50e39687-9294-4977-a049-c527c5369430",
     "showTitle": false,
     "tableResultSettingsMap": {
      "0": {
       "filterBlob": "{\"filterGroups\":[],\"syncTimestamp\":1738595000510}",
       "tableResultIndex": 0
      }
     },
     "title": ""
    }
   },
   "outputs": [],
   "source": [
    "display(first_rx_dates)"
   ]
  },
  {
   "cell_type": "code",
   "execution_count": 0,
   "metadata": {
    "application/vnd.databricks.v1+cell": {
     "cellMetadata": {
      "byteLimit": 2048000,
      "rowLimit": 10000
     },
     "inputWidgets": {},
     "nuid": "c54c640e-099f-43ca-adb9-b761cbd08d99",
     "showTitle": false,
     "tableResultSettingsMap": {},
     "title": ""
    }
   },
   "outputs": [],
   "source": [
    "study_period_other_rx_hcps_with_first_rx = pd.merge(study_period_other_rx_hcps_data.copy(), first_rx_dates, on='BH_ID', how='inner')\n",
    "print(study_period_other_rx_hcps_with_first_rx.shape)"
   ]
  },
  {
   "cell_type": "code",
   "execution_count": 0,
   "metadata": {
    "application/vnd.databricks.v1+cell": {
     "cellMetadata": {
      "byteLimit": 2048000,
      "rowLimit": 10000
     },
     "inputWidgets": {},
     "nuid": "a4b48c7b-e565-432d-94a3-19e11cb911d9",
     "showTitle": false,
     "tableResultSettingsMap": {
      "0": {
       "filterBlob": "{\"filterGroups\":[],\"syncTimestamp\":1738595702088}",
       "tableResultIndex": 0
      }
     },
     "title": ""
    }
   },
   "outputs": [],
   "source": [
    "display(study_period_other_rx_hcps_with_first_rx)"
   ]
  },
  {
   "cell_type": "code",
   "execution_count": 0,
   "metadata": {
    "application/vnd.databricks.v1+cell": {
     "cellMetadata": {
      "byteLimit": 2048000,
      "rowLimit": 10000
     },
     "inputWidgets": {},
     "nuid": "db45b09e-5794-4690-993f-503d6bbf144f",
     "showTitle": false,
     "tableResultSettingsMap": {},
     "title": ""
    }
   },
   "outputs": [],
   "source": [
    "# function to use in apply() on grouped data.\n",
    "def count_records_in_lookback(grouped_data):\n",
    "  jivi_res_df = grouped_data.query('PRD_NM == \"JIVI\" and SHP_YR_MO < OVP_FST_RX_MONTH and SHP_YR_MO >= rx_look_back_start_month')\n",
    "  jivi_rx_cnt = jivi_res_df.shape[0] # Number of Jivi Rx records within the lookback period window\n",
    "  jivi_pat_cnt = jivi_res_df['PATIENT_ID'].nunique()\n",
    "  # checking other prescriptions\n",
    "  other_res_df = grouped_data.query('PRD_NM != \"JIVI\" and SHP_YR_MO < OVP_FST_RX_MONTH and SHP_YR_MO >= rx_look_back_start_month')\n",
    "  other_rx_cnt = other_res_df.shape[0]\n",
    "  other_pat_cnt = other_res_df['PATIENT_ID'].nunique()\n",
    "\n",
    "  res_series = pd.Series({\n",
    "        'jivi_rx_cnt_in_lookback': jivi_rx_cnt,\n",
    "        'jivi_pat_cnt_in_lookback': jivi_pat_cnt,\n",
    "        'other_rx_cnt_in_lookback': other_rx_cnt,\n",
    "        'other_pat_cnt_in_lookback': other_pat_cnt,\n",
    "    })\n",
    "  return res_series"
   ]
  },
  {
   "cell_type": "code",
   "execution_count": 0,
   "metadata": {
    "application/vnd.databricks.v1+cell": {
     "cellMetadata": {
      "byteLimit": 2048000,
      "rowLimit": 10000
     },
     "inputWidgets": {},
     "nuid": "68667adb-65b1-4923-8666-e216c0a9ba11",
     "showTitle": false,
     "tableResultSettingsMap": {},
     "title": ""
    }
   },
   "outputs": [],
   "source": [
    "other_hcp_jivi_rx_cnt_in_lookback = study_period_other_rx_hcps_with_first_rx.groupby('BH_ID').apply(count_records_in_lookback).reset_index()"
   ]
  },
  {
   "cell_type": "code",
   "execution_count": 0,
   "metadata": {
    "application/vnd.databricks.v1+cell": {
     "cellMetadata": {
      "byteLimit": 2048000,
      "rowLimit": 10000
     },
     "inputWidgets": {},
     "nuid": "6af211fb-a081-474d-8786-eda52e9d622e",
     "showTitle": false,
     "tableResultSettingsMap": {},
     "title": ""
    }
   },
   "outputs": [],
   "source": [
    "\"\"\"Data for the HCPs without any Jivi Rx during study period and fullfilling the inclusion criteria of 1 patient from Dec-2019 to Nov-2024. The dataframe contains the count of JIVI RX in the lookback period so that we can identify who is a non-Jivi writer and who is an discontinued writer. It also contains other brand prescriptions in the lookback period just to see if the new writers also had other brand prescriptions in the lookback period. \"\"\"\n",
    "\n",
    "\n",
    "other_hcp_jivi_rx_cnt_in_lookback['JIVI_NEW_WRITER_FLG'] = (\n",
    "    other_hcp_jivi_rx_cnt_in_lookback['jivi_rx_cnt_in_lookback']\n",
    "    .apply(lambda x: 0 if x == 0 else 1)\n",
    ")\n",
    "\n",
    "other_hcp_jivi_rx_cnt_in_lookback['JIVI_DSCTND_WRITER_FLG'] = (other_hcp_jivi_rx_cnt_in_lookback['jivi_rx_cnt_in_lookback'] > 0).astype(int)\n",
    "\n",
    "other_hcp_jivi_rx_cnt_in_lookback['JIVI_NEW_WRITER_FLG'] = (\n",
    "    other_hcp_jivi_rx_cnt_in_lookback['jivi_rx_cnt_in_lookback']\n",
    "    .apply(lambda x: 0 if x > 0 else x)\n",
    ")"
   ]
  },
  {
   "cell_type": "code",
   "execution_count": 0,
   "metadata": {
    "application/vnd.databricks.v1+cell": {
     "cellMetadata": {
      "byteLimit": 2048000,
      "rowLimit": 10000
     },
     "inputWidgets": {},
     "nuid": "1fbc14fd-2ddf-46a0-89d2-d1422b667c9b",
     "showTitle": false,
     "tableResultSettingsMap": {
      "0": {
       "filterBlob": "{\"filterGroups\":[],\"syncTimestamp\":1738595076410}",
       "tableResultIndex": 0
      }
     },
     "title": ""
    }
   },
   "outputs": [],
   "source": [
    "display(other_hcp_jivi_rx_cnt_in_lookback)"
   ]
  },
  {
   "cell_type": "code",
   "execution_count": 0,
   "metadata": {
    "application/vnd.databricks.v1+cell": {
     "cellMetadata": {
      "byteLimit": 2048000,
      "rowLimit": 10000
     },
     "inputWidgets": {},
     "nuid": "b2c89d28-dd78-4411-93d2-a8a6c22cb202",
     "showTitle": false,
     "tableResultSettingsMap": {},
     "title": ""
    }
   },
   "outputs": [],
   "source": [
    "other_hcp_jivi_rx_cnt_in_lookback.sum()"
   ]
  },
  {
   "cell_type": "code",
   "execution_count": 0,
   "metadata": {
    "application/vnd.databricks.v1+cell": {
     "cellMetadata": {
      "byteLimit": 2048000,
      "rowLimit": 10000
     },
     "inputWidgets": {},
     "nuid": "2d40e6c4-faf6-4893-baaf-df137f5f9a05",
     "showTitle": false,
     "tableResultSettingsMap": {},
     "title": ""
    }
   },
   "outputs": [],
   "source": [
    "# Forever non-writers\n",
    "forever_non_writer_hcps = (other_hcp_jivi_rx_cnt_in_lookback['JIVI_DSCTND_WRITER_FLG'] != 1).sum()\n",
    "print(\"Count of forever non-writers (JIVI): \", forever_non_writer_hcps)"
   ]
  },
  {
   "cell_type": "markdown",
   "metadata": {
    "application/vnd.databricks.v1+cell": {
     "cellMetadata": {
      "byteLimit": 2048000,
      "rowLimit": 10000
     },
     "inputWidgets": {},
     "nuid": "0b24402c-63a7-453f-ab30-d45d86270083",
     "showTitle": false,
     "tableResultSettingsMap": {},
     "title": ""
    }
   },
   "source": [
    "### Step 5a: Select Jivi new writers (FLAG_JIVI_NEW_WRITER = 1 & FLAG_JIVI_EXISTING_WRITER = 0); get their OVP_JIVI_MONTH and set COHORT_MONTH = OVP_JIVI_MONTH"
   ]
  },
  {
   "cell_type": "code",
   "execution_count": 0,
   "metadata": {
    "application/vnd.databricks.v1+cell": {
     "cellMetadata": {
      "byteLimit": 2048000,
      "rowLimit": 10000
     },
     "inputWidgets": {},
     "nuid": "910f3d64-3fe2-4455-a50b-6ef628360b01",
     "showTitle": false,
     "tableResultSettingsMap": {},
     "title": ""
    }
   },
   "outputs": [],
   "source": [
    "jivi_new_writer_hcp_ids_w_flag = jivi_hcp_jivi_rx_cnt_in_lookback.query('JIVI_NEW_WRITER_FLG == 1 and JIVI_EXISTING_WRITER_FLG == 0')[['BH_ID', 'JIVI_NEW_WRITER_FLG']]\n",
    "print(jivi_new_writer_hcp_ids_w_flag.shape)"
   ]
  },
  {
   "cell_type": "code",
   "execution_count": 0,
   "metadata": {
    "application/vnd.databricks.v1+cell": {
     "cellMetadata": {
      "byteLimit": 2048000,
      "rowLimit": 10000
     },
     "inputWidgets": {},
     "nuid": "6ca16555-1eb8-4c1e-8d0a-ffc24e1c41c6",
     "showTitle": false,
     "tableResultSettingsMap": {},
     "title": ""
    }
   },
   "outputs": [],
   "source": [
    "# jivi_new_writer_hcp_ids_w_flag_fst_date= pd.merge(jivi_new_writer_hcp_ids_w_flag, \n",
    "#                                                   jivi_first_rx_dates[['BH_ID', 'OVP_FST_JIVI_MONTH']], \n",
    "#                                                   on='BH_ID', how='inner')\n",
    "# print(jivi_new_writer_hcp_ids_w_flag_fst_date.shape)"
   ]
  },
  {
   "cell_type": "code",
   "execution_count": 0,
   "metadata": {
    "application/vnd.databricks.v1+cell": {
     "cellMetadata": {
      "byteLimit": 2048000,
      "rowLimit": 10000
     },
     "inputWidgets": {},
     "nuid": "138e4b66-4c59-4b38-b9e0-f22c4e4fc8a0",
     "showTitle": false,
     "tableResultSettingsMap": {},
     "title": ""
    }
   },
   "outputs": [],
   "source": [
    "jivi_new_writer_hcp_ids_w_flag_fst_date= pd.merge(jivi_new_writer_hcp_ids_w_flag, \n",
    "                                                  study_period_jivi_rx_hcps_with_first_rx[['BH_ID', 'OVP_FST_JIVI_MONTH']].drop_duplicates(subset='BH_ID', keep='first'), \n",
    "                                                  on='BH_ID', how='inner')\n",
    "print(jivi_new_writer_hcp_ids_w_flag_fst_date.shape)"
   ]
  },
  {
   "cell_type": "code",
   "execution_count": 0,
   "metadata": {
    "application/vnd.databricks.v1+cell": {
     "cellMetadata": {
      "byteLimit": 2048000,
      "rowLimit": 10000
     },
     "inputWidgets": {},
     "nuid": "3a90d0a5-8d99-4bbd-852c-f94d8593b8c1",
     "showTitle": false,
     "tableResultSettingsMap": {},
     "title": ""
    }
   },
   "outputs": [],
   "source": [
    "jivi_new_writer_hcp_ids_w_flag_fst_date.rename(columns={'OVP_FST_JIVI_MONTH': 'COHORT_MONTH'}, inplace=True)\n",
    "# re-ordering columns\n",
    "jivi_new_writer_hcp_ids_w_flag_fst_date = jivi_new_writer_hcp_ids_w_flag_fst_date[['BH_ID', 'COHORT_MONTH', 'JIVI_NEW_WRITER_FLG']]"
   ]
  },
  {
   "cell_type": "code",
   "execution_count": 0,
   "metadata": {
    "application/vnd.databricks.v1+cell": {
     "cellMetadata": {
      "byteLimit": 2048000,
      "rowLimit": 10000
     },
     "inputWidgets": {},
     "nuid": "705ce4cd-cf8a-45a5-99a2-b59bf76c4d51",
     "showTitle": false,
     "tableResultSettingsMap": {},
     "title": ""
    }
   },
   "outputs": [],
   "source": [
    "jivi_new_writer_hcp_ids_w_flag_fst_date.display()"
   ]
  },
  {
   "cell_type": "markdown",
   "metadata": {
    "application/vnd.databricks.v1+cell": {
     "cellMetadata": {
      "byteLimit": 2048000,
      "rowLimit": 10000
     },
     "inputWidgets": {},
     "nuid": "24c7084f-1b3b-4fa9-b1c3-1bf81a318cf4",
     "showTitle": false,
     "tableResultSettingsMap": {},
     "title": ""
    }
   },
   "source": [
    "### Step 5b: Select non writers (FLAG_JIVI_NEW_WRITER = 0 & FLAG_JIVI_DSCTND_WRITER = 0), create COHORT_MONTH for each HCP if there are Rx activities from the HCP at that COHORT_MONTH"
   ]
  },
  {
   "cell_type": "code",
   "execution_count": 0,
   "metadata": {
    "application/vnd.databricks.v1+cell": {
     "cellMetadata": {
      "byteLimit": 2048000,
      "rowLimit": 10000
     },
     "inputWidgets": {},
     "nuid": "bef7507f-e53b-44af-a8c6-65285a18ea2a",
     "showTitle": false,
     "tableResultSettingsMap": {},
     "title": ""
    }
   },
   "outputs": [],
   "source": [
    "forever_non_writer_hcp_ids_w_flag = other_hcp_jivi_rx_cnt_in_lookback.query('JIVI_NEW_WRITER_FLG == 0 and JIVI_DSCTND_WRITER_FLG == 0')[['BH_ID', 'JIVI_NEW_WRITER_FLG']]\n",
    "print(forever_non_writer_hcp_ids_w_flag.shape)"
   ]
  },
  {
   "cell_type": "code",
   "execution_count": 0,
   "metadata": {
    "application/vnd.databricks.v1+cell": {
     "cellMetadata": {
      "byteLimit": 2048000,
      "rowLimit": 10000
     },
     "inputWidgets": {},
     "nuid": "27bbc236-2f5c-4bf3-828a-70ba55162016",
     "showTitle": false,
     "tableResultSettingsMap": {},
     "title": ""
    }
   },
   "outputs": [],
   "source": [
    "forever_non_writer_hcp_ids_w_flag_fst_date= pd.merge(forever_non_writer_hcp_ids_w_flag, \n",
    "                                                  study_period_other_rx_hcps_with_first_rx[['BH_ID', 'OVP_FST_RX_MONTH']].drop_duplicates(subset='BH_ID', keep='first'), \n",
    "                                                  on='BH_ID', how='inner')\n",
    "print(forever_non_writer_hcp_ids_w_flag_fst_date.shape)"
   ]
  },
  {
   "cell_type": "code",
   "execution_count": 0,
   "metadata": {
    "application/vnd.databricks.v1+cell": {
     "cellMetadata": {
      "byteLimit": 2048000,
      "rowLimit": 10000
     },
     "inputWidgets": {},
     "nuid": "6a39ed74-0224-4d58-8a2f-1edeacdb6970",
     "showTitle": false,
     "tableResultSettingsMap": {},
     "title": ""
    }
   },
   "outputs": [],
   "source": [
    "forever_non_writer_hcp_ids_w_flag_fst_date.rename(columns={'OVP_FST_RX_MONTH': 'COHORT_MONTH'}, inplace=True)\n",
    "# re-ordering columns\n",
    "forever_non_writer_hcp_ids_w_flag_fst_date = forever_non_writer_hcp_ids_w_flag_fst_date[['BH_ID', 'COHORT_MONTH', 'JIVI_NEW_WRITER_FLG']]"
   ]
  },
  {
   "cell_type": "code",
   "execution_count": 0,
   "metadata": {
    "application/vnd.databricks.v1+cell": {
     "cellMetadata": {
      "byteLimit": 2048000,
      "rowLimit": 10000
     },
     "inputWidgets": {},
     "nuid": "db6dfee0-7978-40e3-ae25-3fd9b17fbaf9",
     "showTitle": false,
     "tableResultSettingsMap": {},
     "title": ""
    }
   },
   "outputs": [],
   "source": [
    "display(forever_non_writer_hcp_ids_w_flag_fst_date)"
   ]
  },
  {
   "cell_type": "code",
   "execution_count": 0,
   "metadata": {
    "application/vnd.databricks.v1+cell": {
     "cellMetadata": {
      "byteLimit": 2048000,
      "rowLimit": 10000
     },
     "inputWidgets": {},
     "nuid": "9869dc99-ad53-4467-8ec4-4bbee81f86d9",
     "showTitle": false,
     "tableResultSettingsMap": {},
     "title": ""
    }
   },
   "outputs": [],
   "source": [
    "# Concatenating the dataframes\n",
    "hcp_target_spine = pd.concat([jivi_new_writer_hcp_ids_w_flag_fst_date, forever_non_writer_hcp_ids_w_flag_fst_date])\n",
    "display(hcp_target_spine)"
   ]
  },
  {
   "cell_type": "code",
   "execution_count": 0,
   "metadata": {
    "application/vnd.databricks.v1+cell": {
     "cellMetadata": {
      "byteLimit": 2048000,
      "rowLimit": 10000
     },
     "inputWidgets": {},
     "nuid": "f31c1244-4040-44a1-b566-001017e37748",
     "showTitle": false,
     "tableResultSettingsMap": {},
     "title": ""
    }
   },
   "outputs": [],
   "source": [
    "print(hcp_target_spine.shape)"
   ]
  },
  {
   "cell_type": "code",
   "execution_count": 0,
   "metadata": {
    "application/vnd.databricks.v1+cell": {
     "cellMetadata": {
      "byteLimit": 2048000,
      "rowLimit": 10000
     },
     "inputWidgets": {},
     "nuid": "9725fb0e-ac34-477d-8cfc-e0b8ab773193",
     "showTitle": false,
     "tableResultSettingsMap": {},
     "title": ""
    }
   },
   "outputs": [],
   "source": [
    "hcp_target_spine[hcp_target_spine.BH_ID.duplicated()]"
   ]
  },
  {
   "cell_type": "code",
   "execution_count": 0,
   "metadata": {
    "application/vnd.databricks.v1+cell": {
     "cellMetadata": {
      "byteLimit": 2048000,
      "rowLimit": 10000
     },
     "inputWidgets": {},
     "nuid": "78b62b75-ce53-404f-945b-040820e030d8",
     "showTitle": false,
     "tableResultSettingsMap": {},
     "title": ""
    }
   },
   "outputs": [],
   "source": [
    "hcp_target_spine_sdf = spark.createDataFrame(hcp_target_spine)"
   ]
  },
  {
   "cell_type": "code",
   "execution_count": 0,
   "metadata": {
    "application/vnd.databricks.v1+cell": {
     "cellMetadata": {
      "byteLimit": 2048000,
      "rowLimit": 10000
     },
     "inputWidgets": {},
     "nuid": "cbd3e18f-cd3c-4a0d-9926-5f44ac1dfcdd",
     "showTitle": false,
     "tableResultSettingsMap": {},
     "title": ""
    }
   },
   "outputs": [],
   "source": [
    "# save_sdf(hcp_target_spine_sdf, 'heme_data', 'hcp_target_spine')"
   ]
  },
  {
   "cell_type": "code",
   "execution_count": 0,
   "metadata": {
    "application/vnd.databricks.v1+cell": {
     "cellMetadata": {
      "byteLimit": 2048000,
      "rowLimit": 10000
     },
     "inputWidgets": {},
     "nuid": "6f13c78f-366e-452d-b500-95ed60a3f096",
     "showTitle": false,
     "tableResultSettingsMap": {},
     "title": ""
    }
   },
   "outputs": [],
   "source": [
    "set1 = set(jivi_new_writer_hcp_ids_w_flag_fst_date.BH_ID)\n",
    "set2 = set(forever_non_writer_hcp_ids_w_flag_fst_date.BH_ID)\n",
    "len(set2.intersection(set1))"
   ]
  },
  {
   "cell_type": "code",
   "execution_count": 0,
   "metadata": {
    "application/vnd.databricks.v1+cell": {
     "cellMetadata": {
      "byteLimit": 2048000,
      "rowLimit": 10000
     },
     "inputWidgets": {},
     "nuid": "6a6c460d-af75-4a29-83df-0c59165c5ca9",
     "showTitle": false,
     "tableResultSettingsMap": {},
     "title": ""
    }
   },
   "outputs": [],
   "source": [
    "print(len(set1))\n",
    "print(len(set2))"
   ]
  },
  {
   "cell_type": "code",
   "execution_count": 0,
   "metadata": {
    "application/vnd.databricks.v1+cell": {
     "cellMetadata": {
      "byteLimit": 2048000,
      "rowLimit": 10000
     },
     "inputWidgets": {},
     "nuid": "a3fb3ace-0287-4cf8-95ed-ea371e1c7b92",
     "showTitle": false,
     "tableResultSettingsMap": {},
     "title": ""
    }
   },
   "outputs": [],
   "source": [
    "# Group by COHORT_MONTH and JIVI_NEW_WRITER_FLG, then count the occurrences\n",
    "monthly_counts = (\n",
    "    hcp_target_spine_sdf\n",
    "    .groupBy('COHORT_MONTH', 'JIVI_NEW_WRITER_FLG')\n",
    "    .count()\n",
    ")\n",
    "\n",
    "# Pivot the data to get a wide format\n",
    "wide_format_counts = (\n",
    "    monthly_counts\n",
    "    .groupBy('COHORT_MONTH')\n",
    "    .pivot('JIVI_NEW_WRITER_FLG')\n",
    "    .sum('count')\n",
    "    .orderBy('COHORT_MONTH')\n",
    "    .withColumnRenamed('0', 'jivi_non_writers_cnt')\n",
    "    .withColumnRenamed('1', 'jivi_new_writers_cnt')\n",
    ")\n",
    "\n",
    "display(wide_format_counts)"
   ]
  }
 ],
 "metadata": {
  "application/vnd.databricks.v1+notebook": {
   "computePreferences": null,
   "dashboards": [],
   "environmentMetadata": {
    "base_environment": "",
    "environment_version": "2"
   },
   "language": "python",
   "notebookMetadata": {
    "pythonIndentUnit": 2
   },
   "notebookName": "a01_hcp_target_monthly_spine_without_incl_crit",
   "widgets": {}
  },
  "language_info": {
   "name": "python"
  }
 },
 "nbformat": 4,
 "nbformat_minor": 0
}
