{
 "cells": [
  {
   "cell_type": "code",
   "execution_count": 0,
   "metadata": {
    "application/vnd.databricks.v1+cell": {
     "cellMetadata": {
      "byteLimit": 2048000,
      "rowLimit": 10000
     },
     "inputWidgets": {},
     "nuid": "348977ca-8eb9-4cb3-9848-cb859a07f0b2",
     "showTitle": false,
     "tableResultSettingsMap": {},
     "title": ""
    }
   },
   "outputs": [],
   "source": [
    "from pyspark.sql import functions as F # Importing functions from pyspark.sql\n",
    "from pyspark.sql.functions import *\n",
    "from pyspark.sql import Window\n",
    "import pandas as pd\n",
    "from pyspark.sql.functions import col, concat, lit"
   ]
  },
  {
   "cell_type": "code",
   "execution_count": 0,
   "metadata": {
    "application/vnd.databricks.v1+cell": {
     "cellMetadata": {
      "byteLimit": 2048000,
      "rowLimit": 10000
     },
     "inputWidgets": {},
     "nuid": "4447f19c-b526-4446-82ea-681c22bae625",
     "showTitle": false,
     "tableResultSettingsMap": {},
     "title": ""
    }
   },
   "outputs": [],
   "source": [
    "%run \"/Workspace/Repos/yuan.niu@bayer.com/heme_new_writer_models_dev_repo/02_data_processing/helper_functions\""
   ]
  },
  {
   "cell_type": "code",
   "execution_count": 0,
   "metadata": {
    "application/vnd.databricks.v1+cell": {
     "cellMetadata": {
      "byteLimit": 2048000,
      "rowLimit": 10000
     },
     "inputWidgets": {},
     "nuid": "d499cef6-c0c8-4eec-9c8b-fbce8f08f2c6",
     "showTitle": false,
     "tableResultSettingsMap": {},
     "title": ""
    }
   },
   "outputs": [],
   "source": [
    "%run \"../00_config/set-up\""
   ]
  },
  {
   "cell_type": "markdown",
   "metadata": {
    "application/vnd.databricks.v1+cell": {
     "cellMetadata": {
      "batchId": -5979655397828700,
      "byteLimit": 2048000,
      "rowLimit": 10000
     },
     "inputWidgets": {},
     "nuid": "a79f7076-99f0-4ecb-874a-32fb9f30822a",
     "showTitle": false,
     "tableResultSettingsMap": {},
     "title": ""
    }
   },
   "source": [
    "### Load data"
   ]
  },
  {
   "cell_type": "code",
   "execution_count": 0,
   "metadata": {
    "application/vnd.databricks.v1+cell": {
     "cellMetadata": {
      "byteLimit": 2048000,
      "rowLimit": 10000
     },
     "inputWidgets": {},
     "nuid": "8d8cd777-9b3f-4799-af3c-f69b46f8f401",
     "showTitle": false,
     "tableResultSettingsMap": {},
     "title": ""
    }
   },
   "outputs": [],
   "source": [
    "MDM_STG_SPCLTY_XREF = get_data_snowflake(\n",
    "f\"\"\"\n",
    "  SELECT * FROM PHCDW.PHCDW_STG.MDM_STG_SPCLTY_XREF\n",
    "\"\"\"\n",
    ")\n",
    "print(MDM_STG_SPCLTY_XREF.count(), len(MDM_STG_SPCLTY_XREF.columns))"
   ]
  },
  {
   "cell_type": "code",
   "execution_count": 0,
   "metadata": {
    "application/vnd.databricks.v1+cell": {
     "cellMetadata": {
      "byteLimit": 2048000,
      "rowLimit": 10000
     },
     "inputWidgets": {},
     "nuid": "b22a394a-1ef0-430b-8ce8-ec79c8f28920",
     "showTitle": false,
     "tableResultSettingsMap": {},
     "title": ""
    }
   },
   "outputs": [],
   "source": [
    "hcp_demo = spark.sql(\"SELECT * FROM heme_data.hcp_demo\")\n",
    "print(hcp_demo.count(), len(hcp_demo.columns))"
   ]
  },
  {
   "cell_type": "code",
   "execution_count": 0,
   "metadata": {
    "application/vnd.databricks.v1+cell": {
     "cellMetadata": {
      "byteLimit": 2048000,
      "rowLimit": 10000
     },
     "inputWidgets": {},
     "nuid": "154c9f14-0229-444e-ad1e-18a80bcbe302",
     "showTitle": false,
     "tableResultSettingsMap": {},
     "title": ""
    }
   },
   "outputs": [],
   "source": [
    "display(hcp_demo)"
   ]
  },
  {
   "cell_type": "code",
   "execution_count": 0,
   "metadata": {
    "application/vnd.databricks.v1+cell": {
     "cellMetadata": {
      "byteLimit": 2048000,
      "rowLimit": 10000
     },
     "inputWidgets": {},
     "nuid": "0ad80f53-f54f-4374-8a6e-2d102748bb8e",
     "showTitle": false,
     "tableResultSettingsMap": {},
     "title": ""
    }
   },
   "outputs": [],
   "source": [
    "hcp_demo.select('SPECIALTY_1').distinct().show()"
   ]
  },
  {
   "cell_type": "code",
   "execution_count": 0,
   "metadata": {
    "application/vnd.databricks.v1+cell": {
     "cellMetadata": {
      "byteLimit": 2048000,
      "rowLimit": 10000
     },
     "inputWidgets": {},
     "nuid": "b7782aea-485b-4371-a291-31d2f23feb65",
     "showTitle": false,
     "tableResultSettingsMap": {},
     "title": ""
    }
   },
   "outputs": [],
   "source": [
    "display(hcp_demo.limit(20))"
   ]
  },
  {
   "cell_type": "code",
   "execution_count": 0,
   "metadata": {
    "application/vnd.databricks.v1+cell": {
     "cellMetadata": {
      "byteLimit": 2048000,
      "rowLimit": 10000
     },
     "inputWidgets": {},
     "nuid": "108dc220-cb13-460d-a286-9e06087ed039",
     "showTitle": false,
     "tableResultSettingsMap": {},
     "title": ""
    }
   },
   "outputs": [],
   "source": [
    "hcp_affl = spark.sql(\"SELECT * FROM heme_data.hcp_affl\")"
   ]
  },
  {
   "cell_type": "code",
   "execution_count": 0,
   "metadata": {
    "application/vnd.databricks.v1+cell": {
     "cellMetadata": {
      "byteLimit": 2048000,
      "rowLimit": 10000
     },
     "inputWidgets": {},
     "nuid": "efa9c21b-eeed-4c7d-88cb-db713f6418cb",
     "showTitle": false,
     "tableResultSettingsMap": {},
     "title": ""
    }
   },
   "outputs": [],
   "source": [
    "hcp_affl.filter(col('HMT_BU_RANKING')!=col('ENTERPRISE_RANK')).select(\"BH_ID\",\"BHO_ID\",'HMT_BU_RANKING','ENTERPRISE_RANK').display()"
   ]
  },
  {
   "cell_type": "code",
   "execution_count": 0,
   "metadata": {
    "application/vnd.databricks.v1+cell": {
     "cellMetadata": {
      "byteLimit": 2048000,
      "rowLimit": 10000
     },
     "inputWidgets": {},
     "nuid": "5d3a9767-2874-419c-9aef-6ea302daf7ce",
     "showTitle": false,
     "tableResultSettingsMap": {},
     "title": ""
    }
   },
   "outputs": [],
   "source": [
    "hcp_hco_count = hcp_affl.groupby(\"BH_ID\").agg(countDistinct(\"BHO_ID\").alias(\"HCO_CNT\"))"
   ]
  },
  {
   "cell_type": "code",
   "execution_count": 0,
   "metadata": {
    "application/vnd.databricks.v1+cell": {
     "cellMetadata": {
      "byteLimit": 2048000,
      "rowLimit": 10000
     },
     "inputWidgets": {},
     "nuid": "daffa8a4-46fa-4a2d-a5ba-ccc29a4fd87f",
     "showTitle": false,
     "tableResultSettingsMap": {},
     "title": ""
    }
   },
   "outputs": [],
   "source": [
    "acct_demo = spark.sql(\"SELECT * FROM heme_data.acct_demo\")"
   ]
  },
  {
   "cell_type": "code",
   "execution_count": 0,
   "metadata": {
    "application/vnd.databricks.v1+cell": {
     "cellMetadata": {
      "byteLimit": 2048000,
      "rowLimit": 10000
     },
     "inputWidgets": {},
     "nuid": "e0cf12fb-a0a5-4e7d-8bdd-36aba9bba36e",
     "showTitle": false,
     "tableResultSettingsMap": {},
     "title": ""
    }
   },
   "outputs": [],
   "source": [
    "acct_demo = get_data_snowflake(\n",
    "f\"\"\"\n",
    "  SELECT * FROM PHCDW.PHCDW_STG.MDM_STG_ACCT_PRFL\n",
    "\"\"\"\n",
    ")\n",
    "print(acct_demo.count(), len(acct_demo.columns))"
   ]
  },
  {
   "cell_type": "code",
   "execution_count": 0,
   "metadata": {
    "application/vnd.databricks.v1+cell": {
     "cellMetadata": {
      "byteLimit": 2048000,
      "rowLimit": 10000
     },
     "inputWidgets": {},
     "nuid": "314c1910-4386-407b-a020-350b409d7863",
     "showTitle": false,
     "tableResultSettingsMap": {},
     "title": ""
    }
   },
   "outputs": [],
   "source": [
    "overlap_raw_data = spark.sql(\"SELECT * FROM heme_data.overlap_rx\")\n",
    "# Converting the original overlap data spark dataframe to pandas dataframe\n",
    "\"\"\" Convert DecimalType columns to float to avoid UserWarning: The conversion of DecimalType columns is inefficient and may take a long time. Column names: [IU, PTD_FNL_CLM_AMT] If those columns are not necessary, you may consider dropping them or converting to primitive types before the conversion.\"\"\"\n",
    "overlap_raw_data = overlap_raw_data.withColumn(\"IU\", overlap_raw_data[\"IU\"].cast(\"float\"))\n",
    "# creat yyyy-MM column\n",
    "overlap_raw_data = overlap_raw_data.withColumn(\"SHP_YR_MO\",F.date_format(\"SHP_DT\", \"yyyy-MM\"))\n",
    "print('Row count: ', overlap_raw_data.count(), 'Column Count: ', len(overlap_raw_data.columns))"
   ]
  },
  {
   "cell_type": "code",
   "execution_count": 0,
   "metadata": {
    "application/vnd.databricks.v1+cell": {
     "cellMetadata": {
      "byteLimit": 2048000,
      "rowLimit": 10000
     },
     "inputWidgets": {},
     "nuid": "1b5932b5-023e-41da-be82-fbce0b47c06c",
     "showTitle": false,
     "tableResultSettingsMap": {},
     "title": ""
    }
   },
   "outputs": [],
   "source": [
    "overlap_hcp_hco_count = overlap_raw_data.select(\"BH_ID\").distinct().join(hcp_hco_count, on = ['BH_ID'],how='left')"
   ]
  },
  {
   "cell_type": "code",
   "execution_count": 0,
   "metadata": {
    "application/vnd.databricks.v1+cell": {
     "cellMetadata": {
      "byteLimit": 2048000,
      "rowLimit": 10000
     },
     "inputWidgets": {},
     "nuid": "cf8d93af-b76f-4f26-a0f2-cbc3b6365e79",
     "showTitle": false,
     "tableResultSettingsMap": {},
     "title": ""
    }
   },
   "outputs": [],
   "source": [
    "overlap_hcp_spec = overlap_raw_data.select(\"BH_ID\").distinct().join(hcp_demo.select('BH_ID',\"SPECIALTY_1\",'SPECIALTY_2','SPECIALTY_3'), on = ['BH_ID'],how='left')\n"
   ]
  },
  {
   "cell_type": "code",
   "execution_count": 0,
   "metadata": {
    "application/vnd.databricks.v1+cell": {
     "cellMetadata": {
      "byteLimit": 2048000,
      "rowLimit": 10000
     },
     "inputWidgets": {},
     "nuid": "236db918-99b9-4cea-b818-ca3261f9263b",
     "showTitle": false,
     "tableResultSettingsMap": {},
     "title": ""
    }
   },
   "outputs": [],
   "source": [
    "MDM_STG_SPCLTY_XREF.filter(col(\"SPECIALTY_CODE\").isin(['HO','ON','PHO','PD','GE','ADU','HEP'])).display()"
   ]
  },
  {
   "cell_type": "code",
   "execution_count": 0,
   "metadata": {
    "application/vnd.databricks.v1+cell": {
     "cellMetadata": {
      "byteLimit": 2048000,
      "rowLimit": 10000
     },
     "inputWidgets": {},
     "nuid": "b07b810f-33a6-4444-8bc1-5f553770cab6",
     "showTitle": false,
     "tableResultSettingsMap": {},
     "title": ""
    }
   },
   "outputs": [],
   "source": [
    "resonable_spec = ['HO','ON','PHO','HEM','HEP']\n",
    "#ADU ->PCP,AC"
   ]
  },
  {
   "cell_type": "code",
   "execution_count": 0,
   "metadata": {
    "application/vnd.databricks.v1+cell": {
     "cellMetadata": {},
     "inputWidgets": {},
     "nuid": "27d46e8c-1f27-4037-aaef-9b63183572e9",
     "showTitle": false,
     "tableResultSettingsMap": {},
     "title": ""
    }
   },
   "outputs": [],
   "source": [
    "'GP','FM','PD','IM'"
   ]
  },
  {
   "cell_type": "code",
   "execution_count": 0,
   "metadata": {
    "application/vnd.databricks.v1+cell": {
     "cellMetadata": {
      "byteLimit": 2048000,
      "rowLimit": 10000
     },
     "inputWidgets": {},
     "nuid": "bb7ed36f-daf5-46e3-85f4-b0c28389ef7f",
     "showTitle": false,
     "tableResultSettingsMap": {},
     "title": ""
    }
   },
   "outputs": [],
   "source": [
    "overlap_hcp_spec.groupby(\"SPECIALTY_1\").agg(countDistinct(\"BH_ID\").alias(\"HCP_CNT\")).display()"
   ]
  },
  {
   "cell_type": "code",
   "execution_count": 0,
   "metadata": {
    "application/vnd.databricks.v1+cell": {
     "cellMetadata": {
      "byteLimit": 2048000,
      "rowLimit": 10000
     },
     "inputWidgets": {},
     "nuid": "04f070f1-c358-4c1e-bed4-73a44d40d1a9",
     "showTitle": false,
     "tableResultSettingsMap": {},
     "title": ""
    }
   },
   "outputs": [],
   "source": [
    "overlap_hcp_hco_count.approxQuantile(\"HCO_CNT\", [0.25, 0.5, 0.75], 0.01)"
   ]
  },
  {
   "cell_type": "code",
   "execution_count": 0,
   "metadata": {
    "application/vnd.databricks.v1+cell": {
     "cellMetadata": {
      "byteLimit": 2048000,
      "rowLimit": 10000
     },
     "inputWidgets": {},
     "nuid": "9f0576a4-9d9b-454c-b83d-e1282dc2d59b",
     "showTitle": false,
     "tableResultSettingsMap": {},
     "title": ""
    }
   },
   "outputs": [],
   "source": [
    "overlap_hcp_hco_count.select(\"HCO_CNT\").describe().show()"
   ]
  },
  {
   "cell_type": "code",
   "execution_count": 0,
   "metadata": {
    "application/vnd.databricks.v1+cell": {
     "cellMetadata": {
      "byteLimit": 2048000,
      "rowLimit": 10000
     },
     "inputWidgets": {},
     "nuid": "77c0155a-9be2-4dda-965b-a0a7f69831ee",
     "showTitle": false,
     "tableResultSettingsMap": {},
     "title": ""
    }
   },
   "outputs": [],
   "source": [
    "print(\"% of hcps are associated with multiple HCOs: \", overlap_hcp_hco_count.filter(col(\"HCO_CNT\")>1).count()/overlap_hcp_hco_count.count())"
   ]
  },
  {
   "cell_type": "code",
   "execution_count": 0,
   "metadata": {
    "application/vnd.databricks.v1+cell": {
     "cellMetadata": {
      "byteLimit": 2048000,
      "rowLimit": 10000
     },
     "inputWidgets": {},
     "nuid": "9bfd72bb-77d1-4e59-9fbb-af28598842a0",
     "showTitle": false,
     "tableResultSettingsMap": {},
     "title": ""
    }
   },
   "outputs": [],
   "source": [
    "def long_to_wide(df, group_cols, pivot_col, agg_col, agg_func):\n",
    "    \"\"\"\n",
    "    group_cols: groupby columns\n",
    "\n",
    "    \"\"\"\n",
    "    df_pivot = (df.groupBy(group_cols)\n",
    "                  .pivot(pivot_col)\n",
    "                  .agg({agg_col: agg_func})).cache()\n",
    "    # Rename the columns to add the category names to column names\n",
    "\n",
    "    renamed_columns = [col(c).alias(f\"{agg_col}_{c}\") if c not in group_cols else col(c)\n",
    "                       for c in df_pivot.columns]\n",
    "\n",
    "    df_pivot = df_pivot.select(\n",
    "    *renamed_columns).cache()\n",
    "\n",
    "   \n",
    "    return df_pivot"
   ]
  },
  {
   "cell_type": "code",
   "execution_count": 0,
   "metadata": {
    "application/vnd.databricks.v1+cell": {
     "cellMetadata": {
      "byteLimit": 2048000,
      "rowLimit": 10000
     },
     "inputWidgets": {},
     "nuid": "a169facf-4fe4-47e7-862c-b0a148caeecd",
     "showTitle": false,
     "tableResultSettingsMap": {},
     "title": ""
    }
   },
   "outputs": [],
   "source": [
    "def calc_cumulative_sums_excl_current(df, id_col, date_col, value_col):\n",
    "    \"\"\"\n",
    "    Calculate cumulative sums over past 1, 3, 6, 9, and 12 records for each BAYER_HCP_ID, excluding the current record.\n",
    "\n",
    "    Parameters:\n",
    "    df (DataFrame): The input DataFrame containing the data.\n",
    "    id_col (str): The column name used for partitioning the data (e.g., 'BAYER_HCP_ID').\n",
    "    date_col (str): The column name used for ordering the data within each partition (e.g., 'CALL_MONTH').\n",
    "    value_col (str): The column name whose values will be summed (e.g., 'call_cnt').\n",
    "\n",
    "    Returns:\n",
    "    DataFrame: The DataFrame with additional columns for cumulative sums over past 1, 3, 6, 9, and 12 records, excluding the current record.\n",
    "    \"\"\"\n",
    "\n",
    "    window_specs = {\n",
    "        #f\"{value_col}_cumsum_last_1M\": Window.partitionBy(id_col).orderBy(date_col).rowsBetween(-1, -1),\n",
    "        f\"{value_col}_cumsum_last_3M\": Window.partitionBy(id_col).orderBy(date_col).rowsBetween(-3, -1),\n",
    "        f\"{value_col}_cumsum_last_6M\": Window.partitionBy(id_col).orderBy(date_col).rowsBetween(-6, -1),\n",
    "        f\"{value_col}_cumsum_last_9M\": Window.partitionBy(id_col).orderBy(date_col).rowsBetween(-9, -1),\n",
    "        f\"{value_col}_cumsum_last_12M\": Window.partitionBy(id_col).orderBy(date_col).rowsBetween(-12, -1)\n",
    "    }\n",
    "    \n",
    "    for sum_col, window_spec in window_specs.items():\n",
    "        df = df.withColumn(sum_col, F.sum(value_col).over(window_spec))\n",
    "    \n",
    "    return df"
   ]
  },
  {
   "cell_type": "code",
   "execution_count": 0,
   "metadata": {
    "application/vnd.databricks.v1+cell": {
     "cellMetadata": {
      "byteLimit": 2048000,
      "rowLimit": 10000
     },
     "inputWidgets": {},
     "nuid": "c00ae18d-adf4-4c15-b2ce-240a599c2963",
     "showTitle": false,
     "tableResultSettingsMap": {},
     "title": ""
    }
   },
   "outputs": [],
   "source": [
    "display(overlap_raw_data.limit(20))"
   ]
  },
  {
   "cell_type": "markdown",
   "metadata": {
    "application/vnd.databricks.v1+cell": {
     "cellMetadata": {
      "batchId": -5979655397828700,
      "byteLimit": 2048000,
      "rowLimit": 10000
     },
     "inputWidgets": {},
     "nuid": "5a2f9ebe-876d-4e14-ab24-e51fa69dfee6",
     "showTitle": false,
     "tableResultSettingsMap": {},
     "title": ""
    }
   },
   "source": [
    "### HCP Specialty:\n",
    "1) Hematology (HEM, HEP), 2) Hem/Onc (HO, ON), 3) Pediatric Hem/Onc (PHO), 4) Internal Medicine (Family medicine, general practitioner) - this group may emerge as needed after we check the Speicalty_2 and _3; 5) Others - not in above "
   ]
  },
  {
   "cell_type": "code",
   "execution_count": 0,
   "metadata": {
    "application/vnd.databricks.v1+cell": {
     "cellMetadata": {
      "byteLimit": 2048000,
      "rowLimit": 10000
     },
     "inputWidgets": {},
     "nuid": "8a2edb84-3e03-4501-83ce-f2d704a330e2",
     "showTitle": false,
     "tableResultSettingsMap": {},
     "title": ""
    }
   },
   "outputs": [],
   "source": [
    "hcp_specialty = hcp_demo.select(\"BH_ID\",'SPECIALTY_1').distinct()"
   ]
  },
  {
   "cell_type": "code",
   "execution_count": 0,
   "metadata": {
    "application/vnd.databricks.v1+cell": {
     "cellMetadata": {
      "byteLimit": 2048000,
      "rowLimit": 10000
     },
     "inputWidgets": {},
     "nuid": "d996a3bb-cbda-4e12-a308-4271520a97f7",
     "showTitle": false,
     "tableResultSettingsMap": {},
     "title": ""
    }
   },
   "outputs": [],
   "source": [
    "hcp_specialty.groupby(\"BH_ID\").agg(countDistinct(\"SPECIALTY_1\").alias(\"HCP_SPECIALTY_COUNT\")).filter(col(\"HCP_SPECIALTY_COUNT\") > 1).show()"
   ]
  },
  {
   "cell_type": "markdown",
   "metadata": {
    "application/vnd.databricks.v1+cell": {
     "cellMetadata": {
      "byteLimit": 2048000,
      "rowLimit": 10000
     },
     "inputWidgets": {},
     "nuid": "5f9deb52-9e74-401e-8174-af8f9ab198f4",
     "showTitle": false,
     "tableResultSettingsMap": {},
     "title": ""
    }
   },
   "source": [
    "#### HCP Affiliation with institution flag"
   ]
  },
  {
   "cell_type": "code",
   "execution_count": 0,
   "metadata": {
    "application/vnd.databricks.v1+cell": {
     "cellMetadata": {
      "byteLimit": 2048000,
      "rowLimit": 10000
     },
     "inputWidgets": {},
     "nuid": "e2c3512d-d998-49d9-8b1f-9a0c6f082a45",
     "showTitle": false,
     "tableResultSettingsMap": {},
     "title": ""
    }
   },
   "outputs": [],
   "source": [
    "hcp_aff_wi_insn = (overlap_raw_data\n",
    "                   .filter(col(\"INSN_NM\").isNotNull())\n",
    "                   .withColumn(\"AFFL_WI_INSN\",lit(1))\n",
    "                   .select(\"BH_ID\",\"SHP_YR_MO\", 'AFFL_WI_INSN').distinct()).cache()"
   ]
  },
  {
   "cell_type": "code",
   "execution_count": 0,
   "metadata": {
    "application/vnd.databricks.v1+cell": {
     "cellMetadata": {
      "byteLimit": 2048000,
      "rowLimit": 10000
     },
     "inputWidgets": {},
     "nuid": "c8f46656-545a-4aa9-a10e-8fdc37d1a612",
     "showTitle": false,
     "tableResultSettingsMap": {},
     "title": ""
    }
   },
   "outputs": [],
   "source": [
    "display(hcp_aff_wi_insn.limit(20))"
   ]
  },
  {
   "cell_type": "markdown",
   "metadata": {
    "application/vnd.databricks.v1+cell": {
     "cellMetadata": {
      "byteLimit": 2048000,
      "rowLimit": 10000
     },
     "inputWidgets": {},
     "nuid": "1dd0f49f-bd96-4da3-a3c7-e41748d63b0c",
     "showTitle": false,
     "tableResultSettingsMap": {},
     "title": ""
    }
   },
   "source": [
    "#### Size of HCP's affiliated account"
   ]
  },
  {
   "cell_type": "code",
   "execution_count": 0,
   "metadata": {
    "application/vnd.databricks.v1+cell": {
     "cellMetadata": {
      "byteLimit": 2048000,
      "rowLimit": 10000
     },
     "inputWidgets": {},
     "nuid": "c3fc4785-a7c1-46a7-a8a5-c61ddf41d83d",
     "showTitle": false,
     "tableResultSettingsMap": {},
     "title": ""
    }
   },
   "outputs": [],
   "source": [
    "hco_account_size = (overlap_raw_data.groupby(\"INSN_ID\")\n",
    "                    .agg(countDistinct(\"BH_ID\").alias(\"HCO_ACCOUNT_SIZE\"))).cache()"
   ]
  },
  {
   "cell_type": "markdown",
   "metadata": {
    "application/vnd.databricks.v1+cell": {
     "cellMetadata": {
      "byteLimit": 2048000,
      "rowLimit": 10000
     },
     "inputWidgets": {},
     "nuid": "91c4ed4f-e64d-45a7-bd20-24d73636ce89",
     "showTitle": false,
     "tableResultSettingsMap": {},
     "title": ""
    }
   },
   "source": [
    "### Total unique patient count per HCP "
   ]
  },
  {
   "cell_type": "code",
   "execution_count": 0,
   "metadata": {
    "application/vnd.databricks.v1+cell": {
     "cellMetadata": {
      "byteLimit": 2048000,
      "rowLimit": 10000
     },
     "inputWidgets": {},
     "nuid": "721e7f3b-62f4-42f0-a177-e5bfcdee8867",
     "showTitle": false,
     "tableResultSettingsMap": {},
     "title": ""
    }
   },
   "outputs": [],
   "source": [
    "hcp_ptnt_cnt = (overlap_raw_data\n",
    "                .filter(col(\"SHP_DT\")>='2022-01-01')\n",
    "                .filter(col(\"SHP_DT\")<='2022-12-31')\n",
    "                .groupby(\"BH_ID\").agg(countDistinct(\"PATIENT_ID\").alias(\"PTNT_CNT\")))"
   ]
  },
  {
   "cell_type": "markdown",
   "metadata": {
    "application/vnd.databricks.v1+cell": {
     "cellMetadata": {
      "byteLimit": 2048000,
      "rowLimit": 10000
     },
     "inputWidgets": {},
     "nuid": "2fe70417-ffb8-471d-9a8d-886e3e22a9ec",
     "showTitle": false,
     "tableResultSettingsMap": {},
     "title": ""
    }
   },
   "source": [
    "### Number of patients by age buckets per HCP"
   ]
  },
  {
   "cell_type": "code",
   "execution_count": 0,
   "metadata": {
    "application/vnd.databricks.v1+cell": {
     "cellMetadata": {
      "byteLimit": 2048000,
      "rowLimit": 10000
     },
     "inputWidgets": {},
     "nuid": "e264c7a8-c2b8-4ad3-8330-c5f9870f4044",
     "showTitle": false,
     "tableResultSettingsMap": {},
     "title": ""
    }
   },
   "outputs": [],
   "source": [
    "## Creating the age bucket\n",
    "overlap_raw_data = (overlap_raw_data\n",
    "                .withColumn('Age', ceil(datediff(current_date(), overlap_raw_data.BRTH_YR)/365))\n",
    "                .withColumn(\n",
    "    \"patient_age\",\n",
    "    when(col(\"Age\") < 12, 'PAT_AGE_0_11')\n",
    "    .when((col(\"Age\") >= 12) & (col(\"Age\") <= 17), 'PAT_AGE_12_17')\n",
    "    .when((col(\"Age\") >= 18) & (col(\"Age\") <= 24), 'PAT_AGE_18_24')\n",
    "    .when((col(\"Age\") >= 25) & (col(\"Age\") <= 65), 'PAT_AGE_25_65')\n",
    "    .when(col(\"Age\") > 65, 'PAT_AGE_65+')\n",
    "    .otherwise('PAT_AGE_NA'))).cache()"
   ]
  },
  {
   "cell_type": "code",
   "execution_count": 0,
   "metadata": {
    "application/vnd.databricks.v1+cell": {
     "cellMetadata": {
      "byteLimit": 2048000,
      "rowLimit": 10000
     },
     "inputWidgets": {},
     "nuid": "97b81ac9-e584-4fd7-b57a-e72fcff314e6",
     "showTitle": false,
     "tableResultSettingsMap": {},
     "title": ""
    }
   },
   "outputs": [],
   "source": [
    "hcp_ptnt_age = (overlap_raw_data\n",
    "                .filter(col(\"SHP_DT\")>='2022-01-01')\n",
    "                .filter(col(\"SHP_DT\")<='2022-12-31')\n",
    "                .groupby(\"BH_ID\",\"patient_age\").agg(countDistinct(\"PATIENT_ID\").alias(\"PTNT_CNT\")))"
   ]
  },
  {
   "cell_type": "code",
   "execution_count": 0,
   "metadata": {
    "application/vnd.databricks.v1+cell": {
     "cellMetadata": {
      "byteLimit": 2048000,
      "rowLimit": 10000
     },
     "inputWidgets": {},
     "nuid": "2d828e52-87c7-4ccc-92b1-e9779f9f8ca2",
     "showTitle": false,
     "tableResultSettingsMap": {},
     "title": ""
    }
   },
   "outputs": [],
   "source": [
    "## convert to wide format\n",
    "hcp_ptnt_age_wide = (hcp_ptnt_age.groupBy(\"BH_ID\").pivot(\"patient_age\").agg(F.first(\"PTNT_CNT\")))\n",
    "hcp_ptnt_age_wide = hcp_ptnt_age_wide.fillna(0)"
   ]
  },
  {
   "cell_type": "code",
   "execution_count": 0,
   "metadata": {
    "application/vnd.databricks.v1+cell": {
     "cellMetadata": {
      "byteLimit": 2048000,
      "rowLimit": 10000
     },
     "inputWidgets": {},
     "nuid": "b8fcf032-a75d-4d14-b4e0-c374217cb4a4",
     "showTitle": false,
     "tableResultSettingsMap": {},
     "title": ""
    }
   },
   "outputs": [],
   "source": [
    "for col in hcp_ptnt_age_wide.columns[1:]:  # Skip the first column (BH_ID)\n",
    "    new_col_name = f\"{col}_CNT\"  # Create new column name\n",
    "    hcp_ptnt_age_wide = hcp_ptnt_age_wide.withColumnRenamed(col, new_col_name)"
   ]
  },
  {
   "cell_type": "code",
   "execution_count": 0,
   "metadata": {
    "application/vnd.databricks.v1+cell": {
     "cellMetadata": {
      "byteLimit": 2048000,
      "rowLimit": 10000
     },
     "inputWidgets": {},
     "nuid": "3120a057-eeb2-4dd2-b09c-f9550bb22074",
     "showTitle": false,
     "tableResultSettingsMap": {},
     "title": ""
    }
   },
   "outputs": [],
   "source": [
    "hcp_ptnt_age_wide.show()"
   ]
  },
  {
   "cell_type": "markdown",
   "metadata": {
    "application/vnd.databricks.v1+cell": {
     "cellMetadata": {
      "byteLimit": 2048000,
      "rowLimit": 10000
     },
     "inputWidgets": {},
     "nuid": "c4dad7ea-2fcb-485f-859d-1d23a2beaa11",
     "showTitle": false,
     "tableResultSettingsMap": {},
     "title": ""
    }
   },
   "source": [
    "### Per HCP unqiue count of patient by Brand and Use type"
   ]
  },
  {
   "cell_type": "code",
   "execution_count": 0,
   "metadata": {
    "application/vnd.databricks.v1+cell": {
     "cellMetadata": {
      "byteLimit": 2048000,
      "rowLimit": 10000
     },
     "inputWidgets": {},
     "nuid": "df0e300a-0d7e-4115-b2c3-5465a4fa7a25",
     "showTitle": false,
     "tableResultSettingsMap": {},
     "title": ""
    }
   },
   "outputs": [],
   "source": [
    "\n",
    "from pyspark.sql.functions import date_trunc, to_date\n",
    "\n",
    "columns = ['BH_ID', 'PATIENT_ID', 'PRD_NM', 'SHP_DT', 'PRPHY', 'IU',\"SHP_YR_MO\"]\n",
    "df_selected = overlap_raw_data.select(*columns)\n",
    "\n",
    "\n",
    "# calculate month unique patient count by brand and type\n",
    "patient_cnt_by_brand_use = (df_selected.filter(F.col(\"PRD_NM\").isNotNull()).select(\n",
    "    \"BH_ID\",\n",
    "    \"PRD_NM\",\n",
    "    \"PRPHY\",\n",
    "    \"SHP_YR_MO\",\n",
    "    \"PATIENT_ID\").distinct()\n",
    ".withColumn('PRPHY', F.coalesce(F.col('PRPHY'), F.lit('1'))) \\\n",
    ".orderBy(F.col('BH_ID').desc(), F.col('PRD_NM').desc(), F.col('SHP_YR_MO').asc()))"
   ]
  },
  {
   "cell_type": "code",
   "execution_count": 0,
   "metadata": {
    "application/vnd.databricks.v1+cell": {
     "cellMetadata": {
      "byteLimit": 2048000,
      "rowLimit": 10000
     },
     "inputWidgets": {},
     "nuid": "608a9316-5471-4d2a-95b2-1af11cf0f3bc",
     "showTitle": false,
     "tableResultSettingsMap": {},
     "title": ""
    }
   },
   "outputs": [],
   "source": [
    "## filter on selected brand\n",
    "brand_list = ['KOVALTRY','KOGENATE','JIVI','HEMLIBRA','ALTUVIIIO']\n",
    "patient_cnt_by_brand_use_filtered = (patient_cnt_by_brand_use.filter(col(\"PRD_NM\").isin(brand_list))\n",
    "                                     .withColumn(\"PRD_NM_PRPHY_CD\",concat(col(\"PRD_NM\"), lit(\"_\"), col(\"PRPHY\")))\n",
    "                                     .select(\"BH_ID\",'SHP_YR_MO','PRD_NM_PRPHY_CD','PATIENT_ID').distinct()\n",
    "                                     .orderBy(F.col('BH_ID').desc(), F.col('SHP_YR_MO').desc())\n",
    "                                     )  "
   ]
  },
  {
   "cell_type": "code",
   "execution_count": 0,
   "metadata": {
    "application/vnd.databricks.v1+cell": {
     "cellMetadata": {
      "byteLimit": 2048000,
      "rowLimit": 10000
     },
     "inputWidgets": {},
     "nuid": "13608415-f64c-4f39-b38a-bd7cd92c3a10",
     "showTitle": false,
     "tableResultSettingsMap": {},
     "title": ""
    }
   },
   "outputs": [],
   "source": [
    "patient_cnt_by_brand_use_filtered.count()"
   ]
  },
  {
   "cell_type": "code",
   "execution_count": 0,
   "metadata": {
    "application/vnd.databricks.v1+cell": {
     "cellMetadata": {
      "byteLimit": 2048000,
      "rowLimit": 10000
     },
     "inputWidgets": {},
     "nuid": "fd90ac88-d099-434d-8efa-8b730dc38a5a",
     "showTitle": false,
     "tableResultSettingsMap": {},
     "title": ""
    }
   },
   "outputs": [],
   "source": [
    "## filter on  brands and aggregate by type\n",
    "other_shl = ['ADVATE', 'RECOMBINATE', 'XYNTHA','NUWIQ','NOVOEIGHT','AFSTYLA']\n",
    "other_ehl = ['ELOCATE', 'ADYNOVATE', 'ESPEROCT']\n",
    "patient_cnt_by_category = (patient_cnt_by_brand_use.withColumn(\"PROD_TYPE\",\n",
    "                                                                when(col(\"PRD_NM\").isin(other_shl), \"OTHER_SHL\").when(col(\"PRD_NM\").isin(other_ehl), \"OTHER_EHL\").otherwise(\"OTHERS\")))\n",
    "patient_cnt_by_category = (patient_cnt_by_category.filter(col(\"PROD_TYPE\")!='OTHERS')\n",
    "                           .withColumn(\"PRD_NM_PRPHY_CD\",concat(col(\"PROD_TYPE\"), lit(\"_\"), col(\"PRPHY\")))\n",
    "                           .select(\"BH_ID\",'SHP_YR_MO','PRD_NM_PRPHY_CD','PATIENT_ID'))"
   ]
  },
  {
   "cell_type": "code",
   "execution_count": 0,
   "metadata": {
    "application/vnd.databricks.v1+cell": {
     "cellMetadata": {
      "byteLimit": 2048000,
      "rowLimit": 10000
     },
     "inputWidgets": {},
     "nuid": "9730bb50-1f01-4c61-a568-739c742ba5b5",
     "showTitle": false,
     "tableResultSettingsMap": {},
     "title": ""
    }
   },
   "outputs": [],
   "source": [
    "patient_cnt_by_category.count()"
   ]
  },
  {
   "cell_type": "code",
   "execution_count": 0,
   "metadata": {
    "application/vnd.databricks.v1+cell": {
     "cellMetadata": {
      "byteLimit": 2048000,
      "rowLimit": 10000
     },
     "inputWidgets": {},
     "nuid": "c8346c86-c399-4a1f-b296-06acc6f2afb2",
     "showTitle": false,
     "tableResultSettingsMap": {},
     "title": ""
    }
   },
   "outputs": [],
   "source": [
    "patient_cnt_by_brand_use_all = patient_cnt_by_category.union(patient_cnt_by_brand_use_filtered)"
   ]
  },
  {
   "cell_type": "code",
   "execution_count": 0,
   "metadata": {
    "application/vnd.databricks.v1+cell": {
     "cellMetadata": {
      "byteLimit": 2048000,
      "rowLimit": 10000
     },
     "inputWidgets": {},
     "nuid": "96765158-6d4d-441e-93f8-f149883f2ff7",
     "showTitle": false,
     "tableResultSettingsMap": {},
     "title": ""
    }
   },
   "outputs": [],
   "source": [
    "patient_cnt_by_brand_use_all.count() #288781"
   ]
  },
  {
   "cell_type": "code",
   "execution_count": 0,
   "metadata": {
    "application/vnd.databricks.v1+cell": {
     "cellMetadata": {
      "byteLimit": 2048000,
      "rowLimit": 10000
     },
     "inputWidgets": {},
     "nuid": "f2955076-38f1-43a3-a33f-3f914539ae57",
     "showTitle": false,
     "tableResultSettingsMap": {},
     "title": ""
    }
   },
   "outputs": [],
   "source": [
    "display(patient_cnt_by_brand_use_all.filter(col(\"BH_ID\")=='FF3464A7-5'))"
   ]
  },
  {
   "cell_type": "code",
   "execution_count": 0,
   "metadata": {
    "application/vnd.databricks.v1+cell": {
     "cellMetadata": {
      "byteLimit": 2048000,
      "rowLimit": 10000
     },
     "inputWidgets": {},
     "nuid": "6d2768d3-3229-43a5-88af-2fc54118bf5c",
     "showTitle": false,
     "tableResultSettingsMap": {},
     "title": ""
    }
   },
   "outputs": [],
   "source": [
    "unique_month = overlap_raw_data.select(col(\"SHP_YR_MO\").alias(\"COHORT_MONTH\")).filter(col(\"COHORT_MONTH\")>='2023-01').distinct()\n",
    "hcp_month_pair = (patient_cnt_by_brand_use_all.select(\"BH_ID\").distinct()\n",
    "                  .crossJoin(unique_month)\n",
    "                  .orderBy('BH_ID','COHORT_MONTH'))"
   ]
  },
  {
   "cell_type": "code",
   "execution_count": 0,
   "metadata": {
    "application/vnd.databricks.v1+cell": {
     "cellMetadata": {
      "byteLimit": 2048000,
      "rowLimit": 10000
     },
     "inputWidgets": {},
     "nuid": "9e8b4641-714f-493e-8fcf-992fd8ee3158",
     "showTitle": false,
     "tableResultSettingsMap": {},
     "title": ""
    }
   },
   "outputs": [],
   "source": [
    "unique_month.count()"
   ]
  },
  {
   "cell_type": "code",
   "execution_count": 0,
   "metadata": {
    "application/vnd.databricks.v1+cell": {
     "cellMetadata": {
      "byteLimit": 2048000,
      "rowLimit": 10000
     },
     "inputWidgets": {},
     "nuid": "61f355cf-edb0-486c-8d49-ea382ba33000",
     "showTitle": false,
     "tableResultSettingsMap": {},
     "title": ""
    }
   },
   "outputs": [],
   "source": [
    "## explode the dataframe\n",
    "patient_cnt_by_brand_use_all_explode = (\n",
    "  hcp_month_pair.join(patient_cnt_by_brand_use_all, on = ['BH_ID'], how = 'left')\n",
    "  .orderBy('BH_ID','COHORT_MONTH')\n",
    "  .fillna('NA')\n",
    "  )"
   ]
  },
  {
   "cell_type": "code",
   "execution_count": 0,
   "metadata": {
    "application/vnd.databricks.v1+cell": {
     "cellMetadata": {
      "byteLimit": 2048000,
      "rowLimit": 10000
     },
     "inputWidgets": {},
     "nuid": "df8eef60-e544-4fd0-8b67-b7258dcbfdbd",
     "showTitle": false,
     "tableResultSettingsMap": {},
     "title": ""
    }
   },
   "outputs": [],
   "source": [
    "patient_cnt_by_brand_use_all_explode = (patient_cnt_by_brand_use_all_explode.withColumn(\"month_diff\",F.months_between(F.col(\"COHORT_MONTH\"), F.col(\"SHP_YR_MO\")))\n",
    "                                         .withColumn(\"ROLLING_WIN\", F.when((F.col(\"month_diff\")<=1)&(F.col(\"month_diff\")>0), 'LAST_1M')\n",
    "                                                                    .when((F.col(\"month_diff\")<=3)&(F.col(\"month_diff\")>0), 'LAST_3M')\n",
    "                                                                     .when((col(\"month_diff\")<=6)&(col(\"month_diff\")>0), 'LAST_6M')\n",
    "                                                                     .when((col(\"month_diff\")<=9)&(col(\"month_diff\")>0), 'LAST_9M')\n",
    "                                                                     .when((col(\"month_diff\")<=12)&(col(\"month_diff\")>0), 'LAST_12M').otherwise('NA') ))"
   ]
  },
  {
   "cell_type": "code",
   "execution_count": 0,
   "metadata": {
    "application/vnd.databricks.v1+cell": {
     "cellMetadata": {
      "byteLimit": 2048000,
      "rowLimit": 10000
     },
     "inputWidgets": {},
     "nuid": "f8a41189-adb1-4c33-9f20-b2db0082bab2",
     "showTitle": false,
     "tableResultSettingsMap": {},
     "title": ""
    }
   },
   "outputs": [],
   "source": [
    "patient_cnt_by_brand_use_all_explode.count() #6641963"
   ]
  },
  {
   "cell_type": "code",
   "execution_count": 0,
   "metadata": {
    "application/vnd.databricks.v1+cell": {
     "cellMetadata": {
      "byteLimit": 2048000,
      "rowLimit": 10000
     },
     "inputWidgets": {},
     "nuid": "989bb110-653d-4168-b3e9-1c9df6aea801",
     "showTitle": false,
     "tableResultSettingsMap": {},
     "title": ""
    }
   },
   "outputs": [],
   "source": [
    "patient_share_by_brand_use_all_explode = (patient_cnt_by_brand_use_all_explode\n",
    "                                          .filter(col(\"ROLLING_WIN\")!='NA')\n",
    "                                          .groupby(\"BH_ID\", \"COHORT_MONTH\", \"PRD_NM_PRPHY_CD\",'ROLLING_WIN').agg(countDistinct(\"PATIENT_ID\").alias('PTNT_CNT')))"
   ]
  },
  {
   "cell_type": "code",
   "execution_count": 0,
   "metadata": {
    "application/vnd.databricks.v1+cell": {
     "cellMetadata": {
      "byteLimit": 2048000,
      "rowLimit": 10000
     },
     "inputWidgets": {},
     "nuid": "4f74fba4-e6fe-46f5-a3be-bfaf1b5ca663",
     "showTitle": false,
     "tableResultSettingsMap": {},
     "title": ""
    }
   },
   "outputs": [],
   "source": [
    "patient_row_sum_by_brand_use_all_explode = (patient_cnt_by_brand_use_all_explode\n",
    "                                          .filter(col(\"ROLLING_WIN\")!='NA')\n",
    "                                          .groupby(\"BH_ID\", \"COHORT_MONTH\",'ROLLING_WIN').agg(countDistinct(\"PATIENT_ID\").alias('ROW_TOTAL')))"
   ]
  },
  {
   "cell_type": "code",
   "execution_count": 0,
   "metadata": {
    "application/vnd.databricks.v1+cell": {
     "cellMetadata": {
      "byteLimit": 2048000,
      "rowLimit": 10000
     },
     "inputWidgets": {},
     "nuid": "f18c3a96-90d6-4b8c-b9b8-37741c45695c",
     "showTitle": false,
     "tableResultSettingsMap": {},
     "title": ""
    }
   },
   "outputs": [],
   "source": [
    "patient_share_by_brand_use_all_explode = (patient_share_by_brand_use_all_explode.join(patient_row_sum_by_brand_use_all_explode,\n",
    "                                                                                     on = [\"BH_ID\", \"COHORT_MONTH\",'ROLLING_WIN'],\n",
    "                                                                                     how = 'left'))\n",
    "patient_share_by_brand_use_all_explode = (patient_share_by_brand_use_all_explode.withColumn(\"PTNT_SHARE\", col(\"PTNT_CNT\")/col(\"ROW_TOTAL\"))\n",
    "                                                                               .withColumn(\"PRD_NM_PRPHY_CD_WIN\",concat(col(\"PRD_NM_PRPHY_CD\"),\n",
    "                                                                                                                         lit(\"_\"), \n",
    "                                                                                                                         col(\"ROLLING_WIN\"),\n",
    "                                                                                                                         lit(\"_\"), \n",
    "                                                                                                                         lit(\"PTNT_SHARE\"))))"
   ]
  },
  {
   "cell_type": "code",
   "execution_count": 0,
   "metadata": {
    "application/vnd.databricks.v1+cell": {
     "cellMetadata": {
      "byteLimit": 2048000,
      "rowLimit": 10000
     },
     "inputWidgets": {},
     "nuid": "2d486fad-47d7-4c04-92cf-7291d85a0ae4",
     "showTitle": false,
     "tableResultSettingsMap": {},
     "title": ""
    }
   },
   "outputs": [],
   "source": [
    "display(patient_share_by_brand_use_all_explode.filter(col(\"BH_ID\")=='FF3464A7-5'))"
   ]
  },
  {
   "cell_type": "code",
   "execution_count": 0,
   "metadata": {
    "application/vnd.databricks.v1+cell": {
     "cellMetadata": {
      "byteLimit": 2048000,
      "rowLimit": 10000
     },
     "inputWidgets": {},
     "nuid": "c39ba638-f9ea-473c-ab12-47def83e8c77",
     "showTitle": false,
     "tableResultSettingsMap": {},
     "title": ""
    }
   },
   "outputs": [],
   "source": [
    "## change to wide format\n",
    "group_cols = [\"BH_ID\", \"COHORT_MONTH\"]\n",
    "pivot_col = \"PRD_NM_PRPHY_CD_WIN\"\n",
    "agg_col = 'PTNT_SHARE'\n",
    "agg_func = \"first\"\n",
    "patient_share_by_brand_use_all_explode = long_to_wide(patient_share_by_brand_use_all_explode, group_cols, pivot_col, agg_col, agg_func)\n",
    "patient_share_by_brand_use_all_explode = patient_share_by_brand_use_all_explode.fillna(0)"
   ]
  },
  {
   "cell_type": "code",
   "execution_count": 0,
   "metadata": {
    "application/vnd.databricks.v1+cell": {
     "cellMetadata": {
      "byteLimit": 2048000,
      "rowLimit": 10000
     },
     "inputWidgets": {},
     "nuid": "f4cc4db4-ad66-4a94-9e95-9575c471c56d",
     "showTitle": false,
     "tableResultSettingsMap": {},
     "title": ""
    }
   },
   "outputs": [],
   "source": [
    "## eplode to fill the missing corhort months\n",
    "patient_share_by_brand_use_all_explode = (\n",
    "  hcp_month_pair.join(patient_share_by_brand_use_all_explode, on = ['BH_ID','COHORT_MONTH'], how = 'left')\n",
    "  .orderBy('BH_ID','COHORT_MONTH')\n",
    "  .fillna(0)\n",
    "  )"
   ]
  },
  {
   "cell_type": "code",
   "execution_count": 0,
   "metadata": {
    "application/vnd.databricks.v1+cell": {
     "cellMetadata": {
      "byteLimit": 2048000,
      "rowLimit": 10000
     },
     "inputWidgets": {},
     "nuid": "232c5a25-d875-4952-ac0d-c08c8f199681",
     "showTitle": false,
     "tableResultSettingsMap": {},
     "title": ""
    }
   },
   "outputs": [],
   "source": [
    "patient_share_by_brand_use_all_explode.count()"
   ]
  },
  {
   "cell_type": "code",
   "execution_count": 0,
   "metadata": {
    "application/vnd.databricks.v1+cell": {
     "cellMetadata": {
      "byteLimit": 2048000,
      "rowLimit": 10000
     },
     "inputWidgets": {},
     "nuid": "f35195af-60bc-4977-a4ce-14d32d92d91d",
     "showTitle": false,
     "tableResultSettingsMap": {},
     "title": ""
    }
   },
   "outputs": [],
   "source": [
    "display(patient_share_by_brand_use_all_explode.filter(col(\"BH_ID\")=='FF3464A7-5'))"
   ]
  },
  {
   "cell_type": "markdown",
   "metadata": {
    "application/vnd.databricks.v1+cell": {
     "cellMetadata": {},
     "inputWidgets": {},
     "nuid": "63ec02ee-306e-43f0-80b8-143d8ffbecd4",
     "showTitle": false,
     "tableResultSettingsMap": {},
     "title": ""
    }
   },
   "source": [
    "### Merge all features together"
   ]
  },
  {
   "cell_type": "code",
   "execution_count": 0,
   "metadata": {
    "application/vnd.databricks.v1+cell": {
     "cellMetadata": {
      "byteLimit": 2048000,
      "rowLimit": 10000
     },
     "inputWidgets": {},
     "nuid": "a9947be4-a97b-442c-906b-4e53fd51fc9c",
     "showTitle": false,
     "tableResultSettingsMap": {},
     "title": ""
    }
   },
   "outputs": [],
   "source": [
    "patient_share_by_brand_use_all_explode.select('BH_ID').distinct().count()"
   ]
  },
  {
   "cell_type": "code",
   "execution_count": 0,
   "metadata": {
    "application/vnd.databricks.v1+cell": {
     "cellMetadata": {
      "byteLimit": 2048000,
      "rowLimit": 10000
     },
     "inputWidgets": {},
     "nuid": "8cca1fab-e737-4505-b2ce-6cf671f44000",
     "showTitle": false,
     "tableResultSettingsMap": {},
     "title": ""
    }
   },
   "outputs": [],
   "source": [
    "patient_share_by_brand_use_all_explode.count()"
   ]
  },
  {
   "cell_type": "code",
   "execution_count": 0,
   "metadata": {
    "application/vnd.databricks.v1+cell": {
     "cellMetadata": {
      "byteLimit": 2048000,
      "rowLimit": 10000
     },
     "inputWidgets": {},
     "nuid": "ce753d5f-1abb-454a-bcae-39d37ce99cc3",
     "showTitle": false,
     "tableResultSettingsMap": {},
     "title": ""
    }
   },
   "outputs": [],
   "source": [
    "hcp_aff_wi_insn.select('BH_ID').distinct().count()\n"
   ]
  },
  {
   "cell_type": "code",
   "execution_count": 0,
   "metadata": {
    "application/vnd.databricks.v1+cell": {
     "cellMetadata": {
      "byteLimit": 2048000,
      "rowLimit": 10000
     },
     "inputWidgets": {},
     "nuid": "82dc3a2f-79b9-4738-b95f-2461b4b64577",
     "showTitle": false,
     "tableResultSettingsMap": {},
     "title": ""
    }
   },
   "outputs": [],
   "source": [
    "hcp_aff_wi_insn.count()\n"
   ]
  },
  {
   "cell_type": "code",
   "execution_count": 0,
   "metadata": {
    "application/vnd.databricks.v1+cell": {
     "cellMetadata": {
      "byteLimit": 2048000,
      "rowLimit": 10000
     },
     "inputWidgets": {},
     "nuid": "ba43916d-064f-4d9a-b6a6-84364268de6b",
     "showTitle": false,
     "tableResultSettingsMap": {},
     "title": ""
    }
   },
   "outputs": [],
   "source": [
    "hcp_ptnt_cnt.select('BH_ID').distinct().count()"
   ]
  },
  {
   "cell_type": "code",
   "execution_count": 0,
   "metadata": {
    "application/vnd.databricks.v1+cell": {
     "cellMetadata": {
      "byteLimit": 2048000,
      "rowLimit": 10000
     },
     "inputWidgets": {},
     "nuid": "b7d50dc8-9cae-40fd-80f3-54baf3d38e9c",
     "showTitle": false,
     "tableResultSettingsMap": {},
     "title": ""
    }
   },
   "outputs": [],
   "source": [
    "hcp_ptnt_age_wide.select('BH_ID').distinct().count()"
   ]
  },
  {
   "cell_type": "code",
   "execution_count": 0,
   "metadata": {
    "application/vnd.databricks.v1+cell": {
     "cellMetadata": {
      "byteLimit": 2048000,
      "rowLimit": 10000
     },
     "inputWidgets": {},
     "nuid": "f98cffdb-316f-461b-8396-136893ace612",
     "showTitle": false,
     "tableResultSettingsMap": {},
     "title": ""
    }
   },
   "outputs": [],
   "source": [
    "all_hcp_characteristics = hcp_ptnt_cnt.join(hcp_ptnt_age_wide.drop(\"PAT_AGE_NA_CNT\"), on = 'BH_ID', how = 'outer')"
   ]
  },
  {
   "cell_type": "code",
   "execution_count": 0,
   "metadata": {
    "application/vnd.databricks.v1+cell": {
     "cellMetadata": {
      "byteLimit": 2048000,
      "rowLimit": 10000
     },
     "inputWidgets": {},
     "nuid": "aaf08a6a-8be0-48c7-8119-606145a71d52",
     "showTitle": false,
     "tableResultSettingsMap": {},
     "title": ""
    }
   },
   "outputs": [],
   "source": [
    "all_hcp_characteristics.count()"
   ]
  },
  {
   "cell_type": "code",
   "execution_count": 0,
   "metadata": {
    "application/vnd.databricks.v1+cell": {
     "cellMetadata": {
      "byteLimit": 2048000,
      "rowLimit": 10000
     },
     "inputWidgets": {},
     "nuid": "2c5b847f-ea2a-4e95-9ecc-4c8e437b6650",
     "showTitle": false,
     "tableResultSettingsMap": {},
     "title": ""
    }
   },
   "outputs": [],
   "source": [
    "all_hcp_monthly_features = (patient_share_by_brand_use_all_explode.join(hcp_aff_wi_insn.select('BH_ID',col('SHP_YR_MO').alias(\"COHORT_MONTH\"), 'AFFL_WI_INSN'), on = ['BH_ID',\"COHORT_MONTH\"], how = 'outer')\n",
    "                            .orderBy('BH_ID','COHORT_MONTH')\n",
    "                            )"
   ]
  },
  {
   "cell_type": "code",
   "execution_count": 0,
   "metadata": {
    "application/vnd.databricks.v1+cell": {
     "cellMetadata": {
      "byteLimit": 2048000,
      "rowLimit": 10000
     },
     "inputWidgets": {},
     "nuid": "1708934f-3583-48b1-9d56-c77e8d43ebd9",
     "showTitle": false,
     "tableResultSettingsMap": {},
     "title": ""
    }
   },
   "outputs": [],
   "source": [
    "all_hcp_monthly_features.count()"
   ]
  },
  {
   "cell_type": "code",
   "execution_count": 0,
   "metadata": {
    "application/vnd.databricks.v1+cell": {
     "cellMetadata": {
      "byteLimit": 2048000,
      "rowLimit": 10000
     },
     "inputWidgets": {},
     "nuid": "726b2b0f-7dbe-46cf-b9bc-d535f8aae25d",
     "showTitle": false,
     "tableResultSettingsMap": {},
     "title": ""
    }
   },
   "outputs": [],
   "source": [
    "all_hcp_monthly_features.filter(col(\"PTNT_SHARE_ALTUVIIIO_0_LAST_12M_PTNT_SHARE\").isNull()).count()"
   ]
  },
  {
   "cell_type": "code",
   "execution_count": 0,
   "metadata": {
    "application/vnd.databricks.v1+cell": {
     "cellMetadata": {
      "byteLimit": 2048000,
      "rowLimit": 10000
     },
     "inputWidgets": {},
     "nuid": "99a7494f-b630-4063-9e69-dd590a2de079",
     "showTitle": false,
     "tableResultSettingsMap": {},
     "title": ""
    }
   },
   "outputs": [],
   "source": [
    "all_hcp_monthly_features.filter(col(\"AFFL_WI_INSN\").isNull()).count()"
   ]
  },
  {
   "cell_type": "code",
   "execution_count": 0,
   "metadata": {
    "application/vnd.databricks.v1+cell": {
     "cellMetadata": {
      "byteLimit": 2048000,
      "rowLimit": 10000
     },
     "inputWidgets": {},
     "nuid": "16b2aa75-76b0-495a-b29d-c2a87d461dea",
     "showTitle": false,
     "tableResultSettingsMap": {},
     "title": ""
    }
   },
   "outputs": [],
   "source": [
    "all_hcp_monthly_features.display()"
   ]
  },
  {
   "cell_type": "code",
   "execution_count": 0,
   "metadata": {
    "application/vnd.databricks.v1+cell": {
     "cellMetadata": {
      "byteLimit": 2048000,
      "rowLimit": 10000
     },
     "inputWidgets": {},
     "nuid": "780105b4-1c4a-4e34-bf58-8e4e592d8a7a",
     "showTitle": false,
     "tableResultSettingsMap": {},
     "title": ""
    }
   },
   "outputs": [],
   "source": [
    "all_hcp_characteristics.columns"
   ]
  },
  {
   "cell_type": "code",
   "execution_count": 0,
   "metadata": {
    "application/vnd.databricks.v1+cell": {
     "cellMetadata": {
      "byteLimit": 2048000,
      "rowLimit": 10000
     },
     "inputWidgets": {},
     "nuid": "91beb501-ab20-4ab5-92b8-367e57daa8c7",
     "showTitle": false,
     "tableResultSettingsMap": {},
     "title": ""
    }
   },
   "outputs": [],
   "source": [
    "# saving the hcp monthly features to the Hivestore\n",
    "save_sdf(all_hcp_monthly_features, 'jivi_new_writer_model', 'all_hcp_monthly_features')"
   ]
  },
  {
   "cell_type": "code",
   "execution_count": 0,
   "metadata": {
    "application/vnd.databricks.v1+cell": {
     "cellMetadata": {
      "byteLimit": 2048000,
      "rowLimit": 10000
     },
     "inputWidgets": {},
     "nuid": "6b8880d7-cdf9-4771-8d3b-6dcfbda13cac",
     "showTitle": false,
     "tableResultSettingsMap": {},
     "title": ""
    }
   },
   "outputs": [],
   "source": [
    "# saving the hcp features to the Hivestore\n",
    "save_sdf(all_hcp_characteristics, 'jivi_new_writer_model', 'all_hcp_characteristics')"
   ]
  },
  {
   "cell_type": "markdown",
   "metadata": {
    "application/vnd.databricks.v1+cell": {
     "cellMetadata": {},
     "inputWidgets": {},
     "nuid": "a92abf2f-5cf9-4cae-9b0f-05ea9f464872",
     "showTitle": false,
     "tableResultSettingsMap": {},
     "title": ""
    }
   },
   "source": [
    "\n",
    "### sum of unique patient cnt\n"
   ]
  },
  {
   "cell_type": "code",
   "execution_count": 0,
   "metadata": {
    "application/vnd.databricks.v1+cell": {
     "cellMetadata": {
      "byteLimit": 2048000,
      "rowLimit": 10000
     },
     "collapsed": true,
     "inputWidgets": {},
     "nuid": "17d5b59f-0ed7-4661-b0cb-b0a52d715d3e",
     "showTitle": false,
     "tableResultSettingsMap": {},
     "title": ""
    }
   },
   "outputs": [],
   "source": [
    "\n",
    "from pyspark.sql.functions import date_trunc, to_date\n",
    "\n",
    "columns = ['BH_ID', 'PATIENT_ID', 'PRD_NM', 'SHP_DT', 'PRPHY', 'IU',\"SHP_YR_MO\"]\n",
    "df_selected = overlap_raw_data.select(*columns)\n",
    "\n",
    "\n",
    "# calculate month unique patient count by brand and type\n",
    "patient_cnt_by_brand_use = df_selected.filter(F.col(\"PRD_NM\").isNotNull()).groupBy(\n",
    "    \"BH_ID\",\n",
    "    \"PRD_NM\",\n",
    "    \"PRPHY\",\n",
    "    \"SHP_YR_MO\"\n",
    ").agg(\n",
    "    countDistinct(\"PATIENT_ID\").alias(\"PATIENT_CNT\")\n",
    ").withColumn('PRPHY', F.coalesce(F.col('PRPHY'), F.lit('1'))) \\\n",
    ".orderBy(F.col('BH_ID').desc(), F.col('PRD_NM').desc(), F.col('SHP_YR_MO').asc())\n"
   ]
  },
  {
   "cell_type": "code",
   "execution_count": 0,
   "metadata": {
    "application/vnd.databricks.v1+cell": {
     "cellMetadata": {
      "byteLimit": 2048000,
      "rowLimit": 10000
     },
     "collapsed": true,
     "inputWidgets": {},
     "nuid": "1e50d1fb-1e85-4232-869a-5a67914751af",
     "showTitle": false,
     "tableResultSettingsMap": {},
     "title": ""
    }
   },
   "outputs": [],
   "source": [
    "## filter on selected brand\n",
    "brand_list = ['KOVALTRY','KOGENATE','JIVI','HEMLIBRA','ALTUVIIIO']\n",
    "patient_cnt_by_brand_use_filtered = (patient_cnt_by_brand_use.filter(col(\"PRD_NM\").isin(brand_list))\n",
    "                                     .withColumn(\"PRD_NM_PRPHY_CD\",concat(col(\"PRD_NM\"), lit(\"_\"), col(\"PRPHY\")))\n",
    "                                     .select(\"BH_ID\",'SHP_YR_MO','PRD_NM_PRPHY_CD','PATIENT_CNT')\n",
    "                                     .orderBy(F.col('BH_ID').desc(), F.col('SHP_YR_MO').desc())\n",
    "                                     )                  "
   ]
  },
  {
   "cell_type": "code",
   "execution_count": 0,
   "metadata": {
    "application/vnd.databricks.v1+cell": {
     "cellMetadata": {
      "byteLimit": 2048000,
      "rowLimit": 10000
     },
     "inputWidgets": {},
     "nuid": "7f6efa33-6b34-42a1-9dc7-9cb95c1e7806",
     "showTitle": false,
     "tableResultSettingsMap": {},
     "title": ""
    }
   },
   "outputs": [],
   "source": [
    "patient_cnt_by_brand_use_filtered.count()"
   ]
  },
  {
   "cell_type": "code",
   "execution_count": 0,
   "metadata": {
    "application/vnd.databricks.v1+cell": {
     "cellMetadata": {
      "byteLimit": 2048000,
      "rowLimit": 10000
     },
     "inputWidgets": {},
     "nuid": "02471cae-ec5b-46c0-8f11-3831274a5c53",
     "showTitle": false,
     "tableResultSettingsMap": {},
     "title": ""
    }
   },
   "outputs": [],
   "source": [
    "## filter on  brands and aggregate by type\n",
    "other_shl = ['ADVATE', 'RECOMBINATE', 'XYNTHA','NUWIQ','NOVOEIGHT','AFSTYLA']\n",
    "other_ehl = ['ELOCATE', 'ADYNOVATE', 'ESPEROCT']\n",
    "patient_cnt_by_category = (patient_cnt_by_brand_use.withColumn(\"PROD_TYPE\",\n",
    "                                                                when(col(\"PRD_NM\").isin(other_shl), \"OTHER_SHL\").when(col(\"PRD_NM\").isin(other_ehl), \"OTHER_EHL\").otherwise(\"OTHERS\"))\n",
    "                                                    .groupBy(\"BH_ID\",\"PROD_TYPE\", \"PRPHY\",\"SHP_YR_MO\")\n",
    "                                                    .agg(sum(\"PATIENT_CNT\").alias(\"PATIENT_CNT\"))\n",
    "                                                    .orderBy(F.col('BH_ID').desc(), F.col('SHP_YR_MO').desc()))\n",
    "patient_cnt_by_category = (patient_cnt_by_category.filter(col(\"PROD_TYPE\")!='OTHERS')\n",
    "                           .withColumn(\"PRD_NM_PRPHY_CD\",concat(col(\"PROD_TYPE\"), lit(\"_\"), col(\"PRPHY\")))\n",
    "                           .select(\"BH_ID\",'SHP_YR_MO','PRD_NM_PRPHY_CD','PATIENT_CNT'))"
   ]
  },
  {
   "cell_type": "code",
   "execution_count": 0,
   "metadata": {
    "application/vnd.databricks.v1+cell": {
     "cellMetadata": {
      "byteLimit": 2048000,
      "rowLimit": 10000
     },
     "inputWidgets": {},
     "nuid": "e535d7bf-9098-4f99-be36-e7e3f01e9ddc",
     "showTitle": false,
     "tableResultSettingsMap": {},
     "title": ""
    }
   },
   "outputs": [],
   "source": [
    "patient_cnt_by_category.count()"
   ]
  },
  {
   "cell_type": "code",
   "execution_count": 0,
   "metadata": {
    "application/vnd.databricks.v1+cell": {
     "cellMetadata": {
      "byteLimit": 2048000,
      "rowLimit": 10000
     },
     "inputWidgets": {},
     "nuid": "9079331e-5985-4495-b284-946ae1d381c8",
     "showTitle": false,
     "tableResultSettingsMap": {},
     "title": ""
    }
   },
   "outputs": [],
   "source": [
    "patient_cnt_by_brand_use_all = patient_cnt_by_category.union(patient_cnt_by_brand_use_filtered)"
   ]
  },
  {
   "cell_type": "code",
   "execution_count": 0,
   "metadata": {
    "application/vnd.databricks.v1+cell": {
     "cellMetadata": {
      "byteLimit": 2048000,
      "rowLimit": 10000
     },
     "inputWidgets": {},
     "nuid": "43415597-0ad4-49f2-91e7-a3e369d991b8",
     "showTitle": false,
     "tableResultSettingsMap": {},
     "title": ""
    }
   },
   "outputs": [],
   "source": [
    "patient_cnt_by_brand_use_all.count()"
   ]
  },
  {
   "cell_type": "code",
   "execution_count": 0,
   "metadata": {
    "application/vnd.databricks.v1+cell": {
     "cellMetadata": {
      "byteLimit": 2048000,
      "rowLimit": 10000
     },
     "inputWidgets": {},
     "nuid": "a006bc72-1f21-4789-9182-883a3a2b9c9e",
     "showTitle": false,
     "tableResultSettingsMap": {},
     "title": ""
    }
   },
   "outputs": [],
   "source": [
    "patient_cnt_by_brand_use_all.select('BH_ID','SHP_YR_MO').distinct().count()"
   ]
  },
  {
   "cell_type": "code",
   "execution_count": 0,
   "metadata": {
    "application/vnd.databricks.v1+cell": {
     "cellMetadata": {
      "byteLimit": 2048000,
      "rowLimit": 10000
     },
     "inputWidgets": {},
     "nuid": "c6c58b8f-5e71-4b11-bdce-d87a0d359467",
     "showTitle": false,
     "tableResultSettingsMap": {},
     "title": ""
    }
   },
   "outputs": [],
   "source": [
    "## change to wide format\n",
    "group_cols = [\"BH_ID\", \"SHP_YR_MO\"]\n",
    "pivot_col = \"PRD_NM_PRPHY_CD\"\n",
    "agg_col = 'PATIENT_CNT'\n",
    "agg_func = \"first\"\n",
    "patient_cnt_by_brand_use_all = long_to_wide(patient_cnt_by_brand_use_all, group_cols, pivot_col, agg_col, agg_func)\n",
    "patient_cnt_by_brand_use_all = patient_cnt_by_brand_use_all.fillna(0)"
   ]
  },
  {
   "cell_type": "code",
   "execution_count": 0,
   "metadata": {
    "application/vnd.databricks.v1+cell": {
     "cellMetadata": {
      "byteLimit": 2048000,
      "rowLimit": 10000
     },
     "inputWidgets": {},
     "nuid": "9527604e-9873-47f8-a562-768c14e1a979",
     "showTitle": false,
     "tableResultSettingsMap": {},
     "title": ""
    }
   },
   "outputs": [],
   "source": [
    "patient_cnt_by_brand_use_all.count()"
   ]
  },
  {
   "cell_type": "code",
   "execution_count": 0,
   "metadata": {
    "application/vnd.databricks.v1+cell": {
     "cellMetadata": {
      "byteLimit": 2048000,
      "rowLimit": 10000
     },
     "collapsed": true,
     "inputWidgets": {},
     "nuid": "1d27f4cb-bbd3-49c1-8561-2ba4d3ee6ce5",
     "showTitle": false,
     "tableResultSettingsMap": {},
     "title": ""
    }
   },
   "outputs": [],
   "source": [
    "## explode the dataframe\n",
    "patient_cnt_by_brand_use_all_explode = (\n",
    "  hcp_week_pair.join(patient_cnt_by_brand_use_all, on = ['BH_ID','SHP_YR_MO'], how = 'left')\n",
    "  .orderBy('BH_ID','SHP_YR_MO')\n",
    "  .fillna(0)\n",
    "  )"
   ]
  },
  {
   "cell_type": "code",
   "execution_count": 0,
   "metadata": {
    "application/vnd.databricks.v1+cell": {
     "cellMetadata": {
      "byteLimit": 2048000,
      "rowLimit": 10000
     },
     "inputWidgets": {},
     "nuid": "d9b71e73-f4eb-496f-8ac5-571ddbfd4858",
     "showTitle": false,
     "tableResultSettingsMap": {},
     "title": ""
    }
   },
   "outputs": [],
   "source": [
    "## calculate the cuculumative sum in the last 3,6,9,12 months\n",
    "patient_cnt_by_brand_use_all_explode_accu = calc_cumulative_sums_excl_current(patient_cnt_by_brand_use_all_explode, 'BH_ID', 'SHP_YR_MO', patient_cnt_by_brand_use_all_explode.columns[2])\n",
    "for col in patient_cnt_by_brand_use_all_explode.columns[3:]:\n",
    "  patient_cnt_by_brand_use_all_explode_accu = calc_cumulative_sums_excl_current(patient_cnt_by_brand_use_all_explode_accu, 'BH_ID', 'SHP_YR_MO', col)"
   ]
  },
  {
   "cell_type": "code",
   "execution_count": 0,
   "metadata": {
    "application/vnd.databricks.v1+cell": {
     "cellMetadata": {
      "byteLimit": 2048000,
      "rowLimit": 10000
     },
     "inputWidgets": {},
     "nuid": "4b553b49-abed-43ec-8592-e75fb1a2979c",
     "showTitle": false,
     "tableResultSettingsMap": {},
     "title": ""
    }
   },
   "outputs": [],
   "source": [
    "cumsum_cols_3M = [x for x in patient_cnt_by_brand_use_all_explode_accu.columns if 'cumsum' and '3M' in x]\n",
    "cumsum_cols_6M = [x for x in patient_cnt_by_brand_use_all_explode_accu.columns if 'cumsum' and '6M' in x]\n",
    "cumsum_cols_9M = [x for x in patient_cnt_by_brand_use_all_explode_accu.columns if 'cumsum' and '9M' in x]\n",
    "cumsum_cols_12M = [x for x in patient_cnt_by_brand_use_all_explode_accu.columns if 'cumsum' and '12M' in x]"
   ]
  },
  {
   "cell_type": "code",
   "execution_count": 0,
   "metadata": {
    "application/vnd.databricks.v1+cell": {
     "cellMetadata": {
      "byteLimit": 2048000,
      "rowLimit": 10000
     },
     "inputWidgets": {},
     "nuid": "6376fce8-c51a-4838-ac57-1d2eb58cfd9e",
     "showTitle": false,
     "tableResultSettingsMap": {},
     "title": ""
    }
   },
   "outputs": [],
   "source": [
    "from functools import reduce\n",
    "from pyspark.sql import functions as F\n",
    "\n",
    "patient_cnt_by_brand_use_all_explode_accu = (patient_cnt_by_brand_use_all_explode_accu\n",
    ".withColumn(\"RowTotal_3M\",reduce(lambda a, b: a + b,[F.col(c) for c in cumsum_cols_3M]))\n",
    ".withColumn(\"RowTotal_6M\",reduce(lambda a, b: a + b,[F.col(c) for c in cumsum_cols_6M]))\n",
    ".withColumn(\"RowTotal_9M\",reduce(lambda a, b: a + b,[F.col(c) for c in cumsum_cols_9M]))\n",
    ".withColumn(\"RowTotal_12M\",reduce(lambda a, b: a + b,[F.col(c) for c in cumsum_cols_12M]))).cache()\n",
    "\n",
    "## create patient share: patient cnt per brand and use type/ row total\n"
   ]
  },
  {
   "cell_type": "code",
   "execution_count": 0,
   "metadata": {
    "application/vnd.databricks.v1+cell": {
     "cellMetadata": {
      "byteLimit": 2048000,
      "rowLimit": 10000
     },
     "inputWidgets": {},
     "nuid": "6ad69d81-b4b7-4700-b56a-0a8453aa587e",
     "showTitle": false,
     "tableResultSettingsMap": {},
     "title": ""
    }
   },
   "outputs": [],
   "source": [
    "from pyspark.sql.functions import col\n",
    "display(patient_cnt_by_brand_use_all_explode_accu.filter(col('BH_ID') == 'FF3464A7-5'))"
   ]
  },
  {
   "cell_type": "code",
   "execution_count": 0,
   "metadata": {
    "application/vnd.databricks.v1+cell": {
     "cellMetadata": {
      "byteLimit": 2048000,
      "rowLimit": 10000
     },
     "inputWidgets": {},
     "nuid": "2cddada4-58f1-4598-8579-69905a87dad3",
     "showTitle": false,
     "tableResultSettingsMap": {},
     "title": ""
    }
   },
   "outputs": [],
   "source": [
    "# Create a new DataFrame with shares\n",
    "patient_cnt_by_brand_use_all_explode_accu = patient_cnt_by_brand_use_all_explode_accu.select('BH_ID','SHP_YR_MO',\n",
    "    *[F.col(col) / patient_cnt_by_brand_use_all_explode_accu['RowTotal_3M'] for col in cumsum_cols_3M],\n",
    "    *[F.col(col) / patient_cnt_by_brand_use_all_explode_accu['RowTotal_6M'] for col in cumsum_cols_6M],\n",
    "    *[F.col(col) / patient_cnt_by_brand_use_all_explode_accu['RowTotal_9M'] for col in cumsum_cols_9M],\n",
    "    *[F.col(col) / patient_cnt_by_brand_use_all_explode_accu['RowTotal_12M'] for col in cumsum_cols_12M])\n"
   ]
  },
  {
   "cell_type": "code",
   "execution_count": 0,
   "metadata": {
    "application/vnd.databricks.v1+cell": {
     "cellMetadata": {
      "byteLimit": 2048000,
      "rowLimit": 10000
     },
     "inputWidgets": {},
     "nuid": "b728600c-391a-4a11-ac99-4b69dbded3d4",
     "showTitle": false,
     "tableResultSettingsMap": {},
     "title": ""
    }
   },
   "outputs": [],
   "source": [
    "for col in patient_cnt_by_brand_use_all_explode_accu.columns[2:]:\n",
    "    new_col_name = col.replace('CNT', 'SHARE').split(' / ')[0][1:]  # Replace 'CNT' with 'SHARE' and remove the \"(\"\n",
    "    patient_cnt_by_brand_use_all_explode_accu = patient_cnt_by_brand_use_all_explode_accu.withColumnRenamed(col, new_col_name)"
   ]
  },
  {
   "cell_type": "code",
   "execution_count": 0,
   "metadata": {
    "application/vnd.databricks.v1+cell": {
     "cellMetadata": {
      "byteLimit": 2048000,
      "rowLimit": 10000
     },
     "inputWidgets": {},
     "nuid": "2c00ea27-231d-466d-8aaa-144a8a7478ca",
     "showTitle": false,
     "tableResultSettingsMap": {},
     "title": ""
    }
   },
   "outputs": [],
   "source": [
    "display(patient_cnt_by_brand_use_all_explode_accu)"
   ]
  },
  {
   "cell_type": "code",
   "execution_count": 0,
   "metadata": {
    "application/vnd.databricks.v1+cell": {
     "cellMetadata": {
      "byteLimit": 2048000,
      "rowLimit": 10000
     },
     "inputWidgets": {},
     "nuid": "8fc0e23f-ac16-4d03-9176-628623896d3b",
     "showTitle": false,
     "tableResultSettingsMap": {},
     "title": ""
    }
   },
   "outputs": [],
   "source": [
    "display(patient_cnt_by_brand_use_all_explode_accu.filter(col('BH_ID') == 'FF3464A7-5'))"
   ]
  },
  {
   "cell_type": "code",
   "execution_count": 0,
   "metadata": {
    "application/vnd.databricks.v1+cell": {
     "cellMetadata": {
      "byteLimit": 2048000,
      "rowLimit": 10000
     },
     "inputWidgets": {},
     "nuid": "002a34b8-2822-465d-ae3f-679ad8afe098",
     "showTitle": false,
     "tableResultSettingsMap": {},
     "title": ""
    }
   },
   "outputs": [],
   "source": [
    "display(patient_cnt_by_brand_use_filtered.limit(20))"
   ]
  },
  {
   "cell_type": "code",
   "execution_count": 0,
   "metadata": {
    "application/vnd.databricks.v1+cell": {
     "cellMetadata": {},
     "inputWidgets": {},
     "nuid": "9bbf6164-063e-4474-a176-e2045387d496",
     "showTitle": false,
     "tableResultSettingsMap": {},
     "title": ""
    }
   },
   "outputs": [],
   "source": []
  }
 ],
 "metadata": {
  "application/vnd.databricks.v1+notebook": {
   "computePreferences": null,
   "dashboards": [],
   "environmentMetadata": {
    "base_environment": "",
    "environment_version": "2"
   },
   "language": "python",
   "notebookMetadata": {
    "pythonIndentUnit": 2
   },
   "notebookName": "02_hcp_charact_feats",
   "widgets": {}
  },
  "language_info": {
   "name": "python"
  }
 },
 "nbformat": 4,
 "nbformat_minor": 0
}
