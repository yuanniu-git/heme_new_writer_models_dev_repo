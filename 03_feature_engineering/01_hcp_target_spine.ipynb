{
 "cells": [
  {
   "cell_type": "code",
   "execution_count": 0,
   "metadata": {
    "application/vnd.databricks.v1+cell": {
     "cellMetadata": {
      "byteLimit": 2048000,
      "rowLimit": 10000
     },
     "inputWidgets": {},
     "nuid": "2f002768-ce53-4a03-b859-95969c869a7c",
     "showTitle": false,
     "tableResultSettingsMap": {},
     "title": ""
    }
   },
   "outputs": [],
   "source": [
    "import pandas as pd\n",
    "from pyspark.sql import functions as F"
   ]
  },
  {
   "cell_type": "code",
   "execution_count": 0,
   "metadata": {
    "application/vnd.databricks.v1+cell": {
     "cellMetadata": {
      "byteLimit": 2048000,
      "rowLimit": 10000
     },
     "inputWidgets": {},
     "nuid": "8c03bcd1-6bf5-4eff-a111-1699b81b9bed",
     "showTitle": false,
     "tableResultSettingsMap": {},
     "title": ""
    }
   },
   "outputs": [],
   "source": [
    "%run \"../00_config/set-up\""
   ]
  },
  {
   "cell_type": "code",
   "execution_count": 0,
   "metadata": {
    "application/vnd.databricks.v1+cell": {
     "cellMetadata": {
      "byteLimit": 2048000,
      "rowLimit": 10000
     },
     "inputWidgets": {},
     "nuid": "d85df0a0-a7f0-4c7e-bb64-223d5b690d91",
     "showTitle": false,
     "tableResultSettingsMap": {},
     "title": ""
    }
   },
   "outputs": [],
   "source": [
    "%run \"/Workspace/Repos/yuan.niu@bayer.com/heme_new_writer_models_dev_repo/02_data_processing/helper_functions\""
   ]
  },
  {
   "cell_type": "code",
   "execution_count": 0,
   "metadata": {
    "application/vnd.databricks.v1+cell": {
     "cellMetadata": {
      "byteLimit": 2048000,
      "rowLimit": 10000
     },
     "inputWidgets": {},
     "nuid": "1b7d75f8-1ebf-4004-8a6d-a9d39ea355f9",
     "showTitle": false,
     "tableResultSettingsMap": {},
     "title": ""
    }
   },
   "outputs": [],
   "source": [
    "start_month = \"2019-12\"\n",
    "end_month = \"2024-11\"\n",
    "\n",
    "study_period_start_date = \"2023-01-01\"\n",
    "study_period_start_month = \"2023-01\"\n",
    "study_period_end_date = \"2024-11-30\"\n",
    "study_period_end_month = \"2024-11\"\n",
    "\n",
    "rx_lookback_months = 24"
   ]
  },
  {
   "cell_type": "code",
   "execution_count": 0,
   "metadata": {
    "application/vnd.databricks.v1+cell": {
     "cellMetadata": {
      "byteLimit": 2048000,
      "rowLimit": 10000
     },
     "inputWidgets": {},
     "nuid": "d8b56370-4a06-401a-bc18-dd8cc32eecbd",
     "showTitle": false,
     "tableResultSettingsMap": {},
     "title": ""
    }
   },
   "outputs": [],
   "source": [
    "overlap_subset = spark.sql(\"SELECT * FROM heme_data.overlap_preprocessed\")\n",
    "print(\"Row count: \", overlap_subset.count(), \"Column Count: \", len(overlap_subset.columns))"
   ]
  },
  {
   "cell_type": "code",
   "execution_count": 0,
   "metadata": {
    "application/vnd.databricks.v1+cell": {
     "cellMetadata": {
      "byteLimit": 2048000,
      "rowLimit": 10000
     },
     "inputWidgets": {},
     "nuid": "e1ac342f-5e6b-43c0-a6c6-0352de95c9b4",
     "showTitle": false,
     "tableResultSettingsMap": {},
     "title": ""
    }
   },
   "outputs": [],
   "source": [
    "display(overlap_subset.limit(15))"
   ]
  },
  {
   "cell_type": "code",
   "execution_count": 0,
   "metadata": {
    "application/vnd.databricks.v1+cell": {
     "cellMetadata": {
      "byteLimit": 2048000,
      "rowLimit": 10000
     },
     "inputWidgets": {},
     "nuid": "e7218165-41ce-4a49-b5a1-067f007876f2",
     "showTitle": false,
     "tableResultSettingsMap": {},
     "title": ""
    }
   },
   "outputs": [],
   "source": [
    "overlap_subset_pdf = overlap_subset.toPandas()"
   ]
  },
  {
   "cell_type": "markdown",
   "metadata": {
    "application/vnd.databricks.v1+cell": {
     "cellMetadata": {
      "byteLimit": 2048000,
      "rowLimit": 10000
     },
     "inputWidgets": {},
     "nuid": "c35da277-e1d2-4669-abec-63cc55de31f2",
     "showTitle": false,
     "tableResultSettingsMap": {},
     "title": ""
    }
   },
   "source": [
    "### Step 1: Identify unique HCPs who have patients (any drugs) between Jan-2023 and Nov-2024."
   ]
  },
  {
   "cell_type": "code",
   "execution_count": 0,
   "metadata": {
    "application/vnd.databricks.v1+cell": {
     "cellMetadata": {
      "byteLimit": 2048000,
      "rowLimit": 10000
     },
     "inputWidgets": {},
     "nuid": "1d0379b7-fa37-4768-8761-f183bf983ff6",
     "showTitle": false,
     "tableResultSettingsMap": {},
     "title": ""
    }
   },
   "outputs": [],
   "source": [
    "# Calculate the count of distinct patients per BH_ID for the study period\n",
    "study_period_hcp_pats_cnt = (\n",
    "  overlap_subset\n",
    "  .filter((F.col('SHP_YR_MO') >= study_period_start_month) & (F.col('SHP_YR_MO') <= study_period_end_month))\n",
    "  .groupBy('BH_ID')\n",
    "  .agg(F.countDistinct('PATIENT_ID').alias('pats_cnt'))\n",
    "  .orderBy('pats_cnt')\n",
    ")\n",
    "print(\"Row count: \", study_period_hcp_pats_cnt.count(), \"Column Count: \", len(study_period_hcp_pats_cnt.columns))"
   ]
  },
  {
   "cell_type": "code",
   "execution_count": 0,
   "metadata": {
    "application/vnd.databricks.v1+cell": {
     "cellMetadata": {
      "byteLimit": 2048000,
      "rowLimit": 10000
     },
     "inputWidgets": {},
     "nuid": "556b0801-badd-4e19-8e9a-1fd8c5a92963",
     "showTitle": false,
     "tableResultSettingsMap": {},
     "title": ""
    }
   },
   "outputs": [],
   "source": [
    "display(study_period_hcp_pats_cnt)"
   ]
  },
  {
   "cell_type": "markdown",
   "metadata": {
    "application/vnd.databricks.v1+cell": {
     "cellMetadata": {
      "byteLimit": 2048000,
      "rowLimit": 10000
     },
     "inputWidgets": {},
     "nuid": "08d480fa-1071-41ac-b978-a3c080e3ce85",
     "showTitle": false,
     "tableResultSettingsMap": {},
     "title": ""
    }
   },
   "source": [
    "### Check: How many HCPs have at least one patient (any drugs) in between Dec'19 and Dec'22"
   ]
  },
  {
   "cell_type": "code",
   "execution_count": 0,
   "metadata": {
    "application/vnd.databricks.v1+cell": {
     "cellMetadata": {
      "byteLimit": 2048000,
      "rowLimit": 10000
     },
     "inputWidgets": {},
     "nuid": "eeab9dcf-1f27-467d-87d6-fdf133d8f935",
     "showTitle": false,
     "tableResultSettingsMap": {},
     "title": ""
    }
   },
   "outputs": [],
   "source": [
    "prior_period_hcp_pats_cnt = (\n",
    "    overlap_subset\n",
    "    .filter((F.col('SHP_YR_MO') >= start_month) & (F.col('SHP_YR_MO') < study_period_start_month))\n",
    "    .groupBy('BH_ID')\n",
    "    .agg(F.countDistinct('PATIENT_ID').alias('pats_cnt'))\n",
    "    .orderBy('pats_cnt')\n",
    ")\n",
    "print(\"Row count: \", prior_period_hcp_pats_cnt.count(), \"Column Count: \", len(prior_period_hcp_pats_cnt.columns))"
   ]
  },
  {
   "cell_type": "code",
   "execution_count": 0,
   "metadata": {
    "application/vnd.databricks.v1+cell": {
     "cellMetadata": {
      "byteLimit": 2048000,
      "rowLimit": 10000
     },
     "inputWidgets": {},
     "nuid": "1e9010d7-de7e-48df-9027-25b7f4736774",
     "showTitle": false,
     "tableResultSettingsMap": {},
     "title": ""
    }
   },
   "outputs": [],
   "source": [
    "display(prior_period_hcp_pats_cnt)"
   ]
  },
  {
   "cell_type": "code",
   "execution_count": 0,
   "metadata": {
    "application/vnd.databricks.v1+cell": {
     "cellMetadata": {
      "byteLimit": 2048000,
      "rowLimit": 10000
     },
     "inputWidgets": {},
     "nuid": "1cb2df1d-ffd5-4ac6-b3cf-5dafab3977de",
     "showTitle": false,
     "tableResultSettingsMap": {},
     "title": ""
    }
   },
   "outputs": [],
   "source": [
    "# Finding common BH_IDs between prior period and study period HCP patients count dataframes\n",
    "\n",
    "prior_period_hcp_pats_cnt_pdf = prior_period_hcp_pats_cnt.toPandas()\n",
    "study_period_hcp_pats_cnt_pdf = study_period_hcp_pats_cnt.toPandas()\n",
    "\n",
    "# Convert the BH_ID columns to sets\n",
    "prior_bh_ids = set(prior_period_hcp_pats_cnt_pdf['BH_ID'])\n",
    "print(\"Number of HCPs with atleast one patient in period prior to study period:\", len(prior_bh_ids))\n",
    "study_bh_ids = set(study_period_hcp_pats_cnt_pdf['BH_ID'])\n",
    "print(\"Number of HCPs with atleast one patient in study period:\", len(study_bh_ids))\n",
    "\n",
    "# Find the common BH_IDs using set intersection\n",
    "common_bh_ids = prior_bh_ids.intersection(study_bh_ids)\n",
    "\n",
    "print(\"Number of HCPs with atleast one patient in prior period and study period:\", len(common_bh_ids))"
   ]
  },
  {
   "cell_type": "markdown",
   "metadata": {
    "application/vnd.databricks.v1+cell": {
     "cellMetadata": {
      "byteLimit": 2048000,
      "rowLimit": 10000
     },
     "inputWidgets": {},
     "nuid": "ee3e3745-8ba5-4dcd-a84e-5a6e8d2497ed",
     "showTitle": false,
     "tableResultSettingsMap": {},
     "title": ""
    }
   },
   "source": [
    "### Step 2: Identify HCPs who prescribed Jivi between Jan'23 and Nov'24"
   ]
  },
  {
   "cell_type": "code",
   "execution_count": 0,
   "metadata": {
    "application/vnd.databricks.v1+cell": {
     "cellMetadata": {
      "byteLimit": 2048000,
      "rowLimit": 10000
     },
     "inputWidgets": {},
     "nuid": "f3cc9f5a-5999-4d60-8f36-3a9b1992eb92",
     "showTitle": false,
     "tableResultSettingsMap": {},
     "title": ""
    }
   },
   "outputs": [],
   "source": [
    "# Filter the data for the specified drug and period\n",
    "study_period_jivi_rx = (\n",
    "  overlap_subset_pdf\n",
    "  .query('SHP_YR_MO >= @study_period_start_month and SHP_YR_MO <= @study_period_end_month and PRD_NM == \"JIVI\"')\n",
    ")\n",
    "print(study_period_jivi_rx.shape)\n",
    "study_period_jivi_rx_hcps = study_period_jivi_rx['BH_ID'].unique().tolist()\n",
    "print(\"Number of HCPs with Jivi Rx during study period:\", len(study_period_jivi_rx_hcps))"
   ]
  },
  {
   "cell_type": "code",
   "execution_count": 0,
   "metadata": {
    "application/vnd.databricks.v1+cell": {
     "cellMetadata": {
      "byteLimit": 2048000,
      "rowLimit": 10000
     },
     "inputWidgets": {},
     "nuid": "87a2834b-d40a-4d75-a9b4-a160a4259f6e",
     "showTitle": false,
     "tableResultSettingsMap": {},
     "title": ""
    }
   },
   "outputs": [],
   "source": [
    "# Filter the data for the specified drug and period\n",
    "study_period_no_jivi_rx = (\n",
    "  overlap_subset_pdf\n",
    "  .query('SHP_YR_MO >= @study_period_start_month and SHP_YR_MO <= @study_period_end_month and PRD_NM != \"JIVI\"')\n",
    ")\n",
    "print(study_period_no_jivi_rx.shape)\n",
    "study_period_no_jivi_rx_hcps = study_period_no_jivi_rx['BH_ID'].unique().tolist()\n",
    "print(\"Number of HCPs which DO NOT HAVE Jivi Rx during study period:\", len(study_period_no_jivi_rx_hcps))"
   ]
  },
  {
   "cell_type": "markdown",
   "metadata": {
    "application/vnd.databricks.v1+cell": {
     "cellMetadata": {
      "byteLimit": 2048000,
      "rowLimit": 10000
     },
     "inputWidgets": {},
     "nuid": "e920b40d-ce18-47cb-a7e6-be25101bf7bb",
     "showTitle": false,
     "tableResultSettingsMap": {},
     "title": ""
    }
   },
   "source": [
    "**HCPs with Jivi Prescription during study period but have atleast one patient from Dec-2019 to Nov-2024**"
   ]
  },
  {
   "cell_type": "code",
   "execution_count": 0,
   "metadata": {
    "application/vnd.databricks.v1+cell": {
     "cellMetadata": {
      "byteLimit": 2048000,
      "rowLimit": 10000
     },
     "inputWidgets": {},
     "nuid": "f063ccb6-332b-4968-9e03-b5f705559510",
     "showTitle": false,
     "tableResultSettingsMap": {},
     "title": ""
    }
   },
   "outputs": [],
   "source": [
    "# HCPs with Jivi rx during study period but have atleast 1 one patient from Dec-2019 to Nov-2024\n",
    "inclusion_bh_ids = common_bh_ids.intersection(study_period_jivi_rx_hcps)\n",
    "print(\"Number of HCPs with Jivi Rx during study period but have atleast 1 one patient from Dec-2019 to Nov-2024: \", len(inclusion_bh_ids))"
   ]
  },
  {
   "cell_type": "markdown",
   "metadata": {
    "application/vnd.databricks.v1+cell": {
     "cellMetadata": {
      "byteLimit": 2048000,
      "rowLimit": 10000
     },
     "inputWidgets": {},
     "nuid": "53c20e31-b96e-4513-9701-626722efec4c",
     "showTitle": false,
     "tableResultSettingsMap": {},
     "title": ""
    }
   },
   "source": [
    "### Step 3: For Jivi prescriber HCPs during study period"
   ]
  },
  {
   "cell_type": "code",
   "execution_count": 0,
   "metadata": {
    "application/vnd.databricks.v1+cell": {
     "cellMetadata": {
      "byteLimit": 2048000,
      "rowLimit": 10000
     },
     "inputWidgets": {},
     "nuid": "7db20f31-2758-453d-bd14-ed26eea7e0e5",
     "showTitle": false,
     "tableResultSettingsMap": {},
     "title": ""
    }
   },
   "outputs": [],
   "source": [
    "study_period_jivi_rx_hcps_data = overlap_subset_pdf[overlap_subset_pdf['BH_ID'].isin(inclusion_bh_ids)]\n",
    "study_period_jivi_rx_hcps_data.shape"
   ]
  },
  {
   "cell_type": "code",
   "execution_count": 0,
   "metadata": {
    "application/vnd.databricks.v1+cell": {
     "cellMetadata": {
      "byteLimit": 2048000,
      "rowLimit": 10000
     },
     "inputWidgets": {},
     "nuid": "64a9847c-97ee-4324-ba08-f85eed6e2448",
     "showTitle": false,
     "tableResultSettingsMap": {},
     "title": ""
    }
   },
   "outputs": [],
   "source": [
    "# display(study_period_jivi_rx_hcps_data)"
   ]
  },
  {
   "cell_type": "code",
   "execution_count": 0,
   "metadata": {
    "application/vnd.databricks.v1+cell": {
     "cellMetadata": {
      "byteLimit": 2048000,
      "rowLimit": 10000
     },
     "inputWidgets": {},
     "nuid": "b0e1be81-dfae-4dd6-af86-83b331c24a84",
     "showTitle": false,
     "tableResultSettingsMap": {},
     "title": ""
    }
   },
   "outputs": [],
   "source": [
    "def get_first_rx_event(data, date_col, id_col, drg_nm_col, drg_nm, study_period_start_date, study_period_end_date, rx_lookback_months):\n",
    "    \"\"\"\n",
    "    This function processes prescription data to find the first prescription event for a specific drug within a study period.\n",
    "    \n",
    "    Parameters:\n",
    "    data (pd.DataFrame): The input data containing prescription records.\n",
    "    date_col (str): The name of the column containing prescription dates.\n",
    "    id_col (str): The name of the column containing unique identifiers for healthcare providers.\n",
    "    drg_nm_col (str): The name of the column containing drug names.\n",
    "    drg_nm (str): The specific drug name to filter the data.\n",
    "    study_period_start_date (datetime): The start date of the study period.\n",
    "    study_period_end_date (datetime): The end date of the study period.\n",
    "    rx_lookback_months (int): The number of months to look back from the first prescription date.\n",
    "    \n",
    "    Returns:\n",
    "    pd.DataFrame: A DataFrame containing the first prescription date and related information for each healthcare provider.\n",
    "    \"\"\"\n",
    "    \n",
    "    # Convert the date column to datetime format\n",
    "    data[date_col] = pd.to_datetime(data[date_col])\n",
    "    \n",
    "    # Sort the data by healthcare provider ID and date\n",
    "    data = data.sort_values(by=[id_col, date_col])\n",
    "\n",
    "    # Filter data for the specific drug prescriptions within the study period\n",
    "    df_rx = data[(data[drg_nm_col] == drg_nm) &\n",
    "                 (data[date_col] >= study_period_start_date) & \n",
    "                 (data[date_col] <= study_period_end_date)]\n",
    "\n",
    "    # Group by healthcare provider ID and get the first prescription date for each group\n",
    "    first_rx = df_rx.groupby('BH_ID').first().reset_index()\n",
    "\n",
    "    # Rename the date column to indicate the first prescription date for the specific drug\n",
    "    first_rx.rename(columns={date_col: f'OVP_FST_{drg_nm}_DT'}, inplace=True)\n",
    "    \n",
    "    # Calculate the look-back start date based on the first prescription date\n",
    "    first_rx['rx_look_back_start_dt'] = first_rx[f'OVP_FST_{drg_nm}_DT'] - pd.DateOffset(months=rx_lookback_months + 1)\n",
    "    \n",
    "    # Extract the year-month format for the first prescription date and look-back start date\n",
    "    first_rx[f'OVP_FST_{drg_nm}_MONTH'] = first_rx[f'OVP_FST_{drg_nm}_DT'].dt.strftime('%Y-%m')\n",
    "    first_rx['rx_look_back_start_month'] = first_rx['rx_look_back_start_dt'].dt.strftime('%Y-%m')\n",
    "    \n",
    "    # Return the relevant columns\n",
    "    return first_rx[['BH_ID', f'OVP_FST_{drg_nm}_DT', f'OVP_FST_{drg_nm}_MONTH', 'rx_look_back_start_dt', 'rx_look_back_start_month']]"
   ]
  },
  {
   "cell_type": "code",
   "execution_count": 0,
   "metadata": {
    "application/vnd.databricks.v1+cell": {
     "cellMetadata": {
      "byteLimit": 2048000,
      "rowLimit": 10000
     },
     "inputWidgets": {},
     "nuid": "6862a618-b208-41cd-b84d-716214911c7c",
     "showTitle": false,
     "tableResultSettingsMap": {},
     "title": ""
    }
   },
   "outputs": [],
   "source": [
    "first_rx_dates = get_first_rx_event(\n",
    "data = study_period_jivi_rx_hcps_data.copy(),\n",
    "date_col = 'SHP_DT',\n",
    "id_col = 'BH_ID',\n",
    "drg_nm_col = 'PRD_NM',\n",
    "drg_nm = 'JIVI',\n",
    "study_period_start_date = study_period_start_date,\n",
    "study_period_end_date = study_period_end_date,\n",
    "rx_lookback_months = rx_lookback_months\n",
    ")"
   ]
  },
  {
   "cell_type": "code",
   "execution_count": 0,
   "metadata": {
    "application/vnd.databricks.v1+cell": {
     "cellMetadata": {
      "byteLimit": 2048000,
      "rowLimit": 10000
     },
     "inputWidgets": {},
     "nuid": "c94316ca-0dbc-4afc-b2bf-aa3a1620acfe",
     "showTitle": false,
     "tableResultSettingsMap": {},
     "title": ""
    }
   },
   "outputs": [],
   "source": [
    "first_rx_dates.display()"
   ]
  },
  {
   "cell_type": "code",
   "execution_count": 0,
   "metadata": {
    "application/vnd.databricks.v1+cell": {
     "cellMetadata": {
      "byteLimit": 2048000,
      "rowLimit": 10000
     },
     "inputWidgets": {},
     "nuid": "9b0e0a6a-7c6e-4946-bde9-9330be559f29",
     "showTitle": false,
     "tableResultSettingsMap": {},
     "title": ""
    }
   },
   "outputs": [],
   "source": [
    "merged_data = pd.merge(study_period_jivi_rx_hcps_data.copy(), first_rx_dates, on='BH_ID', how='inner')\n",
    "print(merged_data.shape)"
   ]
  },
  {
   "cell_type": "code",
   "execution_count": 0,
   "metadata": {
    "application/vnd.databricks.v1+cell": {
     "cellMetadata": {
      "byteLimit": 2048000,
      "rowLimit": 10000
     },
     "inputWidgets": {},
     "nuid": "732655aa-82e4-47fa-ae56-53870bfe795c",
     "showTitle": false,
     "tableResultSettingsMap": {},
     "title": ""
    }
   },
   "outputs": [],
   "source": [
    "display(merged_data)"
   ]
  },
  {
   "cell_type": "code",
   "execution_count": 0,
   "metadata": {
    "application/vnd.databricks.v1+cell": {
     "cellMetadata": {
      "byteLimit": 2048000,
      "rowLimit": 10000
     },
     "inputWidgets": {},
     "nuid": "067875b0-b9e9-4988-a978-6ce9e17f9d9b",
     "showTitle": false,
     "tableResultSettingsMap": {},
     "title": ""
    }
   },
   "outputs": [],
   "source": [
    "merged_data.BH_ID.nunique()"
   ]
  },
  {
   "cell_type": "code",
   "execution_count": 0,
   "metadata": {
    "application/vnd.databricks.v1+cell": {
     "cellMetadata": {
      "byteLimit": 2048000,
      "rowLimit": 10000
     },
     "inputWidgets": {},
     "nuid": "5d13bc80-1740-4141-be3e-c1bb7232efb9",
     "showTitle": false,
     "tableResultSettingsMap": {},
     "title": ""
    }
   },
   "outputs": [],
   "source": [
    "def count_jivi_records(grouped_data):\n",
    "  res_df = grouped_data.query('PRD_NM == \"JIVI\" and SHP_YR_MO < OVP_FST_JIVI_MONTH and SHP_YR_MO >= rx_look_back_start_month')\n",
    "  return res_df.shape[0]"
   ]
  },
  {
   "cell_type": "code",
   "execution_count": 0,
   "metadata": {
    "application/vnd.databricks.v1+cell": {
     "cellMetadata": {
      "byteLimit": 2048000,
      "rowLimit": 10000
     },
     "inputWidgets": {},
     "nuid": "8d07079f-e28a-4205-a06e-8875fcb2e654",
     "showTitle": false,
     "tableResultSettingsMap": {},
     "title": ""
    }
   },
   "outputs": [],
   "source": [
    "jivi_rx_hcp = merged_data.groupby('BH_ID').apply(count_jivi_records).reset_index(name='jivi_rx_cnt')\n",
    "display(jivi_rx_hcp)"
   ]
  },
  {
   "cell_type": "code",
   "execution_count": 0,
   "metadata": {
    "application/vnd.databricks.v1+cell": {
     "cellMetadata": {},
     "inputWidgets": {},
     "nuid": "b742fe85-9a16-4c4e-a274-805be53a317f",
     "showTitle": false,
     "tableResultSettingsMap": {},
     "title": ""
    }
   },
   "outputs": [],
   "source": []
  },
  {
   "cell_type": "code",
   "execution_count": 0,
   "metadata": {
    "application/vnd.databricks.v1+cell": {
     "cellMetadata": {},
     "inputWidgets": {},
     "nuid": "6a375c7f-1ca4-47b7-bc30-e4b08c225fa7",
     "showTitle": false,
     "tableResultSettingsMap": {},
     "title": ""
    }
   },
   "outputs": [],
   "source": []
  },
  {
   "cell_type": "code",
   "execution_count": 0,
   "metadata": {
    "application/vnd.databricks.v1+cell": {
     "cellMetadata": {},
     "inputWidgets": {},
     "nuid": "2319317b-6b8c-47cf-9e6c-299fb28ebb22",
     "showTitle": false,
     "tableResultSettingsMap": {},
     "title": ""
    }
   },
   "outputs": [],
   "source": []
  },
  {
   "cell_type": "code",
   "execution_count": 0,
   "metadata": {
    "application/vnd.databricks.v1+cell": {
     "cellMetadata": {
      "byteLimit": 2048000,
      "rowLimit": 10000
     },
     "inputWidgets": {},
     "nuid": "71711659-37a6-4aef-be7a-3e6665e90acb",
     "showTitle": false,
     "tableResultSettingsMap": {},
     "title": ""
    }
   },
   "outputs": [],
   "source": [
    "import pandas as pd\n",
    "\n",
    "# Assuming merged_data is already defined and contains the necessary columns\n",
    "\n",
    "# Group by BH_ID and aggregate the necessary columns\n",
    "grouped_data = merged_data.groupby('BH_ID').agg({\n",
    "    'SHP_DT': list,\n",
    "    'PRD_NM': list,\n",
    "    'SHP_YR_MO': list,\n",
    "    'OVP_FST_JIVI_MONTH': 'first',\n",
    "    'rx_look_back_start_month': 'first'\n",
    "}).reset_index()\n",
    "\n",
    "# Function to count Jivi Rx within the 24 months window\n",
    "def count_jivi_rx(row):\n",
    "    count = 0\n",
    "    for prd_nm, shp_yr_mo in zip(row['PRD_NM'], row['SHP_YR_MO']):\n",
    "        if prd_nm == \"JIVI\" and row['rx_look_back_start_month'] <= shp_yr_mo < row['OVP_FST_JIVI_MONTH']:\n",
    "            count += 1\n",
    "    return count\n",
    "\n",
    "# Apply the function to count Jivi Rx for each HCP\n",
    "grouped_data['jivi_rx_count'] = grouped_data.apply(count_jivi_rx, axis=1)\n",
    "display(grouped_data)\n",
    "# Select the relevant columns\n",
    "jivi_rx_count = grouped_data[['BH_ID', 'jivi_rx_count']]\n",
    "\n",
    "display(jivi_rx_count)"
   ]
  },
  {
   "cell_type": "code",
   "execution_count": 0,
   "metadata": {
    "application/vnd.databricks.v1+cell": {
     "cellMetadata": {},
     "inputWidgets": {},
     "nuid": "d05e8853-5fb0-444c-b90e-a4ac99024ccb",
     "showTitle": false,
     "tableResultSettingsMap": {},
     "title": ""
    }
   },
   "outputs": [],
   "source": []
  },
  {
   "cell_type": "code",
   "execution_count": 0,
   "metadata": {
    "application/vnd.databricks.v1+cell": {
     "cellMetadata": {},
     "inputWidgets": {},
     "nuid": "c54c640e-099f-43ca-adb9-b761cbd08d99",
     "showTitle": false,
     "tableResultSettingsMap": {},
     "title": ""
    }
   },
   "outputs": [],
   "source": []
  },
  {
   "cell_type": "code",
   "execution_count": 0,
   "metadata": {
    "application/vnd.databricks.v1+cell": {
     "cellMetadata": {},
     "inputWidgets": {},
     "nuid": "80debff7-4c7b-414b-b7a4-6dda5a582639",
     "showTitle": false,
     "tableResultSettingsMap": {},
     "title": ""
    }
   },
   "outputs": [],
   "source": []
  },
  {
   "cell_type": "code",
   "execution_count": 0,
   "metadata": {
    "application/vnd.databricks.v1+cell": {
     "cellMetadata": {},
     "inputWidgets": {},
     "nuid": "f82af99d-8d53-43f9-96b7-d711ee5f5f02",
     "showTitle": false,
     "tableResultSettingsMap": {},
     "title": ""
    }
   },
   "outputs": [],
   "source": [
    "def get_first_rx_month(overlap_rx_df, id_colname, date_colname, prd_nm):\n",
    "    # Sort by SHP_DT to ensure the first prescription is identified correctly\n",
    "    overlap_rx_df = overlap_rx_df.sort_values(by=date_colname)"
   ]
  }
 ],
 "metadata": {
  "application/vnd.databricks.v1+notebook": {
   "computePreferences": null,
   "dashboards": [],
   "environmentMetadata": {
    "base_environment": "",
    "client": "2"
   },
   "language": "python",
   "notebookMetadata": {
    "pythonIndentUnit": 2
   },
   "notebookName": "01_hcp_target_spine",
   "widgets": {}
  },
  "language_info": {
   "name": "python"
  }
 },
 "nbformat": 4,
 "nbformat_minor": 0
}
