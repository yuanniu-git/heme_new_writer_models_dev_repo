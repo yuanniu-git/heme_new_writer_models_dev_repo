{
 "cells": [
  {
   "cell_type": "code",
   "execution_count": 0,
   "metadata": {
    "application/vnd.databricks.v1+cell": {
     "cellMetadata": {
      "byteLimit": 2048000,
      "rowLimit": 10000
     },
     "inputWidgets": {},
     "nuid": "2f002768-ce53-4a03-b859-95969c869a7c",
     "showTitle": false,
     "tableResultSettingsMap": {},
     "title": ""
    }
   },
   "outputs": [],
   "source": [
    "import pandas as pd\n",
    "from pyspark.sql import functions as F"
   ]
  },
  {
   "cell_type": "code",
   "execution_count": 0,
   "metadata": {
    "application/vnd.databricks.v1+cell": {
     "cellMetadata": {
      "byteLimit": 2048000,
      "rowLimit": 10000
     },
     "inputWidgets": {},
     "nuid": "8c03bcd1-6bf5-4eff-a111-1699b81b9bed",
     "showTitle": false,
     "tableResultSettingsMap": {},
     "title": ""
    }
   },
   "outputs": [],
   "source": [
    "%run \"../00_config/set-up\""
   ]
  },
  {
   "cell_type": "code",
   "execution_count": 0,
   "metadata": {
    "application/vnd.databricks.v1+cell": {
     "cellMetadata": {
      "byteLimit": 2048000,
      "rowLimit": 10000
     },
     "inputWidgets": {},
     "nuid": "d85df0a0-a7f0-4c7e-bb64-223d5b690d91",
     "showTitle": false,
     "tableResultSettingsMap": {},
     "title": ""
    }
   },
   "outputs": [],
   "source": [
    "%run \"/Workspace/Repos/yuan.niu@bayer.com/heme_new_writer_models_dev_repo/02_data_processing/helper_functions\""
   ]
  },
  {
   "cell_type": "code",
   "execution_count": 0,
   "metadata": {
    "application/vnd.databricks.v1+cell": {
     "cellMetadata": {
      "byteLimit": 2048000,
      "rowLimit": 10000
     },
     "inputWidgets": {},
     "nuid": "1b7d75f8-1ebf-4004-8a6d-a9d39ea355f9",
     "showTitle": false,
     "tableResultSettingsMap": {},
     "title": ""
    }
   },
   "outputs": [],
   "source": [
    "start_month = \"2019-12\"\n",
    "end_month = \"2024-11\"\n",
    "study_period_start_month = \"2023-01\"\n",
    "study_period_end_month = \"2024-11\"\n",
    "lookback_months = 12"
   ]
  },
  {
   "cell_type": "code",
   "execution_count": 0,
   "metadata": {
    "application/vnd.databricks.v1+cell": {
     "cellMetadata": {
      "byteLimit": 2048000,
      "rowLimit": 10000
     },
     "inputWidgets": {},
     "nuid": "d8b56370-4a06-401a-bc18-dd8cc32eecbd",
     "showTitle": false,
     "tableResultSettingsMap": {},
     "title": ""
    }
   },
   "outputs": [],
   "source": [
    "overlap_rx = spark.sql(\"SELECT * FROM heme_data.overlap_preprocessed\")\n",
    "print(\"Row count: \", overlap_rx.count(), \"Column Count: \", len(overlap_rx.columns))"
   ]
  },
  {
   "cell_type": "markdown",
   "metadata": {
    "application/vnd.databricks.v1+cell": {
     "cellMetadata": {},
     "inputWidgets": {},
     "nuid": "c35da277-e1d2-4669-abec-63cc55de31f2",
     "showTitle": false,
     "tableResultSettingsMap": {},
     "title": ""
    }
   },
   "source": [
    "### Step 1: Identify unique HCPs who have patients (any drugs) between Jan-2023 and Nov-2024."
   ]
  },
  {
   "cell_type": "code",
   "execution_count": 0,
   "metadata": {
    "application/vnd.databricks.v1+cell": {
     "cellMetadata": {},
     "inputWidgets": {},
     "nuid": "bcd6eaaa-453c-458a-bc44-e8c020bbbe2b",
     "showTitle": false,
     "tableResultSettingsMap": {},
     "title": ""
    }
   },
   "outputs": [],
   "source": [
    "study_period_hcp_pats_cnt = pd.DataFrame(\n",
    "  overlap_subset_df\n",
    "  .query('SHP_YR_MO >= @study_period_start_month and SHP_YR_MO <= @study_period_end_month')\n",
    "  .groupby('BH_ID')['PATIENT_ID'].nunique()\n",
    "  .reset_index()\n",
    "  .rename(columns={'PATIENT_ID': 'pats_cnt'})\n",
    "  .sort_values(by='pats_cnt')\n",
    ")\n",
    "print(study_period_hcp_pats_cnt.shape)"
   ]
  },
  {
   "cell_type": "code",
   "execution_count": 0,
   "metadata": {
    "application/vnd.databricks.v1+cell": {
     "cellMetadata": {},
     "inputWidgets": {},
     "nuid": "556b0801-badd-4e19-8e9a-1fd8c5a92963",
     "showTitle": false,
     "tableResultSettingsMap": {},
     "title": ""
    }
   },
   "outputs": [],
   "source": [
    "display(study_period_hcp_pats_cnt)"
   ]
  },
  {
   "cell_type": "code",
   "execution_count": 0,
   "metadata": {
    "application/vnd.databricks.v1+cell": {
     "cellMetadata": {},
     "inputWidgets": {},
     "nuid": "eeab9dcf-1f27-467d-87d6-fdf133d8f935",
     "showTitle": false,
     "tableResultSettingsMap": {},
     "title": ""
    }
   },
   "outputs": [],
   "source": [
    "prior_period_hcp_pats_cnt = pd.DataFrame(\n",
    "  overlap_subset_df\n",
    "  .query('SHP_YR_MO >= @start_month and SHP_YR_MO < @study_period_start_month')\n",
    "  .groupby('BH_ID')['PATIENT_ID'].nunique()\n",
    "  .reset_index()\n",
    "  .rename(columns={'PATIENT_ID': 'pats_cnt'})\n",
    "  .sort_values(by='pats_cnt')\n",
    ")\n",
    "print(prior_period_hcp_pats_cnt.shape)"
   ]
  },
  {
   "cell_type": "code",
   "execution_count": 0,
   "metadata": {
    "application/vnd.databricks.v1+cell": {
     "cellMetadata": {},
     "inputWidgets": {},
     "nuid": "1e9010d7-de7e-48df-9027-25b7f4736774",
     "showTitle": false,
     "tableResultSettingsMap": {},
     "title": ""
    }
   },
   "outputs": [],
   "source": [
    "display(prior_period_hcp_pats_cnt)"
   ]
  },
  {
   "cell_type": "code",
   "execution_count": 0,
   "metadata": {
    "application/vnd.databricks.v1+cell": {
     "cellMetadata": {},
     "inputWidgets": {},
     "nuid": "1cb2df1d-ffd5-4ac6-b3cf-5dafab3977de",
     "showTitle": false,
     "tableResultSettingsMap": {},
     "title": ""
    }
   },
   "outputs": [],
   "source": [
    "# Finding common BH_IDs between prior period and study period HCP patients count dataframes\n",
    "\n",
    "# Convert the BH_ID columns to sets\n",
    "prior_bh_ids = set(prior_period_hcp_pats_cnt['BH_ID'])\n",
    "print(\"Number of HCPs with atleast one patient in period prior to study period:\", len(prior_bh_ids))\n",
    "study_bh_ids = set(study_period_hcp_pats_cnt['BH_ID'])\n",
    "print(\"Number of HCPs with atleast one patient in study period:\", len(study_bh_ids))\n",
    "\n",
    "# Find the common BH_IDs using set intersection\n",
    "common_bh_ids = prior_bh_ids.intersection(study_bh_ids)\n",
    "\n",
    "print(\"Number of HCPs with atleast one patient in prior period and study period:\", len(common_bh_ids))"
   ]
  },
  {
   "cell_type": "markdown",
   "metadata": {
    "application/vnd.databricks.v1+cell": {
     "cellMetadata": {},
     "inputWidgets": {},
     "nuid": "ee3e3745-8ba5-4dcd-a84e-5a6e8d2497ed",
     "showTitle": false,
     "tableResultSettingsMap": {},
     "title": ""
    }
   },
   "source": [
    "### Step 2: Identify HCPs who prescribed Jivi between Jan'23 and Nov'24"
   ]
  },
  {
   "cell_type": "code",
   "execution_count": 0,
   "metadata": {
    "application/vnd.databricks.v1+cell": {
     "cellMetadata": {},
     "inputWidgets": {},
     "nuid": "f3cc9f5a-5999-4d60-8f36-3a9b1992eb92",
     "showTitle": false,
     "tableResultSettingsMap": {},
     "title": ""
    }
   },
   "outputs": [],
   "source": [
    "# Filter the data for the specified drug and period\n",
    "study_period_jivi_rx = (\n",
    "  overlap_subset_df\n",
    "  .query('SHP_YR_MO >= @study_period_start_month and SHP_YR_MO <= @study_period_end_month and PRD_NM == \"JIVI\"')\n",
    ")\n",
    "print(study_period_jivi_rx.shape)\n",
    "study_period_jivi_rx_hcps = study_period_jivi_rx['BH_ID'].unique().tolist()\n",
    "print(\"Number of HCPs with Jivi Rx during study period:\", len(study_period_jivi_rx_hcps))"
   ]
  },
  {
   "cell_type": "code",
   "execution_count": 0,
   "metadata": {
    "application/vnd.databricks.v1+cell": {
     "cellMetadata": {},
     "inputWidgets": {},
     "nuid": "87a2834b-d40a-4d75-a9b4-a160a4259f6e",
     "showTitle": false,
     "tableResultSettingsMap": {},
     "title": ""
    }
   },
   "outputs": [],
   "source": [
    "# Filter the data for the specified drug and period\n",
    "study_period_no_jivi_rx = (\n",
    "  overlap_subset_df\n",
    "  .query('SHP_YR_MO >= @study_period_start_month and SHP_YR_MO <= @study_period_end_month and PRD_NM != \"JIVI\"')\n",
    ")\n",
    "print(study_period_no_jivi_rx.shape)\n",
    "study_period_no_jivi_rx_hcps = study_period_no_jivi_rx['BH_ID'].unique().tolist()\n",
    "print(\"Number of HCPs which DO NOT HAVE Jivi Rx during study period:\", len(study_period_no_jivi_rx_hcps))"
   ]
  },
  {
   "cell_type": "markdown",
   "metadata": {
    "application/vnd.databricks.v1+cell": {
     "cellMetadata": {},
     "inputWidgets": {},
     "nuid": "e920b40d-ce18-47cb-a7e6-be25101bf7bb",
     "showTitle": false,
     "tableResultSettingsMap": {},
     "title": ""
    }
   },
   "source": [
    "**HCPs with Jivi Prescription during study period but have atleast one patient from Dec-2019 to Nov-2024**"
   ]
  },
  {
   "cell_type": "code",
   "execution_count": 0,
   "metadata": {
    "application/vnd.databricks.v1+cell": {
     "cellMetadata": {},
     "inputWidgets": {},
     "nuid": "f063ccb6-332b-4968-9e03-b5f705559510",
     "showTitle": false,
     "tableResultSettingsMap": {},
     "title": ""
    }
   },
   "outputs": [],
   "source": [
    "# HCPs with Jivi rx during study period but have atleast 1 one patient from Dec-2019 to Nov-2024\n",
    "print(\"Number of HCPs with Jivi Rx during study period but have atleast 1 one patient from Dec-2019 to Nov-2024: \", len(common_bh_ids.intersection(study_period_jivi_rx_hcps)))"
   ]
  },
  {
   "cell_type": "markdown",
   "metadata": {
    "application/vnd.databricks.v1+cell": {
     "cellMetadata": {},
     "inputWidgets": {},
     "nuid": "53c20e31-b96e-4513-9701-626722efec4c",
     "showTitle": false,
     "tableResultSettingsMap": {},
     "title": ""
    }
   },
   "source": [
    "### Step 3: For Jivi prescriber HCPs during study period"
   ]
  },
  {
   "cell_type": "code",
   "execution_count": 0,
   "metadata": {
    "application/vnd.databricks.v1+cell": {
     "cellMetadata": {},
     "inputWidgets": {},
     "nuid": "7db20f31-2758-453d-bd14-ed26eea7e0e5",
     "showTitle": false,
     "tableResultSettingsMap": {},
     "title": ""
    }
   },
   "outputs": [],
   "source": [
    "study_period_jivi_rx_hcps_df = overlap_subset_df[overlap_subset_df['BH_ID'].isin(study_period_jivi_rx_hcps)]\n",
    "study_period_jivi_rx_hcps_df.shape"
   ]
  }
 ],
 "metadata": {
  "application/vnd.databricks.v1+notebook": {
   "computePreferences": null,
   "dashboards": [],
   "environmentMetadata": {
    "base_environment": "",
    "client": "2"
   },
   "language": "python",
   "notebookMetadata": {
    "pythonIndentUnit": 2
   },
   "notebookName": "01_hcp_target_spine",
   "widgets": {}
  },
  "language_info": {
   "name": "python"
  }
 },
 "nbformat": 4,
 "nbformat_minor": 0
}
