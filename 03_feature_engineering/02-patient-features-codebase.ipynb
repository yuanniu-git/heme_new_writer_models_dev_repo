{
 "cells": [
  {
   "cell_type": "code",
   "execution_count": 0,
   "metadata": {
    "application/vnd.databricks.v1+cell": {
     "cellMetadata": {
      "byteLimit": 2048000,
      "rowLimit": 10000
     },
     "inputWidgets": {},
     "nuid": "1c6dd651-66b7-4697-b143-725b4702b8c5",
     "showTitle": false,
     "tableResultSettingsMap": {},
     "title": ""
    }
   },
   "outputs": [],
   "source": [
    "%run \"../00_config/set-up\""
   ]
  },
  {
   "cell_type": "code",
   "execution_count": 0,
   "metadata": {
    "application/vnd.databricks.v1+cell": {
     "cellMetadata": {
      "byteLimit": 2048000,
      "rowLimit": 10000
     },
     "inputWidgets": {},
     "nuid": "3327a2fd-93c5-4730-bfd2-6e7c84196e1a",
     "showTitle": false,
     "tableResultSettingsMap": {},
     "title": ""
    }
   },
   "outputs": [],
   "source": [
    "df = spark.sql(\"SELECT * FROM heme_data.overlap_rx\")\n",
    "print('Row count: ', df.count(), 'Column Count: ', len(df.columns))\n",
    "df.printSchema()"
   ]
  },
  {
   "cell_type": "markdown",
   "metadata": {
    "application/vnd.databricks.v1+cell": {
     "cellMetadata": {},
     "inputWidgets": {},
     "nuid": "d71cc87e-7d31-4750-990f-37afb92270c2",
     "showTitle": false,
     "tableResultSettingsMap": {},
     "title": ""
    }
   },
   "source": [
    "### Calculate Weekly IUs"
   ]
  },
  {
   "cell_type": "code",
   "execution_count": 0,
   "metadata": {
    "application/vnd.databricks.v1+cell": {
     "cellMetadata": {
      "byteLimit": 2048000,
      "rowLimit": 10000
     },
     "inputWidgets": {},
     "nuid": "12051179-a258-42a1-9e1f-fd3f258a140c",
     "showTitle": false,
     "tableResultSettingsMap": {},
     "title": ""
    }
   },
   "outputs": [],
   "source": [
    "# Summarize IU by patient, product, week\n",
    "from pyspark.sql.functions import date_trunc, to_date\n",
    "\n",
    "# derive week from date\n",
    "columns = ['BH_ID', 'PATIENT_ID', 'PRD_NM', 'SHP_DT', 'PRPHY', 'IU']\n",
    "df_selected = df.select(*columns)\n",
    "df_with_week = df_selected.withColumn(\n",
    "    \"SHP_WK\",\n",
    "    to_date(date_trunc(\"week\", F.col(\"SHP_DT\")))\n",
    ")\n",
    "\n",
    "# calculate weekly IU\n",
    "df_iu = df_with_week.filter(F.col(\"PRD_NM\").isNotNull()).groupBy(\n",
    "    \"PATIENT_ID\",\n",
    "    \"PRD_NM\",\n",
    "    \"PRPHY\",\n",
    "    \"SHP_WK\"\n",
    ").agg(\n",
    "    F.sum(\"IU\").alias(\"IU\")\n",
    ").withColumn('PRPHY', F.coalesce(F.col('PRPHY'), F.lit('1'))) \\\n",
    ".orderBy(F.col('PATIENT_ID').desc(), F.col('PRD_NM').desc(), F.col('SHP_WK').asc())\n",
    "\n",
    "df_iu.printSchema()\n",
    "df_iu.display()"
   ]
  },
  {
   "cell_type": "markdown",
   "metadata": {
    "application/vnd.databricks.v1+cell": {
     "cellMetadata": {},
     "inputWidgets": {},
     "nuid": "bb5d18cd-c7bd-4476-be25-345c02a4f7a7",
     "showTitle": false,
     "tableResultSettingsMap": {},
     "title": ""
    }
   },
   "source": [
    "#### Weekly IU in Wide Format"
   ]
  },
  {
   "cell_type": "code",
   "execution_count": 0,
   "metadata": {
    "application/vnd.databricks.v1+cell": {
     "cellMetadata": {
      "byteLimit": 2048000,
      "rowLimit": 10000
     },
     "inputWidgets": {},
     "nuid": "e85765a1-9d92-4082-b0e7-ecccc19c49cf",
     "showTitle": false,
     "tableResultSettingsMap": {},
     "title": ""
    }
   },
   "outputs": [],
   "source": [
    "# transform weekly iu data to wide format\n",
    "df_iu_wide = (df_iu.withColumn(\"PRD_PRPHY\",\n",
    "    F.concat(\n",
    "        F.lit(\"PRD_\"),\n",
    "        F.col(\"PRD_NM\"),\n",
    "        F.lit(\"_PRPHY_\"),\n",
    "        F.col(\"PRPHY\"), \n",
    "    )).groupBy(\"PATIENT_ID\", \"SHP_WK\").pivot(\"PRD_PRPHY\").agg(F.first(\"IU\"))\n",
    "    .orderBy(F.col('PATIENT_ID').desc(), F.col('SHP_WK').asc())\n",
    "    )\n",
    "\n",
    "def clean_dataframe(df):\n",
    "    # Remove columns with 100% null values\n",
    "    non_null_columns = [col for col, dtype in df.dtypes if df.filter(F.col(col).isNotNull()).count() > 0]\n",
    "    df_non_null = df.select(*non_null_columns)\n",
    "    \n",
    "    # Fill null values with 0 for all columns except PATIENT_ID and SHP_WK\n",
    "    columns_to_fill = [col for col in df_non_null.columns if col not in ['PATIENT_ID', 'SHP_WK']]\n",
    "    for col in columns_to_fill:\n",
    "        df_non_null = df_non_null.withColumn(col, F.coalesce(F.col(col), F.lit(0)))\n",
    "    \n",
    "    # Convert decimal values to integers\n",
    "    df_non_null = df_non_null.select(\n",
    "    *[F.col(c).cast('int') if t == 'decimal(38,5)' else F.col(c) for c, t in df_non_null.dtypes]\n",
    "    )\n",
    "    return df_non_null\n",
    "\n",
    "df_iu_wide_fmt = clean_dataframe(df_iu_wide)\n",
    "df_iu_wide_fmt.printSchema()    \n",
    "df_iu_wide_fmt.display()"
   ]
  },
  {
   "cell_type": "markdown",
   "metadata": {
    "application/vnd.databricks.v1+cell": {
     "cellMetadata": {},
     "inputWidgets": {},
     "nuid": "b23a2aa6-e264-4ddf-bf8b-9755c521a73a",
     "showTitle": false,
     "tableResultSettingsMap": {},
     "title": ""
    }
   },
   "source": [
    "#### Explode Patient Data to Consecutive Weeks"
   ]
  },
  {
   "cell_type": "code",
   "execution_count": 0,
   "metadata": {
    "application/vnd.databricks.v1+cell": {
     "cellMetadata": {
      "byteLimit": 2048000,
      "rowLimit": 10000
     },
     "inputWidgets": {},
     "nuid": "6430f6a2-af9c-454f-ba23-94c003fe3e19",
     "showTitle": false,
     "tableResultSettingsMap": {},
     "title": ""
    }
   },
   "outputs": [],
   "source": [
    "# Define the date range\n",
    "start_date = \"2022-01-03\"\n",
    "end_date = \"2024-11-25\"\n",
    "\n",
    "# Create a DataFrame with all weeks in the date range\n",
    "date_range_df = spark.sql(f\"\"\"\n",
    "    SELECT explode(sequence(to_date('{start_date}'), to_date('{end_date}'), interval 1 week)) as SHP_WK\n",
    "\"\"\")\n",
    "\n",
    "# Get distinct PATIENT_IDs and cross join to get all combinations of PATIENT_ID and SHP_WK\n",
    "patient_weeks_df = df_iu_wide_fmt.select(\"PATIENT_ID\").distinct().crossJoin(date_range_df)\n",
    "\n",
    "# Join with the original DataFrame\n",
    "df_iu_wide_fmt_exp = patient_weeks_df.join(\n",
    "    df_iu_wide_fmt,\n",
    "    on=[\"PATIENT_ID\", \"SHP_WK\"],\n",
    "    how=\"left\"\n",
    ").fillna(0).orderBy('PATIENT_ID', 'SHP_WK')\n",
    "\n",
    "df_iu_wide_fmt_exp.printSchema()\n",
    "df_iu_wide_fmt_exp.display()"
   ]
  },
  {
   "cell_type": "markdown",
   "metadata": {
    "application/vnd.databricks.v1+cell": {
     "cellMetadata": {},
     "inputWidgets": {},
     "nuid": "e787fde6-ac02-4538-abd7-952002d1f6c9",
     "showTitle": false,
     "tableResultSettingsMap": {},
     "title": ""
    }
   },
   "source": [
    "#### Summarize Past N Lags"
   ]
  },
  {
   "cell_type": "code",
   "execution_count": 0,
   "metadata": {
    "application/vnd.databricks.v1+cell": {
     "cellMetadata": {
      "byteLimit": 2048000,
      "rowLimit": 10000
     },
     "inputWidgets": {},
     "nuid": "0d0426f5-6de3-44be-9ddf-9ef641918521",
     "showTitle": false,
     "tableResultSettingsMap": {},
     "title": ""
    }
   },
   "outputs": [],
   "source": [
    "def summarize_lags(df, n):\n",
    "  \"\"\"\n",
    "    Summarize the value from previous n periods.\n",
    "\n",
    "    :param df: Input DataFrame\n",
    "    :param n: Number of periods for the summary stat\n",
    "    :return: DataFrame with added summary stat\n",
    "  \"\"\"\n",
    "  # Define the window specification\n",
    "  window_spec = Window.partitionBy(\"PATIENT_ID\").orderBy(\"SHP_WK\").rowsBetween(-n, -1)\n",
    "\n",
    "  # List of columns \n",
    "  prd_columns = [col for col in df.columns if col.startswith(\"PRD_\")]\n",
    "\n",
    "  # Calculate for each PRD_ column\n",
    "  for col in prd_columns:\n",
    "      df = df.withColumn(f\"{col}_SUM_{n}WK\", F.sum(col).over(window_spec)) \\\n",
    "              .withColumn(f\"{col}_STD_{n}WK\", F.stddev(col).over(window_spec))\n",
    "\n",
    "  # Select the desired columns\n",
    "  final_columns = [\"PATIENT_ID\", \"SHP_WK\"] + [f\"{col}_SUM_{n}WK\" for col in prd_columns] + [f\"{col}_STD_{n}WK\" for col in prd_columns]\n",
    "  df_final = df.select(final_columns)\n",
    "\n",
    "  return df_final\n",
    "\n",
    "# Clculate 4 week sum\n",
    "n = 4\n",
    "df_result = summarize_lags(df_iu_wide_fmt_exp, n)\n",
    "df_result.printSchema()\n",
    "df_result.display()"
   ]
  },
  {
   "cell_type": "code",
   "execution_count": 0,
   "metadata": {
    "application/vnd.databricks.v1+cell": {
     "cellMetadata": {},
     "inputWidgets": {},
     "nuid": "9117de52-02cd-4927-b8c8-638b2c40b254",
     "showTitle": false,
     "tableResultSettingsMap": {},
     "title": ""
    }
   },
   "outputs": [],
   "source": []
  }
 ],
 "metadata": {
  "application/vnd.databricks.v1+notebook": {
   "computePreferences": null,
   "dashboards": [],
   "environmentMetadata": {
    "base_environment": "",
    "client": "2"
   },
   "language": "python",
   "notebookMetadata": {
    "pythonIndentUnit": 2
   },
   "notebookName": "02-patient-features-codebase",
   "widgets": {}
  },
  "language_info": {
   "name": "python"
  }
 },
 "nbformat": 4,
 "nbformat_minor": 0
}
