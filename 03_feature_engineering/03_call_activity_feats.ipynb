{
 "cells": [
  {
   "cell_type": "code",
   "execution_count": 0,
   "metadata": {
    "application/vnd.databricks.v1+cell": {
     "cellMetadata": {
      "byteLimit": 2048000,
      "rowLimit": 10000
     },
     "inputWidgets": {},
     "nuid": "afded8a7-9102-4af7-9c8a-d4d82acf9570",
     "showTitle": false,
     "tableResultSettingsMap": {},
     "title": ""
    }
   },
   "outputs": [],
   "source": [
    "# Importing packages\n",
    "from pyspark.sql import functions as F  # Importing functions from pyspark.sql\n",
    "from pyspark.sql import Window\n",
    "import pandas as pd"
   ]
  },
  {
   "cell_type": "code",
   "execution_count": 0,
   "metadata": {
    "application/vnd.databricks.v1+cell": {
     "cellMetadata": {
      "byteLimit": 2048000,
      "rowLimit": 10000
     },
     "inputWidgets": {},
     "nuid": "95202c65-92e7-4615-a618-5be9b94e1bdd",
     "showTitle": false,
     "tableResultSettingsMap": {},
     "title": ""
    }
   },
   "outputs": [],
   "source": [
    "%run \"../00_config/set-up\""
   ]
  },
  {
   "cell_type": "code",
   "execution_count": 0,
   "metadata": {
    "application/vnd.databricks.v1+cell": {
     "cellMetadata": {
      "byteLimit": 2048000,
      "rowLimit": 10000
     },
     "inputWidgets": {},
     "nuid": "5c5de831-38d6-4c9f-8569-5f665bc02433",
     "showTitle": false,
     "tableResultSettingsMap": {},
     "title": ""
    }
   },
   "outputs": [],
   "source": [
    "# Month and Date parameters for manual control\n",
    "first_month = \"2019-12\"\n",
    "last_month = \"2024-11\"\n",
    "\n",
    "study_period_start_date = \"2023-01-01\"\n",
    "study_period_start_month = \"2023-01\"\n",
    "study_period_end_date = \"2024-11-30\"\n",
    "study_period_end_month = \"2024-11\""
   ]
  },
  {
   "cell_type": "code",
   "execution_count": 0,
   "metadata": {
    "application/vnd.databricks.v1+cell": {
     "cellMetadata": {
      "byteLimit": 2048000,
      "rowLimit": 10000
     },
     "inputWidgets": {},
     "nuid": "e1ed7ebb-b101-4398-a9e1-47b283f4da19",
     "showTitle": false,
     "tableResultSettingsMap": {},
     "title": ""
    }
   },
   "outputs": [],
   "source": [
    "def calc_cumulative_sums_excl_current(df, id_col, date_col, value_col):\n",
    "    \"\"\"\n",
    "    Calculate cumulative sums over past 1, 3, 6, 9, and 12 records for each BAYER_HCP_ID, excluding the current record.\n",
    "\n",
    "    Parameters:\n",
    "    df (DataFrame): The input DataFrame containing the data.\n",
    "    id_col (str): The column name used for partitioning the data (e.g., 'BAYER_HCP_ID').\n",
    "    date_col (str): The column name used for ordering the data within each partition (e.g., 'CALL_MONTH').\n",
    "    value_col (str): The column name whose values will be summed (e.g., 'call_cnt').\n",
    "\n",
    "    Returns:\n",
    "    DataFrame: The DataFrame with additional columns for cumulative sums over past 1, 3, 6, 9, and 12 records, excluding the current record.\n",
    "    \"\"\"\n",
    "    window_specs = {\n",
    "        'CAL_calls_prev_01M_sum': Window.partitionBy(id_col).orderBy(date_col).rowsBetween(-1, -1),\n",
    "        'CAL_calls_prev_03M_sum': Window.partitionBy(id_col).orderBy(date_col).rowsBetween(-3, -1),\n",
    "        'CAL_calls_prev_06M_sum': Window.partitionBy(id_col).orderBy(date_col).rowsBetween(-6, -1),\n",
    "        'CAL_calls_prev_09M_sum': Window.partitionBy(id_col).orderBy(date_col).rowsBetween(-9, -1),\n",
    "        'CAL_calls_prev_12M_sum': Window.partitionBy(id_col).orderBy(date_col).rowsBetween(-12, -1)\n",
    "    }\n",
    "    \n",
    "    for sum_col, window_spec in window_specs.items():\n",
    "        df = df.withColumn(sum_col, F.sum(value_col).over(window_spec))\n",
    "    \n",
    "    return df"
   ]
  },
  {
   "cell_type": "code",
   "execution_count": 0,
   "metadata": {
    "application/vnd.databricks.v1+cell": {
     "cellMetadata": {
      "byteLimit": 2048000,
      "rowLimit": 10000
     },
     "inputWidgets": {},
     "nuid": "25f065b4-5007-48b8-bbf2-23ca205dc52c",
     "showTitle": false,
     "tableResultSettingsMap": {},
     "title": ""
    }
   },
   "outputs": [],
   "source": [
    "# Reading the calls activity data from Hivestore\n",
    "call_data_sdf = spark.sql(\"SELECT * FROM heme_data.call_activity_data_preprocessed\")\n",
    "print(\n",
    "    \"Row count: \",\n",
    "    call_data_sdf.count(),\n",
    "    \"Column Count: \",\n",
    "    len(call_data_sdf.columns),\n",
    ")"
   ]
  },
  {
   "cell_type": "code",
   "execution_count": 0,
   "metadata": {
    "application/vnd.databricks.v1+cell": {
     "cellMetadata": {
      "byteLimit": 2048000,
      "rowLimit": 10000
     },
     "inputWidgets": {},
     "nuid": "e23b3e10-745c-4ade-90bd-c89e58116446",
     "showTitle": false,
     "tableResultSettingsMap": {},
     "title": ""
    }
   },
   "outputs": [],
   "source": [
    "# Reading the HCP monthly target spine from Hivestore\n",
    "hcp_target_spine_sdf = spark.sql(\"SELECT * FROM jivi_new_writer_model.hcp_target_spine\")\n",
    "print(\n",
    "    \"Row count: \",\n",
    "    hcp_target_spine_sdf.count(),\n",
    "    \"Column Count: \",\n",
    "    len(hcp_target_spine_sdf.columns),\n",
    ")"
   ]
  },
  {
   "cell_type": "code",
   "execution_count": 0,
   "metadata": {
    "application/vnd.databricks.v1+cell": {
     "cellMetadata": {
      "byteLimit": 2048000,
      "rowLimit": 10000
     },
     "inputWidgets": {},
     "nuid": "652f5a9a-68a0-4186-a341-1ca4cf554824",
     "showTitle": false,
     "tableResultSettingsMap": {},
     "title": ""
    }
   },
   "outputs": [],
   "source": [
    "hcp_monthly_calls_sdf = (\n",
    "  call_data_sdf\n",
    "  .groupBy(\"BAYER_HCP_ID\", \"CALL_MONTH\")\n",
    "  .count()\n",
    "  .withColumnRenamed(\"count\", \"call_cnt\")\n",
    "  .orderBy(\"BAYER_HCP_ID\", \"CALL_MONTH\")\n",
    ")"
   ]
  },
  {
   "cell_type": "code",
   "execution_count": 0,
   "metadata": {
    "application/vnd.databricks.v1+cell": {
     "cellMetadata": {
      "byteLimit": 2048000,
      "rowLimit": 10000
     },
     "inputWidgets": {},
     "nuid": "e83fc6fa-6587-401b-932a-7c61f953437d",
     "showTitle": false,
     "tableResultSettingsMap": {},
     "title": ""
    }
   },
   "outputs": [],
   "source": [
    "display(hcp_monthly_calls_sdf)"
   ]
  },
  {
   "cell_type": "code",
   "execution_count": 0,
   "metadata": {
    "application/vnd.databricks.v1+cell": {
     "cellMetadata": {
      "byteLimit": 2048000,
      "rowLimit": 10000
     },
     "inputWidgets": {},
     "nuid": "e256da87-688e-4545-9989-b61018d50521",
     "showTitle": false,
     "tableResultSettingsMap": {},
     "title": ""
    }
   },
   "outputs": [],
   "source": [
    "all_months_sdf = (\n",
    "  call_data_sdf\n",
    "  .select(\"CALL_MONTH\")\n",
    "  .distinct()\n",
    "  .orderBy(\"CALL_MONTH\")\n",
    "  # .withColumnRenamed(\"CALL_MONTH\", \"index_month\")\n",
    ")\n",
    "print(all_months_sdf.count())"
   ]
  },
  {
   "cell_type": "code",
   "execution_count": 0,
   "metadata": {
    "application/vnd.databricks.v1+cell": {
     "cellMetadata": {
      "byteLimit": 2048000,
      "rowLimit": 10000
     },
     "inputWidgets": {},
     "nuid": "c467d3d0-4bad-4cad-b5eb-ee5d5424f0b5",
     "showTitle": false,
     "tableResultSettingsMap": {},
     "title": ""
    }
   },
   "outputs": [],
   "source": [
    "call_hcp_ids_sdf = call_data_sdf.select(\"BAYER_HCP_ID\").distinct().orderBy(\"BAYER_HCP_ID\")\n",
    "print(call_hcp_ids_sdf.count())"
   ]
  },
  {
   "cell_type": "code",
   "execution_count": 0,
   "metadata": {
    "application/vnd.databricks.v1+cell": {
     "cellMetadata": {
      "byteLimit": 2048000,
      "rowLimit": 10000
     },
     "inputWidgets": {},
     "nuid": "a5035885-da09-48cb-8437-0907bb5f90e2",
     "showTitle": false,
     "tableResultSettingsMap": {},
     "title": ""
    }
   },
   "outputs": [],
   "source": [
    "call_hcp_monthly_spine = (\n",
    "  call_hcp_ids_sdf\n",
    "  .crossJoin(all_months_sdf)\n",
    "  .orderBy(\"BAYER_HCP_ID\", \"CALL_MONTH\")\n",
    ")\n",
    "print(call_hcp_monthly_spine.count())"
   ]
  },
  {
   "cell_type": "code",
   "execution_count": 0,
   "metadata": {
    "application/vnd.databricks.v1+cell": {
     "cellMetadata": {
      "byteLimit": 2048000,
      "rowLimit": 10000
     },
     "inputWidgets": {},
     "nuid": "bf99c551-eadf-4685-83cf-319fa7c1b29c",
     "showTitle": false,
     "tableResultSettingsMap": {},
     "title": ""
    }
   },
   "outputs": [],
   "source": [
    "# Perform a left join between call_hcp_monthly_spine and hcp_monthly_calls_sdf\n",
    "monthly_hcp_calls_sdf = call_hcp_monthly_spine.join(\n",
    "    hcp_monthly_calls_sdf,\n",
    "    on=['BAYER_HCP_ID', 'CALL_MONTH'],\n",
    "    how='left'\n",
    ").orderBy(\"BAYER_HCP_ID\", \"CALL_MONTH\")\n",
    "\n",
    "print(monthly_hcp_calls_sdf.count())"
   ]
  },
  {
   "cell_type": "code",
   "execution_count": 0,
   "metadata": {
    "application/vnd.databricks.v1+cell": {
     "cellMetadata": {
      "byteLimit": 2048000,
      "rowLimit": 10000
     },
     "inputWidgets": {},
     "nuid": "bbfd8668-4f88-4dcb-b58d-28c0bab7d0f1",
     "showTitle": false,
     "tableResultSettingsMap": {},
     "title": ""
    }
   },
   "outputs": [],
   "source": [
    "# Fill missing values with 0 for the months where HCP does not have any calls, in other words zero calls\n",
    "monthly_hcp_calls_sdf = monthly_hcp_calls_sdf.fillna({'call_cnt': 0})\n",
    "print(monthly_hcp_calls_sdf.count())"
   ]
  },
  {
   "cell_type": "code",
   "execution_count": 0,
   "metadata": {
    "application/vnd.databricks.v1+cell": {
     "cellMetadata": {
      "byteLimit": 2048000,
      "rowLimit": 10000
     },
     "inputWidgets": {},
     "nuid": "e25c6cef-4f4a-42af-9f71-b12e99289ffc",
     "showTitle": false,
     "tableResultSettingsMap": {},
     "title": ""
    }
   },
   "outputs": [],
   "source": [
    "monthly_hcp_calls_feats = calc_cumulative_sums_excl_current(\n",
    "    monthly_hcp_calls_sdf,\n",
    "    id_col='BAYER_HCP_ID',\n",
    "    date_col='CALL_MONTH',\n",
    "    value_col='call_cnt'\n",
    ")\n",
    "print(monthly_hcp_calls_feats.count())"
   ]
  },
  {
   "cell_type": "code",
   "execution_count": 0,
   "metadata": {
    "application/vnd.databricks.v1+cell": {
     "cellMetadata": {
      "byteLimit": 2048000,
      "rowLimit": 10000
     },
     "inputWidgets": {},
     "nuid": "430c97e6-d8e8-4538-9b6b-4debcdbff4f8",
     "showTitle": false,
     "tableResultSettingsMap": {},
     "title": ""
    }
   },
   "outputs": [],
   "source": [
    "# Checking rows which may contain nulls in the features\n",
    "# null_containing_rows = monthly_hcp_calls_feats.filter(\n",
    "#     (monthly_hcp_calls_feats['CALL_MONTH'] != '2019-12') & (\n",
    "#     (monthly_hcp_calls_feats['CAL_calls_prev_01M_sum'].isNull() | \n",
    "#      monthly_hcp_calls_feats['CAL_calls_prev_03M_sum'].isNull() | \n",
    "#      monthly_hcp_calls_feats['CAL_calls_prev_06M_sum'].isNull() | \n",
    "#      monthly_hcp_calls_feats['CAL_calls_prev_09M_sum'].isNull() | \n",
    "#      monthly_hcp_calls_feats['CAL_calls_prev_12M_sum'].isNull())\n",
    "#     )\n",
    "# )\n",
    "# display(null_containing_rows)"
   ]
  },
  {
   "cell_type": "code",
   "execution_count": 0,
   "metadata": {
    "application/vnd.databricks.v1+cell": {
     "cellMetadata": {
      "byteLimit": 2048000,
      "rowLimit": 10000
     },
     "inputWidgets": {},
     "nuid": "df5fcc21-c444-4cc2-8bb4-4d1613924dd7",
     "showTitle": false,
     "tableResultSettingsMap": {},
     "title": ""
    }
   },
   "outputs": [],
   "source": [
    "# Fill missing values with 0 for the first month in the data\n",
    "monthly_hcp_calls_feats = monthly_hcp_calls_feats.fillna(0)\n",
    "monthly_hcp_calls_feats = monthly_hcp_calls_feats.orderBy('BAYER_HCP_ID', 'CALL_MONTH')"
   ]
  },
  {
   "cell_type": "code",
   "execution_count": 0,
   "metadata": {
    "application/vnd.databricks.v1+cell": {
     "cellMetadata": {
      "byteLimit": 2048000,
      "rowLimit": 10000
     },
     "inputWidgets": {},
     "nuid": "62d30da3-8fbb-4246-b3c4-69bfb4d830ea",
     "showTitle": false,
     "tableResultSettingsMap": {
      "0": {
       "filterBlob": "{\"filterGroups\":[{\"enabled\":true,\"filterGroupId\":\"fg_ced7a622\",\"op\":\"OR\",\"filters\":[{\"filterId\":\"f_6f66e194\",\"enabled\":true,\"columnId\":\"BAYER_HCP_ID\",\"dataType\":\"string\",\"filterType\":\"eq\",\"filterValues\":[]}],\"local\":false,\"updatedAt\":1739272798059}],\"syncTimestamp\":1739272798059}",
       "tableResultIndex": 0
      }
     },
     "title": ""
    }
   },
   "outputs": [],
   "source": [
    "display(monthly_hcp_calls_feats)"
   ]
  },
  {
   "cell_type": "markdown",
   "metadata": {
    "application/vnd.databricks.v1+cell": {
     "cellMetadata": {},
     "inputWidgets": {},
     "nuid": "2c729666-56b1-475e-a8ba-3baf719ee237",
     "showTitle": false,
     "tableResultSettingsMap": {},
     "title": ""
    }
   },
   "source": [
    "**Writing the calls actvity feature set to the Hivestore**"
   ]
  },
  {
   "cell_type": "code",
   "execution_count": 0,
   "metadata": {
    "application/vnd.databricks.v1+cell": {
     "cellMetadata": {
      "byteLimit": 2048000,
      "rowLimit": 10000
     },
     "inputWidgets": {},
     "nuid": "eb028697-3c75-4642-81d3-77704170faf0",
     "showTitle": false,
     "tableResultSettingsMap": {},
     "title": ""
    }
   },
   "outputs": [],
   "source": [
    "# saving the calls activity features to the Hivestore\n",
    "save_sdf(monthly_hcp_calls_feats, 'jivi_new_writer_model', 'monthly_hcp_calls_feats')"
   ]
  },
  {
   "cell_type": "markdown",
   "metadata": {
    "application/vnd.databricks.v1+cell": {
     "cellMetadata": {},
     "inputWidgets": {},
     "nuid": "10d52b10-06e4-4bbe-9276-1ac34729c7e9",
     "showTitle": false,
     "tableResultSettingsMap": {},
     "title": ""
    }
   },
   "source": [
    "**Checking the common HCP IDs between the HCP target spine and Call activity dataset**"
   ]
  },
  {
   "cell_type": "code",
   "execution_count": 0,
   "metadata": {
    "application/vnd.databricks.v1+cell": {
     "cellMetadata": {
      "byteLimit": 2048000,
      "rowLimit": 10000
     },
     "inputWidgets": {},
     "nuid": "f4c83a22-954a-46c6-a18a-9b9d6b4c3f39",
     "showTitle": false,
     "tableResultSettingsMap": {},
     "title": ""
    }
   },
   "outputs": [],
   "source": [
    "hcps_in_target = set(hcp_target_spine_sdf.select('BH_ID').rdd.flatMap(lambda x: x).collect())\n",
    "print(len(hcps_in_target))\n",
    "hcps_in_calls = set(monthly_hcp_calls_feats.select('BAYER_HCP_ID').rdd.flatMap(lambda x: x).collect())\n",
    "print(len(hcps_in_calls))\n",
    "common_hcps = hcps_in_target.intersection(hcps_in_calls)\n",
    "len(common_hcps)"
   ]
  },
  {
   "cell_type": "code",
   "execution_count": 0,
   "metadata": {
    "application/vnd.databricks.v1+cell": {
     "cellMetadata": {
      "byteLimit": 2048000,
      "rowLimit": 10000
     },
     "inputWidgets": {},
     "nuid": "1e1d2c15-227e-4b32-a9a5-40510b40097a",
     "showTitle": false,
     "tableResultSettingsMap": {},
     "title": ""
    }
   },
   "outputs": [],
   "source": [
    "common_hcp_target_spine_sdf = hcp_target_spine_sdf.filter(hcp_target_spine_sdf.BH_ID.isin(common_hcps))\n",
    "print(common_hcp_target_spine_sdf.count())\n",
    "# display(common_hcp_target_spine_sdf)"
   ]
  },
  {
   "cell_type": "code",
   "execution_count": 0,
   "metadata": {
    "application/vnd.databricks.v1+cell": {
     "cellMetadata": {
      "byteLimit": 2048000,
      "rowLimit": 10000
     },
     "inputWidgets": {},
     "nuid": "79803041-361c-40a1-b8c3-70c9e9d9d1ea",
     "showTitle": false,
     "tableResultSettingsMap": {},
     "title": ""
    }
   },
   "outputs": [],
   "source": [
    "# Checking the number of HCPs with target class flag 1 and 0 for the HCP target spine dataset\n",
    "display(hcp_target_spine_sdf.groupBy('JIVI_NEW_WRITER_FLG').agg(F.countDistinct('BH_ID').alias('distinct_BH_ID_cnt')))"
   ]
  },
  {
   "cell_type": "code",
   "execution_count": 0,
   "metadata": {
    "application/vnd.databricks.v1+cell": {
     "cellMetadata": {
      "byteLimit": 2048000,
      "rowLimit": 10000
     },
     "inputWidgets": {},
     "nuid": "f9e09354-0969-491a-9775-2c31099f4685",
     "showTitle": false,
     "tableResultSettingsMap": {},
     "title": ""
    }
   },
   "outputs": [],
   "source": [
    "# Checking the number of HCPs with target class flag 1 and 0 for the common HCPs found in HCP target spine and calls activity dataset\n",
    "display(common_hcp_target_spine_sdf.groupBy('JIVI_NEW_WRITER_FLG').agg(F.countDistinct('BH_ID').alias('distinct_BH_ID_cnt')))"
   ]
  },
  {
   "cell_type": "code",
   "execution_count": 0,
   "metadata": {
    "application/vnd.databricks.v1+cell": {
     "cellMetadata": {
      "byteLimit": 2048000,
      "rowLimit": 10000
     },
     "inputWidgets": {},
     "nuid": "bd1a6a48-f78a-4994-8322-49ccec4569c5",
     "showTitle": false,
     "tableResultSettingsMap": {},
     "title": ""
    }
   },
   "outputs": [],
   "source": [
    "display(common_hcp_target_spine_sdf.agg(F.min('COHORT_MONTH').alias('min_COHORT_MONTH'), F.max('COHORT_MONTH').alias('max_COHORT_MONTH')))"
   ]
  },
  {
   "cell_type": "code",
   "execution_count": 0,
   "metadata": {
    "application/vnd.databricks.v1+cell": {
     "cellMetadata": {
      "byteLimit": 2048000,
      "rowLimit": 10000
     },
     "inputWidgets": {},
     "nuid": "a23c29b6-fe1b-4ddb-bffc-b567f369cba2",
     "showTitle": false,
     "tableResultSettingsMap": {},
     "title": ""
    }
   },
   "outputs": [],
   "source": [
    "common_hcp_calls_feats_sdf = monthly_hcp_calls_feats.filter(monthly_hcp_calls_feats.BAYER_HCP_ID.isin(common_hcps))\n",
    "print(common_hcp_calls_feats_sdf.count())\n",
    "display(common_hcp_calls_feats_sdf)"
   ]
  },
  {
   "cell_type": "code",
   "execution_count": 0,
   "metadata": {
    "application/vnd.databricks.v1+cell": {
     "cellMetadata": {
      "byteLimit": 2048000,
      "rowLimit": 10000
     },
     "inputWidgets": {},
     "nuid": "44204227-ff4e-45c1-b2ea-48d7f1d04aac",
     "showTitle": false,
     "tableResultSettingsMap": {},
     "title": ""
    }
   },
   "outputs": [],
   "source": [
    "display(common_hcp_calls_feats_sdf.agg(F.min('CALL_MONTH').alias('min_CALL_MONTH'), F.max('CALL_MONTH').alias('max_CALL_MONTH')))"
   ]
  }
 ],
 "metadata": {
  "application/vnd.databricks.v1+notebook": {
   "computePreferences": null,
   "dashboards": [],
   "environmentMetadata": {
    "base_environment": "",
    "environment_version": "2"
   },
   "language": "python",
   "notebookMetadata": {
    "pythonIndentUnit": 2
   },
   "notebookName": "03_call_activity_feats",
   "widgets": {}
  },
  "language_info": {
   "name": "python"
  }
 },
 "nbformat": 4,
 "nbformat_minor": 0
}
