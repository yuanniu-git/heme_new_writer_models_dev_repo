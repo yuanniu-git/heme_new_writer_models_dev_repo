{
 "cells": [
  {
   "cell_type": "code",
   "execution_count": 0,
   "metadata": {
    "application/vnd.databricks.v1+cell": {
     "cellMetadata": {
      "byteLimit": 2048000,
      "rowLimit": 10000
     },
     "inputWidgets": {},
     "nuid": "13d51b9e-df95-42d9-bbac-198a4023d1a6",
     "showTitle": false,
     "tableResultSettingsMap": {},
     "title": ""
    }
   },
   "outputs": [],
   "source": [
    "# Importing packages\n",
    "from pyspark.sql import functions as F # Importing functions from pyspark.sql\n",
    "from pyspark.sql.functions import *\n",
    "from pyspark.sql import Window\n",
    "import pandas as pd"
   ]
  },
  {
   "cell_type": "code",
   "execution_count": 0,
   "metadata": {
    "application/vnd.databricks.v1+cell": {
     "cellMetadata": {
      "byteLimit": 2048000,
      "rowLimit": 10000
     },
     "inputWidgets": {},
     "nuid": "6ff132eb-bfad-4341-b939-37a0d26d8d7b",
     "showTitle": false,
     "tableResultSettingsMap": {},
     "title": ""
    }
   },
   "outputs": [],
   "source": [
    "%run \"/Workspace/Repos/yuan.niu@bayer.com/heme_new_writer_models_dev_repo/02_data_processing/helper_functions\""
   ]
  },
  {
   "cell_type": "code",
   "execution_count": 0,
   "metadata": {
    "application/vnd.databricks.v1+cell": {
     "cellMetadata": {
      "byteLimit": 2048000,
      "rowLimit": 10000
     },
     "inputWidgets": {},
     "nuid": "f8f9c663-e236-4775-a955-ce59b732c558",
     "showTitle": false,
     "tableResultSettingsMap": {},
     "title": ""
    }
   },
   "outputs": [],
   "source": [
    "%run \"../00_config/set-up\""
   ]
  },
  {
   "cell_type": "code",
   "execution_count": 0,
   "metadata": {
    "application/vnd.databricks.v1+cell": {
     "cellMetadata": {
      "byteLimit": 2048000,
      "rowLimit": 10000
     },
     "inputWidgets": {},
     "nuid": "b5794526-45ad-476e-a0ba-1b7d93ed8ae0",
     "showTitle": false,
     "tableResultSettingsMap": {},
     "title": ""
    }
   },
   "outputs": [],
   "source": [
    "overlap_raw_data = spark.sql(\"SELECT * FROM heme_data.overlap_rx\")\n",
    "print('Row count: ', overlap_raw_data.count(), 'Column Count: ', len(overlap_raw_data.columns))"
   ]
  },
  {
   "cell_type": "code",
   "execution_count": 0,
   "metadata": {
    "application/vnd.databricks.v1+cell": {
     "cellMetadata": {
      "byteLimit": 2048000,
      "rowLimit": 10000
     },
     "inputWidgets": {},
     "nuid": "fb0107f8-1f81-4a03-bda8-c5c213838fe7",
     "showTitle": false,
     "tableResultSettingsMap": {},
     "title": ""
    }
   },
   "outputs": [],
   "source": [
    "# Converting the original overlap data spark dataframe to pandas dataframe\n",
    "\"\"\" Convert DecimalType columns to float to avoid UserWarning: The conversion of DecimalType columns is inefficient and may take a long time. Column names: [IU, PTD_FNL_CLM_AMT] If those columns are not necessary, you may consider dropping them or converting to primitive types before the conversion.\"\"\"\n",
    "overlap_raw_data = overlap_raw_data.withColumn(\"IU\", overlap_raw_data[\"IU\"].cast(\"float\"))"
   ]
  },
  {
   "cell_type": "code",
   "execution_count": 0,
   "metadata": {
    "application/vnd.databricks.v1+cell": {
     "cellMetadata": {
      "byteLimit": 2048000,
      "rowLimit": 10000
     },
     "inputWidgets": {},
     "nuid": "a31c0e7b-2793-4a3c-93b9-3961c6556ba4",
     "showTitle": false,
     "tableResultSettingsMap": {},
     "title": ""
    }
   },
   "outputs": [],
   "source": [
    "# Selecting columns which are useful for data analysis. Generally we exclude columns which have a high percentage of null values.\n",
    "col_shortlist = [\n",
    "  'BH_ID',\n",
    "  'PATIENT_ID',\n",
    "  'SHP_DT',\n",
    "  'WINNING_PATIENT_ID',\n",
    "  'SP_SOURCE_PTNT_ID',\n",
    "  'SHS_SOURCE_PTNT_ID',\n",
    "  'PRD_NM',\n",
    "  'DRUG_NM',\n",
    "  'PRD_GRP_NM',\n",
    "  'MKT_NM',\n",
    "  'DRUG_STRG_QTY',\n",
    "  'IU',\n",
    "  'SRC_SP',\n",
    "  'SOURCE_TYPE',\n",
    "  'BRTH_YR',\n",
    "  'SP_PTNT_BRTH_YR',\n",
    "  'PTNT_AGE_GRP',\n",
    "  'PTNT_WGT',\n",
    "  'PTNT_GENDER',\n",
    "  'PTNT_GNDR',\n",
    "  'ETHNC_CD',\n",
    "  'EPSDC',\n",
    "  'SEVRTY',\n",
    "  'PRPHY',\n",
    "  'INSN_ID',\n",
    "  'INSN_NM',\n",
    "  'AFFL_TYP',\n",
    "  'SPCL_CD',\n",
    "  'DATE_ID',\n",
    "  'MTH_ID',\n",
    "  'PAYR_NM',\n",
    "  'PAYR_TYP',\n",
    "  'PAY_TYP_CD',\n",
    "  'COPAY_AMT',\n",
    "  'TOTL_PAID_AMT',\n",
    "  'CLAIM_TYP',\n",
    "  'PRESCRIBED_UNIT',\n",
    "  'DAYS_SUPPLY_CNT',\n",
    "  'REFILL_AUTHORIZED_CD',\n",
    "  'FILL_DT',\n",
    "  'ELIG_DT',       \n",
    "                  \n",
    "]"
   ]
  },
  {
   "cell_type": "code",
   "execution_count": 0,
   "metadata": {
    "application/vnd.databricks.v1+cell": {
     "cellMetadata": {
      "byteLimit": 2048000,
      "rowLimit": 10000
     },
     "inputWidgets": {},
     "nuid": "01d63f11-0c6a-4ec4-8afa-0079986205ca",
     "showTitle": false,
     "tableResultSettingsMap": {},
     "title": ""
    }
   },
   "outputs": [],
   "source": [
    "# take a subset of columns of overlap data based on columns shortlist\n",
    "overlap_subset = overlap_raw_data.select(col_shortlist)"
   ]
  },
  {
   "cell_type": "code",
   "execution_count": 0,
   "metadata": {
    "application/vnd.databricks.v1+cell": {
     "cellMetadata": {
      "byteLimit": 2048000,
      "rowLimit": 10000
     },
     "inputWidgets": {},
     "nuid": "e78820a3-6285-439b-aea6-18bb97938062",
     "showTitle": false,
     "tableResultSettingsMap": {},
     "title": ""
    }
   },
   "outputs": [],
   "source": [
    "## create a YYYY-MM column\n",
    "overlap_subset = overlap_subset.withColumn(\"SHP_YR_MO\",F.date_format(\"SHP_DT\", \"yyyy-MM\"))"
   ]
  },
  {
   "cell_type": "code",
   "execution_count": 0,
   "metadata": {
    "application/vnd.databricks.v1+cell": {
     "cellMetadata": {
      "byteLimit": 2048000,
      "rowLimit": 10000
     },
     "inputWidgets": {},
     "nuid": "0e1fc431-ed3f-4b24-a987-ca5042fc521f",
     "showTitle": false,
     "tableResultSettingsMap": {},
     "title": ""
    }
   },
   "outputs": [],
   "source": [
    "display(overlap_subset.limit(20))"
   ]
  },
  {
   "cell_type": "markdown",
   "metadata": {
    "application/vnd.databricks.v1+cell": {
     "cellMetadata": {},
     "inputWidgets": {},
     "nuid": "de68a43f-ced7-4dbc-8692-678f4435798e",
     "showTitle": false,
     "tableResultSettingsMap": {},
     "title": ""
    }
   },
   "source": [
    "#### PRH_A1: Number of IU in total"
   ]
  },
  {
   "cell_type": "code",
   "execution_count": 0,
   "metadata": {
    "application/vnd.databricks.v1+cell": {
     "cellMetadata": {
      "byteLimit": 2048000,
      "rowLimit": 10000
     },
     "inputWidgets": {},
     "nuid": "2f4e5169-47cc-4e58-b80a-10e062528821",
     "showTitle": false,
     "tableResultSettingsMap": {},
     "title": ""
    }
   },
   "outputs": [],
   "source": [
    "sum_col = 'IU'\n",
    "overlap_hcp_ptnt_iu_sum = (overlap_subset\n",
    "                                      .groupby(\"BH_ID\",\"SHP_YR_MO\",'PATIENT_ID')\n",
    "                                      .agg(sum(sum_col).alias( f'OVP_{sum_col}_TOTAL')))"
   ]
  },
  {
   "cell_type": "markdown",
   "metadata": {
    "application/vnd.databricks.v1+cell": {
     "cellMetadata": {},
     "inputWidgets": {},
     "nuid": "700c53b6-39af-4f90-bcc0-2ec9e5d2c47b",
     "showTitle": false,
     "tableResultSettingsMap": {},
     "title": ""
    }
   },
   "source": [
    "#### PRH_A2: Number of IU by brand and use type"
   ]
  },
  {
   "cell_type": "code",
   "execution_count": 0,
   "metadata": {
    "application/vnd.databricks.v1+cell": {
     "cellMetadata": {
      "byteLimit": 2048000,
      "rowLimit": 10000
     },
     "inputWidgets": {},
     "nuid": "1c1f5e9c-c840-4027-8325-de1d122699d8",
     "showTitle": false,
     "tableResultSettingsMap": {},
     "title": ""
    }
   },
   "outputs": [],
   "source": [
    "overlap_subset = overlap_subset.withColumn('PRPHY_CD', when(overlap_subset.PRPHY == 0, 0).otherwise(1))"
   ]
  },
  {
   "cell_type": "code",
   "execution_count": 0,
   "metadata": {
    "application/vnd.databricks.v1+cell": {
     "cellMetadata": {
      "byteLimit": 2048000,
      "rowLimit": 10000
     },
     "inputWidgets": {},
     "nuid": "8955b991-a25c-465b-998b-359d3b71e123",
     "showTitle": false,
     "tableResultSettingsMap": {},
     "title": ""
    }
   },
   "outputs": [],
   "source": [
    "grp_by_col = ['PRD_NM','PRPHY_CD']\n",
    "sum_col = 'IU'\n",
    "overlap_hcp_ptnt_groupby_sum = (overlap_subset\n",
    "                                      .groupby(\"BH_ID\",\"SHP_YR_MO\",'PATIENT_ID',*grp_by_col)\n",
    "                                      .agg(sum(sum_col).alias( f'OVP_{sum_col}_TOTAL')))"
   ]
  },
  {
   "cell_type": "code",
   "execution_count": 0,
   "metadata": {
    "application/vnd.databricks.v1+cell": {
     "cellMetadata": {
      "byteLimit": 2048000,
      "rowLimit": 10000
     },
     "inputWidgets": {},
     "nuid": "4efe011d-c88b-47db-b999-d9fbdaaa7cf3",
     "showTitle": false,
     "tableResultSettingsMap": {},
     "title": ""
    }
   },
   "outputs": [],
   "source": [
    "brand_list = ['KOVALTRY','KOGENATE','JIVI','HEMLIBRA','ALTUVIIIO']\n",
    "overlap_hcp_ptnt_groupby_sum_brand = overlap_hcp_ptnt_groupby_sum.filter(col('PRD_NM').isin(brand_list))"
   ]
  },
  {
   "cell_type": "code",
   "execution_count": 0,
   "metadata": {
    "application/vnd.databricks.v1+cell": {
     "cellMetadata": {
      "byteLimit": 2048000,
      "rowLimit": 10000
     },
     "inputWidgets": {},
     "nuid": "16a0c841-2026-4e6c-a4b3-e41bc78cb303",
     "showTitle": false,
     "tableResultSettingsMap": {},
     "title": ""
    }
   },
   "outputs": [],
   "source": [
    "display(overlap_hcp_ptnt_groupby_sum_brand.filter(col('PATIENT_ID')==\"E69C1764-64EB-44AE-ADA2-9669FFFFAF69\"))"
   ]
  },
  {
   "cell_type": "code",
   "execution_count": 0,
   "metadata": {
    "application/vnd.databricks.v1+cell": {
     "cellMetadata": {
      "byteLimit": 2048000,
      "rowLimit": 10000
     },
     "inputWidgets": {},
     "nuid": "8589026a-2e01-418d-bb18-c7341690350b",
     "showTitle": false,
     "tableResultSettingsMap": {},
     "title": ""
    }
   },
   "outputs": [],
   "source": [
    "def long_to_wide(df, group_cols, pivot_col, agg_col, agg_func):\n",
    "    \"\"\"\n",
    "    group_cols: groupby columns\n",
    "\n",
    "    \"\"\"\n",
    "    df_pivot = (df.groupBy(group_cols)\n",
    "                  .pivot(pivot_col)\n",
    "                  .agg({agg_col: agg_func})).cache()\n",
    "    # Rename the columns to add the category names to column names\n",
    "\n",
    "    renamed_columns = [col(c).alias(f\"{agg_col}_{c}\") if c not in group_cols else col(c)\n",
    "                       for c in df_pivot.columns]\n",
    "\n",
    "    df_pivot = df_pivot.select(\n",
    "    *renamed_columns).cache()\n",
    "\n",
    "   \n",
    "    return df_pivot"
   ]
  },
  {
   "cell_type": "code",
   "execution_count": 0,
   "metadata": {
    "application/vnd.databricks.v1+cell": {
     "cellMetadata": {
      "byteLimit": 2048000,
      "rowLimit": 10000
     },
     "inputWidgets": {},
     "nuid": "45ed2e1d-c618-4717-9c5e-9e3c26b57965",
     "showTitle": false,
     "tableResultSettingsMap": {},
     "title": ""
    }
   },
   "outputs": [],
   "source": [
    "overlap_hcp_ptnt_groupby_sum_brand = overlap_hcp_ptnt_groupby_sum_brand.withColumn(\"PRD_NM_PRPHY_CD\",concat(col(\"PRD_NM\"), lit(\"_\"), col(\"PRPHY_CD\")))"
   ]
  },
  {
   "cell_type": "code",
   "execution_count": 0,
   "metadata": {
    "application/vnd.databricks.v1+cell": {
     "cellMetadata": {
      "byteLimit": 2048000,
      "rowLimit": 10000
     },
     "inputWidgets": {},
     "nuid": "e2e46453-b15a-4d3e-9987-bcde1b5c8fa7",
     "showTitle": false,
     "tableResultSettingsMap": {},
     "title": ""
    }
   },
   "outputs": [],
   "source": [
    "group_cols = [\"BH_ID\", \"SHP_YR_MO\",   'PATIENT_ID']\n",
    "pivot_col = \"PRD_NM_PRPHY_CD\"\n",
    "agg_col = 'OVP_IU_TOTAL'\n",
    "agg_func = \"first\"\n",
    "overlap_hcp_ptnt_groupby_sum_brand_type = long_to_wide(overlap_hcp_ptnt_groupby_sum_brand, group_cols, pivot_col, agg_col, agg_func)"
   ]
  },
  {
   "cell_type": "code",
   "execution_count": 0,
   "metadata": {
    "application/vnd.databricks.v1+cell": {
     "cellMetadata": {
      "byteLimit": 2048000,
      "rowLimit": 10000
     },
     "inputWidgets": {},
     "nuid": "2fb9fa88-72a2-41f5-a68d-bd0e5628baf8",
     "showTitle": false,
     "tableResultSettingsMap": {},
     "title": ""
    }
   },
   "outputs": [],
   "source": [
    "overlap_hcp_ptnt_groupby_sum_brand_type = overlap_hcp_ptnt_groupby_sum_brand_type.fillna(0)"
   ]
  },
  {
   "cell_type": "code",
   "execution_count": 0,
   "metadata": {
    "application/vnd.databricks.v1+cell": {
     "cellMetadata": {
      "byteLimit": 2048000,
      "rowLimit": 10000
     },
     "inputWidgets": {},
     "nuid": "4fb8d198-e12b-4035-aba7-357de16b1855",
     "showTitle": false,
     "tableResultSettingsMap": {},
     "title": ""
    }
   },
   "outputs": [],
   "source": [
    "display(overlap_hcp_ptnt_groupby_sum_brand_type.filter(col('PATIENT_ID')==\"E69C1764-64EB-44AE-ADA2-9669FFFFAF69\"))"
   ]
  },
  {
   "cell_type": "code",
   "execution_count": 0,
   "metadata": {
    "application/vnd.databricks.v1+cell": {
     "cellMetadata": {},
     "inputWidgets": {},
     "nuid": "10ee6e1a-3fb5-4ed3-8e37-2d125caaa3b0",
     "showTitle": false,
     "tableResultSettingsMap": {},
     "title": ""
    }
   },
   "outputs": [],
   "source": []
  }
 ],
 "metadata": {
  "application/vnd.databricks.v1+notebook": {
   "computePreferences": null,
   "dashboards": [],
   "environmentMetadata": {
    "base_environment": "",
    "environment_version": "2"
   },
   "language": "python",
   "notebookMetadata": {
    "pythonIndentUnit": 2
   },
   "notebookName": "z01_patient_rx_hist_feats",
   "widgets": {}
  },
  "language_info": {
   "name": "python"
  }
 },
 "nbformat": 4,
 "nbformat_minor": 0
}
