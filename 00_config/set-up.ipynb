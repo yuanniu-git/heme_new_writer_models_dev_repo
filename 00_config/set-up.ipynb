{
 "cells": [
  {
   "cell_type": "code",
   "execution_count": 0,
   "metadata": {
    "application/vnd.databricks.v1+cell": {
     "cellMetadata": {},
     "inputWidgets": {},
     "nuid": "4a978b08-c1f8-4bba-b7f5-f30e0c58b366",
     "showTitle": false,
     "tableResultSettingsMap": {},
     "title": ""
    }
   },
   "outputs": [],
   "source": [
    "import warnings\n",
    "warnings.filterwarnings('ignore')\n",
    "\n",
    "import pandas as pd\n",
    "import numpy as np\n",
    "import matplotlib.pyplot as plt\n",
    "from matplotlib.ticker import PercentFormatter\n",
    "import seaborn as sns\n",
    "import plotly.graph_objects as go\n",
    "\n",
    "from datetime import date, datetime, timedelta\n",
    "from pyspark.sql.functions import current_date, year, col, when\n",
    "\n",
    "import pyspark.sql.functions as F\n",
    "from pyspark.sql.functions import *\n",
    "from pyspark.sql.types import *\n",
    "from pyspark.sql.window import Window\n",
    "from pyspark.sql.types import StructType, StructField, StringType, DoubleType\n",
    "from sklearn.feature_selection import SelectKBest\n",
    "from sklearn.preprocessing import LabelEncoder\n",
    "from sklearn.preprocessing import StandardScaler\n",
    "from sklearn.ensemble import RandomForestClassifier\n",
    "from sklearn.metrics import confusion_matrix, ConfusionMatrixDisplay\n",
    "from sklearn.metrics import f1_score, classification_report, auc, roc_auc_score, roc_curve, accuracy_score, recall_score, precision_score\n",
    "from sklearn.tree import DecisionTreeClassifier\n",
    "from sklearn import tree\n",
    "from sklearn.model_selection import train_test_split, StratifiedKFold, KFold, cross_val_score, GridSearchCV\n",
    "import pickle\n",
    "from sklearn.cluster import KMeans, DBSCAN\n",
    "from sklearn.mixture import GaussianMixture\n",
    "\n",
    "spark.conf.set('spark.sql.pivotMaxValues', u'50000')\n",
    "spark.conf.set('spark.databricks.delta.formatCheck.enabled',False)\n",
    "spark.conf.set('spark.databricks.delta.checkLatestSchemaOnRead',False)"
   ]
  },
  {
   "cell_type": "code",
   "execution_count": 0,
   "metadata": {
    "application/vnd.databricks.v1+cell": {
     "cellMetadata": {},
     "inputWidgets": {},
     "nuid": "e0de4dbb-437e-4568-bb99-b1286f373acd",
     "showTitle": false,
     "tableResultSettingsMap": {},
     "title": ""
    }
   },
   "outputs": [],
   "source": [
    "# #--------------------------------------------CDP Connections -------------------------------------------------------\n",
    "prodUsername = dbutils.secrets.get(scope=\"US_DSAA_PROD_GROUP_Snowflake_Admin\", key=\"Prod-Username\")\n",
    "prodPassword = dbutils.secrets.get(scope=\"US_DSAA_PROD_GROUP_Snowflake_Admin\", key=\"Prod-Password\")\n",
    "\n",
    "def get_data_snowflake(query, Schema = \"PHCDW_DSAA\", Role=\"PROD_PHCDW_PROD_CYRUS_GREY_PHCDW_CDM_RWC\"):\n",
    "  sfOptions = {\n",
    "    \"sfURL\" : \"bayer_cphcdp_prod.us-east-1.snowflakecomputing.com:443\",\n",
    "      \"sfUser\" : prodUsername,\n",
    "      \"sfPassword\" : prodPassword,\n",
    "      \"sfRole\" : Role,\n",
    "      \"sfSchema\" : Schema,\n",
    "      \"sfDatabase\" : \"PHCDW\",\n",
    "      \"sfWarehouse\" : \"PROD_CYRUS_BI_WH\",\n",
    "      \"purge\" : \"off\",\n",
    "      \"autopushdown\" : \"on\"\n",
    "    }\n",
    "  return spark.read.format(\"net.snowflake.spark.snowflake\").options(**sfOptions).option('query',query).load()\n",
    "\n",
    "# print(\"CDP Connection\")"
   ]
  },
  {
   "cell_type": "code",
   "execution_count": 0,
   "metadata": {
    "application/vnd.databricks.v1+cell": {
     "cellMetadata": {},
     "inputWidgets": {},
     "nuid": "731e703c-ee7c-4ba8-bb9b-d604889147a2",
     "showTitle": false,
     "tableResultSettingsMap": {},
     "title": ""
    }
   },
   "outputs": [],
   "source": [
    "# Save Output Table on CDP\n",
    "prodUsername = dbutils.secrets.get(scope=\"US_DSAA_PROD_GROUP_Snowflake_Admin\", key=\"Prod-Username\")\n",
    "prodPassword = dbutils.secrets.get(scope=\"US_DSAA_PROD_GROUP_Snowflake_Admin\", key=\"Prod-Password\")\n",
    "\n",
    "sfOptions_write = {\n",
    "      \"sfURL\" : \"bayer_cphcdp_prod.us-east-1.snowflakecomputing.com:443\",\n",
    "\t\t     \"sfUser\" : prodUsername,\n",
    "\t\t     \"sfPassword\" : prodPassword,\n",
    "\t\t     \"sfRole\" : \"PROD_PHCDW_PROD_CYRUS_GREY_PHCDW_DSAA_RWC\",\n",
    "             \"sfSchema\" : \"PHCDW_DSAA\",\n",
    "\t\t     \"sfDatabase\" : \"PHCDW\",\n",
    "\t\t     \"sfWarehouse\" : \"PROD_CYRUS_BI_WH\",\n",
    "             \"purge\" : \"off\",\n",
    "\t\t     \"autopushdown\" : \"on\"\n",
    "\t\t      }\n"
   ]
  },
  {
   "cell_type": "code",
   "execution_count": 0,
   "metadata": {
    "application/vnd.databricks.v1+cell": {
     "cellMetadata": {},
     "inputWidgets": {},
     "nuid": "38da92f9-1fbe-445d-ad51-4640305af5c5",
     "showTitle": false,
     "tableResultSettingsMap": {},
     "title": ""
    }
   },
   "outputs": [],
   "source": [
    "# Save Output Table on CDP PHCDW_CDM\n",
    "prodUsername = dbutils.secrets.get(scope=\"US_DSAA_PROD_GROUP_Snowflake_Admin\", key=\"Prod-Username\")\n",
    "prodPassword = dbutils.secrets.get(scope=\"US_DSAA_PROD_GROUP_Snowflake_Admin\", key=\"Prod-Password\")\n",
    "\n",
    "sfOptions_writ_cdm = {\n",
    "      \"sfURL\" : \"bayer_cphcdp_prod.us-east-1.snowflakecomputing.com:443\",\n",
    "\t\t     \"sfUser\" : prodUsername,\n",
    "\t\t     \"sfPassword\" : prodPassword,\n",
    "\t\t     \"sfRole\" : \"PROD_PHCDW_PROD_CYRUS_GREY_PHCDW_CDM_RWC\",\n",
    "             \"sfSchema\" : \"PHCDW_CDM\",\n",
    "\t\t     \"sfDatabase\" : \"PHCDW\",\n",
    "\t\t     \"sfWarehouse\" : \"PROD_CYRUS_BI_WH\",\n",
    "             \"purge\" : \"off\",\n",
    "\t\t     \"autopushdown\" : \"on\"\n",
    "\t\t      }\n"
   ]
  },
  {
   "cell_type": "code",
   "execution_count": 0,
   "metadata": {
    "application/vnd.databricks.v1+cell": {
     "cellMetadata": {
      "byteLimit": 2048000,
      "implicitDf": true,
      "rowLimit": 10000
     },
     "inputWidgets": {},
     "nuid": "1a2e0001-5c3b-4364-9ba6-435cd0b5af72",
     "showTitle": false,
     "tableResultSettingsMap": {},
     "title": ""
    }
   },
   "outputs": [],
   "source": [
    "# %sql\n",
    "# CREATE DATABASE IF NOT EXISTS jivi_new_writer_model;\n",
    "# CREATE DATABASE IF NOT EXISTS kolvaltry_new_writer_model;"
   ]
  },
  {
   "cell_type": "code",
   "execution_count": 0,
   "metadata": {
    "application/vnd.databricks.v1+cell": {
     "cellMetadata": {},
     "inputWidgets": {},
     "nuid": "5c51080f-c8e7-407d-b2ab-26f7d57066a1",
     "showTitle": false,
     "tableResultSettingsMap": {},
     "title": ""
    }
   },
   "outputs": [],
   "source": [
    "DB_NAME = 'heme_data'\n",
    "\n",
    "print(f'DB_NAME: {DB_NAME}')"
   ]
  },
  {
   "cell_type": "code",
   "execution_count": 0,
   "metadata": {
    "application/vnd.databricks.v1+cell": {
     "cellMetadata": {},
     "inputWidgets": {},
     "nuid": "90e219a7-0869-4d51-92c7-09f61796c523",
     "showTitle": false,
     "tableResultSettingsMap": {},
     "title": ""
    }
   },
   "outputs": [],
   "source": [
    "# Save Data to Delta Lake\n",
    "def save_sdf(sdf, DB_NAME, dlt_table):\n",
    "  try:\n",
    "      spark.sql(f'drop table if exists {DB_NAME}.{dlt_table}')\n",
    "      sdf.write.saveAsTable(f'{DB_NAME}.{dlt_table}', mode = 'overwrite')  \n",
    "      print(f'Table {DB_NAME}.{dlt_table} saved')\n",
    "  except Exception as e:\n",
    "      print(f'Table {DB_NAME}.{dlt_table} save failed')\n",
    "      print(e)"
   ]
  },
  {
   "cell_type": "code",
   "execution_count": 0,
   "metadata": {
    "application/vnd.databricks.v1+cell": {
     "cellMetadata": {},
     "inputWidgets": {},
     "nuid": "c4f7c080-1b80-472a-8bb4-91977a2ca6db",
     "showTitle": false,
     "tableResultSettingsMap": {},
     "title": ""
    }
   },
   "outputs": [],
   "source": []
  }
 ],
 "metadata": {
  "application/vnd.databricks.v1+notebook": {
   "computePreferences": null,
   "dashboards": [],
   "environmentMetadata": null,
   "language": "python",
   "notebookMetadata": {
    "mostRecentlyExecutedCommandWithImplicitDF": {
     "commandId": 1722404250286287,
     "dataframes": [
      "_sqldf"
     ]
    },
    "pythonIndentUnit": 2
   },
   "notebookName": "set-up",
   "widgets": {}
  },
  "language_info": {
   "name": "python"
  }
 },
 "nbformat": 4,
 "nbformat_minor": 0
}
